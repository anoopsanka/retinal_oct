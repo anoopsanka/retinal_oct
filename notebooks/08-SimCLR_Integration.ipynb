{
 "cells": [
  {
   "cell_type": "markdown",
   "metadata": {},
   "source": [
    "### Preparing Working Env"
   ]
  },
  {
   "cell_type": "code",
   "execution_count": 1,
   "metadata": {},
   "outputs": [],
   "source": [
    "%load_ext autoreload\n",
    "%autoreload 2\n",
    "import tensorflow_datasets as tfds\n",
    "from importlib.util import find_spec\n",
    "if find_spec(\"core\") is None:\n",
    "    import sys\n",
    "    sys.path.append('..')\n",
    "import tensorflow as tf\n",
    "import numpy as np\n",
    "import random\n",
    "import os\n",
    "from core.models.simclr_model import Pretrained_SimCLR_Model\n",
    "from core.models.model_utils.lr_schedule import WarmUpAndCosineDecay\n",
    "from core.datasets.data_augmentation import preprocess_image, get_config, train_classification_aug\n",
    "import tensorflow_addons as tfa"
   ]
  },
  {
   "cell_type": "code",
   "execution_count": 2,
   "metadata": {},
   "outputs": [],
   "source": [
    "# Set the random seeds\n",
    "os.environ['TF_CUDNN_DETERMINISTIC'] = '1'\n",
    "random.seed(hash(\"setting random seeds\") % 2**32 - 1)\n",
    "np.random.seed(hash(\"improves reproducibility\") % 2**32 - 1)\n",
    "tf.random.set_seed(hash(\"by removing stochasticity\") % 2**32 - 1)"
   ]
  },
  {
   "cell_type": "markdown",
   "metadata": {},
   "source": [
    "### Utility Functions"
   ]
  },
  {
   "cell_type": "code",
   "execution_count": 3,
   "metadata": {},
   "outputs": [],
   "source": [
    "# def train_data_aug(img, lb):\n",
    "#     xs = []\n",
    "#     for _ in range(2):\n",
    "#         xs.append(preprocess_image(img, config['IMG_SIZE'], config['IMG_SIZE'],\n",
    "#                                    is_training=True,\n",
    "#                                    color_distort=True,\n",
    "#                                    test_crop=False))\n",
    "#     img = tf.concat(xs, -1)\n",
    "#     return img, tf.one_hot(lb, config['num_classes'])\n",
    "\n",
    "\n",
    "# def val_data_aug(img, lb):\n",
    "#     img = preprocess_image(img, config['IMG_SIZE'], config['IMG_SIZE'],\n",
    "#                            is_training=False,\n",
    "#                            color_distort=True,\n",
    "#                            test_crop=False)\n",
    "#     return img, lb\n",
    "\n",
    "def train_data_aug(img, lb):\n",
    "    xs = []\n",
    "    for _ in range(2):\n",
    "        xs.append(train_classification_aug(img, lb, img_size = config['IMG_SIZE'])[0])\n",
    "    img = tf.concat(xs, -1)\n",
    "    return img, tf.one_hot(lb, 4)\n",
    "\n",
    "def val_data_aug(img, lb):\n",
    "    xs = []\n",
    "    for _ in range(2):\n",
    "        xs.append(train_classification_aug(img, lb, img_size = config['IMG_SIZE'])[0])\n",
    "    img = tf.concat(xs, -1)\n",
    "    return img, tf.one_hot(lb, 4)\n",
    "\n",
    "def resize_only(img, lb):\n",
    "    img = train_classification_aug(img, lb, img_size = config['IMG_SIZE'])[0]\n",
    "    return img, tf.one_hot(lb, config['num_classes'])"
   ]
  },
  {
   "cell_type": "markdown",
   "metadata": {},
   "source": [
    "### Preparing the Data"
   ]
  },
  {
   "cell_type": "code",
   "execution_count": 4,
   "metadata": {},
   "outputs": [],
   "source": [
    "# Load Retinal Data\n",
    "ds_train, ds_train_info = tfds.load('RetinaDataset', split='train', shuffle_files=True, as_supervised=True, with_info=True)\n",
    "ds_test  = tfds.load('RetinaDataset', split='test', shuffle_files=True, as_supervised=True)"
   ]
  },
  {
   "cell_type": "markdown",
   "metadata": {},
   "source": [
    "### Building the SimCLR Model"
   ]
  },
  {
   "cell_type": "code",
   "execution_count": 5,
   "metadata": {},
   "outputs": [],
   "source": [
    "config={\n",
    "     \"learning_rate\": 0.01,\n",
    "     \"epochs\": 10,\n",
    "     \"learning_rate_scaling\": 'linear',\n",
    "     \"num_examples\": len(ds_train),\n",
    "     \"warmup_epochs\": 10,\n",
    "     \"batch_size\": 256,\n",
    "     \"num_classes\": 4,\n",
    "     \"use_blur\": True,\n",
    "     # ProjectionLayer Parameters\n",
    "     \"proj_head_mode\": 'nonlinear',\n",
    "     \"proj_out_dim\" : 128,\n",
    "     \"num_proj_layers\": 3, \n",
    "     \"ft_proj_selector\": 0,\n",
    "     # Resnet_parameter\n",
    "     \"resnet_depth\": 18,\n",
    "     \"resnet_width_multiplier\": 1,\n",
    "     \"resnet_se_ratio\": 0.0,\n",
    "     \"resnet_sk_ratio\": 0.0,\n",
    "     # contrastive loss parameter\n",
    "     \"hidden_norm\": True,\n",
    "     \"temperature\" :1.0,\n",
    "     # Image Size\n",
    "     'IMG_SIZE': 128,\n",
    "    }"
   ]
  },
  {
   "cell_type": "code",
   "execution_count": 6,
   "metadata": {},
   "outputs": [
    {
     "name": "stdout",
     "output_type": "stream",
     "text": [
      "Model: \"pretrained__sim_clr__model\"\n",
      "_________________________________________________________________\n",
      "Layer (type)                 Output Shape              Param #   \n",
      "=================================================================\n",
      "resnet (Resnet)              multiple                  11190464  \n",
      "_________________________________________________________________\n",
      "head_supervised (SupervisedH multiple                  2052      \n",
      "_________________________________________________________________\n",
      "projection_head (ProjectionH multiple                  594304    \n",
      "_________________________________________________________________\n",
      "contrast_loss (Mean)         multiple                  2         \n",
      "_________________________________________________________________\n",
      "contrast_acc (Mean)          multiple                  2         \n",
      "_________________________________________________________________\n",
      "contrast_entropy (Mean)      multiple                  2         \n",
      "_________________________________________________________________\n",
      "supervised_loss (Mean)       multiple                  2         \n",
      "_________________________________________________________________\n",
      "supervised_acc (Mean)        multiple                  2         \n",
      "=================================================================\n",
      "Total params: 11,786,830\n",
      "Trainable params: 11,774,788\n",
      "Non-trainable params: 12,042\n",
      "_________________________________________________________________\n"
     ]
    }
   ],
   "source": [
    "# Initialize the model\n",
    "model = Pretrained_SimCLR_Model(num_classes=config['num_classes'],\n",
    "                                use_blur = config['use_blur'],\n",
    "                                proj_head_mode = config['proj_head_mode'],\n",
    "                                proj_out_dim = config['proj_out_dim'],\n",
    "                                num_proj_layers = config['num_proj_layers'],\n",
    "                                ft_proj_selector = config['ft_proj_selector'],\n",
    "                                resnet_depth = config['resnet_depth'],\n",
    "                                resnet_width_multiplier = config['resnet_width_multiplier'],\n",
    "                                resnet_se_ratio = config['resnet_se_ratio'],\n",
    "                                resnet_sk_ratio = config['resnet_sk_ratio'],\n",
    "                                hidden_norm = config['hidden_norm'],\n",
    "                                temperature = config['temperature'])\n",
    "# Build the Model\n",
    "input_shape_base   = (None, config['IMG_SIZE'], config['IMG_SIZE'], 3)\n",
    "input_shape_simclr = (None, config['IMG_SIZE'], config['IMG_SIZE'], 6)\n",
    "model.base_model.build(input_shape_base)\n",
    "model.build(input_shape_simclr)\n",
    "model.summary()"
   ]
  },
  {
   "cell_type": "markdown",
   "metadata": {},
   "source": [
    "### Training the Model"
   ]
  },
  {
   "cell_type": "code",
   "execution_count": 7,
   "metadata": {},
   "outputs": [
    {
     "name": "stderr",
     "output_type": "stream",
     "text": [
      "C:\\Users\\mohit\\Anaconda3\\envs\\retina_env\\lib\\site-packages\\tensorflow\\python\\autograph\\impl\\api.py:493: UserWarning: fill_value is not supported and is always 0 for TensorFlow < 2.4.0.\n",
      "  return py_builtins.overload_of(f)(*args)\n"
     ]
    },
    {
     "name": "stdout",
     "output_type": "stream",
     "text": [
      "Epoch 1/10\n",
      "  2/327 [..............................] - ETA: 1:50 - contrast_loss: 12.5684 - contrast_acc: 0.0059 - contrast_entropy: 5.4907 - supervised_loss: 1.3626 - supervised_acc: 0.3457WARNING:tensorflow:Callbacks method `on_train_batch_end` is slow compared to the batch time (batch time: 0.2090s vs `on_train_batch_end` time: 0.4570s). Check your callbacks.\n"
     ]
    },
    {
     "name": "stderr",
     "output_type": "stream",
     "text": [
      "WARNING:tensorflow:Callbacks method `on_train_batch_end` is slow compared to the batch time (batch time: 0.2090s vs `on_train_batch_end` time: 0.4570s). Check your callbacks.\n"
     ]
    },
    {
     "name": "stdout",
     "output_type": "stream",
     "text": [
      "327/327 [==============================] - 265s 811ms/step - contrast_loss: 12.3772 - contrast_acc: 0.0095 - contrast_entropy: 5.4909 - supervised_loss: 1.2427 - supervised_acc: 0.4402\n",
      "Epoch 2/10\n",
      "327/327 [==============================] - 262s 802ms/step - contrast_loss: 11.9519 - contrast_acc: 0.0215 - contrast_entropy: 5.4111 - supervised_loss: 1.2117 - supervised_acc: 0.4698\n",
      "Epoch 3/10\n",
      "327/327 [==============================] - 262s 801ms/step - contrast_loss: 11.6867 - contrast_acc: 0.0385 - contrast_entropy: 5.4065 - supervised_loss: 1.0908 - supervised_acc: 0.5630\n",
      "Epoch 4/10\n",
      "327/327 [==============================] - 262s 801ms/step - contrast_loss: 11.4951 - contrast_acc: 0.0614 - contrast_entropy: 5.4103 - supervised_loss: 0.9346 - supervised_acc: 0.6368\n",
      "Epoch 5/10\n",
      "327/327 [==============================] - 262s 802ms/step - contrast_loss: 11.2895 - contrast_acc: 0.1257 - contrast_entropy: 5.4261 - supervised_loss: 0.8365 - supervised_acc: 0.6826\n",
      "Epoch 6/10\n",
      "327/327 [==============================] - 261s 798ms/step - contrast_loss: 11.1683 - contrast_acc: 0.1919 - contrast_entropy: 5.4404 - supervised_loss: 0.7696 - supervised_acc: 0.7127\n",
      "Epoch 7/10\n",
      "327/327 [==============================] - 263s 804ms/step - contrast_loss: 11.0942 - contrast_acc: 0.2542 - contrast_entropy: 5.4501 - supervised_loss: 0.7306 - supervised_acc: 0.7281\n",
      "Epoch 8/10\n",
      "327/327 [==============================] - 262s 801ms/step - contrast_loss: 11.0659 - contrast_acc: 0.2894 - contrast_entropy: 5.4553 - supervised_loss: 0.7073 - supervised_acc: 0.7364\n",
      "Epoch 9/10\n",
      "327/327 [==============================] - 264s 807ms/step - contrast_loss: 11.0340 - contrast_acc: 0.3336 - contrast_entropy: 5.4582 - supervised_loss: 0.6867 - supervised_acc: 0.7458\n",
      "Epoch 10/10\n",
      "327/327 [==============================] - 257s 786ms/step - contrast_loss: 11.0213 - contrast_acc: 0.3649 - contrast_entropy: 5.4613 - supervised_loss: 0.6696 - supervised_acc: 0.7520\n"
     ]
    },
    {
     "data": {
      "text/plain": [
       "<tensorflow.python.keras.callbacks.History at 0x26e43aa0488>"
      ]
     },
     "execution_count": 7,
     "metadata": {},
     "output_type": "execute_result"
    }
   ],
   "source": [
    "# Define Scheduler and Optimizer\n",
    "lr_scheduler = WarmUpAndCosineDecay(config['learning_rate'], \n",
    "                                    num_examples= config['num_examples'], \n",
    "                                    train_epochs= config['epochs'], \n",
    "                                    train_batch_size = config['batch_size'],\n",
    "                                    learning_rate_scaling = config['learning_rate_scaling'], \n",
    "                                    warmup_epochs = config['warmup_epochs'])\n",
    "optimizer = tfa.optimizers.LAMB(lr_scheduler,\n",
    "                                weight_decay_rate=1e-6,\n",
    "                                exclude_from_weight_decay=['batch_normalization', 'bias', 'head_supervised'])\n",
    "\n",
    "model.compile(optimizer= optimizer)\n",
    "\n",
    "model.fit(ds_train.map(train_data_aug).batch(config['batch_size'] ),\n",
    "          epochs= config['epochs'])\n",
    "\n",
    "# model.fit(ds_train.map(train_data_aug).batch(config['batch_size'] ),\n",
    "#           epochs= config['epochs'],\n",
    "#           validation_data = ds_test.map(val_data_aug).batch(config['batch_size']))"
   ]
  },
  {
   "cell_type": "code",
   "execution_count": 9,
   "metadata": {},
   "outputs": [
    {
     "name": "stdout",
     "output_type": "stream",
     "text": [
      "8/8 [==============================] - 2s 300ms/step - contrast_loss: 9.5497 - contrast_acc: 0.4289 - contrast_entropy: 4.7033 - supervised_loss: 0.8210 - supervised_acc: 0.6672\n"
     ]
    }
   ],
   "source": [
    "score = model.evaluate(ds_test.map(train_data_aug).batch(128))"
   ]
  },
  {
   "cell_type": "code",
   "execution_count": 10,
   "metadata": {},
   "outputs": [
    {
     "data": {
      "text/plain": [
       "[9.549652099609375,\n",
       " 0.4289279580116272,\n",
       " 4.703300476074219,\n",
       " 0.8209872245788574,\n",
       " 0.6672092080116272,\n",
       " 9.549652099609375,\n",
       " 0.4289279580116272,\n",
       " 4.703300476074219,\n",
       " 0.8209872245788574,\n",
       " 0.6672092080116272]"
      ]
     },
     "execution_count": 10,
     "metadata": {},
     "output_type": "execute_result"
    }
   ],
   "source": [
    "score"
   ]
  },
  {
   "cell_type": "markdown",
   "metadata": {},
   "source": [
    "### END"
   ]
  }
 ],
 "metadata": {
  "kernelspec": {
   "display_name": "retinal_oct",
   "language": "python",
   "name": "retinal_oct"
  },
  "language_info": {
   "codemirror_mode": {
    "name": "ipython",
    "version": 3
   },
   "file_extension": ".py",
   "mimetype": "text/x-python",
   "name": "python",
   "nbconvert_exporter": "python",
   "pygments_lexer": "ipython3",
   "version": "3.7.9"
  }
 },
 "nbformat": 4,
 "nbformat_minor": 4
}
