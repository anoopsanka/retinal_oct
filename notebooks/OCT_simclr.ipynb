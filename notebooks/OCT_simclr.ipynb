{
  "nbformat": 4,
  "nbformat_minor": 0,
  "metadata": {
    "accelerator": "GPU",
    "colab": {
      "name": "OCT_simclr.ipynb",
      "provenance": [],
      "collapsed_sections": [],
      "mount_file_id": "1O5Sbop8hhx-HEEX4DTbX-EnnoowL42o-",
      "authorship_tag": "ABX9TyPl+9rsZg/NN6l82xKwRIth",
      "include_colab_link": true
    },
    "kernelspec": {
      "display_name": "Python 3",
      "name": "python3"
    },
    "widgets": {
      "application/vnd.jupyter.widget-state+json": {
        "f73e90b878a94f1ba876ff1407504389": {
          "model_module": "@jupyter-widgets/controls",
          "model_name": "HBoxModel",
          "state": {
            "_view_name": "HBoxView",
            "_dom_classes": [],
            "_model_name": "HBoxModel",
            "_view_module": "@jupyter-widgets/controls",
            "_model_module_version": "1.5.0",
            "_view_count": null,
            "_view_module_version": "1.5.0",
            "box_style": "",
            "layout": "IPY_MODEL_1f218e2a9ce34ccd8ecea724beae5e99",
            "_model_module": "@jupyter-widgets/controls",
            "children": [
              "IPY_MODEL_6f9b98c945804e3e821e3f47826d9990",
              "IPY_MODEL_9d3c1e91ca9045338160b18154c8336f"
            ]
          }
        },
        "1f218e2a9ce34ccd8ecea724beae5e99": {
          "model_module": "@jupyter-widgets/base",
          "model_name": "LayoutModel",
          "state": {
            "_view_name": "LayoutView",
            "grid_template_rows": null,
            "right": null,
            "justify_content": null,
            "_view_module": "@jupyter-widgets/base",
            "overflow": null,
            "_model_module_version": "1.2.0",
            "_view_count": null,
            "flex_flow": null,
            "width": null,
            "min_width": null,
            "border": null,
            "align_items": null,
            "bottom": null,
            "_model_module": "@jupyter-widgets/base",
            "top": null,
            "grid_column": null,
            "overflow_y": null,
            "overflow_x": null,
            "grid_auto_flow": null,
            "grid_area": null,
            "grid_template_columns": null,
            "flex": null,
            "_model_name": "LayoutModel",
            "justify_items": null,
            "grid_row": null,
            "max_height": null,
            "align_content": null,
            "visibility": null,
            "align_self": null,
            "height": null,
            "min_height": null,
            "padding": null,
            "grid_auto_rows": null,
            "grid_gap": null,
            "max_width": null,
            "order": null,
            "_view_module_version": "1.2.0",
            "grid_template_areas": null,
            "object_position": null,
            "object_fit": null,
            "grid_auto_columns": null,
            "margin": null,
            "display": null,
            "left": null
          }
        },
        "6f9b98c945804e3e821e3f47826d9990": {
          "model_module": "@jupyter-widgets/controls",
          "model_name": "FloatProgressModel",
          "state": {
            "_view_name": "ProgressView",
            "style": "IPY_MODEL_6c83afce13164a5d8fe35df8302c3305",
            "_dom_classes": [],
            "description": "Dl Completed...: 100%",
            "_model_name": "FloatProgressModel",
            "bar_style": "success",
            "max": 1,
            "_view_module": "@jupyter-widgets/controls",
            "_model_module_version": "1.5.0",
            "value": 1,
            "_view_count": null,
            "_view_module_version": "1.5.0",
            "orientation": "horizontal",
            "min": 0,
            "description_tooltip": null,
            "_model_module": "@jupyter-widgets/controls",
            "layout": "IPY_MODEL_64e4f82b0a694d11a8fc4b409b2b563a"
          }
        },
        "9d3c1e91ca9045338160b18154c8336f": {
          "model_module": "@jupyter-widgets/controls",
          "model_name": "HTMLModel",
          "state": {
            "_view_name": "HTMLView",
            "style": "IPY_MODEL_84d4316fcfa24c95b9d7340cb3ef465e",
            "_dom_classes": [],
            "description": "",
            "_model_name": "HTMLModel",
            "placeholder": "​",
            "_view_module": "@jupyter-widgets/controls",
            "_model_module_version": "1.5.0",
            "value": " 2/2 [01:59&lt;00:00, 59.66s/ url]",
            "_view_count": null,
            "_view_module_version": "1.5.0",
            "description_tooltip": null,
            "_model_module": "@jupyter-widgets/controls",
            "layout": "IPY_MODEL_748dc6dbb0654079ad4564f2bcba351c"
          }
        },
        "6c83afce13164a5d8fe35df8302c3305": {
          "model_module": "@jupyter-widgets/controls",
          "model_name": "ProgressStyleModel",
          "state": {
            "_view_name": "StyleView",
            "_model_name": "ProgressStyleModel",
            "description_width": "initial",
            "_view_module": "@jupyter-widgets/base",
            "_model_module_version": "1.5.0",
            "_view_count": null,
            "_view_module_version": "1.2.0",
            "bar_color": null,
            "_model_module": "@jupyter-widgets/controls"
          }
        },
        "64e4f82b0a694d11a8fc4b409b2b563a": {
          "model_module": "@jupyter-widgets/base",
          "model_name": "LayoutModel",
          "state": {
            "_view_name": "LayoutView",
            "grid_template_rows": null,
            "right": null,
            "justify_content": null,
            "_view_module": "@jupyter-widgets/base",
            "overflow": null,
            "_model_module_version": "1.2.0",
            "_view_count": null,
            "flex_flow": null,
            "width": null,
            "min_width": null,
            "border": null,
            "align_items": null,
            "bottom": null,
            "_model_module": "@jupyter-widgets/base",
            "top": null,
            "grid_column": null,
            "overflow_y": null,
            "overflow_x": null,
            "grid_auto_flow": null,
            "grid_area": null,
            "grid_template_columns": null,
            "flex": null,
            "_model_name": "LayoutModel",
            "justify_items": null,
            "grid_row": null,
            "max_height": null,
            "align_content": null,
            "visibility": null,
            "align_self": null,
            "height": null,
            "min_height": null,
            "padding": null,
            "grid_auto_rows": null,
            "grid_gap": null,
            "max_width": null,
            "order": null,
            "_view_module_version": "1.2.0",
            "grid_template_areas": null,
            "object_position": null,
            "object_fit": null,
            "grid_auto_columns": null,
            "margin": null,
            "display": null,
            "left": null
          }
        },
        "84d4316fcfa24c95b9d7340cb3ef465e": {
          "model_module": "@jupyter-widgets/controls",
          "model_name": "DescriptionStyleModel",
          "state": {
            "_view_name": "StyleView",
            "_model_name": "DescriptionStyleModel",
            "description_width": "",
            "_view_module": "@jupyter-widgets/base",
            "_model_module_version": "1.5.0",
            "_view_count": null,
            "_view_module_version": "1.2.0",
            "_model_module": "@jupyter-widgets/controls"
          }
        },
        "748dc6dbb0654079ad4564f2bcba351c": {
          "model_module": "@jupyter-widgets/base",
          "model_name": "LayoutModel",
          "state": {
            "_view_name": "LayoutView",
            "grid_template_rows": null,
            "right": null,
            "justify_content": null,
            "_view_module": "@jupyter-widgets/base",
            "overflow": null,
            "_model_module_version": "1.2.0",
            "_view_count": null,
            "flex_flow": null,
            "width": null,
            "min_width": null,
            "border": null,
            "align_items": null,
            "bottom": null,
            "_model_module": "@jupyter-widgets/base",
            "top": null,
            "grid_column": null,
            "overflow_y": null,
            "overflow_x": null,
            "grid_auto_flow": null,
            "grid_area": null,
            "grid_template_columns": null,
            "flex": null,
            "_model_name": "LayoutModel",
            "justify_items": null,
            "grid_row": null,
            "max_height": null,
            "align_content": null,
            "visibility": null,
            "align_self": null,
            "height": null,
            "min_height": null,
            "padding": null,
            "grid_auto_rows": null,
            "grid_gap": null,
            "max_width": null,
            "order": null,
            "_view_module_version": "1.2.0",
            "grid_template_areas": null,
            "object_position": null,
            "object_fit": null,
            "grid_auto_columns": null,
            "margin": null,
            "display": null,
            "left": null
          }
        },
        "4b276f85bb954b559b56c77c2e850222": {
          "model_module": "@jupyter-widgets/controls",
          "model_name": "HBoxModel",
          "state": {
            "_view_name": "HBoxView",
            "_dom_classes": [],
            "_model_name": "HBoxModel",
            "_view_module": "@jupyter-widgets/controls",
            "_model_module_version": "1.5.0",
            "_view_count": null,
            "_view_module_version": "1.5.0",
            "box_style": "",
            "layout": "IPY_MODEL_8e73251238634e79b82f9b65f435d8aa",
            "_model_module": "@jupyter-widgets/controls",
            "children": [
              "IPY_MODEL_b3425012a94c46319d5cd876f7d70470",
              "IPY_MODEL_b7a2a3ddcc8540dd9891b8afee08b3e9"
            ]
          }
        },
        "8e73251238634e79b82f9b65f435d8aa": {
          "model_module": "@jupyter-widgets/base",
          "model_name": "LayoutModel",
          "state": {
            "_view_name": "LayoutView",
            "grid_template_rows": null,
            "right": null,
            "justify_content": null,
            "_view_module": "@jupyter-widgets/base",
            "overflow": null,
            "_model_module_version": "1.2.0",
            "_view_count": null,
            "flex_flow": null,
            "width": null,
            "min_width": null,
            "border": null,
            "align_items": null,
            "bottom": null,
            "_model_module": "@jupyter-widgets/base",
            "top": null,
            "grid_column": null,
            "overflow_y": null,
            "overflow_x": null,
            "grid_auto_flow": null,
            "grid_area": null,
            "grid_template_columns": null,
            "flex": null,
            "_model_name": "LayoutModel",
            "justify_items": null,
            "grid_row": null,
            "max_height": null,
            "align_content": null,
            "visibility": null,
            "align_self": null,
            "height": null,
            "min_height": null,
            "padding": null,
            "grid_auto_rows": null,
            "grid_gap": null,
            "max_width": null,
            "order": null,
            "_view_module_version": "1.2.0",
            "grid_template_areas": null,
            "object_position": null,
            "object_fit": null,
            "grid_auto_columns": null,
            "margin": null,
            "display": null,
            "left": null
          }
        },
        "b3425012a94c46319d5cd876f7d70470": {
          "model_module": "@jupyter-widgets/controls",
          "model_name": "FloatProgressModel",
          "state": {
            "_view_name": "ProgressView",
            "style": "IPY_MODEL_9ccce27dc67e4124a4287985038a111d",
            "_dom_classes": [],
            "description": "Dl Size...: 100%",
            "_model_name": "FloatProgressModel",
            "bar_style": "success",
            "max": 1,
            "_view_module": "@jupyter-widgets/controls",
            "_model_module_version": "1.5.0",
            "value": 1,
            "_view_count": null,
            "_view_module_version": "1.5.0",
            "orientation": "horizontal",
            "min": 0,
            "description_tooltip": null,
            "_model_module": "@jupyter-widgets/controls",
            "layout": "IPY_MODEL_2a1ceb8cfdbb4b81aa6f95a0cb61eb25"
          }
        },
        "b7a2a3ddcc8540dd9891b8afee08b3e9": {
          "model_module": "@jupyter-widgets/controls",
          "model_name": "HTMLModel",
          "state": {
            "_view_name": "HTMLView",
            "style": "IPY_MODEL_49cb9d01f9d44e9bbbdd3734dfe5254e",
            "_dom_classes": [],
            "description": "",
            "_model_name": "HTMLModel",
            "placeholder": "​",
            "_view_module": "@jupyter-widgets/controls",
            "_model_module_version": "1.5.0",
            "value": " 5529/5529 [01:59&lt;00:00, 46.35 MiB/s]",
            "_view_count": null,
            "_view_module_version": "1.5.0",
            "description_tooltip": null,
            "_model_module": "@jupyter-widgets/controls",
            "layout": "IPY_MODEL_89466df21a4d4c64b5c335f1e88dd8bb"
          }
        },
        "9ccce27dc67e4124a4287985038a111d": {
          "model_module": "@jupyter-widgets/controls",
          "model_name": "ProgressStyleModel",
          "state": {
            "_view_name": "StyleView",
            "_model_name": "ProgressStyleModel",
            "description_width": "initial",
            "_view_module": "@jupyter-widgets/base",
            "_model_module_version": "1.5.0",
            "_view_count": null,
            "_view_module_version": "1.2.0",
            "bar_color": null,
            "_model_module": "@jupyter-widgets/controls"
          }
        },
        "2a1ceb8cfdbb4b81aa6f95a0cb61eb25": {
          "model_module": "@jupyter-widgets/base",
          "model_name": "LayoutModel",
          "state": {
            "_view_name": "LayoutView",
            "grid_template_rows": null,
            "right": null,
            "justify_content": null,
            "_view_module": "@jupyter-widgets/base",
            "overflow": null,
            "_model_module_version": "1.2.0",
            "_view_count": null,
            "flex_flow": null,
            "width": null,
            "min_width": null,
            "border": null,
            "align_items": null,
            "bottom": null,
            "_model_module": "@jupyter-widgets/base",
            "top": null,
            "grid_column": null,
            "overflow_y": null,
            "overflow_x": null,
            "grid_auto_flow": null,
            "grid_area": null,
            "grid_template_columns": null,
            "flex": null,
            "_model_name": "LayoutModel",
            "justify_items": null,
            "grid_row": null,
            "max_height": null,
            "align_content": null,
            "visibility": null,
            "align_self": null,
            "height": null,
            "min_height": null,
            "padding": null,
            "grid_auto_rows": null,
            "grid_gap": null,
            "max_width": null,
            "order": null,
            "_view_module_version": "1.2.0",
            "grid_template_areas": null,
            "object_position": null,
            "object_fit": null,
            "grid_auto_columns": null,
            "margin": null,
            "display": null,
            "left": null
          }
        },
        "49cb9d01f9d44e9bbbdd3734dfe5254e": {
          "model_module": "@jupyter-widgets/controls",
          "model_name": "DescriptionStyleModel",
          "state": {
            "_view_name": "StyleView",
            "_model_name": "DescriptionStyleModel",
            "description_width": "",
            "_view_module": "@jupyter-widgets/base",
            "_model_module_version": "1.5.0",
            "_view_count": null,
            "_view_module_version": "1.2.0",
            "_model_module": "@jupyter-widgets/controls"
          }
        },
        "89466df21a4d4c64b5c335f1e88dd8bb": {
          "model_module": "@jupyter-widgets/base",
          "model_name": "LayoutModel",
          "state": {
            "_view_name": "LayoutView",
            "grid_template_rows": null,
            "right": null,
            "justify_content": null,
            "_view_module": "@jupyter-widgets/base",
            "overflow": null,
            "_model_module_version": "1.2.0",
            "_view_count": null,
            "flex_flow": null,
            "width": null,
            "min_width": null,
            "border": null,
            "align_items": null,
            "bottom": null,
            "_model_module": "@jupyter-widgets/base",
            "top": null,
            "grid_column": null,
            "overflow_y": null,
            "overflow_x": null,
            "grid_auto_flow": null,
            "grid_area": null,
            "grid_template_columns": null,
            "flex": null,
            "_model_name": "LayoutModel",
            "justify_items": null,
            "grid_row": null,
            "max_height": null,
            "align_content": null,
            "visibility": null,
            "align_self": null,
            "height": null,
            "min_height": null,
            "padding": null,
            "grid_auto_rows": null,
            "grid_gap": null,
            "max_width": null,
            "order": null,
            "_view_module_version": "1.2.0",
            "grid_template_areas": null,
            "object_position": null,
            "object_fit": null,
            "grid_auto_columns": null,
            "margin": null,
            "display": null,
            "left": null
          }
        },
        "61a9e99966f74a2f822701c7cac5b8a0": {
          "model_module": "@jupyter-widgets/controls",
          "model_name": "HBoxModel",
          "state": {
            "_view_name": "HBoxView",
            "_dom_classes": [],
            "_model_name": "HBoxModel",
            "_view_module": "@jupyter-widgets/controls",
            "_model_module_version": "1.5.0",
            "_view_count": null,
            "_view_module_version": "1.5.0",
            "box_style": "",
            "layout": "IPY_MODEL_7e94c2d9a617424bb41b822fb5434201",
            "_model_module": "@jupyter-widgets/controls",
            "children": [
              "IPY_MODEL_7d97ebf95f0941c99c62e4eddf49f3fd",
              "IPY_MODEL_3f60e5cad642454499487623461dc350"
            ]
          }
        },
        "7e94c2d9a617424bb41b822fb5434201": {
          "model_module": "@jupyter-widgets/base",
          "model_name": "LayoutModel",
          "state": {
            "_view_name": "LayoutView",
            "grid_template_rows": null,
            "right": null,
            "justify_content": null,
            "_view_module": "@jupyter-widgets/base",
            "overflow": null,
            "_model_module_version": "1.2.0",
            "_view_count": null,
            "flex_flow": null,
            "width": null,
            "min_width": null,
            "border": null,
            "align_items": null,
            "bottom": null,
            "_model_module": "@jupyter-widgets/base",
            "top": null,
            "grid_column": null,
            "overflow_y": null,
            "overflow_x": null,
            "grid_auto_flow": null,
            "grid_area": null,
            "grid_template_columns": null,
            "flex": null,
            "_model_name": "LayoutModel",
            "justify_items": null,
            "grid_row": null,
            "max_height": null,
            "align_content": null,
            "visibility": null,
            "align_self": null,
            "height": null,
            "min_height": null,
            "padding": null,
            "grid_auto_rows": null,
            "grid_gap": null,
            "max_width": null,
            "order": null,
            "_view_module_version": "1.2.0",
            "grid_template_areas": null,
            "object_position": null,
            "object_fit": null,
            "grid_auto_columns": null,
            "margin": null,
            "display": null,
            "left": null
          }
        },
        "7d97ebf95f0941c99c62e4eddf49f3fd": {
          "model_module": "@jupyter-widgets/controls",
          "model_name": "FloatProgressModel",
          "state": {
            "_view_name": "ProgressView",
            "style": "IPY_MODEL_f353521d5b614b988035154aa6cad627",
            "_dom_classes": [],
            "description": "",
            "_model_name": "FloatProgressModel",
            "bar_style": "info",
            "max": 1,
            "_view_module": "@jupyter-widgets/controls",
            "_model_module_version": "1.5.0",
            "value": 1,
            "_view_count": null,
            "_view_module_version": "1.5.0",
            "orientation": "horizontal",
            "min": 0,
            "description_tooltip": null,
            "_model_module": "@jupyter-widgets/controls",
            "layout": "IPY_MODEL_e74762a77617402c968ecf7859c58adb"
          }
        },
        "3f60e5cad642454499487623461dc350": {
          "model_module": "@jupyter-widgets/controls",
          "model_name": "HTMLModel",
          "state": {
            "_view_name": "HTMLView",
            "style": "IPY_MODEL_9e562cf83fc0428daacd7fbd9d7fc658",
            "_dom_classes": [],
            "description": "",
            "_model_name": "HTMLModel",
            "placeholder": "​",
            "_view_module": "@jupyter-widgets/controls",
            "_model_module_version": "1.5.0",
            "value": " 83489/0 [01:29&lt;00:00, 940.63 examples/s]",
            "_view_count": null,
            "_view_module_version": "1.5.0",
            "description_tooltip": null,
            "_model_module": "@jupyter-widgets/controls",
            "layout": "IPY_MODEL_c02a01ad662b43fca7a884ee820b443e"
          }
        },
        "f353521d5b614b988035154aa6cad627": {
          "model_module": "@jupyter-widgets/controls",
          "model_name": "ProgressStyleModel",
          "state": {
            "_view_name": "StyleView",
            "_model_name": "ProgressStyleModel",
            "description_width": "initial",
            "_view_module": "@jupyter-widgets/base",
            "_model_module_version": "1.5.0",
            "_view_count": null,
            "_view_module_version": "1.2.0",
            "bar_color": null,
            "_model_module": "@jupyter-widgets/controls"
          }
        },
        "e74762a77617402c968ecf7859c58adb": {
          "model_module": "@jupyter-widgets/base",
          "model_name": "LayoutModel",
          "state": {
            "_view_name": "LayoutView",
            "grid_template_rows": null,
            "right": null,
            "justify_content": null,
            "_view_module": "@jupyter-widgets/base",
            "overflow": null,
            "_model_module_version": "1.2.0",
            "_view_count": null,
            "flex_flow": null,
            "width": null,
            "min_width": null,
            "border": null,
            "align_items": null,
            "bottom": null,
            "_model_module": "@jupyter-widgets/base",
            "top": null,
            "grid_column": null,
            "overflow_y": null,
            "overflow_x": null,
            "grid_auto_flow": null,
            "grid_area": null,
            "grid_template_columns": null,
            "flex": null,
            "_model_name": "LayoutModel",
            "justify_items": null,
            "grid_row": null,
            "max_height": null,
            "align_content": null,
            "visibility": null,
            "align_self": null,
            "height": null,
            "min_height": null,
            "padding": null,
            "grid_auto_rows": null,
            "grid_gap": null,
            "max_width": null,
            "order": null,
            "_view_module_version": "1.2.0",
            "grid_template_areas": null,
            "object_position": null,
            "object_fit": null,
            "grid_auto_columns": null,
            "margin": null,
            "display": null,
            "left": null
          }
        },
        "9e562cf83fc0428daacd7fbd9d7fc658": {
          "model_module": "@jupyter-widgets/controls",
          "model_name": "DescriptionStyleModel",
          "state": {
            "_view_name": "StyleView",
            "_model_name": "DescriptionStyleModel",
            "description_width": "",
            "_view_module": "@jupyter-widgets/base",
            "_model_module_version": "1.5.0",
            "_view_count": null,
            "_view_module_version": "1.2.0",
            "_model_module": "@jupyter-widgets/controls"
          }
        },
        "c02a01ad662b43fca7a884ee820b443e": {
          "model_module": "@jupyter-widgets/base",
          "model_name": "LayoutModel",
          "state": {
            "_view_name": "LayoutView",
            "grid_template_rows": null,
            "right": null,
            "justify_content": null,
            "_view_module": "@jupyter-widgets/base",
            "overflow": null,
            "_model_module_version": "1.2.0",
            "_view_count": null,
            "flex_flow": null,
            "width": null,
            "min_width": null,
            "border": null,
            "align_items": null,
            "bottom": null,
            "_model_module": "@jupyter-widgets/base",
            "top": null,
            "grid_column": null,
            "overflow_y": null,
            "overflow_x": null,
            "grid_auto_flow": null,
            "grid_area": null,
            "grid_template_columns": null,
            "flex": null,
            "_model_name": "LayoutModel",
            "justify_items": null,
            "grid_row": null,
            "max_height": null,
            "align_content": null,
            "visibility": null,
            "align_self": null,
            "height": null,
            "min_height": null,
            "padding": null,
            "grid_auto_rows": null,
            "grid_gap": null,
            "max_width": null,
            "order": null,
            "_view_module_version": "1.2.0",
            "grid_template_areas": null,
            "object_position": null,
            "object_fit": null,
            "grid_auto_columns": null,
            "margin": null,
            "display": null,
            "left": null
          }
        },
        "c691a70301db4094bcb40daee29255c9": {
          "model_module": "@jupyter-widgets/controls",
          "model_name": "HBoxModel",
          "state": {
            "_view_name": "HBoxView",
            "_dom_classes": [],
            "_model_name": "HBoxModel",
            "_view_module": "@jupyter-widgets/controls",
            "_model_module_version": "1.5.0",
            "_view_count": null,
            "_view_module_version": "1.5.0",
            "box_style": "",
            "layout": "IPY_MODEL_dbc8919aeee14f3684a0a7b98d8c627d",
            "_model_module": "@jupyter-widgets/controls",
            "children": [
              "IPY_MODEL_46026efeb798467b905bead279f677bd",
              "IPY_MODEL_1649fa7c19854f07a3a5c8962b0f055d"
            ]
          }
        },
        "dbc8919aeee14f3684a0a7b98d8c627d": {
          "model_module": "@jupyter-widgets/base",
          "model_name": "LayoutModel",
          "state": {
            "_view_name": "LayoutView",
            "grid_template_rows": null,
            "right": null,
            "justify_content": null,
            "_view_module": "@jupyter-widgets/base",
            "overflow": null,
            "_model_module_version": "1.2.0",
            "_view_count": null,
            "flex_flow": null,
            "width": null,
            "min_width": null,
            "border": null,
            "align_items": null,
            "bottom": null,
            "_model_module": "@jupyter-widgets/base",
            "top": null,
            "grid_column": null,
            "overflow_y": null,
            "overflow_x": null,
            "grid_auto_flow": null,
            "grid_area": null,
            "grid_template_columns": null,
            "flex": null,
            "_model_name": "LayoutModel",
            "justify_items": null,
            "grid_row": null,
            "max_height": null,
            "align_content": null,
            "visibility": null,
            "align_self": null,
            "height": null,
            "min_height": null,
            "padding": null,
            "grid_auto_rows": null,
            "grid_gap": null,
            "max_width": null,
            "order": null,
            "_view_module_version": "1.2.0",
            "grid_template_areas": null,
            "object_position": null,
            "object_fit": null,
            "grid_auto_columns": null,
            "margin": null,
            "display": null,
            "left": null
          }
        },
        "46026efeb798467b905bead279f677bd": {
          "model_module": "@jupyter-widgets/controls",
          "model_name": "FloatProgressModel",
          "state": {
            "_view_name": "ProgressView",
            "style": "IPY_MODEL_7d5aeaefbf824ed8ac1547a6fa5600c1",
            "_dom_classes": [],
            "description": "100%",
            "_model_name": "FloatProgressModel",
            "bar_style": "danger",
            "max": 83489,
            "_view_module": "@jupyter-widgets/controls",
            "_model_module_version": "1.5.0",
            "value": 83415,
            "_view_count": null,
            "_view_module_version": "1.5.0",
            "orientation": "horizontal",
            "min": 0,
            "description_tooltip": null,
            "_model_module": "@jupyter-widgets/controls",
            "layout": "IPY_MODEL_c92c4b1a18df436584d4d500d503f6a0"
          }
        },
        "1649fa7c19854f07a3a5c8962b0f055d": {
          "model_module": "@jupyter-widgets/controls",
          "model_name": "HTMLModel",
          "state": {
            "_view_name": "HTMLView",
            "style": "IPY_MODEL_b9b2ee3ff21148c1aa37cbff9cd0c65b",
            "_dom_classes": [],
            "description": "",
            "_model_name": "HTMLModel",
            "placeholder": "​",
            "_view_module": "@jupyter-widgets/controls",
            "_model_module_version": "1.5.0",
            "value": " 83415/83489 [01:22&lt;00:00, 1011.37 examples/s]",
            "_view_count": null,
            "_view_module_version": "1.5.0",
            "description_tooltip": null,
            "_model_module": "@jupyter-widgets/controls",
            "layout": "IPY_MODEL_7f0cb32cc2c14fde8552a7db83649043"
          }
        },
        "7d5aeaefbf824ed8ac1547a6fa5600c1": {
          "model_module": "@jupyter-widgets/controls",
          "model_name": "ProgressStyleModel",
          "state": {
            "_view_name": "StyleView",
            "_model_name": "ProgressStyleModel",
            "description_width": "initial",
            "_view_module": "@jupyter-widgets/base",
            "_model_module_version": "1.5.0",
            "_view_count": null,
            "_view_module_version": "1.2.0",
            "bar_color": null,
            "_model_module": "@jupyter-widgets/controls"
          }
        },
        "c92c4b1a18df436584d4d500d503f6a0": {
          "model_module": "@jupyter-widgets/base",
          "model_name": "LayoutModel",
          "state": {
            "_view_name": "LayoutView",
            "grid_template_rows": null,
            "right": null,
            "justify_content": null,
            "_view_module": "@jupyter-widgets/base",
            "overflow": null,
            "_model_module_version": "1.2.0",
            "_view_count": null,
            "flex_flow": null,
            "width": null,
            "min_width": null,
            "border": null,
            "align_items": null,
            "bottom": null,
            "_model_module": "@jupyter-widgets/base",
            "top": null,
            "grid_column": null,
            "overflow_y": null,
            "overflow_x": null,
            "grid_auto_flow": null,
            "grid_area": null,
            "grid_template_columns": null,
            "flex": null,
            "_model_name": "LayoutModel",
            "justify_items": null,
            "grid_row": null,
            "max_height": null,
            "align_content": null,
            "visibility": null,
            "align_self": null,
            "height": null,
            "min_height": null,
            "padding": null,
            "grid_auto_rows": null,
            "grid_gap": null,
            "max_width": null,
            "order": null,
            "_view_module_version": "1.2.0",
            "grid_template_areas": null,
            "object_position": null,
            "object_fit": null,
            "grid_auto_columns": null,
            "margin": null,
            "display": null,
            "left": null
          }
        },
        "b9b2ee3ff21148c1aa37cbff9cd0c65b": {
          "model_module": "@jupyter-widgets/controls",
          "model_name": "DescriptionStyleModel",
          "state": {
            "_view_name": "StyleView",
            "_model_name": "DescriptionStyleModel",
            "description_width": "",
            "_view_module": "@jupyter-widgets/base",
            "_model_module_version": "1.5.0",
            "_view_count": null,
            "_view_module_version": "1.2.0",
            "_model_module": "@jupyter-widgets/controls"
          }
        },
        "7f0cb32cc2c14fde8552a7db83649043": {
          "model_module": "@jupyter-widgets/base",
          "model_name": "LayoutModel",
          "state": {
            "_view_name": "LayoutView",
            "grid_template_rows": null,
            "right": null,
            "justify_content": null,
            "_view_module": "@jupyter-widgets/base",
            "overflow": null,
            "_model_module_version": "1.2.0",
            "_view_count": null,
            "flex_flow": null,
            "width": null,
            "min_width": null,
            "border": null,
            "align_items": null,
            "bottom": null,
            "_model_module": "@jupyter-widgets/base",
            "top": null,
            "grid_column": null,
            "overflow_y": null,
            "overflow_x": null,
            "grid_auto_flow": null,
            "grid_area": null,
            "grid_template_columns": null,
            "flex": null,
            "_model_name": "LayoutModel",
            "justify_items": null,
            "grid_row": null,
            "max_height": null,
            "align_content": null,
            "visibility": null,
            "align_self": null,
            "height": null,
            "min_height": null,
            "padding": null,
            "grid_auto_rows": null,
            "grid_gap": null,
            "max_width": null,
            "order": null,
            "_view_module_version": "1.2.0",
            "grid_template_areas": null,
            "object_position": null,
            "object_fit": null,
            "grid_auto_columns": null,
            "margin": null,
            "display": null,
            "left": null
          }
        },
        "d3a5fa0866354000a65bf3901c786354": {
          "model_module": "@jupyter-widgets/controls",
          "model_name": "HBoxModel",
          "state": {
            "_view_name": "HBoxView",
            "_dom_classes": [],
            "_model_name": "HBoxModel",
            "_view_module": "@jupyter-widgets/controls",
            "_model_module_version": "1.5.0",
            "_view_count": null,
            "_view_module_version": "1.5.0",
            "box_style": "",
            "layout": "IPY_MODEL_a2b2483734024ba2a2a6bce4a687a077",
            "_model_module": "@jupyter-widgets/controls",
            "children": [
              "IPY_MODEL_149c0a4bfb564c7d91a738baea1426f9",
              "IPY_MODEL_32e22895ee904990bf0e52514c788165"
            ]
          }
        },
        "a2b2483734024ba2a2a6bce4a687a077": {
          "model_module": "@jupyter-widgets/base",
          "model_name": "LayoutModel",
          "state": {
            "_view_name": "LayoutView",
            "grid_template_rows": null,
            "right": null,
            "justify_content": null,
            "_view_module": "@jupyter-widgets/base",
            "overflow": null,
            "_model_module_version": "1.2.0",
            "_view_count": null,
            "flex_flow": null,
            "width": null,
            "min_width": null,
            "border": null,
            "align_items": null,
            "bottom": null,
            "_model_module": "@jupyter-widgets/base",
            "top": null,
            "grid_column": null,
            "overflow_y": null,
            "overflow_x": null,
            "grid_auto_flow": null,
            "grid_area": null,
            "grid_template_columns": null,
            "flex": null,
            "_model_name": "LayoutModel",
            "justify_items": null,
            "grid_row": null,
            "max_height": null,
            "align_content": null,
            "visibility": null,
            "align_self": null,
            "height": null,
            "min_height": null,
            "padding": null,
            "grid_auto_rows": null,
            "grid_gap": null,
            "max_width": null,
            "order": null,
            "_view_module_version": "1.2.0",
            "grid_template_areas": null,
            "object_position": null,
            "object_fit": null,
            "grid_auto_columns": null,
            "margin": null,
            "display": null,
            "left": null
          }
        },
        "149c0a4bfb564c7d91a738baea1426f9": {
          "model_module": "@jupyter-widgets/controls",
          "model_name": "FloatProgressModel",
          "state": {
            "_view_name": "ProgressView",
            "style": "IPY_MODEL_012d425298534ee9bd5cc5db73014590",
            "_dom_classes": [],
            "description": "",
            "_model_name": "FloatProgressModel",
            "bar_style": "info",
            "max": 1,
            "_view_module": "@jupyter-widgets/controls",
            "_model_module_version": "1.5.0",
            "value": 1,
            "_view_count": null,
            "_view_module_version": "1.5.0",
            "orientation": "horizontal",
            "min": 0,
            "description_tooltip": null,
            "_model_module": "@jupyter-widgets/controls",
            "layout": "IPY_MODEL_1f55dbace57c4a37b72675ac2bc563de"
          }
        },
        "32e22895ee904990bf0e52514c788165": {
          "model_module": "@jupyter-widgets/controls",
          "model_name": "HTMLModel",
          "state": {
            "_view_name": "HTMLView",
            "style": "IPY_MODEL_435dc8107a3d4542b2f19474c89b3cd4",
            "_dom_classes": [],
            "description": "",
            "_model_name": "HTMLModel",
            "placeholder": "​",
            "_view_module": "@jupyter-widgets/controls",
            "_model_module_version": "1.5.0",
            "value": " 968/0 [00:00&lt;00:00, 1301.52 examples/s]",
            "_view_count": null,
            "_view_module_version": "1.5.0",
            "description_tooltip": null,
            "_model_module": "@jupyter-widgets/controls",
            "layout": "IPY_MODEL_511667f4c9c74b8d904e94729ddf9a6c"
          }
        },
        "012d425298534ee9bd5cc5db73014590": {
          "model_module": "@jupyter-widgets/controls",
          "model_name": "ProgressStyleModel",
          "state": {
            "_view_name": "StyleView",
            "_model_name": "ProgressStyleModel",
            "description_width": "initial",
            "_view_module": "@jupyter-widgets/base",
            "_model_module_version": "1.5.0",
            "_view_count": null,
            "_view_module_version": "1.2.0",
            "bar_color": null,
            "_model_module": "@jupyter-widgets/controls"
          }
        },
        "1f55dbace57c4a37b72675ac2bc563de": {
          "model_module": "@jupyter-widgets/base",
          "model_name": "LayoutModel",
          "state": {
            "_view_name": "LayoutView",
            "grid_template_rows": null,
            "right": null,
            "justify_content": null,
            "_view_module": "@jupyter-widgets/base",
            "overflow": null,
            "_model_module_version": "1.2.0",
            "_view_count": null,
            "flex_flow": null,
            "width": null,
            "min_width": null,
            "border": null,
            "align_items": null,
            "bottom": null,
            "_model_module": "@jupyter-widgets/base",
            "top": null,
            "grid_column": null,
            "overflow_y": null,
            "overflow_x": null,
            "grid_auto_flow": null,
            "grid_area": null,
            "grid_template_columns": null,
            "flex": null,
            "_model_name": "LayoutModel",
            "justify_items": null,
            "grid_row": null,
            "max_height": null,
            "align_content": null,
            "visibility": null,
            "align_self": null,
            "height": null,
            "min_height": null,
            "padding": null,
            "grid_auto_rows": null,
            "grid_gap": null,
            "max_width": null,
            "order": null,
            "_view_module_version": "1.2.0",
            "grid_template_areas": null,
            "object_position": null,
            "object_fit": null,
            "grid_auto_columns": null,
            "margin": null,
            "display": null,
            "left": null
          }
        },
        "435dc8107a3d4542b2f19474c89b3cd4": {
          "model_module": "@jupyter-widgets/controls",
          "model_name": "DescriptionStyleModel",
          "state": {
            "_view_name": "StyleView",
            "_model_name": "DescriptionStyleModel",
            "description_width": "",
            "_view_module": "@jupyter-widgets/base",
            "_model_module_version": "1.5.0",
            "_view_count": null,
            "_view_module_version": "1.2.0",
            "_model_module": "@jupyter-widgets/controls"
          }
        },
        "511667f4c9c74b8d904e94729ddf9a6c": {
          "model_module": "@jupyter-widgets/base",
          "model_name": "LayoutModel",
          "state": {
            "_view_name": "LayoutView",
            "grid_template_rows": null,
            "right": null,
            "justify_content": null,
            "_view_module": "@jupyter-widgets/base",
            "overflow": null,
            "_model_module_version": "1.2.0",
            "_view_count": null,
            "flex_flow": null,
            "width": null,
            "min_width": null,
            "border": null,
            "align_items": null,
            "bottom": null,
            "_model_module": "@jupyter-widgets/base",
            "top": null,
            "grid_column": null,
            "overflow_y": null,
            "overflow_x": null,
            "grid_auto_flow": null,
            "grid_area": null,
            "grid_template_columns": null,
            "flex": null,
            "_model_name": "LayoutModel",
            "justify_items": null,
            "grid_row": null,
            "max_height": null,
            "align_content": null,
            "visibility": null,
            "align_self": null,
            "height": null,
            "min_height": null,
            "padding": null,
            "grid_auto_rows": null,
            "grid_gap": null,
            "max_width": null,
            "order": null,
            "_view_module_version": "1.2.0",
            "grid_template_areas": null,
            "object_position": null,
            "object_fit": null,
            "grid_auto_columns": null,
            "margin": null,
            "display": null,
            "left": null
          }
        },
        "0b627184059045348091d6d38c07d928": {
          "model_module": "@jupyter-widgets/controls",
          "model_name": "HBoxModel",
          "state": {
            "_view_name": "HBoxView",
            "_dom_classes": [],
            "_model_name": "HBoxModel",
            "_view_module": "@jupyter-widgets/controls",
            "_model_module_version": "1.5.0",
            "_view_count": null,
            "_view_module_version": "1.5.0",
            "box_style": "",
            "layout": "IPY_MODEL_a2d4e1e915d54b81b2551c900b133298",
            "_model_module": "@jupyter-widgets/controls",
            "children": [
              "IPY_MODEL_ef10af089e07420ab1f80df85d0462f3",
              "IPY_MODEL_ad5d6148e0c54a48995c2dfc726dfb6d"
            ]
          }
        },
        "a2d4e1e915d54b81b2551c900b133298": {
          "model_module": "@jupyter-widgets/base",
          "model_name": "LayoutModel",
          "state": {
            "_view_name": "LayoutView",
            "grid_template_rows": null,
            "right": null,
            "justify_content": null,
            "_view_module": "@jupyter-widgets/base",
            "overflow": null,
            "_model_module_version": "1.2.0",
            "_view_count": null,
            "flex_flow": null,
            "width": null,
            "min_width": null,
            "border": null,
            "align_items": null,
            "bottom": null,
            "_model_module": "@jupyter-widgets/base",
            "top": null,
            "grid_column": null,
            "overflow_y": null,
            "overflow_x": null,
            "grid_auto_flow": null,
            "grid_area": null,
            "grid_template_columns": null,
            "flex": null,
            "_model_name": "LayoutModel",
            "justify_items": null,
            "grid_row": null,
            "max_height": null,
            "align_content": null,
            "visibility": null,
            "align_self": null,
            "height": null,
            "min_height": null,
            "padding": null,
            "grid_auto_rows": null,
            "grid_gap": null,
            "max_width": null,
            "order": null,
            "_view_module_version": "1.2.0",
            "grid_template_areas": null,
            "object_position": null,
            "object_fit": null,
            "grid_auto_columns": null,
            "margin": null,
            "display": null,
            "left": null
          }
        },
        "ef10af089e07420ab1f80df85d0462f3": {
          "model_module": "@jupyter-widgets/controls",
          "model_name": "FloatProgressModel",
          "state": {
            "_view_name": "ProgressView",
            "style": "IPY_MODEL_1fbe8dffe8354338ae7e035802ffab58",
            "_dom_classes": [],
            "description": "  0%",
            "_model_name": "FloatProgressModel",
            "bar_style": "danger",
            "max": 968,
            "_view_module": "@jupyter-widgets/controls",
            "_model_module_version": "1.5.0",
            "value": 1,
            "_view_count": null,
            "_view_module_version": "1.5.0",
            "orientation": "horizontal",
            "min": 0,
            "description_tooltip": null,
            "_model_module": "@jupyter-widgets/controls",
            "layout": "IPY_MODEL_bd6d0d69ebfa4b03abba4c34890b1c56"
          }
        },
        "ad5d6148e0c54a48995c2dfc726dfb6d": {
          "model_module": "@jupyter-widgets/controls",
          "model_name": "HTMLModel",
          "state": {
            "_view_name": "HTMLView",
            "style": "IPY_MODEL_6ee0f4fb895b44c4b5edc24f093c1af9",
            "_dom_classes": [],
            "description": "",
            "_model_name": "HTMLModel",
            "placeholder": "​",
            "_view_module": "@jupyter-widgets/controls",
            "_model_module_version": "1.5.0",
            "value": " 1/968 [00:00&lt;02:17,  7.05 examples/s]",
            "_view_count": null,
            "_view_module_version": "1.5.0",
            "description_tooltip": null,
            "_model_module": "@jupyter-widgets/controls",
            "layout": "IPY_MODEL_c76ecc4292ae4909b1700c29c32613cf"
          }
        },
        "1fbe8dffe8354338ae7e035802ffab58": {
          "model_module": "@jupyter-widgets/controls",
          "model_name": "ProgressStyleModel",
          "state": {
            "_view_name": "StyleView",
            "_model_name": "ProgressStyleModel",
            "description_width": "initial",
            "_view_module": "@jupyter-widgets/base",
            "_model_module_version": "1.5.0",
            "_view_count": null,
            "_view_module_version": "1.2.0",
            "bar_color": null,
            "_model_module": "@jupyter-widgets/controls"
          }
        },
        "bd6d0d69ebfa4b03abba4c34890b1c56": {
          "model_module": "@jupyter-widgets/base",
          "model_name": "LayoutModel",
          "state": {
            "_view_name": "LayoutView",
            "grid_template_rows": null,
            "right": null,
            "justify_content": null,
            "_view_module": "@jupyter-widgets/base",
            "overflow": null,
            "_model_module_version": "1.2.0",
            "_view_count": null,
            "flex_flow": null,
            "width": null,
            "min_width": null,
            "border": null,
            "align_items": null,
            "bottom": null,
            "_model_module": "@jupyter-widgets/base",
            "top": null,
            "grid_column": null,
            "overflow_y": null,
            "overflow_x": null,
            "grid_auto_flow": null,
            "grid_area": null,
            "grid_template_columns": null,
            "flex": null,
            "_model_name": "LayoutModel",
            "justify_items": null,
            "grid_row": null,
            "max_height": null,
            "align_content": null,
            "visibility": null,
            "align_self": null,
            "height": null,
            "min_height": null,
            "padding": null,
            "grid_auto_rows": null,
            "grid_gap": null,
            "max_width": null,
            "order": null,
            "_view_module_version": "1.2.0",
            "grid_template_areas": null,
            "object_position": null,
            "object_fit": null,
            "grid_auto_columns": null,
            "margin": null,
            "display": null,
            "left": null
          }
        },
        "6ee0f4fb895b44c4b5edc24f093c1af9": {
          "model_module": "@jupyter-widgets/controls",
          "model_name": "DescriptionStyleModel",
          "state": {
            "_view_name": "StyleView",
            "_model_name": "DescriptionStyleModel",
            "description_width": "",
            "_view_module": "@jupyter-widgets/base",
            "_model_module_version": "1.5.0",
            "_view_count": null,
            "_view_module_version": "1.2.0",
            "_model_module": "@jupyter-widgets/controls"
          }
        },
        "c76ecc4292ae4909b1700c29c32613cf": {
          "model_module": "@jupyter-widgets/base",
          "model_name": "LayoutModel",
          "state": {
            "_view_name": "LayoutView",
            "grid_template_rows": null,
            "right": null,
            "justify_content": null,
            "_view_module": "@jupyter-widgets/base",
            "overflow": null,
            "_model_module_version": "1.2.0",
            "_view_count": null,
            "flex_flow": null,
            "width": null,
            "min_width": null,
            "border": null,
            "align_items": null,
            "bottom": null,
            "_model_module": "@jupyter-widgets/base",
            "top": null,
            "grid_column": null,
            "overflow_y": null,
            "overflow_x": null,
            "grid_auto_flow": null,
            "grid_area": null,
            "grid_template_columns": null,
            "flex": null,
            "_model_name": "LayoutModel",
            "justify_items": null,
            "grid_row": null,
            "max_height": null,
            "align_content": null,
            "visibility": null,
            "align_self": null,
            "height": null,
            "min_height": null,
            "padding": null,
            "grid_auto_rows": null,
            "grid_gap": null,
            "max_width": null,
            "order": null,
            "_view_module_version": "1.2.0",
            "grid_template_areas": null,
            "object_position": null,
            "object_fit": null,
            "grid_auto_columns": null,
            "margin": null,
            "display": null,
            "left": null
          }
        },
        "f3cbb429846245bcad9085ad2065c74a": {
          "model_module": "@jupyter-widgets/controls",
          "model_name": "VBoxModel",
          "state": {
            "_view_name": "VBoxView",
            "_dom_classes": [],
            "_model_name": "VBoxModel",
            "_view_module": "@jupyter-widgets/controls",
            "_model_module_version": "1.5.0",
            "_view_count": null,
            "_view_module_version": "1.5.0",
            "box_style": "",
            "layout": "IPY_MODEL_5c012e56ad1e49c18c1e0ce59402f088",
            "_model_module": "@jupyter-widgets/controls",
            "children": [
              "IPY_MODEL_5f321b1fd5444bc98d7e47548e894be9",
              "IPY_MODEL_77451e29b42a43b29e68f1d33ab8e742"
            ]
          }
        },
        "5c012e56ad1e49c18c1e0ce59402f088": {
          "model_module": "@jupyter-widgets/base",
          "model_name": "LayoutModel",
          "state": {
            "_view_name": "LayoutView",
            "grid_template_rows": null,
            "right": null,
            "justify_content": null,
            "_view_module": "@jupyter-widgets/base",
            "overflow": null,
            "_model_module_version": "1.2.0",
            "_view_count": null,
            "flex_flow": null,
            "width": null,
            "min_width": null,
            "border": null,
            "align_items": null,
            "bottom": null,
            "_model_module": "@jupyter-widgets/base",
            "top": null,
            "grid_column": null,
            "overflow_y": null,
            "overflow_x": null,
            "grid_auto_flow": null,
            "grid_area": null,
            "grid_template_columns": null,
            "flex": null,
            "_model_name": "LayoutModel",
            "justify_items": null,
            "grid_row": null,
            "max_height": null,
            "align_content": null,
            "visibility": null,
            "align_self": null,
            "height": null,
            "min_height": null,
            "padding": null,
            "grid_auto_rows": null,
            "grid_gap": null,
            "max_width": null,
            "order": null,
            "_view_module_version": "1.2.0",
            "grid_template_areas": null,
            "object_position": null,
            "object_fit": null,
            "grid_auto_columns": null,
            "margin": null,
            "display": null,
            "left": null
          }
        },
        "5f321b1fd5444bc98d7e47548e894be9": {
          "model_module": "@jupyter-widgets/controls",
          "model_name": "LabelModel",
          "state": {
            "_view_name": "LabelView",
            "style": "IPY_MODEL_8a83689e37ee4850aaa1fa7c30abacf9",
            "_dom_classes": [],
            "description": "",
            "_model_name": "LabelModel",
            "placeholder": "​",
            "_view_module": "@jupyter-widgets/controls",
            "_model_module_version": "1.5.0",
            "value": " 1947.18MB of 1947.18MB uploaded (0.00MB deduped)\r",
            "_view_count": null,
            "_view_module_version": "1.5.0",
            "description_tooltip": null,
            "_model_module": "@jupyter-widgets/controls",
            "layout": "IPY_MODEL_6f50a9dddff741b08cc1129f8fc064eb"
          }
        },
        "77451e29b42a43b29e68f1d33ab8e742": {
          "model_module": "@jupyter-widgets/controls",
          "model_name": "FloatProgressModel",
          "state": {
            "_view_name": "ProgressView",
            "style": "IPY_MODEL_9347ad925dc34ce3a05d50e274dd03a8",
            "_dom_classes": [],
            "description": "",
            "_model_name": "FloatProgressModel",
            "bar_style": "",
            "max": 1,
            "_view_module": "@jupyter-widgets/controls",
            "_model_module_version": "1.5.0",
            "value": 1,
            "_view_count": null,
            "_view_module_version": "1.5.0",
            "orientation": "horizontal",
            "min": 0,
            "description_tooltip": null,
            "_model_module": "@jupyter-widgets/controls",
            "layout": "IPY_MODEL_bdd8d60d9e6d41f1b10bd5310b37bddc"
          }
        },
        "8a83689e37ee4850aaa1fa7c30abacf9": {
          "model_module": "@jupyter-widgets/controls",
          "model_name": "DescriptionStyleModel",
          "state": {
            "_view_name": "StyleView",
            "_model_name": "DescriptionStyleModel",
            "description_width": "",
            "_view_module": "@jupyter-widgets/base",
            "_model_module_version": "1.5.0",
            "_view_count": null,
            "_view_module_version": "1.2.0",
            "_model_module": "@jupyter-widgets/controls"
          }
        },
        "6f50a9dddff741b08cc1129f8fc064eb": {
          "model_module": "@jupyter-widgets/base",
          "model_name": "LayoutModel",
          "state": {
            "_view_name": "LayoutView",
            "grid_template_rows": null,
            "right": null,
            "justify_content": null,
            "_view_module": "@jupyter-widgets/base",
            "overflow": null,
            "_model_module_version": "1.2.0",
            "_view_count": null,
            "flex_flow": null,
            "width": null,
            "min_width": null,
            "border": null,
            "align_items": null,
            "bottom": null,
            "_model_module": "@jupyter-widgets/base",
            "top": null,
            "grid_column": null,
            "overflow_y": null,
            "overflow_x": null,
            "grid_auto_flow": null,
            "grid_area": null,
            "grid_template_columns": null,
            "flex": null,
            "_model_name": "LayoutModel",
            "justify_items": null,
            "grid_row": null,
            "max_height": null,
            "align_content": null,
            "visibility": null,
            "align_self": null,
            "height": null,
            "min_height": null,
            "padding": null,
            "grid_auto_rows": null,
            "grid_gap": null,
            "max_width": null,
            "order": null,
            "_view_module_version": "1.2.0",
            "grid_template_areas": null,
            "object_position": null,
            "object_fit": null,
            "grid_auto_columns": null,
            "margin": null,
            "display": null,
            "left": null
          }
        },
        "9347ad925dc34ce3a05d50e274dd03a8": {
          "model_module": "@jupyter-widgets/controls",
          "model_name": "ProgressStyleModel",
          "state": {
            "_view_name": "StyleView",
            "_model_name": "ProgressStyleModel",
            "description_width": "",
            "_view_module": "@jupyter-widgets/base",
            "_model_module_version": "1.5.0",
            "_view_count": null,
            "_view_module_version": "1.2.0",
            "bar_color": null,
            "_model_module": "@jupyter-widgets/controls"
          }
        },
        "bdd8d60d9e6d41f1b10bd5310b37bddc": {
          "model_module": "@jupyter-widgets/base",
          "model_name": "LayoutModel",
          "state": {
            "_view_name": "LayoutView",
            "grid_template_rows": null,
            "right": null,
            "justify_content": null,
            "_view_module": "@jupyter-widgets/base",
            "overflow": null,
            "_model_module_version": "1.2.0",
            "_view_count": null,
            "flex_flow": null,
            "width": null,
            "min_width": null,
            "border": null,
            "align_items": null,
            "bottom": null,
            "_model_module": "@jupyter-widgets/base",
            "top": null,
            "grid_column": null,
            "overflow_y": null,
            "overflow_x": null,
            "grid_auto_flow": null,
            "grid_area": null,
            "grid_template_columns": null,
            "flex": null,
            "_model_name": "LayoutModel",
            "justify_items": null,
            "grid_row": null,
            "max_height": null,
            "align_content": null,
            "visibility": null,
            "align_self": null,
            "height": null,
            "min_height": null,
            "padding": null,
            "grid_auto_rows": null,
            "grid_gap": null,
            "max_width": null,
            "order": null,
            "_view_module_version": "1.2.0",
            "grid_template_areas": null,
            "object_position": null,
            "object_fit": null,
            "grid_auto_columns": null,
            "margin": null,
            "display": null,
            "left": null
          }
        },
        "4f096da943ba4f0d898bfab32d066e4a": {
          "model_module": "@jupyter-widgets/controls",
          "model_name": "VBoxModel",
          "state": {
            "_dom_classes": [],
            "_model_module": "@jupyter-widgets/controls",
            "_model_module_version": "1.5.0",
            "_model_name": "VBoxModel",
            "_view_count": null,
            "_view_module": "@jupyter-widgets/controls",
            "_view_module_version": "1.5.0",
            "_view_name": "VBoxView",
            "box_style": "",
            "children": [
              "IPY_MODEL_ec0aadeff2b44963a36d75d950166a0a",
              "IPY_MODEL_770e3fa0f90640eeae6ad346c0568323"
            ],
            "layout": "IPY_MODEL_5c3cdfca616a4b89be94352e18a0fc67"
          }
        },
        "ec0aadeff2b44963a36d75d950166a0a": {
          "model_module": "@jupyter-widgets/controls",
          "model_name": "LabelModel",
          "state": {
            "_dom_classes": [],
            "_model_module": "@jupyter-widgets/controls",
            "_model_module_version": "1.5.0",
            "_model_name": "LabelModel",
            "_view_count": null,
            "_view_module": "@jupyter-widgets/controls",
            "_view_module_version": "1.5.0",
            "_view_name": "LabelView",
            "description": "",
            "description_tooltip": null,
            "layout": "IPY_MODEL_2cf03dd87fd04dcbb7b1c1c8aa4db3b7",
            "placeholder": "​",
            "style": "IPY_MODEL_4fe2c02465bb4166a7371c09d5511033",
            "value": " 58.98MB of 58.98MB uploaded (0.00MB deduped)\r"
          }
        },
        "770e3fa0f90640eeae6ad346c0568323": {
          "model_module": "@jupyter-widgets/controls",
          "model_name": "FloatProgressModel",
          "state": {
            "_dom_classes": [],
            "_model_module": "@jupyter-widgets/controls",
            "_model_module_version": "1.5.0",
            "_model_name": "FloatProgressModel",
            "_view_count": null,
            "_view_module": "@jupyter-widgets/controls",
            "_view_module_version": "1.5.0",
            "_view_name": "ProgressView",
            "bar_style": "",
            "description": "",
            "description_tooltip": null,
            "layout": "IPY_MODEL_bd954db1ade64f639331cbbda89a8775",
            "max": 1,
            "min": 0,
            "orientation": "horizontal",
            "style": "IPY_MODEL_3d10a6072da04029ba5557d2d209734b",
            "value": 1
          }
        },
        "5c3cdfca616a4b89be94352e18a0fc67": {
          "model_module": "@jupyter-widgets/base",
          "model_name": "LayoutModel",
          "state": {
            "_model_module": "@jupyter-widgets/base",
            "_model_module_version": "1.2.0",
            "_model_name": "LayoutModel",
            "_view_count": null,
            "_view_module": "@jupyter-widgets/base",
            "_view_module_version": "1.2.0",
            "_view_name": "LayoutView",
            "align_content": null,
            "align_items": null,
            "align_self": null,
            "border": null,
            "bottom": null,
            "display": null,
            "flex": null,
            "flex_flow": null,
            "grid_area": null,
            "grid_auto_columns": null,
            "grid_auto_flow": null,
            "grid_auto_rows": null,
            "grid_column": null,
            "grid_gap": null,
            "grid_row": null,
            "grid_template_areas": null,
            "grid_template_columns": null,
            "grid_template_rows": null,
            "height": null,
            "justify_content": null,
            "justify_items": null,
            "left": null,
            "margin": null,
            "max_height": null,
            "max_width": null,
            "min_height": null,
            "min_width": null,
            "object_fit": null,
            "object_position": null,
            "order": null,
            "overflow": null,
            "overflow_x": null,
            "overflow_y": null,
            "padding": null,
            "right": null,
            "top": null,
            "visibility": null,
            "width": null
          }
        },
        "2cf03dd87fd04dcbb7b1c1c8aa4db3b7": {
          "model_module": "@jupyter-widgets/base",
          "model_name": "LayoutModel",
          "state": {
            "_model_module": "@jupyter-widgets/base",
            "_model_module_version": "1.2.0",
            "_model_name": "LayoutModel",
            "_view_count": null,
            "_view_module": "@jupyter-widgets/base",
            "_view_module_version": "1.2.0",
            "_view_name": "LayoutView",
            "align_content": null,
            "align_items": null,
            "align_self": null,
            "border": null,
            "bottom": null,
            "display": null,
            "flex": null,
            "flex_flow": null,
            "grid_area": null,
            "grid_auto_columns": null,
            "grid_auto_flow": null,
            "grid_auto_rows": null,
            "grid_column": null,
            "grid_gap": null,
            "grid_row": null,
            "grid_template_areas": null,
            "grid_template_columns": null,
            "grid_template_rows": null,
            "height": null,
            "justify_content": null,
            "justify_items": null,
            "left": null,
            "margin": null,
            "max_height": null,
            "max_width": null,
            "min_height": null,
            "min_width": null,
            "object_fit": null,
            "object_position": null,
            "order": null,
            "overflow": null,
            "overflow_x": null,
            "overflow_y": null,
            "padding": null,
            "right": null,
            "top": null,
            "visibility": null,
            "width": null
          }
        },
        "4fe2c02465bb4166a7371c09d5511033": {
          "model_module": "@jupyter-widgets/controls",
          "model_name": "DescriptionStyleModel",
          "state": {
            "_model_module": "@jupyter-widgets/controls",
            "_model_module_version": "1.5.0",
            "_model_name": "DescriptionStyleModel",
            "_view_count": null,
            "_view_module": "@jupyter-widgets/base",
            "_view_module_version": "1.2.0",
            "_view_name": "StyleView",
            "description_width": ""
          }
        },
        "bd954db1ade64f639331cbbda89a8775": {
          "model_module": "@jupyter-widgets/base",
          "model_name": "LayoutModel",
          "state": {
            "_model_module": "@jupyter-widgets/base",
            "_model_module_version": "1.2.0",
            "_model_name": "LayoutModel",
            "_view_count": null,
            "_view_module": "@jupyter-widgets/base",
            "_view_module_version": "1.2.0",
            "_view_name": "LayoutView",
            "align_content": null,
            "align_items": null,
            "align_self": null,
            "border": null,
            "bottom": null,
            "display": null,
            "flex": null,
            "flex_flow": null,
            "grid_area": null,
            "grid_auto_columns": null,
            "grid_auto_flow": null,
            "grid_auto_rows": null,
            "grid_column": null,
            "grid_gap": null,
            "grid_row": null,
            "grid_template_areas": null,
            "grid_template_columns": null,
            "grid_template_rows": null,
            "height": null,
            "justify_content": null,
            "justify_items": null,
            "left": null,
            "margin": null,
            "max_height": null,
            "max_width": null,
            "min_height": null,
            "min_width": null,
            "object_fit": null,
            "object_position": null,
            "order": null,
            "overflow": null,
            "overflow_x": null,
            "overflow_y": null,
            "padding": null,
            "right": null,
            "top": null,
            "visibility": null,
            "width": null
          }
        },
        "3d10a6072da04029ba5557d2d209734b": {
          "model_module": "@jupyter-widgets/controls",
          "model_name": "ProgressStyleModel",
          "state": {
            "_model_module": "@jupyter-widgets/controls",
            "_model_module_version": "1.5.0",
            "_model_name": "ProgressStyleModel",
            "_view_count": null,
            "_view_module": "@jupyter-widgets/base",
            "_view_module_version": "1.2.0",
            "_view_name": "StyleView",
            "bar_color": null,
            "description_width": ""
          }
        },
        "a4c5ed6017ef4f6f8e6e5c1d2fed8d4e": {
          "model_module": "@jupyter-widgets/controls",
          "model_name": "VBoxModel",
          "state": {
            "_dom_classes": [],
            "_model_module": "@jupyter-widgets/controls",
            "_model_module_version": "1.5.0",
            "_model_name": "VBoxModel",
            "_view_count": null,
            "_view_module": "@jupyter-widgets/controls",
            "_view_module_version": "1.5.0",
            "_view_name": "VBoxView",
            "box_style": "",
            "children": [
              "IPY_MODEL_f42efd6617ea4c4db07a559675c36b2e",
              "IPY_MODEL_80d7eb0e7ca74ff9b46b0f049e5c1706"
            ],
            "layout": "IPY_MODEL_6b0b7d5f5fbf4a15a3458494378c065c"
          }
        },
        "f42efd6617ea4c4db07a559675c36b2e": {
          "model_module": "@jupyter-widgets/controls",
          "model_name": "LabelModel",
          "state": {
            "_dom_classes": [],
            "_model_module": "@jupyter-widgets/controls",
            "_model_module_version": "1.5.0",
            "_model_name": "LabelModel",
            "_view_count": null,
            "_view_module": "@jupyter-widgets/controls",
            "_view_module_version": "1.5.0",
            "_view_name": "LabelView",
            "description": "",
            "description_tooltip": null,
            "layout": "IPY_MODEL_7b8b798f238a4bd6a2d47dd5400d4cc6",
            "placeholder": "​",
            "style": "IPY_MODEL_587b8d946372473081b9d62857016dd1",
            "value": " 0.23MB of 0.23MB uploaded (0.00MB deduped)\r"
          }
        },
        "80d7eb0e7ca74ff9b46b0f049e5c1706": {
          "model_module": "@jupyter-widgets/controls",
          "model_name": "FloatProgressModel",
          "state": {
            "_dom_classes": [],
            "_model_module": "@jupyter-widgets/controls",
            "_model_module_version": "1.5.0",
            "_model_name": "FloatProgressModel",
            "_view_count": null,
            "_view_module": "@jupyter-widgets/controls",
            "_view_module_version": "1.5.0",
            "_view_name": "ProgressView",
            "bar_style": "",
            "description": "",
            "description_tooltip": null,
            "layout": "IPY_MODEL_a3292715f5344d58855c4c91c0439f42",
            "max": 1,
            "min": 0,
            "orientation": "horizontal",
            "style": "IPY_MODEL_bb8d21a0c24c42e0b6aaf3f85f51e6d5",
            "value": 1
          }
        },
        "6b0b7d5f5fbf4a15a3458494378c065c": {
          "model_module": "@jupyter-widgets/base",
          "model_name": "LayoutModel",
          "state": {
            "_model_module": "@jupyter-widgets/base",
            "_model_module_version": "1.2.0",
            "_model_name": "LayoutModel",
            "_view_count": null,
            "_view_module": "@jupyter-widgets/base",
            "_view_module_version": "1.2.0",
            "_view_name": "LayoutView",
            "align_content": null,
            "align_items": null,
            "align_self": null,
            "border": null,
            "bottom": null,
            "display": null,
            "flex": null,
            "flex_flow": null,
            "grid_area": null,
            "grid_auto_columns": null,
            "grid_auto_flow": null,
            "grid_auto_rows": null,
            "grid_column": null,
            "grid_gap": null,
            "grid_row": null,
            "grid_template_areas": null,
            "grid_template_columns": null,
            "grid_template_rows": null,
            "height": null,
            "justify_content": null,
            "justify_items": null,
            "left": null,
            "margin": null,
            "max_height": null,
            "max_width": null,
            "min_height": null,
            "min_width": null,
            "object_fit": null,
            "object_position": null,
            "order": null,
            "overflow": null,
            "overflow_x": null,
            "overflow_y": null,
            "padding": null,
            "right": null,
            "top": null,
            "visibility": null,
            "width": null
          }
        },
        "7b8b798f238a4bd6a2d47dd5400d4cc6": {
          "model_module": "@jupyter-widgets/base",
          "model_name": "LayoutModel",
          "state": {
            "_model_module": "@jupyter-widgets/base",
            "_model_module_version": "1.2.0",
            "_model_name": "LayoutModel",
            "_view_count": null,
            "_view_module": "@jupyter-widgets/base",
            "_view_module_version": "1.2.0",
            "_view_name": "LayoutView",
            "align_content": null,
            "align_items": null,
            "align_self": null,
            "border": null,
            "bottom": null,
            "display": null,
            "flex": null,
            "flex_flow": null,
            "grid_area": null,
            "grid_auto_columns": null,
            "grid_auto_flow": null,
            "grid_auto_rows": null,
            "grid_column": null,
            "grid_gap": null,
            "grid_row": null,
            "grid_template_areas": null,
            "grid_template_columns": null,
            "grid_template_rows": null,
            "height": null,
            "justify_content": null,
            "justify_items": null,
            "left": null,
            "margin": null,
            "max_height": null,
            "max_width": null,
            "min_height": null,
            "min_width": null,
            "object_fit": null,
            "object_position": null,
            "order": null,
            "overflow": null,
            "overflow_x": null,
            "overflow_y": null,
            "padding": null,
            "right": null,
            "top": null,
            "visibility": null,
            "width": null
          }
        },
        "587b8d946372473081b9d62857016dd1": {
          "model_module": "@jupyter-widgets/controls",
          "model_name": "DescriptionStyleModel",
          "state": {
            "_model_module": "@jupyter-widgets/controls",
            "_model_module_version": "1.5.0",
            "_model_name": "DescriptionStyleModel",
            "_view_count": null,
            "_view_module": "@jupyter-widgets/base",
            "_view_module_version": "1.2.0",
            "_view_name": "StyleView",
            "description_width": ""
          }
        },
        "a3292715f5344d58855c4c91c0439f42": {
          "model_module": "@jupyter-widgets/base",
          "model_name": "LayoutModel",
          "state": {
            "_model_module": "@jupyter-widgets/base",
            "_model_module_version": "1.2.0",
            "_model_name": "LayoutModel",
            "_view_count": null,
            "_view_module": "@jupyter-widgets/base",
            "_view_module_version": "1.2.0",
            "_view_name": "LayoutView",
            "align_content": null,
            "align_items": null,
            "align_self": null,
            "border": null,
            "bottom": null,
            "display": null,
            "flex": null,
            "flex_flow": null,
            "grid_area": null,
            "grid_auto_columns": null,
            "grid_auto_flow": null,
            "grid_auto_rows": null,
            "grid_column": null,
            "grid_gap": null,
            "grid_row": null,
            "grid_template_areas": null,
            "grid_template_columns": null,
            "grid_template_rows": null,
            "height": null,
            "justify_content": null,
            "justify_items": null,
            "left": null,
            "margin": null,
            "max_height": null,
            "max_width": null,
            "min_height": null,
            "min_width": null,
            "object_fit": null,
            "object_position": null,
            "order": null,
            "overflow": null,
            "overflow_x": null,
            "overflow_y": null,
            "padding": null,
            "right": null,
            "top": null,
            "visibility": null,
            "width": null
          }
        },
        "bb8d21a0c24c42e0b6aaf3f85f51e6d5": {
          "model_module": "@jupyter-widgets/controls",
          "model_name": "ProgressStyleModel",
          "state": {
            "_model_module": "@jupyter-widgets/controls",
            "_model_module_version": "1.5.0",
            "_model_name": "ProgressStyleModel",
            "_view_count": null,
            "_view_module": "@jupyter-widgets/base",
            "_view_module_version": "1.2.0",
            "_view_name": "StyleView",
            "bar_color": null,
            "description_width": ""
          }
        },
        "2adca11f8c654f7392937b0673bc8169": {
          "model_module": "@jupyter-widgets/controls",
          "model_name": "VBoxModel",
          "state": {
            "_dom_classes": [],
            "_model_module": "@jupyter-widgets/controls",
            "_model_module_version": "1.5.0",
            "_model_name": "VBoxModel",
            "_view_count": null,
            "_view_module": "@jupyter-widgets/controls",
            "_view_module_version": "1.5.0",
            "_view_name": "VBoxView",
            "box_style": "",
            "children": [
              "IPY_MODEL_1ac47cec54354860b211dff54c665a98",
              "IPY_MODEL_1d9d539780ea4bf391a3691d853b2d8f"
            ],
            "layout": "IPY_MODEL_179648424ee947b4a6ce0e4c980591cf"
          }
        },
        "1ac47cec54354860b211dff54c665a98": {
          "model_module": "@jupyter-widgets/controls",
          "model_name": "LabelModel",
          "state": {
            "_dom_classes": [],
            "_model_module": "@jupyter-widgets/controls",
            "_model_module_version": "1.5.0",
            "_model_name": "LabelModel",
            "_view_count": null,
            "_view_module": "@jupyter-widgets/controls",
            "_view_module_version": "1.5.0",
            "_view_name": "LabelView",
            "description": "",
            "description_tooltip": null,
            "layout": "IPY_MODEL_2f33f6adf3fe402ea227a0feab6ade44",
            "placeholder": "​",
            "style": "IPY_MODEL_466904255d504e2c8a27692f0ccb8f9f",
            "value": " 0.01MB of 0.01MB uploaded (0.00MB deduped)\r"
          }
        },
        "1d9d539780ea4bf391a3691d853b2d8f": {
          "model_module": "@jupyter-widgets/controls",
          "model_name": "FloatProgressModel",
          "state": {
            "_dom_classes": [],
            "_model_module": "@jupyter-widgets/controls",
            "_model_module_version": "1.5.0",
            "_model_name": "FloatProgressModel",
            "_view_count": null,
            "_view_module": "@jupyter-widgets/controls",
            "_view_module_version": "1.5.0",
            "_view_name": "ProgressView",
            "bar_style": "",
            "description": "",
            "description_tooltip": null,
            "layout": "IPY_MODEL_77a0000e9616483cb58ad1bf19243860",
            "max": 1,
            "min": 0,
            "orientation": "horizontal",
            "style": "IPY_MODEL_d2c11e16ee8c495a9f4cde5d38d63e35",
            "value": 1
          }
        },
        "179648424ee947b4a6ce0e4c980591cf": {
          "model_module": "@jupyter-widgets/base",
          "model_name": "LayoutModel",
          "state": {
            "_model_module": "@jupyter-widgets/base",
            "_model_module_version": "1.2.0",
            "_model_name": "LayoutModel",
            "_view_count": null,
            "_view_module": "@jupyter-widgets/base",
            "_view_module_version": "1.2.0",
            "_view_name": "LayoutView",
            "align_content": null,
            "align_items": null,
            "align_self": null,
            "border": null,
            "bottom": null,
            "display": null,
            "flex": null,
            "flex_flow": null,
            "grid_area": null,
            "grid_auto_columns": null,
            "grid_auto_flow": null,
            "grid_auto_rows": null,
            "grid_column": null,
            "grid_gap": null,
            "grid_row": null,
            "grid_template_areas": null,
            "grid_template_columns": null,
            "grid_template_rows": null,
            "height": null,
            "justify_content": null,
            "justify_items": null,
            "left": null,
            "margin": null,
            "max_height": null,
            "max_width": null,
            "min_height": null,
            "min_width": null,
            "object_fit": null,
            "object_position": null,
            "order": null,
            "overflow": null,
            "overflow_x": null,
            "overflow_y": null,
            "padding": null,
            "right": null,
            "top": null,
            "visibility": null,
            "width": null
          }
        },
        "2f33f6adf3fe402ea227a0feab6ade44": {
          "model_module": "@jupyter-widgets/base",
          "model_name": "LayoutModel",
          "state": {
            "_model_module": "@jupyter-widgets/base",
            "_model_module_version": "1.2.0",
            "_model_name": "LayoutModel",
            "_view_count": null,
            "_view_module": "@jupyter-widgets/base",
            "_view_module_version": "1.2.0",
            "_view_name": "LayoutView",
            "align_content": null,
            "align_items": null,
            "align_self": null,
            "border": null,
            "bottom": null,
            "display": null,
            "flex": null,
            "flex_flow": null,
            "grid_area": null,
            "grid_auto_columns": null,
            "grid_auto_flow": null,
            "grid_auto_rows": null,
            "grid_column": null,
            "grid_gap": null,
            "grid_row": null,
            "grid_template_areas": null,
            "grid_template_columns": null,
            "grid_template_rows": null,
            "height": null,
            "justify_content": null,
            "justify_items": null,
            "left": null,
            "margin": null,
            "max_height": null,
            "max_width": null,
            "min_height": null,
            "min_width": null,
            "object_fit": null,
            "object_position": null,
            "order": null,
            "overflow": null,
            "overflow_x": null,
            "overflow_y": null,
            "padding": null,
            "right": null,
            "top": null,
            "visibility": null,
            "width": null
          }
        },
        "466904255d504e2c8a27692f0ccb8f9f": {
          "model_module": "@jupyter-widgets/controls",
          "model_name": "DescriptionStyleModel",
          "state": {
            "_model_module": "@jupyter-widgets/controls",
            "_model_module_version": "1.5.0",
            "_model_name": "DescriptionStyleModel",
            "_view_count": null,
            "_view_module": "@jupyter-widgets/base",
            "_view_module_version": "1.2.0",
            "_view_name": "StyleView",
            "description_width": ""
          }
        },
        "77a0000e9616483cb58ad1bf19243860": {
          "model_module": "@jupyter-widgets/base",
          "model_name": "LayoutModel",
          "state": {
            "_model_module": "@jupyter-widgets/base",
            "_model_module_version": "1.2.0",
            "_model_name": "LayoutModel",
            "_view_count": null,
            "_view_module": "@jupyter-widgets/base",
            "_view_module_version": "1.2.0",
            "_view_name": "LayoutView",
            "align_content": null,
            "align_items": null,
            "align_self": null,
            "border": null,
            "bottom": null,
            "display": null,
            "flex": null,
            "flex_flow": null,
            "grid_area": null,
            "grid_auto_columns": null,
            "grid_auto_flow": null,
            "grid_auto_rows": null,
            "grid_column": null,
            "grid_gap": null,
            "grid_row": null,
            "grid_template_areas": null,
            "grid_template_columns": null,
            "grid_template_rows": null,
            "height": null,
            "justify_content": null,
            "justify_items": null,
            "left": null,
            "margin": null,
            "max_height": null,
            "max_width": null,
            "min_height": null,
            "min_width": null,
            "object_fit": null,
            "object_position": null,
            "order": null,
            "overflow": null,
            "overflow_x": null,
            "overflow_y": null,
            "padding": null,
            "right": null,
            "top": null,
            "visibility": null,
            "width": null
          }
        },
        "d2c11e16ee8c495a9f4cde5d38d63e35": {
          "model_module": "@jupyter-widgets/controls",
          "model_name": "ProgressStyleModel",
          "state": {
            "_model_module": "@jupyter-widgets/controls",
            "_model_module_version": "1.5.0",
            "_model_name": "ProgressStyleModel",
            "_view_count": null,
            "_view_module": "@jupyter-widgets/base",
            "_view_module_version": "1.2.0",
            "_view_name": "StyleView",
            "bar_color": null,
            "description_width": ""
          }
        },
        "52892a63d03e4da9bd151573161ee319": {
          "model_module": "@jupyter-widgets/controls",
          "model_name": "VBoxModel",
          "state": {
            "_dom_classes": [],
            "_model_module": "@jupyter-widgets/controls",
            "_model_module_version": "1.5.0",
            "_model_name": "VBoxModel",
            "_view_count": null,
            "_view_module": "@jupyter-widgets/controls",
            "_view_module_version": "1.5.0",
            "_view_name": "VBoxView",
            "box_style": "",
            "children": [
              "IPY_MODEL_d7a3868c6d2147899b63aef5266493e1",
              "IPY_MODEL_8fca25e4b21744578471c9e7bee0d006"
            ],
            "layout": "IPY_MODEL_d32c13d9ec19423ba6a5665606aecc56"
          }
        },
        "d7a3868c6d2147899b63aef5266493e1": {
          "model_module": "@jupyter-widgets/controls",
          "model_name": "LabelModel",
          "state": {
            "_dom_classes": [],
            "_model_module": "@jupyter-widgets/controls",
            "_model_module_version": "1.5.0",
            "_model_name": "LabelModel",
            "_view_count": null,
            "_view_module": "@jupyter-widgets/controls",
            "_view_module_version": "1.5.0",
            "_view_name": "LabelView",
            "description": "",
            "description_tooltip": null,
            "layout": "IPY_MODEL_dda5f55f6e5c4b73b450a95e8bc51641",
            "placeholder": "​",
            "style": "IPY_MODEL_0c0693f093214cd2a80c4128747a738c",
            "value": " 46.82MB of 46.82MB uploaded (0.00MB deduped)\r"
          }
        },
        "8fca25e4b21744578471c9e7bee0d006": {
          "model_module": "@jupyter-widgets/controls",
          "model_name": "FloatProgressModel",
          "state": {
            "_dom_classes": [],
            "_model_module": "@jupyter-widgets/controls",
            "_model_module_version": "1.5.0",
            "_model_name": "FloatProgressModel",
            "_view_count": null,
            "_view_module": "@jupyter-widgets/controls",
            "_view_module_version": "1.5.0",
            "_view_name": "ProgressView",
            "bar_style": "",
            "description": "",
            "description_tooltip": null,
            "layout": "IPY_MODEL_ccdb3ca55623469da6b15d51633b85a5",
            "max": 1,
            "min": 0,
            "orientation": "horizontal",
            "style": "IPY_MODEL_e95cc3ad18d04ab681cc5fbeb32cfe3f",
            "value": 1
          }
        },
        "d32c13d9ec19423ba6a5665606aecc56": {
          "model_module": "@jupyter-widgets/base",
          "model_name": "LayoutModel",
          "state": {
            "_model_module": "@jupyter-widgets/base",
            "_model_module_version": "1.2.0",
            "_model_name": "LayoutModel",
            "_view_count": null,
            "_view_module": "@jupyter-widgets/base",
            "_view_module_version": "1.2.0",
            "_view_name": "LayoutView",
            "align_content": null,
            "align_items": null,
            "align_self": null,
            "border": null,
            "bottom": null,
            "display": null,
            "flex": null,
            "flex_flow": null,
            "grid_area": null,
            "grid_auto_columns": null,
            "grid_auto_flow": null,
            "grid_auto_rows": null,
            "grid_column": null,
            "grid_gap": null,
            "grid_row": null,
            "grid_template_areas": null,
            "grid_template_columns": null,
            "grid_template_rows": null,
            "height": null,
            "justify_content": null,
            "justify_items": null,
            "left": null,
            "margin": null,
            "max_height": null,
            "max_width": null,
            "min_height": null,
            "min_width": null,
            "object_fit": null,
            "object_position": null,
            "order": null,
            "overflow": null,
            "overflow_x": null,
            "overflow_y": null,
            "padding": null,
            "right": null,
            "top": null,
            "visibility": null,
            "width": null
          }
        },
        "dda5f55f6e5c4b73b450a95e8bc51641": {
          "model_module": "@jupyter-widgets/base",
          "model_name": "LayoutModel",
          "state": {
            "_model_module": "@jupyter-widgets/base",
            "_model_module_version": "1.2.0",
            "_model_name": "LayoutModel",
            "_view_count": null,
            "_view_module": "@jupyter-widgets/base",
            "_view_module_version": "1.2.0",
            "_view_name": "LayoutView",
            "align_content": null,
            "align_items": null,
            "align_self": null,
            "border": null,
            "bottom": null,
            "display": null,
            "flex": null,
            "flex_flow": null,
            "grid_area": null,
            "grid_auto_columns": null,
            "grid_auto_flow": null,
            "grid_auto_rows": null,
            "grid_column": null,
            "grid_gap": null,
            "grid_row": null,
            "grid_template_areas": null,
            "grid_template_columns": null,
            "grid_template_rows": null,
            "height": null,
            "justify_content": null,
            "justify_items": null,
            "left": null,
            "margin": null,
            "max_height": null,
            "max_width": null,
            "min_height": null,
            "min_width": null,
            "object_fit": null,
            "object_position": null,
            "order": null,
            "overflow": null,
            "overflow_x": null,
            "overflow_y": null,
            "padding": null,
            "right": null,
            "top": null,
            "visibility": null,
            "width": null
          }
        },
        "0c0693f093214cd2a80c4128747a738c": {
          "model_module": "@jupyter-widgets/controls",
          "model_name": "DescriptionStyleModel",
          "state": {
            "_model_module": "@jupyter-widgets/controls",
            "_model_module_version": "1.5.0",
            "_model_name": "DescriptionStyleModel",
            "_view_count": null,
            "_view_module": "@jupyter-widgets/base",
            "_view_module_version": "1.2.0",
            "_view_name": "StyleView",
            "description_width": ""
          }
        },
        "ccdb3ca55623469da6b15d51633b85a5": {
          "model_module": "@jupyter-widgets/base",
          "model_name": "LayoutModel",
          "state": {
            "_model_module": "@jupyter-widgets/base",
            "_model_module_version": "1.2.0",
            "_model_name": "LayoutModel",
            "_view_count": null,
            "_view_module": "@jupyter-widgets/base",
            "_view_module_version": "1.2.0",
            "_view_name": "LayoutView",
            "align_content": null,
            "align_items": null,
            "align_self": null,
            "border": null,
            "bottom": null,
            "display": null,
            "flex": null,
            "flex_flow": null,
            "grid_area": null,
            "grid_auto_columns": null,
            "grid_auto_flow": null,
            "grid_auto_rows": null,
            "grid_column": null,
            "grid_gap": null,
            "grid_row": null,
            "grid_template_areas": null,
            "grid_template_columns": null,
            "grid_template_rows": null,
            "height": null,
            "justify_content": null,
            "justify_items": null,
            "left": null,
            "margin": null,
            "max_height": null,
            "max_width": null,
            "min_height": null,
            "min_width": null,
            "object_fit": null,
            "object_position": null,
            "order": null,
            "overflow": null,
            "overflow_x": null,
            "overflow_y": null,
            "padding": null,
            "right": null,
            "top": null,
            "visibility": null,
            "width": null
          }
        },
        "e95cc3ad18d04ab681cc5fbeb32cfe3f": {
          "model_module": "@jupyter-widgets/controls",
          "model_name": "ProgressStyleModel",
          "state": {
            "_model_module": "@jupyter-widgets/controls",
            "_model_module_version": "1.5.0",
            "_model_name": "ProgressStyleModel",
            "_view_count": null,
            "_view_module": "@jupyter-widgets/base",
            "_view_module_version": "1.2.0",
            "_view_name": "StyleView",
            "bar_color": null,
            "description_width": ""
          }
        },
        "573c3e89efbe4deba33b0c9be75e994f": {
          "model_module": "@jupyter-widgets/controls",
          "model_name": "VBoxModel",
          "state": {
            "_dom_classes": [],
            "_model_module": "@jupyter-widgets/controls",
            "_model_module_version": "1.5.0",
            "_model_name": "VBoxModel",
            "_view_count": null,
            "_view_module": "@jupyter-widgets/controls",
            "_view_module_version": "1.5.0",
            "_view_name": "VBoxView",
            "box_style": "",
            "children": [
              "IPY_MODEL_a65bb747b3a64a69b921597373cd0b6e",
              "IPY_MODEL_640c4fc23c2f42e5b2c163493673ba27"
            ],
            "layout": "IPY_MODEL_c31fefd6f3924dda80cae95cc2d99360"
          }
        },
        "a65bb747b3a64a69b921597373cd0b6e": {
          "model_module": "@jupyter-widgets/controls",
          "model_name": "LabelModel",
          "state": {
            "_dom_classes": [],
            "_model_module": "@jupyter-widgets/controls",
            "_model_module_version": "1.5.0",
            "_model_name": "LabelModel",
            "_view_count": null,
            "_view_module": "@jupyter-widgets/controls",
            "_view_module_version": "1.5.0",
            "_view_name": "LabelView",
            "description": "",
            "description_tooltip": null,
            "layout": "IPY_MODEL_80086eebbf4c431e85e07a490ed252c9",
            "placeholder": "​",
            "style": "IPY_MODEL_71f347524597447599b9e19278e97f7a",
            "value": " 46.82MB of 46.82MB uploaded (0.00MB deduped)\r"
          }
        },
        "640c4fc23c2f42e5b2c163493673ba27": {
          "model_module": "@jupyter-widgets/controls",
          "model_name": "FloatProgressModel",
          "state": {
            "_dom_classes": [],
            "_model_module": "@jupyter-widgets/controls",
            "_model_module_version": "1.5.0",
            "_model_name": "FloatProgressModel",
            "_view_count": null,
            "_view_module": "@jupyter-widgets/controls",
            "_view_module_version": "1.5.0",
            "_view_name": "ProgressView",
            "bar_style": "",
            "description": "",
            "description_tooltip": null,
            "layout": "IPY_MODEL_49036d3485bb40bd909f59af4e6136f2",
            "max": 1,
            "min": 0,
            "orientation": "horizontal",
            "style": "IPY_MODEL_708e219320f4464391387c525d4ba763",
            "value": 1
          }
        },
        "c31fefd6f3924dda80cae95cc2d99360": {
          "model_module": "@jupyter-widgets/base",
          "model_name": "LayoutModel",
          "state": {
            "_model_module": "@jupyter-widgets/base",
            "_model_module_version": "1.2.0",
            "_model_name": "LayoutModel",
            "_view_count": null,
            "_view_module": "@jupyter-widgets/base",
            "_view_module_version": "1.2.0",
            "_view_name": "LayoutView",
            "align_content": null,
            "align_items": null,
            "align_self": null,
            "border": null,
            "bottom": null,
            "display": null,
            "flex": null,
            "flex_flow": null,
            "grid_area": null,
            "grid_auto_columns": null,
            "grid_auto_flow": null,
            "grid_auto_rows": null,
            "grid_column": null,
            "grid_gap": null,
            "grid_row": null,
            "grid_template_areas": null,
            "grid_template_columns": null,
            "grid_template_rows": null,
            "height": null,
            "justify_content": null,
            "justify_items": null,
            "left": null,
            "margin": null,
            "max_height": null,
            "max_width": null,
            "min_height": null,
            "min_width": null,
            "object_fit": null,
            "object_position": null,
            "order": null,
            "overflow": null,
            "overflow_x": null,
            "overflow_y": null,
            "padding": null,
            "right": null,
            "top": null,
            "visibility": null,
            "width": null
          }
        },
        "80086eebbf4c431e85e07a490ed252c9": {
          "model_module": "@jupyter-widgets/base",
          "model_name": "LayoutModel",
          "state": {
            "_model_module": "@jupyter-widgets/base",
            "_model_module_version": "1.2.0",
            "_model_name": "LayoutModel",
            "_view_count": null,
            "_view_module": "@jupyter-widgets/base",
            "_view_module_version": "1.2.0",
            "_view_name": "LayoutView",
            "align_content": null,
            "align_items": null,
            "align_self": null,
            "border": null,
            "bottom": null,
            "display": null,
            "flex": null,
            "flex_flow": null,
            "grid_area": null,
            "grid_auto_columns": null,
            "grid_auto_flow": null,
            "grid_auto_rows": null,
            "grid_column": null,
            "grid_gap": null,
            "grid_row": null,
            "grid_template_areas": null,
            "grid_template_columns": null,
            "grid_template_rows": null,
            "height": null,
            "justify_content": null,
            "justify_items": null,
            "left": null,
            "margin": null,
            "max_height": null,
            "max_width": null,
            "min_height": null,
            "min_width": null,
            "object_fit": null,
            "object_position": null,
            "order": null,
            "overflow": null,
            "overflow_x": null,
            "overflow_y": null,
            "padding": null,
            "right": null,
            "top": null,
            "visibility": null,
            "width": null
          }
        },
        "71f347524597447599b9e19278e97f7a": {
          "model_module": "@jupyter-widgets/controls",
          "model_name": "DescriptionStyleModel",
          "state": {
            "_model_module": "@jupyter-widgets/controls",
            "_model_module_version": "1.5.0",
            "_model_name": "DescriptionStyleModel",
            "_view_count": null,
            "_view_module": "@jupyter-widgets/base",
            "_view_module_version": "1.2.0",
            "_view_name": "StyleView",
            "description_width": ""
          }
        },
        "49036d3485bb40bd909f59af4e6136f2": {
          "model_module": "@jupyter-widgets/base",
          "model_name": "LayoutModel",
          "state": {
            "_model_module": "@jupyter-widgets/base",
            "_model_module_version": "1.2.0",
            "_model_name": "LayoutModel",
            "_view_count": null,
            "_view_module": "@jupyter-widgets/base",
            "_view_module_version": "1.2.0",
            "_view_name": "LayoutView",
            "align_content": null,
            "align_items": null,
            "align_self": null,
            "border": null,
            "bottom": null,
            "display": null,
            "flex": null,
            "flex_flow": null,
            "grid_area": null,
            "grid_auto_columns": null,
            "grid_auto_flow": null,
            "grid_auto_rows": null,
            "grid_column": null,
            "grid_gap": null,
            "grid_row": null,
            "grid_template_areas": null,
            "grid_template_columns": null,
            "grid_template_rows": null,
            "height": null,
            "justify_content": null,
            "justify_items": null,
            "left": null,
            "margin": null,
            "max_height": null,
            "max_width": null,
            "min_height": null,
            "min_width": null,
            "object_fit": null,
            "object_position": null,
            "order": null,
            "overflow": null,
            "overflow_x": null,
            "overflow_y": null,
            "padding": null,
            "right": null,
            "top": null,
            "visibility": null,
            "width": null
          }
        },
        "708e219320f4464391387c525d4ba763": {
          "model_module": "@jupyter-widgets/controls",
          "model_name": "ProgressStyleModel",
          "state": {
            "_model_module": "@jupyter-widgets/controls",
            "_model_module_version": "1.5.0",
            "_model_name": "ProgressStyleModel",
            "_view_count": null,
            "_view_module": "@jupyter-widgets/base",
            "_view_module_version": "1.2.0",
            "_view_name": "StyleView",
            "bar_color": null,
            "description_width": ""
          }
        }
      }
    }
  },
  "cells": [
    {
      "cell_type": "markdown",
      "metadata": {
        "id": "view-in-github",
        "colab_type": "text"
      },
      "source": [
        "<a href=\"https://colab.research.google.com/github/anoopsanka/retinal_oct/blob/main/notebooks/OCT_simclr.ipynb\" target=\"_parent\"><img src=\"https://colab.research.google.com/assets/colab-badge.svg\" alt=\"Open In Colab\"/></a>"
      ]
    },
    {
      "cell_type": "code",
      "metadata": {
        "colab": {
          "base_uri": "https://localhost:8080/"
        },
        "id": "_Fq8Dqs2e-G5",
        "outputId": "33ed1531-1be5-484f-935d-390dffc65635"
      },
      "source": [
        "!git clone https://github.com/anoopsanka/retinal_oct"
      ],
      "execution_count": 1,
      "outputs": [
        {
          "output_type": "stream",
          "text": [
            "Cloning into 'retinal_oct'...\n",
            "remote: Enumerating objects: 274, done.\u001b[K\n",
            "remote: Counting objects: 100% (274/274), done.\u001b[K\n",
            "remote: Compressing objects: 100% (190/190), done.\u001b[K\n",
            "remote: Total 377 (delta 149), reused 182 (delta 80), pack-reused 103\u001b[K\n",
            "Receiving objects: 100% (377/377), 253.69 MiB | 19.84 MiB/s, done.\n",
            "Resolving deltas: 100% (184/184), done.\n"
          ],
          "name": "stdout"
        }
      ]
    },
    {
      "cell_type": "code",
      "metadata": {
        "id": "8tK-Sm66JYzQ"
      },
      "source": [
        "%%capture\r\n",
        "# needed to use rotate....\r\n",
        "!pip install -U tensorflow_addons"
      ],
      "execution_count": 2,
      "outputs": []
    },
    {
      "cell_type": "code",
      "metadata": {
        "colab": {
          "base_uri": "https://localhost:8080/"
        },
        "id": "SpbQIex6fGak",
        "outputId": "a96c0d24-c14b-4f18-f795-764f022d4486"
      },
      "source": [
        "%cd retinal_oct"
      ],
      "execution_count": 3,
      "outputs": [
        {
          "output_type": "stream",
          "text": [
            "/content/retinal_oct\n"
          ],
          "name": "stdout"
        }
      ]
    },
    {
      "cell_type": "code",
      "metadata": {
        "id": "Sd_Y1KgIf_sM"
      },
      "source": [
        "import tensorflow_datasets as tfds\r\n",
        "from importlib.util import find_spec\r\n",
        "if find_spec(\"core\") is None:\r\n",
        "    import sys\r\n",
        "    sys.path.append('..')\r\n",
        "    \r\n",
        "from core.datasets import RetinaDataset"
      ],
      "execution_count": 4,
      "outputs": []
    },
    {
      "cell_type": "code",
      "metadata": {
        "id": "ZRZzoG3Egmkd",
        "colab": {
          "base_uri": "https://localhost:8080/",
          "height": 281,
          "referenced_widgets": [
            "f73e90b878a94f1ba876ff1407504389",
            "1f218e2a9ce34ccd8ecea724beae5e99",
            "6f9b98c945804e3e821e3f47826d9990",
            "9d3c1e91ca9045338160b18154c8336f",
            "6c83afce13164a5d8fe35df8302c3305",
            "64e4f82b0a694d11a8fc4b409b2b563a",
            "84d4316fcfa24c95b9d7340cb3ef465e",
            "748dc6dbb0654079ad4564f2bcba351c",
            "4b276f85bb954b559b56c77c2e850222",
            "8e73251238634e79b82f9b65f435d8aa",
            "b3425012a94c46319d5cd876f7d70470",
            "b7a2a3ddcc8540dd9891b8afee08b3e9",
            "9ccce27dc67e4124a4287985038a111d",
            "2a1ceb8cfdbb4b81aa6f95a0cb61eb25",
            "49cb9d01f9d44e9bbbdd3734dfe5254e",
            "89466df21a4d4c64b5c335f1e88dd8bb",
            "61a9e99966f74a2f822701c7cac5b8a0",
            "7e94c2d9a617424bb41b822fb5434201",
            "7d97ebf95f0941c99c62e4eddf49f3fd",
            "3f60e5cad642454499487623461dc350",
            "f353521d5b614b988035154aa6cad627",
            "e74762a77617402c968ecf7859c58adb",
            "9e562cf83fc0428daacd7fbd9d7fc658",
            "c02a01ad662b43fca7a884ee820b443e",
            "c691a70301db4094bcb40daee29255c9",
            "dbc8919aeee14f3684a0a7b98d8c627d",
            "46026efeb798467b905bead279f677bd",
            "1649fa7c19854f07a3a5c8962b0f055d",
            "7d5aeaefbf824ed8ac1547a6fa5600c1",
            "c92c4b1a18df436584d4d500d503f6a0",
            "b9b2ee3ff21148c1aa37cbff9cd0c65b",
            "7f0cb32cc2c14fde8552a7db83649043",
            "d3a5fa0866354000a65bf3901c786354",
            "a2b2483734024ba2a2a6bce4a687a077",
            "149c0a4bfb564c7d91a738baea1426f9",
            "32e22895ee904990bf0e52514c788165",
            "012d425298534ee9bd5cc5db73014590",
            "1f55dbace57c4a37b72675ac2bc563de",
            "435dc8107a3d4542b2f19474c89b3cd4",
            "511667f4c9c74b8d904e94729ddf9a6c",
            "0b627184059045348091d6d38c07d928",
            "a2d4e1e915d54b81b2551c900b133298",
            "ef10af089e07420ab1f80df85d0462f3",
            "ad5d6148e0c54a48995c2dfc726dfb6d",
            "1fbe8dffe8354338ae7e035802ffab58",
            "bd6d0d69ebfa4b03abba4c34890b1c56",
            "6ee0f4fb895b44c4b5edc24f093c1af9",
            "c76ecc4292ae4909b1700c29c32613cf"
          ]
        },
        "outputId": "950d9144-04f9-4667-c035-8534d6c62949"
      },
      "source": [
        "ds_train, ds_train_info = tfds.load('RetinaDataset', split='train', shuffle_files=True, as_supervised=True, with_info=True)\r\n",
        "ds_test  = tfds.load('RetinaDataset', split='test', shuffle_files=True, as_supervised=True)"
      ],
      "execution_count": 5,
      "outputs": [
        {
          "output_type": "stream",
          "text": [
            "\u001b[1mDownloading and preparing dataset retina_dataset/1.0.0 (download: Unknown size, generated: Unknown size, total: Unknown size) to /root/tensorflow_datasets/retina_dataset/1.0.0...\u001b[0m\n"
          ],
          "name": "stdout"
        },
        {
          "output_type": "display_data",
          "data": {
            "application/vnd.jupyter.widget-view+json": {
              "model_id": "f73e90b878a94f1ba876ff1407504389",
              "version_minor": 0,
              "version_major": 2
            },
            "text/plain": [
              "HBox(children=(FloatProgress(value=1.0, bar_style='info', description='Dl Completed...', max=1.0, style=Progre…"
            ]
          },
          "metadata": {
            "tags": []
          }
        },
        {
          "output_type": "display_data",
          "data": {
            "application/vnd.jupyter.widget-view+json": {
              "model_id": "4b276f85bb954b559b56c77c2e850222",
              "version_minor": 0,
              "version_major": 2
            },
            "text/plain": [
              "HBox(children=(FloatProgress(value=1.0, bar_style='info', description='Dl Size...', max=1.0, style=ProgressSty…"
            ]
          },
          "metadata": {
            "tags": []
          }
        },
        {
          "output_type": "stream",
          "text": [
            "\n",
            "\n",
            "\n",
            "\n"
          ],
          "name": "stdout"
        },
        {
          "output_type": "display_data",
          "data": {
            "application/vnd.jupyter.widget-view+json": {
              "model_id": "61a9e99966f74a2f822701c7cac5b8a0",
              "version_minor": 0,
              "version_major": 2
            },
            "text/plain": [
              "HBox(children=(FloatProgress(value=1.0, bar_style='info', max=1.0), HTML(value='')))"
            ]
          },
          "metadata": {
            "tags": []
          }
        },
        {
          "output_type": "stream",
          "text": [
            "\rShuffling and writing examples to /root/tensorflow_datasets/retina_dataset/1.0.0.incompleteWJQY4N/retina_dataset-train.tfrecord\n"
          ],
          "name": "stdout"
        },
        {
          "output_type": "display_data",
          "data": {
            "application/vnd.jupyter.widget-view+json": {
              "model_id": "c691a70301db4094bcb40daee29255c9",
              "version_minor": 0,
              "version_major": 2
            },
            "text/plain": [
              "HBox(children=(FloatProgress(value=0.0, max=83489.0), HTML(value='')))"
            ]
          },
          "metadata": {
            "tags": []
          }
        },
        {
          "output_type": "display_data",
          "data": {
            "application/vnd.jupyter.widget-view+json": {
              "model_id": "d3a5fa0866354000a65bf3901c786354",
              "version_minor": 0,
              "version_major": 2
            },
            "text/plain": [
              "HBox(children=(FloatProgress(value=1.0, bar_style='info', max=1.0), HTML(value='')))"
            ]
          },
          "metadata": {
            "tags": []
          }
        },
        {
          "output_type": "stream",
          "text": [
            "Shuffling and writing examples to /root/tensorflow_datasets/retina_dataset/1.0.0.incompleteWJQY4N/retina_dataset-test.tfrecord\n"
          ],
          "name": "stdout"
        },
        {
          "output_type": "display_data",
          "data": {
            "application/vnd.jupyter.widget-view+json": {
              "model_id": "0b627184059045348091d6d38c07d928",
              "version_minor": 0,
              "version_major": 2
            },
            "text/plain": [
              "HBox(children=(FloatProgress(value=0.0, max=968.0), HTML(value='')))"
            ]
          },
          "metadata": {
            "tags": []
          }
        },
        {
          "output_type": "stream",
          "text": [
            "\u001b[1mDataset retina_dataset downloaded and prepared to /root/tensorflow_datasets/retina_dataset/1.0.0. Subsequent calls will reuse this data.\u001b[0m\n"
          ],
          "name": "stdout"
        }
      ]
    },
    {
      "cell_type": "code",
      "metadata": {
        "colab": {
          "base_uri": "https://localhost:8080/",
          "height": 533
        },
        "id": "dNbCe2B_h0rW",
        "outputId": "5e79d9dd-de3d-4cf5-ebe7-f36402fd9769"
      },
      "source": [
        "fig = tfds.show_examples(ds_train, ds_train_info)"
      ],
      "execution_count": 7,
      "outputs": [
        {
          "output_type": "display_data",
          "data": {
            "image/png": "[encoded data removed]",
            "text/plain": [
              "<Figure size 648x648 with 9 Axes>"
            ]
          },
          "metadata": {
            "tags": []
          }
        }
      ]
    },
    {
      "cell_type": "code",
      "metadata": {
        "colab": {
          "base_uri": "https://localhost:8080/"
        },
        "id": "Mc3YN1meiVZe",
        "outputId": "86ad3efd-1c52-4394-bf3c-c3f1af7c5e36"
      },
      "source": [
        "%cd core/models/simclr"
      ],
      "execution_count": 8,
      "outputs": [
        {
          "output_type": "stream",
          "text": [
            "/content/retinal_oct/core/models/simclr\n"
          ],
          "name": "stdout"
        }
      ]
    },
    {
      "cell_type": "code",
      "metadata": {
        "id": "YM-LHYLcjF9S"
      },
      "source": [
        "# from simclr_model import Pretrained_SimCLR_Model\r\n",
        "import simclr_model"
      ],
      "execution_count": 10,
      "outputs": []
    },
    {
      "cell_type": "code",
      "metadata": {
        "id": "edLJOWh9Wt4g"
      },
      "source": [
        "def train_classification_aug(img, lb, \r\n",
        "                             img_size=128, \r\n",
        "                             brightness_delta= 0.5,\r\n",
        "                             contrast_delta  = 0.5,\r\n",
        "                             saturation_delta= 0.5,\r\n",
        "                             hue_delta       = 0.2,\r\n",
        "                             max_rot_angle   = 45.):\r\n",
        "  img = tf.cast(img, dtype=tf.float32)/255.\r\n",
        "  IMG_SIZE = img_size\r\n",
        "\r\n",
        "  angle_rad = max_rot_angle / 180. * np.pi\r\n",
        "\r\n",
        "  padding = IMG_SIZE // 4\r\n",
        "  precrop_shape = IMG_SIZE + padding\r\n",
        "\r\n",
        "  img = tf.image.resize(img, (precrop_shape, precrop_shape))\r\n",
        "  img = tf.image.random_crop(img, (IMG_SIZE, IMG_SIZE, 3))\r\n",
        "  img = tf.image.random_brightness(img, brightness_delta)\r\n",
        "  img = tf.image.random_contrast  (img, 1-contrast_delta,  1+contrast_delta)\r\n",
        "  img = tf.image.random_saturation(img, 1-saturation_delta,1+saturation_delta)\r\n",
        "  img = tf.image.random_hue       (img, hue_delta)\r\n",
        "\r\n",
        "  img = tf.image.random_flip_left_right(img)\r\n",
        "  img = tfa.image.rotate(img, (tf.random.uniform(shape=(1,)) - 0.5)*2 *angle_rad )\r\n",
        "\r\n",
        "  img = tf.clip_by_value(img, 0., 1.0)\r\n",
        "  return img, lb #tf.one_hot(lb, 4, )\r\n",
        "\r\n",
        "def train_data_aug(img, lb):\r\n",
        "  xs = []\r\n",
        "  for _ in range(2):\r\n",
        "    xs.append(train_classification_aug(img, lb)[0])\r\n",
        "  img = tf.concat(xs, -1)\r\n",
        "  return img, tf.one_hot(lb, NUM_CLASSES)\r\n",
        "\r\n",
        "def val_data_aug(img, lb):\r\n",
        "  img = preprocess_image(img, IMG_SIZE, IMG_SIZE, \r\n",
        "                         is_training=True, \r\n",
        "                         color_distort=True, \r\n",
        "                         test_crop=False)\r\n",
        "  return img, lb      \r\n",
        "\r\n",
        "class WarmUpAndCosineDecay(tf.keras.optimizers.schedules.LearningRateSchedule):\r\n",
        "  \"\"\"Applies a warmup schedule on a given learning rate decay schedule.\"\"\"\r\n",
        "\r\n",
        "  def __init__(self, base_learning_rate, num_examples, \r\n",
        "               name=None, \r\n",
        "               train_epochs = 1000,\r\n",
        "               train_batch_size = 256, \r\n",
        "               learning_rate_scaling='linear',\r\n",
        "               warmup_epochs = 10,\r\n",
        "               ):\r\n",
        "    super(WarmUpAndCosineDecay, self).__init__()\r\n",
        "    self.base_learning_rate = base_learning_rate\r\n",
        "    self.num_examples = num_examples\r\n",
        "    self._name = name\r\n",
        "    self.learning_rate_scaling = learning_rate_scaling\r\n",
        "    self.train_batch_size = train_batch_size\r\n",
        "    self.warmup_epochs = warmup_epochs\r\n",
        "    self.train_epochs  = train_epochs\r\n",
        "\r\n",
        "  def __call__(self, step):\r\n",
        "    with tf.name_scope(self._name or 'WarmUpAndCosineDecay'):\r\n",
        "      warmup_steps = int(\r\n",
        "          round(self.warmup_epochs * self.num_examples //\r\n",
        "                self.train_batch_size))\r\n",
        "      if self.learning_rate_scaling == 'linear':\r\n",
        "        scaled_lr = self.base_learning_rate * self.train_batch_size / 256.\r\n",
        "      elif self.learning_rate_scaling == 'sqrt':\r\n",
        "        scaled_lr = self.base_learning_rate * math.sqrt(self.train_batch_size)\r\n",
        "      else:\r\n",
        "        raise ValueError('Unknown learning rate scaling {}'.format(\r\n",
        "            self.learning_rate_scaling))\r\n",
        "      learning_rate = (\r\n",
        "          step / float(warmup_steps) * scaled_lr if warmup_steps else scaled_lr)\r\n",
        "\r\n",
        "      # Cosine decay learning rate schedule\r\n",
        "      total_steps = self.num_examples * self.train_epochs // self.train_batch_size + 1\r\n",
        "      # TODO(srbs): Cache this object.\r\n",
        "      cosine_decay = tf.keras.experimental.CosineDecay(\r\n",
        "          scaled_lr, total_steps - warmup_steps)\r\n",
        "      learning_rate = tf.where(step < warmup_steps, learning_rate,\r\n",
        "                               cosine_decay(step - warmup_steps))\r\n",
        "\r\n",
        "      return learning_rate\r\n",
        "\r\n",
        "  def get_config(self):\r\n",
        "    return {\r\n",
        "        'base_learning_rate': self.base_learning_rate,\r\n",
        "        'num_examples': self.num_examples,\r\n",
        "    }"
      ],
      "execution_count": 11,
      "outputs": []
    },
    {
      "cell_type": "code",
      "metadata": {
        "id": "30FselxcnHvX"
      },
      "source": [
        "import os\r\n",
        "import random\r\n",
        "import numpy as np\r\n",
        "import tensorflow as tf\r\n",
        "\r\n",
        "# Set the random seeds\r\n",
        "os.environ['TF_CUDNN_DETERMINISTIC'] = '1' \r\n",
        "random.seed(hash(\"setting random seeds\") % 2**32 - 1)\r\n",
        "np.random.seed(hash(\"improves reproducibility\") % 2**32 - 1)\r\n",
        "tf.random.set_seed(hash(\"by removing stochasticity\") % 2**32 - 1)"
      ],
      "execution_count": 12,
      "outputs": []
    },
    {
      "cell_type": "code",
      "metadata": {
        "id": "5Cwq7cd9J5iZ"
      },
      "source": [
        "from data_augmentation import train_classification_aug\r\n",
        "from lr_schedule import WarmUpAndCosineDecay\r\n",
        "import simclr_model\r\n",
        "import tensorflow_addons as tfa"
      ],
      "execution_count": 30,
      "outputs": []
    },
    {
      "cell_type": "code",
      "metadata": {
        "colab": {
          "base_uri": "https://localhost:8080/"
        },
        "id": "hl5zye8DO752",
        "outputId": "0511a870-d49c-4bd3-bdd5-cbbe50be7389"
      },
      "source": [
        "import importlib\r\n",
        "import data_augmentation\r\n",
        "importlib.reload(data_augmentation)"
      ],
      "execution_count": 19,
      "outputs": [
        {
          "output_type": "execute_result",
          "data": {
            "text/plain": [
              "<module 'data_augmentation' from '/content/retinal_oct/core/models/simclr/data_augmentation.py'>"
            ]
          },
          "metadata": {
            "tags": []
          },
          "execution_count": 19
        }
      ]
    },
    {
      "cell_type": "code",
      "metadata": {
        "colab": {
          "base_uri": "https://localhost:8080/",
          "height": 534
        },
        "id": "n69oGdoHOeVw",
        "outputId": "f126a819-75a4-4a4c-e4a0-30d3934423f2"
      },
      "source": [
        "fig = tfds.show_examples(ds_train.map(data_augmentation.train_classification_aug), ds_train_info)"
      ],
      "execution_count": 20,
      "outputs": [
        {
          "output_type": "display_data",
          "data": {
            "image/png": "[encoded data removed]",
            "text/plain": [
              "<Figure size 648x648 with 9 Axes>"
            ]
          },
          "metadata": {
            "tags": []
          }
        }
      ]
    },
    {
      "cell_type": "code",
      "metadata": {
        "id": "aXhp57E72POT"
      },
      "source": [
        "%%capture\r\n",
        "!pip install wandb"
      ],
      "execution_count": 15,
      "outputs": []
    },
    {
      "cell_type": "code",
      "metadata": {
        "colab": {
          "base_uri": "https://localhost:8080/"
        },
        "id": "YIEowH1G2Q1C",
        "outputId": "269e9dac-eca3-4537-c6c9-69bfa697cceb"
      },
      "source": [
        "import wandb\r\n",
        "from wandb.keras import WandbCallback\r\n",
        "!wandb login"
      ],
      "execution_count": 21,
      "outputs": [
        {
          "output_type": "stream",
          "text": [
            "\u001b[34m\u001b[1mwandb\u001b[0m: You can find your API key in your browser here: https://wandb.ai/authorize\n",
            "\u001b[34m\u001b[1mwandb\u001b[0m: Paste an API key from your profile and hit enter: \n",
            "\u001b[34m\u001b[1mwandb\u001b[0m: Appending key for api.wandb.ai to your netrc file: /root/.netrc\n"
          ],
          "name": "stdout"
        }
      ]
    },
    {
      "cell_type": "code",
      "metadata": {
        "colab": {
          "base_uri": "https://localhost:8080/",
          "height": 136
        },
        "id": "A5dfs56r2WwQ",
        "outputId": "ef78c34d-f254-47c5-bce7-aa65a7ea4b72"
      },
      "source": [
        "run = wandb.init(project='OCT-keras-SimCLR',\r\n",
        "                 config={\r\n",
        "                     # and include hyperparameters and metadata\r\n",
        "                     \"learning_rate\": 1e-2,\r\n",
        "                     \"epochs\": 120,\r\n",
        "                     \"learning_rate_scaling\": 'linear',\r\n",
        "                     \"num_examples\": len(ds_train),\r\n",
        "                     \"warmup_epochs\": 10,\r\n",
        "                     \"batch_size\": 128,\r\n",
        "                     \"num_classes\": 4,\r\n",
        "                     \"use_blur\": True,\r\n",
        "                     # ProjectionLayer Parameters\r\n",
        "                     \"proj_head_mode\": 'nonlinear',\r\n",
        "                     \"proj_out_dim\" : 128,\r\n",
        "                     \"num_proj_layers\": 3, \r\n",
        "                     \"ft_proj_selector\": 0,\r\n",
        "                     # Resnet_parameter\r\n",
        "                     \"resnet_depth\": 18,\r\n",
        "                     \"resnet_width_multiplier\": 1,\r\n",
        "                     \"resnet_se_ratio\": 0.0,\r\n",
        "                     \"resnet_sk_ratio\": 0.0,\r\n",
        "                     # contrastive loss parameter\r\n",
        "                     \"hidden_norm\": True,\r\n",
        "                     \"temperature\" :1.0,\r\n",
        "                     # Image Size\r\n",
        "                     'IMG_SIZE': 256,\r\n",
        "                 })"
      ],
      "execution_count": 22,
      "outputs": [
        {
          "output_type": "stream",
          "text": [
            "\u001b[34m\u001b[1mwandb\u001b[0m: Currently logged in as: \u001b[33mhisunnytang\u001b[0m (use `wandb login --relogin` to force relogin)\n"
          ],
          "name": "stderr"
        },
        {
          "output_type": "display_data",
          "data": {
            "text/html": [
              "\n",
              "                Tracking run with wandb version 0.10.15<br/>\n",
              "                Syncing run <strong style=\"color:#cdcd00\">youthful-tree-25</strong> to <a href=\"https://wandb.ai\" target=\"_blank\">Weights & Biases</a> <a href=\"https://docs.wandb.com/integrations/jupyter.html\" target=\"_blank\">(Documentation)</a>.<br/>\n",
              "                Project page: <a href=\"https://wandb.ai/hisunnytang/OCT-keras-SimCLR\" target=\"_blank\">https://wandb.ai/hisunnytang/OCT-keras-SimCLR</a><br/>\n",
              "                Run page: <a href=\"https://wandb.ai/hisunnytang/OCT-keras-SimCLR/runs/236r6mta\" target=\"_blank\">https://wandb.ai/hisunnytang/OCT-keras-SimCLR/runs/236r6mta</a><br/>\n",
              "                Run data is saved locally in <code>/content/retinal_oct/core/models/simclr/wandb/run-20210126_055049-236r6mta</code><br/><br/>\n",
              "            "
            ],
            "text/plain": [
              "<IPython.core.display.HTML object>"
            ]
          },
          "metadata": {
            "tags": []
          }
        }
      ]
    },
    {
      "cell_type": "code",
      "metadata": {
        "id": "WHZMux0d_6jz"
      },
      "source": [
        "config = run.config"
      ],
      "execution_count": 23,
      "outputs": []
    },
    {
      "cell_type": "code",
      "metadata": {
        "colab": {
          "base_uri": "https://localhost:8080/"
        },
        "id": "qO6cpUvAAGOw",
        "outputId": "d340be55-0d4a-47f0-f184-52728052f8bd"
      },
      "source": [
        "config"
      ],
      "execution_count": 24,
      "outputs": [
        {
          "output_type": "execute_result",
          "data": {
            "text/plain": [
              "{'learning_rate': 0.01, 'epochs': 120, 'learning_rate_scaling': 'linear', 'num_examples': 83489, 'warmup_epochs': 10, 'batch_size': 128, 'num_classes': 4, 'use_blur': True, 'proj_head_mode': 'nonlinear', 'proj_out_dim': 128, 'num_proj_layers': 3, 'ft_proj_selector': 0, 'resnet_depth': 18, 'resnet_width_multiplier': 1, 'resnet_se_ratio': 0.0, 'resnet_sk_ratio': 0.0, 'hidden_norm': True, 'temperature': 1.0, 'IMG_SIZE': 256}"
            ]
          },
          "metadata": {
            "tags": []
          },
          "execution_count": 24
        }
      ]
    },
    {
      "cell_type": "code",
      "metadata": {
        "id": "vA2KzHOtNE4z"
      },
      "source": [
        "import simclr_model\r\n",
        "NUM_CLASSES = 4"
      ],
      "execution_count": 25,
      "outputs": []
    },
    {
      "cell_type": "code",
      "metadata": {
        "id": "vDsSLdzbAHB6"
      },
      "source": [
        "model = simclr_model.Pretrained_SimCLR_Model(num_classes=NUM_CLASSES, \r\n",
        "                                             use_blur = config.use_blur,\r\n",
        "                                             proj_head_mode = config.proj_head_mode,\r\n",
        "                                             proj_out_dim = config.proj_out_dim,\r\n",
        "                                             num_proj_layers = config.num_proj_layers,\r\n",
        "                                             ft_proj_selector = config.ft_proj_selector, \r\n",
        "                                             resnet_depth = config.resnet_depth,\r\n",
        "                                             resnet_width_multiplier = config.resnet_width_multiplier,\r\n",
        "                                             resnet_se_ratio = config.resnet_se_ratio,\r\n",
        "                                             resnet_sk_ratio = config.resnet_sk_ratio,\r\n",
        "                                             hidden_norm = config.hidden_norm, \r\n",
        "                                             temperature = config.temperature)"
      ],
      "execution_count": 26,
      "outputs": []
    },
    {
      "cell_type": "code",
      "metadata": {
        "colab": {
          "base_uri": "https://localhost:8080/"
        },
        "id": "0-fLBLxFA7nW",
        "outputId": "c67b02c1-b6df-4cd0-de55-21f1c9871e2e"
      },
      "source": [
        "input_shape_base   = (None, config.IMG_SIZE, config.IMG_SIZE, 3)\r\n",
        "input_shape_simclr = (None, config.IMG_SIZE, config.IMG_SIZE, 6)\r\n",
        "model.base_model.build(input_shape_base)\r\n",
        "model.build(input_shape_simclr)\r\n",
        "model.summary()"
      ],
      "execution_count": 27,
      "outputs": [
        {
          "output_type": "stream",
          "text": [
            "Model: \"pretrained__sim_clr__model\"\n",
            "_________________________________________________________________\n",
            "Layer (type)                 Output Shape              Param #   \n",
            "=================================================================\n",
            "resnet (Resnet)              multiple                  11190464  \n",
            "_________________________________________________________________\n",
            "head_supervised (SupervisedH multiple                  2052      \n",
            "_________________________________________________________________\n",
            "projection_head (ProjectionH multiple                  594304    \n",
            "=================================================================\n",
            "Total params: 11,786,830\n",
            "Trainable params: 11,774,788\n",
            "Non-trainable params: 12,042\n",
            "_________________________________________________________________\n"
          ],
          "name": "stdout"
        }
      ]
    },
    {
      "cell_type": "code",
      "metadata": {
        "id": "j3RmZtEVLjgW"
      },
      "source": [
        "lr_scheduler = WarmUpAndCosineDecay(config.learning_rate, \r\n",
        "                                    num_examples= config.num_examples, \r\n",
        "                                    train_epochs= config.epochs, \r\n",
        "                                    train_batch_size = config.batch_size,\r\n",
        "                                    learning_rate_scaling = config.learning_rate_scaling, \r\n",
        "                                    warmup_epochs = config.warmup_epochs)"
      ],
      "execution_count": 28,
      "outputs": []
    },
    {
      "cell_type": "code",
      "metadata": {
        "id": "zOSg2RPyBJtd"
      },
      "source": [
        "\r\n",
        "optimizer = tfa.optimizers.LAMB(lr_scheduler,\r\n",
        "                                weight_decay_rate=1e-6,\r\n",
        "                                exclude_from_weight_decay=['batch_normalization', 'bias', 'head_supervised'])\r\n",
        "model.compile(optimizer= optimizer)"
      ],
      "execution_count": 31,
      "outputs": []
    },
    {
      "cell_type": "code",
      "metadata": {
        "id": "GuUShVTjBSSg"
      },
      "source": [
        "def train_data_aug(img, lb):\r\n",
        "  xs = []\r\n",
        "  for _ in range(2):\r\n",
        "    xs.append(train_classification_aug(img, lb, img_size = config.IMG_SIZE)[0])\r\n",
        "  img = tf.concat(xs, -1)\r\n",
        "  return img, tf.one_hot(lb, NUM_CLASSES)\r\n",
        "\r\n",
        "def val_data_aug(img, lb):\r\n",
        "  img = preprocess_image(img, config.IMG_SIZE, config.IMG_SIZE, \r\n",
        "                         is_training=True, \r\n",
        "                         color_distort=True, \r\n",
        "                         test_crop=False)\r\n",
        "  return img, lb      "
      ],
      "execution_count": 34,
      "outputs": []
    },
    {
      "cell_type": "code",
      "metadata": {
        "id": "7jwgUyVjNZrH"
      },
      "source": [
        "import tensorflow as tf\r\n",
        "import numpy as np"
      ],
      "execution_count": 35,
      "outputs": []
    },
    {
      "cell_type": "code",
      "metadata": {
        "id": "sb2RVylEi1BX"
      },
      "source": [
        "model_checkpoint_callback = tf.keras.callbacks.ModelCheckpoint(\r\n",
        "    filepath= os.path.join(wandb.run.dir, 'weights.{epoch:02d}-{contrast_acc:.2f}.hdf5'),\r\n",
        "    save_weights_only=True,\r\n",
        "    monitor='contrast_acc',\r\n",
        "    mode='max',\r\n",
        "    save_best_only=True)"
      ],
      "execution_count": 36,
      "outputs": []
    },
    {
      "cell_type": "code",
      "metadata": {
        "colab": {
          "base_uri": "https://localhost:8080/"
        },
        "id": "UZfwIZOjBUtG",
        "outputId": "c71a5829-3381-40cc-a051-280020c6cb79"
      },
      "source": [
        "model.fit(ds_train.map(train_data_aug, num_parallel_calls=tf.data.AUTOTUNE).batch(config.batch_size ).prefetch(tf.data.AUTOTUNE), \r\n",
        "          epochs= config.epochs, \r\n",
        "          # validation_data = ds_test.map(train_data_aug).batch(config.batch_size),\r\n",
        "          callbacks = [WandbCallback(), model_checkpoint_callback])\r\n",
        "\r\n",
        "model.save_weights( os.path.join(wandb.run.dir, 'model.h5') )\r\n",
        "run.finish()"
      ],
      "execution_count": null,
      "outputs": [
        {
          "output_type": "stream",
          "text": [
            "Epoch 1/120\n",
            "653/653 [==============================] - 1173s 2s/step - contrast_loss: 10.9891 - contrast_acc: 0.0206 - contrast_entropy: 4.8005 - supervised_loss: 1.2441 - supervised_acc: 0.4391\n",
            "Epoch 2/120\n",
            "653/653 [==============================] - 1160s 2s/step - contrast_loss: 10.6375 - contrast_acc: 0.0374 - contrast_entropy: 4.7417 - supervised_loss: 1.1764 - supervised_acc: 0.5073\n",
            "Epoch 3/120\n",
            "653/653 [==============================] - 1163s 2s/step - contrast_loss: 10.2276 - contrast_acc: 0.0713 - contrast_entropy: 4.7159 - supervised_loss: 0.9777 - supervised_acc: 0.6295\n",
            "Epoch 4/120\n",
            "653/653 [==============================] - 1174s 2s/step - contrast_loss: 10.0276 - contrast_acc: 0.0988 - contrast_entropy: 4.7101 - supervised_loss: 0.8578 - supervised_acc: 0.6745\n",
            "Epoch 5/120\n",
            "653/653 [==============================] - 1190s 2s/step - contrast_loss: 9.8900 - contrast_acc: 0.1544 - contrast_entropy: 4.7192 - supervised_loss: 0.7713 - supervised_acc: 0.7083\n",
            "Epoch 6/120\n",
            "653/653 [==============================] - 1192s 2s/step - contrast_loss: 9.7368 - contrast_acc: 0.2631 - contrast_entropy: 4.7436 - supervised_loss: 0.6915 - supervised_acc: 0.7442\n",
            "Epoch 7/120\n",
            "653/653 [==============================] - 1192s 2s/step - contrast_loss: 9.6515 - contrast_acc: 0.3715 - contrast_entropy: 4.7600 - supervised_loss: 0.6282 - supervised_acc: 0.7707\n",
            "Epoch 8/120\n",
            "653/653 [==============================] - 1163s 2s/step - contrast_loss: 9.6029 - contrast_acc: 0.4403 - contrast_entropy: 4.7653 - supervised_loss: 0.5864 - supervised_acc: 0.7866\n",
            "Epoch 9/120\n",
            "653/653 [==============================] - 1167s 2s/step - contrast_loss: 9.5737 - contrast_acc: 0.5019 - contrast_entropy: 4.7694 - supervised_loss: 0.5599 - supervised_acc: 0.7933\n",
            "Epoch 10/120\n",
            "653/653 [==============================] - 1168s 2s/step - contrast_loss: 9.5415 - contrast_acc: 0.5731 - contrast_entropy: 4.7754 - supervised_loss: 0.5415 - supervised_acc: 0.7998\n",
            "Epoch 11/120\n",
            "653/653 [==============================] - 1173s 2s/step - contrast_loss: 9.5180 - contrast_acc: 0.6088 - contrast_entropy: 4.7807 - supervised_loss: 0.5331 - supervised_acc: 0.8029\n",
            "Epoch 12/120\n",
            "653/653 [==============================] - 1172s 2s/step - contrast_loss: 9.4972 - contrast_acc: 0.6410 - contrast_entropy: 4.7835 - supervised_loss: 0.5150 - supervised_acc: 0.8097\n",
            "Epoch 13/120\n",
            "653/653 [==============================] - 1183s 2s/step - contrast_loss: 9.4924 - contrast_acc: 0.6517 - contrast_entropy: 4.7849 - supervised_loss: 0.5082 - supervised_acc: 0.8124\n",
            "Epoch 14/120\n",
            "653/653 [==============================] - 1173s 2s/step - contrast_loss: 9.4802 - contrast_acc: 0.6672 - contrast_entropy: 4.7871 - supervised_loss: 0.4978 - supervised_acc: 0.8158\n",
            "Epoch 15/120\n",
            "653/653 [==============================] - 1181s 2s/step - contrast_loss: 9.4693 - contrast_acc: 0.6857 - contrast_entropy: 4.7896 - supervised_loss: 0.4890 - supervised_acc: 0.8202\n",
            "Epoch 16/120\n",
            "653/653 [==============================] - 1178s 2s/step - contrast_loss: 9.4641 - contrast_acc: 0.6877 - contrast_entropy: 4.7904 - supervised_loss: 0.4814 - supervised_acc: 0.8228\n",
            "Epoch 17/120\n",
            "653/653 [==============================] - 1179s 2s/step - contrast_loss: 9.4652 - contrast_acc: 0.6864 - contrast_entropy: 4.7905 - supervised_loss: 0.4760 - supervised_acc: 0.8253\n",
            "Epoch 18/120\n",
            "653/653 [==============================] - 1183s 2s/step - contrast_loss: 9.4583 - contrast_acc: 0.6941 - contrast_entropy: 4.7912 - supervised_loss: 0.4732 - supervised_acc: 0.8258\n",
            "Epoch 19/120\n",
            "653/653 [==============================] - 1193s 2s/step - contrast_loss: 9.4545 - contrast_acc: 0.7006 - contrast_entropy: 4.7918 - supervised_loss: 0.4698 - supervised_acc: 0.8273\n",
            "Epoch 20/120\n",
            "653/653 [==============================] - 1194s 2s/step - contrast_loss: 9.4538 - contrast_acc: 0.7046 - contrast_entropy: 4.7927 - supervised_loss: 0.4620 - supervised_acc: 0.8305\n",
            "Epoch 21/120\n",
            "653/653 [==============================] - 1202s 2s/step - contrast_loss: 9.4501 - contrast_acc: 0.7111 - contrast_entropy: 4.7929 - supervised_loss: 0.4577 - supervised_acc: 0.8324\n",
            "Epoch 22/120\n",
            "653/653 [==============================] - 1184s 2s/step - contrast_loss: 9.4476 - contrast_acc: 0.7113 - contrast_entropy: 4.7940 - supervised_loss: 0.4555 - supervised_acc: 0.8321\n",
            "Epoch 23/120\n",
            "653/653 [==============================] - 1178s 2s/step - contrast_loss: 9.4470 - contrast_acc: 0.7147 - contrast_entropy: 4.7945 - supervised_loss: 0.4545 - supervised_acc: 0.8324\n",
            "Epoch 24/120\n",
            "653/653 [==============================] - 1183s 2s/step - contrast_loss: 9.4426 - contrast_acc: 0.7185 - contrast_entropy: 4.7950 - supervised_loss: 0.4478 - supervised_acc: 0.8357\n",
            "Epoch 25/120\n",
            "653/653 [==============================] - 1169s 2s/step - contrast_loss: 9.4443 - contrast_acc: 0.7190 - contrast_entropy: 4.7951 - supervised_loss: 0.4446 - supervised_acc: 0.8373\n",
            "Epoch 26/120\n",
            "653/653 [==============================] - 1173s 2s/step - contrast_loss: 9.4436 - contrast_acc: 0.7233 - contrast_entropy: 4.7957 - supervised_loss: 0.4415 - supervised_acc: 0.8380\n",
            "Epoch 27/120\n",
            "653/653 [==============================] - 1187s 2s/step - contrast_loss: 9.4386 - contrast_acc: 0.7281 - contrast_entropy: 4.7964 - supervised_loss: 0.4407 - supervised_acc: 0.8398\n",
            "Epoch 28/120\n",
            "653/653 [==============================] - 1193s 2s/step - contrast_loss: 9.4345 - contrast_acc: 0.7311 - contrast_entropy: 4.7964 - supervised_loss: 0.4355 - supervised_acc: 0.8410\n",
            "Epoch 29/120\n",
            "653/653 [==============================] - 1174s 2s/step - contrast_loss: 9.4337 - contrast_acc: 0.7320 - contrast_entropy: 4.7970 - supervised_loss: 0.4305 - supervised_acc: 0.8414\n",
            "Epoch 30/120\n",
            "653/653 [==============================] - 1173s 2s/step - contrast_loss: 9.4326 - contrast_acc: 0.7328 - contrast_entropy: 4.7970 - supervised_loss: 0.4294 - supervised_acc: 0.8432\n",
            "Epoch 31/120\n",
            "653/653 [==============================] - 1170s 2s/step - contrast_loss: 9.4331 - contrast_acc: 0.7352 - contrast_entropy: 4.7971 - supervised_loss: 0.4248 - supervised_acc: 0.8452\n",
            "Epoch 32/120\n",
            "653/653 [==============================] - 1190s 2s/step - contrast_loss: 9.4299 - contrast_acc: 0.7393 - contrast_entropy: 4.7975 - supervised_loss: 0.4252 - supervised_acc: 0.8446\n",
            "Epoch 33/120\n",
            "653/653 [==============================] - 1193s 2s/step - contrast_loss: 9.4286 - contrast_acc: 0.7406 - contrast_entropy: 4.7978 - supervised_loss: 0.4200 - supervised_acc: 0.8466\n",
            "Epoch 34/120\n",
            "653/653 [==============================] - 1178s 2s/step - contrast_loss: 9.4260 - contrast_acc: 0.7470 - contrast_entropy: 4.7985 - supervised_loss: 0.4165 - supervised_acc: 0.8489\n",
            "Epoch 35/120\n",
            "653/653 [==============================] - 1175s 2s/step - contrast_loss: 9.4245 - contrast_acc: 0.7478 - contrast_entropy: 4.7986 - supervised_loss: 0.4147 - supervised_acc: 0.8490\n",
            "Epoch 36/120\n",
            "653/653 [==============================] - 1197s 2s/step - contrast_loss: 9.4210 - contrast_acc: 0.7491 - contrast_entropy: 4.7990 - supervised_loss: 0.4108 - supervised_acc: 0.8496\n",
            "Epoch 37/120\n",
            "653/653 [==============================] - 1187s 2s/step - contrast_loss: 9.4246 - contrast_acc: 0.7447 - contrast_entropy: 4.7988 - supervised_loss: 0.4098 - supervised_acc: 0.8514\n",
            "Epoch 38/120\n",
            "653/653 [==============================] - 1187s 2s/step - contrast_loss: 9.4215 - contrast_acc: 0.7495 - contrast_entropy: 4.7992 - supervised_loss: 0.4082 - supervised_acc: 0.8510\n",
            "Epoch 39/120\n",
            "653/653 [==============================] - 1180s 2s/step - contrast_loss: 9.4177 - contrast_acc: 0.7547 - contrast_entropy: 4.7998 - supervised_loss: 0.4027 - supervised_acc: 0.8537\n",
            "Epoch 40/120\n",
            "653/653 [==============================] - 1179s 2s/step - contrast_loss: 9.4169 - contrast_acc: 0.7577 - contrast_entropy: 4.8002 - supervised_loss: 0.4033 - supervised_acc: 0.8538\n",
            "Epoch 41/120\n",
            "653/653 [==============================] - 1167s 2s/step - contrast_loss: 9.4163 - contrast_acc: 0.7622 - contrast_entropy: 4.8009 - supervised_loss: 0.3970 - supervised_acc: 0.8544\n",
            "Epoch 42/120\n",
            "653/653 [==============================] - 1165s 2s/step - contrast_loss: 9.4166 - contrast_acc: 0.7581 - contrast_entropy: 4.8005 - supervised_loss: 0.3995 - supervised_acc: 0.8546\n",
            "Epoch 43/120\n",
            "653/653 [==============================] - 1171s 2s/step - contrast_loss: 9.4155 - contrast_acc: 0.7587 - contrast_entropy: 4.8008 - supervised_loss: 0.3992 - supervised_acc: 0.8559\n",
            "Epoch 44/120\n",
            "653/653 [==============================] - 1173s 2s/step - contrast_loss: 9.4174 - contrast_acc: 0.7609 - contrast_entropy: 4.8009 - supervised_loss: 0.3983 - supervised_acc: 0.8553\n",
            "Epoch 45/120\n",
            "653/653 [==============================] - 1172s 2s/step - contrast_loss: 9.4113 - contrast_acc: 0.7632 - contrast_entropy: 4.8012 - supervised_loss: 0.3957 - supervised_acc: 0.8563\n",
            "Epoch 46/120\n",
            "653/653 [==============================] - 1172s 2s/step - contrast_loss: 9.4105 - contrast_acc: 0.7653 - contrast_entropy: 4.8013 - supervised_loss: 0.3925 - supervised_acc: 0.8575\n",
            "Epoch 47/120\n",
            "653/653 [==============================] - 1172s 2s/step - contrast_loss: 9.4091 - contrast_acc: 0.7679 - contrast_entropy: 4.8018 - supervised_loss: 0.3892 - supervised_acc: 0.8595\n",
            "Epoch 48/120\n",
            "653/653 [==============================] - 1171s 2s/step - contrast_loss: 9.4060 - contrast_acc: 0.7728 - contrast_entropy: 4.8024 - supervised_loss: 0.3877 - supervised_acc: 0.8595\n",
            "Epoch 49/120\n",
            "653/653 [==============================] - 1172s 2s/step - contrast_loss: 9.4076 - contrast_acc: 0.7727 - contrast_entropy: 4.8025 - supervised_loss: 0.3846 - supervised_acc: 0.8597\n",
            "Epoch 50/120\n",
            "653/653 [==============================] - 1167s 2s/step - contrast_loss: 9.4043 - contrast_acc: 0.7747 - contrast_entropy: 4.8029 - supervised_loss: 0.3864 - supervised_acc: 0.8601\n",
            "Epoch 51/120\n",
            "653/653 [==============================] - 1170s 2s/step - contrast_loss: 9.4014 - contrast_acc: 0.7781 - contrast_entropy: 4.8032 - supervised_loss: 0.3812 - supervised_acc: 0.8612\n",
            "Epoch 52/120\n",
            "653/653 [==============================] - 1177s 2s/step - contrast_loss: 9.4000 - contrast_acc: 0.7820 - contrast_entropy: 4.8034 - supervised_loss: 0.3821 - supervised_acc: 0.8612\n",
            "Epoch 53/120\n",
            "653/653 [==============================] - 1178s 2s/step - contrast_loss: 9.3968 - contrast_acc: 0.7856 - contrast_entropy: 4.8035 - supervised_loss: 0.3776 - supervised_acc: 0.8628\n",
            "Epoch 54/120\n",
            "335/653 [==============>...............] - ETA: 9:34 - contrast_loss: 9.3989 - contrast_acc: 0.7874 - contrast_entropy: 4.8060 - supervised_loss: 0.3780 - supervised_acc: 0.8631"
          ],
          "name": "stdout"
        }
      ]
    },
    {
      "cell_type": "code",
      "metadata": {
        "colab": {
          "base_uri": "https://localhost:8080/",
          "height": 701,
          "referenced_widgets": [
            "f3cbb429846245bcad9085ad2065c74a",
            "5c012e56ad1e49c18c1e0ce59402f088",
            "5f321b1fd5444bc98d7e47548e894be9",
            "77451e29b42a43b29e68f1d33ab8e742",
            "8a83689e37ee4850aaa1fa7c30abacf9",
            "6f50a9dddff741b08cc1129f8fc064eb",
            "9347ad925dc34ce3a05d50e274dd03a8",
            "bdd8d60d9e6d41f1b10bd5310b37bddc"
          ]
        },
        "id": "t71pI4mkBXzL",
        "outputId": "a6b9d2d6-e1f6-4132-e1fd-4317979d2094"
      },
      "source": [
        "run.finish()"
      ],
      "execution_count": null,
      "outputs": [
        {
          "output_type": "display_data",
          "data": {
            "text/html": [
              "<br/>Waiting for W&B process to finish, PID 503<br/>Program ended successfully."
            ],
            "text/plain": [
              "<IPython.core.display.HTML object>"
            ]
          },
          "metadata": {
            "tags": []
          }
        },
        {
          "output_type": "display_data",
          "data": {
            "application/vnd.jupyter.widget-view+json": {
              "model_id": "f3cbb429846245bcad9085ad2065c74a",
              "version_minor": 0,
              "version_major": 2
            },
            "text/plain": [
              "VBox(children=(Label(value=' 0.00MB of 0.00MB uploaded (0.00MB deduped)\\r'), FloatProgress(value=1.0, max=1.0)…"
            ]
          },
          "metadata": {
            "tags": []
          }
        },
        {
          "output_type": "display_data",
          "data": {
            "text/html": [
              "Find user logs for this run at: <code>/content/retinal_oct/core/models/simclr/wandb/run-20210119_212651-317p2yz1/logs/debug.log</code>"
            ],
            "text/plain": [
              "<IPython.core.display.HTML object>"
            ]
          },
          "metadata": {
            "tags": []
          }
        },
        {
          "output_type": "display_data",
          "data": {
            "text/html": [
              "Find internal logs for this run at: <code>/content/retinal_oct/core/models/simclr/wandb/run-20210119_212651-317p2yz1/logs/debug-internal.log</code>"
            ],
            "text/plain": [
              "<IPython.core.display.HTML object>"
            ]
          },
          "metadata": {
            "tags": []
          }
        },
        {
          "output_type": "display_data",
          "data": {
            "text/html": [
              "<h3>Run summary:</h3><br/><style>\n",
              "    table.wandb td:nth-child(1) { padding: 0 10px; text-align: right }\n",
              "    </style><table class=\"wandb\">\n",
              "<tr><td>epoch</td><td>58</td></tr><tr><td>contrast_loss</td><td>10.91602</td></tr><tr><td>contrast_acc</td><td>0.52043</td></tr><tr><td>contrast_entropy</td><td>5.47675</td></tr><tr><td>supervised_loss</td><td>0.56334</td></tr><tr><td>supervised_acc</td><td>0.79169</td></tr><tr><td>_step</td><td>59</td></tr><tr><td>_runtime</td><td>32652</td></tr><tr><td>_timestamp</td><td>1611124263</td></tr></table>"
            ],
            "text/plain": [
              "<IPython.core.display.HTML object>"
            ]
          },
          "metadata": {
            "tags": []
          }
        },
        {
          "output_type": "display_data",
          "data": {
            "text/html": [
              "<h3>Run history:</h3><br/><style>\n",
              "    table.wandb td:nth-child(1) { padding: 0 10px; text-align: right }\n",
              "    </style><table class=\"wandb\">\n",
              "<tr><td>epoch</td><td>▁▁▁▁▂▂▂▂▂▂▃▃▃▃▃▄▄▄▄▄▅▅▅▅▅▅▆▆▆▆▆▆▇▇▇▇▇███</td></tr><tr><td>contrast_loss</td><td>█▆▄▃▂▂▂▁▁▁▁▁▁▁▁▁▁▁▁▁▁▁▁▁▁▁▁▁▁▁▁▁▁▁▁▁▁▁▁▁</td></tr><tr><td>contrast_acc</td><td>▁▁▂▃▄▅▆▆▇▆▇▇▇▇▇▇▇▇▇▇▇▇▇▇▇▇▇▇████████████</td></tr><tr><td>contrast_entropy</td><td>█▁▁▂▅▅▅▆▆▆▆▆▆▆▆▆▆▆▆▆▆▆▆▆▆▆▆▇▇▇▇▇▇▇▇▇▇▇▇▇</td></tr><tr><td>supervised_loss</td><td>██▅▄▃▂▂▂▂▂▂▂▁▁▁▁▁▁▁▁▁▁▁▁▁▁▁▁▁▁▁▁▁▁▁▁▁▁▁▁</td></tr><tr><td>supervised_acc</td><td>▁▂▅▆▇▇▇▇████████████████████████████████</td></tr><tr><td>_step</td><td>▁▁▁▁▂▂▂▂▂▃▃▃▃▃▃▄▄▄▄▄▅▅▅▅▅▅▆▆▆▆▆▆▇▇▇▇▇███</td></tr><tr><td>_runtime</td><td>▁▁▁▂▂▂▂▂▂▃▃▃▃▃▄▄▄▄▄▄▅▅▅▅▅▅▆▆▆▆▆▆▇▇▇▇▇███</td></tr><tr><td>_timestamp</td><td>▁▁▁▂▂▂▂▂▂▃▃▃▃▃▄▄▄▄▄▄▅▅▅▅▅▅▆▆▆▆▆▆▇▇▇▇▇███</td></tr></table><br/>"
            ],
            "text/plain": [
              "<IPython.core.display.HTML object>"
            ]
          },
          "metadata": {
            "tags": []
          }
        },
        {
          "output_type": "display_data",
          "data": {
            "text/html": [
              "Synced 5 W&B file(s), 1 media file(s), 0 artifact file(s) and 43 other file(s)"
            ],
            "text/plain": [
              "<IPython.core.display.HTML object>"
            ]
          },
          "metadata": {
            "tags": []
          }
        },
        {
          "output_type": "display_data",
          "data": {
            "text/html": [
              "\n",
              "                    <br/>Synced <strong style=\"color:#cdcd00\">blooming-silence-21</strong>: <a href=\"https://wandb.ai/hisunnytang/OCT-keras-SimCLR/runs/317p2yz1\" target=\"_blank\">https://wandb.ai/hisunnytang/OCT-keras-SimCLR/runs/317p2yz1</a><br/>\n",
              "                "
            ],
            "text/plain": [
              "<IPython.core.display.HTML object>"
            ]
          },
          "metadata": {
            "tags": []
          }
        }
      ]
    },
    {
      "cell_type": "code",
      "metadata": {
        "id": "s9PClHt8dT_X"
      },
      "source": [
        "model.save_weights( os.path.join(wandb.run.dir, 'model.h5') )"
      ],
      "execution_count": null,
      "outputs": []
    },
    {
      "cell_type": "code",
      "metadata": {
        "colab": {
          "base_uri": "https://localhost:8080/"
        },
        "id": "qCzrVOV5douO",
        "outputId": "b9860896-6f09-4481-dbc6-37e1fd04446e"
      },
      "source": [
        "%ls"
      ],
      "execution_count": null,
      "outputs": [
        {
          "output_type": "stream",
          "text": [
            "data_augmentation.py  losses.py           \u001b[0m\u001b[01;34m__pycache__\u001b[0m/      run_simclr.py\n",
            "layers.py             model.h5            resnet_blocks.py  simclr_model.py\n",
            "LICENSE               projection_head.py  resnet.py         \u001b[01;34mwandb\u001b[0m/\n"
          ],
          "name": "stdout"
        }
      ]
    },
    {
      "cell_type": "code",
      "metadata": {
        "colab": {
          "base_uri": "https://localhost:8080/",
          "height": 35
        },
        "id": "gzRpnj68esYg",
        "outputId": "9f935ab6-a7aa-4d2f-aa94-8e4e7f9b2d22"
      },
      "source": [
        "wandb.run.dir"
      ],
      "execution_count": null,
      "outputs": [
        {
          "output_type": "execute_result",
          "data": {
            "application/vnd.google.colaboratory.intrinsic+json": {
              "type": "string"
            },
            "text/plain": [
              "'/content/retinal_oct/core/models/simclr/wandb/run-20210111_194553-1faetwsr/files'"
            ]
          },
          "metadata": {
            "tags": []
          },
          "execution_count": 40
        }
      ]
    },
    {
      "cell_type": "code",
      "metadata": {
        "colab": {
          "base_uri": "https://localhost:8080/"
        },
        "id": "Qp9YaxjweuXQ",
        "outputId": "2cf50514-8cbe-4ef4-ca7a-34b9fa12d1ab"
      },
      "source": [
        "cd wandb/run-20210111_194553-1faetwsr/files"
      ],
      "execution_count": null,
      "outputs": [
        {
          "output_type": "stream",
          "text": [
            "/content/retinal_oct/core/models/simclr/wandb/run-20210111_194553-1faetwsr/files\n"
          ],
          "name": "stdout"
        }
      ]
    },
    {
      "cell_type": "code",
      "metadata": {
        "colab": {
          "base_uri": "https://localhost:8080/"
        },
        "id": "hi0CfudmeyfH",
        "outputId": "0a45a907-0bc9-4b85-e913-aae1b8c3db96"
      },
      "source": [
        "%ls"
      ],
      "execution_count": null,
      "outputs": [
        {
          "output_type": "stream",
          "text": [
            "config.yaml  model.h5    requirements.txt     wandb-summary.json\n",
            "\u001b[0m\u001b[01;34mmedia\u001b[0m/       output.log  wandb-metadata.json\n"
          ],
          "name": "stdout"
        }
      ]
    },
    {
      "cell_type": "code",
      "metadata": {
        "id": "uRWvkV6Je0NN"
      },
      "source": [
        "count = 0\r\n",
        "true_count = 0\r\n",
        "for X, y in ds_test.map(val_data_aug).batch(64):\r\n",
        "  proj_out, logits_out = model(X, training=False)\r\n",
        "  count += len(y)\r\n",
        "  pred_y  = logits_out.numpy().argmax(axis=-1)\r\n",
        "  true_y  = y.numpy()\r\n",
        "  true_count += sum(pred_y== true_y)"
      ],
      "execution_count": null,
      "outputs": []
    },
    {
      "cell_type": "code",
      "metadata": {
        "colab": {
          "base_uri": "https://localhost:8080/"
        },
        "id": "HlXTzsAgf7cy",
        "outputId": "8a1bb582-0b2a-4182-851d-9eef6fe548a4"
      },
      "source": [
        "true_count/ count"
      ],
      "execution_count": null,
      "outputs": [
        {
          "output_type": "execute_result",
          "data": {
            "text/plain": [
              "0.8574380165289256"
            ]
          },
          "metadata": {
            "tags": []
          },
          "execution_count": 67
        }
      ]
    },
    {
      "cell_type": "code",
      "metadata": {
        "colab": {
          "base_uri": "https://localhost:8080/",
          "height": 667,
          "referenced_widgets": [
            "4f096da943ba4f0d898bfab32d066e4a",
            "ec0aadeff2b44963a36d75d950166a0a",
            "770e3fa0f90640eeae6ad346c0568323",
            "5c3cdfca616a4b89be94352e18a0fc67",
            "2cf03dd87fd04dcbb7b1c1c8aa4db3b7",
            "4fe2c02465bb4166a7371c09d5511033",
            "bd954db1ade64f639331cbbda89a8775",
            "3d10a6072da04029ba5557d2d209734b"
          ]
        },
        "id": "o4sIqA7igzKT",
        "outputId": "70f4c786-bf94-4cf1-ad17-6c097efd4913"
      },
      "source": [
        "run.finish()"
      ],
      "execution_count": null,
      "outputs": [
        {
          "output_type": "display_data",
          "data": {
            "text/html": [
              "<br/>Waiting for W&B process to finish, PID 2910<br/>Program ended successfully."
            ],
            "text/plain": [
              "<IPython.core.display.HTML object>"
            ]
          },
          "metadata": {
            "tags": []
          }
        },
        {
          "output_type": "display_data",
          "data": {
            "application/vnd.jupyter.widget-view+json": {
              "model_id": "4f096da943ba4f0d898bfab32d066e4a",
              "version_major": 2,
              "version_minor": 0
            },
            "text/plain": [
              "VBox(children=(Label(value=' 45.13MB of 45.13MB uploaded (0.00MB deduped)\\r'), FloatProgress(value=1.0, max=1.…"
            ]
          },
          "metadata": {
            "tags": []
          }
        },
        {
          "output_type": "display_data",
          "data": {
            "text/html": [
              "Find user logs for this run at: <code>/content/retinal_oct/core/models/simclr/wandb/run-20210111_194553-1faetwsr/logs/debug.log</code>"
            ],
            "text/plain": [
              "<IPython.core.display.HTML object>"
            ]
          },
          "metadata": {
            "tags": []
          }
        },
        {
          "output_type": "display_data",
          "data": {
            "text/html": [
              "Find internal logs for this run at: <code>/content/retinal_oct/core/models/simclr/wandb/run-20210111_194553-1faetwsr/logs/debug-internal.log</code>"
            ],
            "text/plain": [
              "<IPython.core.display.HTML object>"
            ]
          },
          "metadata": {
            "tags": []
          }
        },
        {
          "output_type": "display_data",
          "data": {
            "text/html": [
              "<h3>Run summary:</h3><br/><style>\n",
              "    table.wandb td:nth-child(1) { padding: 0 10px; text-align: right }\n",
              "    </style><table class=\"wandb\">\n",
              "<tr><td>epoch</td><td>29</td></tr><tr><td>contrast_loss</td><td>7.75491</td></tr><tr><td>contrast_acc</td><td>0.99376</td></tr><tr><td>contrast_entropy</td><td>4.12826</td></tr><tr><td>supervised_loss</td><td>0.42252</td></tr><tr><td>supervised_acc</td><td>0.84375</td></tr><tr><td>_step</td><td>29</td></tr><tr><td>_runtime</td><td>14996</td></tr><tr><td>_timestamp</td><td>1610409349</td></tr></table>"
            ],
            "text/plain": [
              "<IPython.core.display.HTML object>"
            ]
          },
          "metadata": {
            "tags": []
          }
        },
        {
          "output_type": "display_data",
          "data": {
            "text/html": [
              "<h3>Run history:</h3><br/><style>\n",
              "    table.wandb td:nth-child(1) { padding: 0 10px; text-align: right }\n",
              "    </style><table class=\"wandb\">\n",
              "<tr><td>epoch</td><td>▁▁▁▂▂▂▂▃▃▃▃▄▄▄▄▅▅▅▅▆▆▆▆▇▇▇▇███</td></tr><tr><td>contrast_loss</td><td>█▅▄▃▃▂▂▂▂▂▂▁▁▁▁▁▁▁▁▁▁▁▁▁▁▁▁▁▁▁</td></tr><tr><td>contrast_acc</td><td>▁▃▅▆▇▇▇███████████████████████</td></tr><tr><td>contrast_entropy</td><td>▁▃▄▅▆▆▆▇▇▇▇▇▇█████████████████</td></tr><tr><td>supervised_loss</td><td>█▆▅▄▃▃▃▂▂▂▂▂▂▂▂▂▂▂▂▂▁▁▁▁▁▁▁▁▁▁</td></tr><tr><td>supervised_acc</td><td>▁▂▃▅▅▆▆▇▇▇▇▇▇▇▇▇▇▇▇▇▇█████████</td></tr><tr><td>_step</td><td>▁▁▁▂▂▂▂▃▃▃▃▄▄▄▄▅▅▅▅▆▆▆▆▇▇▇▇███</td></tr><tr><td>_runtime</td><td>▁▁▂▂▂▂▂▃▃▃▃▄▄▄▄▅▅▅▅▆▆▆▆▇▇▇▇███</td></tr><tr><td>_timestamp</td><td>▁▁▂▂▂▂▂▃▃▃▃▄▄▄▄▅▅▅▅▆▆▆▆▇▇▇▇███</td></tr></table><br/>"
            ],
            "text/plain": [
              "<IPython.core.display.HTML object>"
            ]
          },
          "metadata": {
            "tags": []
          }
        },
        {
          "output_type": "display_data",
          "data": {
            "text/html": [
              "Synced 5 W&B file(s), 1 media file(s), 0 artifact file(s) and 1 other file(s)"
            ],
            "text/plain": [
              "<IPython.core.display.HTML object>"
            ]
          },
          "metadata": {
            "tags": []
          }
        },
        {
          "output_type": "display_data",
          "data": {
            "text/html": [
              "\n",
              "                    <br/>Synced <strong style=\"color:#cdcd00\">fresh-monkey-4</strong>: <a href=\"https://wandb.ai/hisunnytang/OCT-keras-SimCLR/runs/1faetwsr\" target=\"_blank\">https://wandb.ai/hisunnytang/OCT-keras-SimCLR/runs/1faetwsr</a><br/>\n",
              "                "
            ],
            "text/plain": [
              "<IPython.core.display.HTML object>"
            ]
          },
          "metadata": {
            "tags": []
          }
        }
      ]
    },
    {
      "cell_type": "code",
      "metadata": {
        "colab": {
          "base_uri": "https://localhost:8080/"
        },
        "id": "IWprueOpkmJW",
        "outputId": "38198511-d5f4-456b-df4c-922e3ae06656"
      },
      "source": [
        "!python run_simclr.py"
      ],
      "execution_count": null,
      "outputs": [
        {
          "output_type": "stream",
          "text": [
            "2021-01-12 03:12:28.925464: I tensorflow/stream_executor/platform/default/dso_loader.cc:49] Successfully opened dynamic library libcudart.so.10.1\n",
            "['/content/retinal_oct/core/models/simclr', '/env/python', '/usr/lib/python36.zip', '/usr/lib/python3.6', '/usr/lib/python3.6/lib-dynload', '/usr/local/lib/python3.6/dist-packages', '/usr/lib/python3/dist-packages', '/usr/local/lib/python3.6/dist-packages/IPython/extensions', '/content/retinal_oct']\n",
            "2021-01-12 03:12:32.211165: I tensorflow/compiler/jit/xla_cpu_device.cc:41] Not creating XLA devices, tf_xla_enable_xla_devices not set\n",
            "2021-01-12 03:12:32.212351: I tensorflow/stream_executor/platform/default/dso_loader.cc:49] Successfully opened dynamic library libcuda.so.1\n",
            "2021-01-12 03:12:32.216266: I tensorflow/stream_executor/cuda/cuda_gpu_executor.cc:941] successful NUMA node read from SysFS had negative value (-1), but there must be at least one NUMA node, so returning NUMA node zero\n",
            "2021-01-12 03:12:32.216858: I tensorflow/core/common_runtime/gpu/gpu_device.cc:1720] Found device 0 with properties: \n",
            "pciBusID: 0000:00:04.0 name: Tesla P100-PCIE-16GB computeCapability: 6.0\n",
            "coreClock: 1.3285GHz coreCount: 56 deviceMemorySize: 15.90GiB deviceMemoryBandwidth: 681.88GiB/s\n",
            "2021-01-12 03:12:32.216932: I tensorflow/stream_executor/platform/default/dso_loader.cc:49] Successfully opened dynamic library libcudart.so.10.1\n",
            "2021-01-12 03:12:32.222876: I tensorflow/stream_executor/platform/default/dso_loader.cc:49] Successfully opened dynamic library libcublas.so.10\n",
            "2021-01-12 03:12:32.222968: I tensorflow/stream_executor/platform/default/dso_loader.cc:49] Successfully opened dynamic library libcublasLt.so.10\n",
            "2021-01-12 03:12:32.227477: I tensorflow/stream_executor/platform/default/dso_loader.cc:49] Successfully opened dynamic library libcufft.so.10\n",
            "2021-01-12 03:12:32.228207: I tensorflow/stream_executor/platform/default/dso_loader.cc:49] Successfully opened dynamic library libcurand.so.10\n",
            "2021-01-12 03:12:32.234198: I tensorflow/stream_executor/platform/default/dso_loader.cc:49] Successfully opened dynamic library libcusolver.so.10\n",
            "2021-01-12 03:12:32.235880: I tensorflow/stream_executor/platform/default/dso_loader.cc:49] Successfully opened dynamic library libcusparse.so.10\n",
            "2021-01-12 03:12:32.243629: I tensorflow/stream_executor/platform/default/dso_loader.cc:49] Successfully opened dynamic library libcudnn.so.7\n",
            "2021-01-12 03:12:32.243776: I tensorflow/stream_executor/cuda/cuda_gpu_executor.cc:941] successful NUMA node read from SysFS had negative value (-1), but there must be at least one NUMA node, so returning NUMA node zero\n",
            "2021-01-12 03:12:32.244345: I tensorflow/stream_executor/cuda/cuda_gpu_executor.cc:941] successful NUMA node read from SysFS had negative value (-1), but there must be at least one NUMA node, so returning NUMA node zero\n",
            "2021-01-12 03:12:32.244770: I tensorflow/core/common_runtime/gpu/gpu_device.cc:1862] Adding visible gpu devices: 0\n",
            "2021-01-12 03:12:32.245267: I tensorflow/compiler/jit/xla_gpu_device.cc:99] Not creating XLA devices, tf_xla_enable_xla_devices not set\n",
            "2021-01-12 03:12:32.245393: I tensorflow/stream_executor/cuda/cuda_gpu_executor.cc:941] successful NUMA node read from SysFS had negative value (-1), but there must be at least one NUMA node, so returning NUMA node zero\n",
            "2021-01-12 03:12:32.245848: I tensorflow/core/common_runtime/gpu/gpu_device.cc:1720] Found device 0 with properties: \n",
            "pciBusID: 0000:00:04.0 name: Tesla P100-PCIE-16GB computeCapability: 6.0\n",
            "coreClock: 1.3285GHz coreCount: 56 deviceMemorySize: 15.90GiB deviceMemoryBandwidth: 681.88GiB/s\n",
            "2021-01-12 03:12:32.245875: I tensorflow/stream_executor/platform/default/dso_loader.cc:49] Successfully opened dynamic library libcudart.so.10.1\n",
            "2021-01-12 03:12:32.245916: I tensorflow/stream_executor/platform/default/dso_loader.cc:49] Successfully opened dynamic library libcublas.so.10\n",
            "2021-01-12 03:12:32.245939: I tensorflow/stream_executor/platform/default/dso_loader.cc:49] Successfully opened dynamic library libcublasLt.so.10\n",
            "2021-01-12 03:12:32.245959: I tensorflow/stream_executor/platform/default/dso_loader.cc:49] Successfully opened dynamic library libcufft.so.10\n",
            "2021-01-12 03:12:32.245980: I tensorflow/stream_executor/platform/default/dso_loader.cc:49] Successfully opened dynamic library libcurand.so.10\n",
            "2021-01-12 03:12:32.245999: I tensorflow/stream_executor/platform/default/dso_loader.cc:49] Successfully opened dynamic library libcusolver.so.10\n",
            "2021-01-12 03:12:32.246019: I tensorflow/stream_executor/platform/default/dso_loader.cc:49] Successfully opened dynamic library libcusparse.so.10\n",
            "2021-01-12 03:12:32.246056: I tensorflow/stream_executor/platform/default/dso_loader.cc:49] Successfully opened dynamic library libcudnn.so.7\n",
            "2021-01-12 03:12:32.246124: I tensorflow/stream_executor/cuda/cuda_gpu_executor.cc:941] successful NUMA node read from SysFS had negative value (-1), but there must be at least one NUMA node, so returning NUMA node zero\n",
            "2021-01-12 03:12:32.246583: I tensorflow/stream_executor/cuda/cuda_gpu_executor.cc:941] successful NUMA node read from SysFS had negative value (-1), but there must be at least one NUMA node, so returning NUMA node zero\n",
            "2021-01-12 03:12:32.246995: I tensorflow/core/common_runtime/gpu/gpu_device.cc:1862] Adding visible gpu devices: 0\n",
            "2021-01-12 03:12:32.247078: I tensorflow/stream_executor/platform/default/dso_loader.cc:49] Successfully opened dynamic library libcudart.so.10.1\n",
            "2021-01-12 03:12:32.985546: I tensorflow/core/common_runtime/gpu/gpu_device.cc:1261] Device interconnect StreamExecutor with strength 1 edge matrix:\n",
            "2021-01-12 03:12:32.985597: I tensorflow/core/common_runtime/gpu/gpu_device.cc:1267]      0 \n",
            "2021-01-12 03:12:32.985611: I tensorflow/core/common_runtime/gpu/gpu_device.cc:1280] 0:   N \n",
            "2021-01-12 03:12:32.985861: I tensorflow/stream_executor/cuda/cuda_gpu_executor.cc:941] successful NUMA node read from SysFS had negative value (-1), but there must be at least one NUMA node, so returning NUMA node zero\n",
            "2021-01-12 03:12:32.986443: I tensorflow/stream_executor/cuda/cuda_gpu_executor.cc:941] successful NUMA node read from SysFS had negative value (-1), but there must be at least one NUMA node, so returning NUMA node zero\n",
            "2021-01-12 03:12:32.986977: I tensorflow/stream_executor/cuda/cuda_gpu_executor.cc:941] successful NUMA node read from SysFS had negative value (-1), but there must be at least one NUMA node, so returning NUMA node zero\n",
            "2021-01-12 03:12:32.987407: W tensorflow/core/common_runtime/gpu/gpu_bfc_allocator.cc:39] Overriding allow_growth setting because the TF_FORCE_GPU_ALLOW_GROWTH environment variable is set. Original config value was 0.\n",
            "2021-01-12 03:12:32.987457: I tensorflow/core/common_runtime/gpu/gpu_device.cc:1406] Created TensorFlow device (/job:localhost/replica:0/task:0/device:GPU:0 with 10604 MB memory) -> physical GPU (device: 0, name: Tesla P100-PCIE-16GB, pci bus id: 0000:00:04.0, compute capability: 6.0)\n",
            "\u001b[34m\u001b[1mwandb\u001b[0m: Currently logged in as: \u001b[33mhisunnytang\u001b[0m (use `wandb login --relogin` to force relogin)\n",
            "\u001b[34m\u001b[1mwandb\u001b[0m: wandb version 0.10.13 is available!  To upgrade, please run:\n",
            "\u001b[34m\u001b[1mwandb\u001b[0m:  $ pip install wandb --upgrade\n",
            "\u001b[34m\u001b[1mwandb\u001b[0m: Tracking run with wandb version 0.10.12\n",
            "\u001b[34m\u001b[1mwandb\u001b[0m: Syncing run \u001b[33mbumbling-surf-5\u001b[0m\n",
            "\u001b[34m\u001b[1mwandb\u001b[0m: ⭐️ View project at \u001b[34m\u001b[4mhttps://wandb.ai/hisunnytang/OCT-keras-SimCLR\u001b[0m\n",
            "\u001b[34m\u001b[1mwandb\u001b[0m: 🚀 View run at \u001b[34m\u001b[4mhttps://wandb.ai/hisunnytang/OCT-keras-SimCLR/runs/1zt33myh\u001b[0m\n",
            "\u001b[34m\u001b[1mwandb\u001b[0m: Run data is saved locally in /content/retinal_oct/core/models/simclr/wandb/run-20210112_031233-1zt33myh\n",
            "\u001b[34m\u001b[1mwandb\u001b[0m: Run `wandb offline` to turn off syncing.\n",
            "\n",
            "\n",
            "\u001b[34m\u001b[1mwandb\u001b[0m: Waiting for W&B process to finish, PID 8207\n",
            "\u001b[34m\u001b[1mwandb\u001b[0m: Program failed with code 1.  Press ctrl-c to abort syncing.\n",
            "\u001b[34m\u001b[1mwandb\u001b[0m:                                                                                \n",
            "\u001b[34m\u001b[1mwandb\u001b[0m: Find user logs for this run at: /content/retinal_oct/core/models/simclr/wandb/run-20210112_031233-1zt33myh/logs/debug.log\n",
            "\u001b[34m\u001b[1mwandb\u001b[0m: Find internal logs for this run at: /content/retinal_oct/core/models/simclr/wandb/run-20210112_031233-1zt33myh/logs/debug-internal.log\n",
            "\u001b[34m\u001b[1mwandb\u001b[0m: Synced 4 W&B file(s), 0 media file(s), 0 artifact file(s) and 0 other file(s)\n",
            "\u001b[34m\u001b[1mwandb\u001b[0m: \n",
            "\u001b[34m\u001b[1mwandb\u001b[0m: Synced \u001b[33mbumbling-surf-5\u001b[0m: \u001b[34mhttps://wandb.ai/hisunnytang/OCT-keras-SimCLR/runs/1zt33myh\u001b[0m\n"
          ],
          "name": "stdout"
        }
      ]
    },
    {
      "cell_type": "code",
      "metadata": {
        "id": "778pbNdOlCLR"
      },
      "source": [
        "!cd ../../../"
      ],
      "execution_count": null,
      "outputs": []
    },
    {
      "cell_type": "code",
      "metadata": {
        "colab": {
          "base_uri": "https://localhost:8080/"
        },
        "id": "Of8pFOjclDbe",
        "outputId": "5f963749-6b66-412c-fd9b-928a415212bd"
      },
      "source": [
        "%cd ../../../"
      ],
      "execution_count": null,
      "outputs": [
        {
          "output_type": "stream",
          "text": [
            "/content/retinal_oct/core/models/simclr\n"
          ],
          "name": "stdout"
        }
      ]
    },
    {
      "cell_type": "code",
      "metadata": {
        "colab": {
          "base_uri": "https://localhost:8080/",
          "height": 1000,
          "referenced_widgets": [
            "a4c5ed6017ef4f6f8e6e5c1d2fed8d4e",
            "f42efd6617ea4c4db07a559675c36b2e",
            "80d7eb0e7ca74ff9b46b0f049e5c1706",
            "6b0b7d5f5fbf4a15a3458494378c065c",
            "7b8b798f238a4bd6a2d47dd5400d4cc6",
            "587b8d946372473081b9d62857016dd1",
            "a3292715f5344d58855c4c91c0439f42",
            "bb8d21a0c24c42e0b6aaf3f85f51e6d5"
          ]
        },
        "id": "ZODYoyvZlGNN",
        "outputId": "67364d66-4479-4597-ad5e-13f8a8ce9076"
      },
      "source": [
        "run = wandb.init(project='OCT-keras-SimCLR',\r\n",
        "                 config={  # and include hyperparameters and metadata\r\n",
        "                     \"learning_rate\": 1e-3,\r\n",
        "                     \"epochs\": 30,\r\n",
        "                     \"batch_size\": 128,\r\n",
        "                     \"num_classes\": 4,\r\n",
        "                     \"use_blur\": True,\r\n",
        "                     # ProjectionLayer Parameters\r\n",
        "                     \"proj_head_mode\": 'nonlinear',\r\n",
        "                     \"proj_out_dim\" : 128,\r\n",
        "                     \"num_proj_layers\": 3,\r\n",
        "                     \"ft_proj_selector\": 0,\r\n",
        "                     # Resnet_parameter\r\n",
        "                     \"resnet_depth\": 18,\r\n",
        "                     \"resnet_width_multiplier\": 1,\r\n",
        "                     \"resnet_se_ratio\": 0.0,\r\n",
        "                     \"resnet_sk_ratio\": 0.0,\r\n",
        "                     # contrastive loss parameter\r\n",
        "                     \"hidden_norm\": True,\r\n",
        "                     \"temperature\" :1.0,\r\n",
        "                     # Image Size\r\n",
        "                     'IMG_SIZE': 128,\r\n",
        "                 })\r\n",
        "\r\n",
        "\r\n",
        "config = run.config\r\n",
        "\r\n",
        "# Initialize the model\r\n",
        "model = simclr_model.Pretrained_SimCLR_Model(num_classes=NUM_CLASSES,\r\n",
        "                                             use_blur = config.use_blur,\r\n",
        "                                             proj_head_mode = config.proj_head_mode,\r\n",
        "                                             proj_out_dim = config.proj_out_dim,\r\n",
        "                                             num_proj_layers = config.num_proj_layers,\r\n",
        "                                             ft_proj_selector = config.ft_proj_selector,\r\n",
        "                                             resnet_depth = config.resnet_depth,\r\n",
        "                                             resnet_width_multiplier = config.resnet_width_multiplier,\r\n",
        "                                             resnet_se_ratio = config.resnet_se_ratio,\r\n",
        "                                             resnet_sk_ratio = config.resnet_sk_ratio,\r\n",
        "                                             hidden_norm = config.hidden_norm,\r\n",
        "                                             temperature = config.temperature)\r\n",
        "\r\n",
        "# Build the Model\r\n",
        "input_shape_base   = (None, config.IMG_SIZE, config.IMG_SIZE, 3)\r\n",
        "input_shape_simclr = (None, config.IMG_SIZE, config.IMG_SIZE, 6)\r\n",
        "model.base_model.build(input_shape_base)\r\n",
        "model.build(input_shape_simclr)\r\n",
        "model.summary()\r\n",
        "\r\n",
        "# Define Optimizer\r\n",
        "optimizer = tfa.optimizers.LAMB(config.learning_rate)\r\n",
        "model.compile(optimizer= optimizer)\r\n",
        "\r\n",
        "model.fit(ds_train.map(train_data_aug).batch(config.batch_size ),\r\n",
        "          epochs= config.epochs,\r\n",
        "          # validation_data = ds_test.map(train_data_aug).batch(config.batch_size),\r\n",
        "          callbacks = [WandbCallback()])\r\n"
      ],
      "execution_count": null,
      "outputs": [
        {
          "output_type": "display_data",
          "data": {
            "text/html": [
              "Finishing last run (ID:3jfu5i22) before initializing another..."
            ],
            "text/plain": [
              "<IPython.core.display.HTML object>"
            ]
          },
          "metadata": {
            "tags": []
          }
        },
        {
          "output_type": "display_data",
          "data": {
            "text/html": [
              "<br/>Waiting for W&B process to finish, PID 8251<br/>Program ended successfully."
            ],
            "text/plain": [
              "<IPython.core.display.HTML object>"
            ]
          },
          "metadata": {
            "tags": []
          }
        },
        {
          "output_type": "display_data",
          "data": {
            "application/vnd.jupyter.widget-view+json": {
              "model_id": "a4c5ed6017ef4f6f8e6e5c1d2fed8d4e",
              "version_major": 2,
              "version_minor": 0
            },
            "text/plain": [
              "VBox(children=(Label(value=' 0.00MB of 0.00MB uploaded (0.00MB deduped)\\r'), FloatProgress(value=1.0, max=1.0)…"
            ]
          },
          "metadata": {
            "tags": []
          }
        },
        {
          "output_type": "display_data",
          "data": {
            "text/html": [
              "Find user logs for this run at: <code>/content/retinal_oct/core/models/simclr/wandb/run-20210112_031331-3jfu5i22/logs/debug.log</code>"
            ],
            "text/plain": [
              "<IPython.core.display.HTML object>"
            ]
          },
          "metadata": {
            "tags": []
          }
        },
        {
          "output_type": "display_data",
          "data": {
            "text/html": [
              "Find internal logs for this run at: <code>/content/retinal_oct/core/models/simclr/wandb/run-20210112_031331-3jfu5i22/logs/debug-internal.log</code>"
            ],
            "text/plain": [
              "<IPython.core.display.HTML object>"
            ]
          },
          "metadata": {
            "tags": []
          }
        },
        {
          "output_type": "display_data",
          "data": {
            "text/html": [
              "<h3>Run summary:</h3><br/><style>\n",
              "    table.wandb td:nth-child(1) { padding: 0 10px; text-align: right }\n",
              "    </style><table class=\"wandb\">\n",
              "</table>"
            ],
            "text/plain": [
              "<IPython.core.display.HTML object>"
            ]
          },
          "metadata": {
            "tags": []
          }
        },
        {
          "output_type": "display_data",
          "data": {
            "text/html": [
              "Synced 5 W&B file(s), 1 media file(s), 0 artifact file(s) and 0 other file(s)"
            ],
            "text/plain": [
              "<IPython.core.display.HTML object>"
            ]
          },
          "metadata": {
            "tags": []
          }
        },
        {
          "output_type": "display_data",
          "data": {
            "text/html": [
              "\n",
              "                    <br/>Synced <strong style=\"color:#cdcd00\">olive-cosmos-6</strong>: <a href=\"https://wandb.ai/hisunnytang/OCT-keras-SimCLR/runs/3jfu5i22\" target=\"_blank\">https://wandb.ai/hisunnytang/OCT-keras-SimCLR/runs/3jfu5i22</a><br/>\n",
              "                "
            ],
            "text/plain": [
              "<IPython.core.display.HTML object>"
            ]
          },
          "metadata": {
            "tags": []
          }
        },
        {
          "output_type": "display_data",
          "data": {
            "text/html": [
              "...Successfully finished last run (ID:3jfu5i22). Initializing new run:<br/><br/>"
            ],
            "text/plain": [
              "<IPython.core.display.HTML object>"
            ]
          },
          "metadata": {
            "tags": []
          }
        },
        {
          "output_type": "stream",
          "text": [
            "\u001b[34m\u001b[1mwandb\u001b[0m: wandb version 0.10.13 is available!  To upgrade, please run:\n",
            "\u001b[34m\u001b[1mwandb\u001b[0m:  $ pip install wandb --upgrade\n"
          ],
          "name": "stderr"
        },
        {
          "output_type": "display_data",
          "data": {
            "text/html": [
              "\n",
              "                Tracking run with wandb version 0.10.12<br/>\n",
              "                Syncing run <strong style=\"color:#cdcd00\">usual-grass-7</strong> to <a href=\"https://wandb.ai\" target=\"_blank\">Weights & Biases</a> <a href=\"https://docs.wandb.com/integrations/jupyter.html\" target=\"_blank\">(Documentation)</a>.<br/>\n",
              "                Project page: <a href=\"https://wandb.ai/hisunnytang/OCT-keras-SimCLR\" target=\"_blank\">https://wandb.ai/hisunnytang/OCT-keras-SimCLR</a><br/>\n",
              "                Run page: <a href=\"https://wandb.ai/hisunnytang/OCT-keras-SimCLR/runs/22p12rhv\" target=\"_blank\">https://wandb.ai/hisunnytang/OCT-keras-SimCLR/runs/22p12rhv</a><br/>\n",
              "                Run data is saved locally in <code>/content/retinal_oct/core/models/simclr/wandb/run-20210112_032419-22p12rhv</code><br/><br/>\n",
              "            "
            ],
            "text/plain": [
              "<IPython.core.display.HTML object>"
            ]
          },
          "metadata": {
            "tags": []
          }
        },
        {
          "output_type": "stream",
          "text": [
            "Model: \"pretrained__sim_clr__model_3\"\n",
            "_________________________________________________________________\n",
            "Layer (type)                 Output Shape              Param #   \n",
            "=================================================================\n",
            "resnet_3 (Resnet)            multiple                  11190464  \n",
            "_________________________________________________________________\n",
            "head_supervised (SupervisedH multiple                  2052      \n",
            "_________________________________________________________________\n",
            "projection_head_3 (Projectio multiple                  594304    \n",
            "=================================================================\n",
            "Total params: 11,786,830\n",
            "Trainable params: 11,774,788\n",
            "Non-trainable params: 12,042\n",
            "_________________________________________________________________\n",
            "Epoch 1/30\n",
            "653/653 [==============================] - 497s 742ms/step - contrast_loss: 10.3107 - contrast_acc: 0.0779 - contrast_entropy: 4.7363 - supervised_loss: 1.2657 - supervised_acc: 0.4209\n",
            "Epoch 2/30\n",
            "653/653 [==============================] - 483s 739ms/step - contrast_loss: 9.9262 - contrast_acc: 0.1359 - contrast_entropy: 4.7211 - supervised_loss: 1.1893 - supervised_acc: 0.4824\n",
            "Epoch 3/30\n",
            "653/653 [==============================] - 485s 743ms/step - contrast_loss: 9.6964 - contrast_acc: 0.2100 - contrast_entropy: 4.7178 - supervised_loss: 1.1166 - supervised_acc: 0.6023\n",
            "Epoch 4/30\n",
            "653/653 [==============================] - 485s 742ms/step - contrast_loss: 9.5575 - contrast_acc: 0.3178 - contrast_entropy: 4.7377 - supervised_loss: 1.0033 - supervised_acc: 0.6572\n",
            "Epoch 5/30\n",
            "653/653 [==============================] - 497s 760ms/step - contrast_loss: 9.4606 - contrast_acc: 0.4412 - contrast_entropy: 4.7552 - supervised_loss: 0.9076 - supervised_acc: 0.6683\n",
            "Epoch 6/30\n",
            "653/653 [==============================] - 492s 753ms/step - contrast_loss: 9.4014 - contrast_acc: 0.5483 - contrast_entropy: 4.7682 - supervised_loss: 0.8404 - supervised_acc: 0.6823\n",
            "Epoch 7/30\n",
            "653/653 [==============================] - 488s 747ms/step - contrast_loss: 9.3549 - contrast_acc: 0.6397 - contrast_entropy: 4.7777 - supervised_loss: 0.7738 - supervised_acc: 0.7067\n",
            "Epoch 8/30\n",
            "653/653 [==============================] - 492s 753ms/step - contrast_loss: 9.3226 - contrast_acc: 0.7021 - contrast_entropy: 4.7843 - supervised_loss: 0.7079 - supervised_acc: 0.7340\n",
            "Epoch 9/30\n",
            "653/653 [==============================] - 495s 757ms/step - contrast_loss: 9.2978 - contrast_acc: 0.7514 - contrast_entropy: 4.7888 - supervised_loss: 0.6542 - supervised_acc: 0.7575\n",
            "Epoch 10/30\n",
            "653/653 [==============================] - 490s 750ms/step - contrast_loss: 9.2766 - contrast_acc: 0.7927 - contrast_entropy: 4.7926 - supervised_loss: 0.6129 - supervised_acc: 0.7746\n",
            "Epoch 11/30\n",
            "653/653 [==============================] - 492s 754ms/step - contrast_loss: 9.2574 - contrast_acc: 0.8407 - contrast_entropy: 4.7961 - supervised_loss: 0.5787 - supervised_acc: 0.7879\n",
            "Epoch 12/30\n",
            "653/653 [==============================] - 500s 765ms/step - contrast_loss: 9.2424 - contrast_acc: 0.8764 - contrast_entropy: 4.7999 - supervised_loss: 0.5525 - supervised_acc: 0.7983\n",
            "Epoch 13/30\n",
            "653/653 [==============================] - 493s 755ms/step - contrast_loss: 9.2288 - contrast_acc: 0.9045 - contrast_entropy: 4.8036 - supervised_loss: 0.5343 - supervised_acc: 0.8048\n",
            "Epoch 14/30\n",
            "653/653 [==============================] - 498s 762ms/step - contrast_loss: 9.2176 - contrast_acc: 0.9273 - contrast_entropy: 4.8064 - supervised_loss: 0.5236 - supervised_acc: 0.8087\n",
            "Epoch 15/30\n",
            "653/653 [==============================] - 492s 753ms/step - contrast_loss: 9.2086 - contrast_acc: 0.9445 - contrast_entropy: 4.8085 - supervised_loss: 0.5234 - supervised_acc: 0.8081\n",
            "Epoch 16/30\n",
            "653/653 [==============================] - 492s 754ms/step - contrast_loss: 9.2021 - contrast_acc: 0.9543 - contrast_entropy: 4.8104 - supervised_loss: 0.5212 - supervised_acc: 0.8091\n",
            "Epoch 17/30\n",
            "653/653 [==============================] - 491s 752ms/step - contrast_loss: 9.1949 - contrast_acc: 0.9644 - contrast_entropy: 4.8129 - supervised_loss: 0.5207 - supervised_acc: 0.8093\n",
            "Epoch 18/30\n",
            "653/653 [==============================] - 494s 757ms/step - contrast_loss: 9.1891 - contrast_acc: 0.9704 - contrast_entropy: 4.8142 - supervised_loss: 0.5191 - supervised_acc: 0.8090\n",
            "Epoch 19/30\n",
            "653/653 [==============================] - 498s 761ms/step - contrast_loss: 9.1851 - contrast_acc: 0.9744 - contrast_entropy: 4.8157 - supervised_loss: 0.5148 - supervised_acc: 0.8102\n",
            "Epoch 20/30\n",
            "653/653 [==============================] - 494s 756ms/step - contrast_loss: 9.1798 - contrast_acc: 0.9774 - contrast_entropy: 4.8172 - supervised_loss: 0.5076 - supervised_acc: 0.8119\n",
            "Epoch 21/30\n",
            "653/653 [==============================] - 503s 770ms/step - contrast_loss: 9.1768 - contrast_acc: 0.9793 - contrast_entropy: 4.8182 - supervised_loss: 0.5026 - supervised_acc: 0.8145\n",
            "Epoch 22/30\n",
            "653/653 [==============================] - 500s 765ms/step - contrast_loss: 9.1731 - contrast_acc: 0.9814 - contrast_entropy: 4.8191 - supervised_loss: 0.4970 - supervised_acc: 0.8160\n",
            "Epoch 23/30\n",
            "653/653 [==============================] - 499s 763ms/step - contrast_loss: 9.1699 - contrast_acc: 0.9829 - contrast_entropy: 4.8200 - supervised_loss: 0.4906 - supervised_acc: 0.8181\n",
            "Epoch 24/30\n",
            "653/653 [==============================] - 499s 763ms/step - contrast_loss: 9.1672 - contrast_acc: 0.9838 - contrast_entropy: 4.8209 - supervised_loss: 0.4869 - supervised_acc: 0.8193\n",
            "Epoch 25/30\n",
            "653/653 [==============================] - 497s 761ms/step - contrast_loss: 9.1653 - contrast_acc: 0.9850 - contrast_entropy: 4.8216 - supervised_loss: 0.4821 - supervised_acc: 0.8211\n",
            "Epoch 26/30\n",
            "653/653 [==============================] - 495s 758ms/step - contrast_loss: 9.1629 - contrast_acc: 0.9866 - contrast_entropy: 4.8220 - supervised_loss: 0.4755 - supervised_acc: 0.8234\n",
            "Epoch 27/30\n",
            "653/653 [==============================] - 492s 754ms/step - contrast_loss: 9.1617 - contrast_acc: 0.9863 - contrast_entropy: 4.8223 - supervised_loss: 0.4683 - supervised_acc: 0.8259\n",
            "Epoch 28/30\n",
            "653/653 [==============================] - 495s 758ms/step - contrast_loss: 9.1600 - contrast_acc: 0.9869 - contrast_entropy: 4.8229 - supervised_loss: 0.4642 - supervised_acc: 0.8270\n",
            "Epoch 29/30\n",
            "653/653 [==============================] - 492s 752ms/step - contrast_loss: 9.1581 - contrast_acc: 0.9881 - contrast_entropy: 4.8235 - supervised_loss: 0.4628 - supervised_acc: 0.8287\n",
            "Epoch 30/30\n",
            "653/653 [==============================] - 495s 757ms/step - contrast_loss: 9.1562 - contrast_acc: 0.9886 - contrast_entropy: 4.8239 - supervised_loss: 0.4540 - supervised_acc: 0.8317\n"
          ],
          "name": "stdout"
        },
        {
          "output_type": "execute_result",
          "data": {
            "text/plain": [
              "<tensorflow.python.keras.callbacks.History at 0x7f9c2ec4a6a0>"
            ]
          },
          "metadata": {
            "tags": []
          },
          "execution_count": 76
        }
      ]
    },
    {
      "cell_type": "code",
      "metadata": {
        "colab": {
          "background_save": true
        },
        "id": "D26kecanlYkR"
      },
      "source": [
        "model.save_weights( os.path.join(wandb.run.dir, 'model.h5') )\r\n",
        "run.finish()"
      ],
      "execution_count": null,
      "outputs": []
    },
    {
      "cell_type": "code",
      "metadata": {
        "id": "9yjpCPcl8IqX"
      },
      "source": [
        "import tensorflow_addons as tfa\r\n",
        "\r\n",
        "def train_data_aug(img, lb):\r\n",
        "  xs = []\r\n",
        "  for _ in range(2):\r\n",
        "    xs.append( preprocess_image(img, config.IMG_SIZE, config.IMG_SIZE, \r\n",
        "                                is_training=True, \r\n",
        "                                color_distort=True, \r\n",
        "                                test_crop=False) )\r\n",
        "  img = tf.concat(xs, -1)\r\n",
        "  return img, tf.one_hot(lb, config.num_classes)\r\n",
        "\r\n",
        "def val_data_aug(img, lb):\r\n",
        "  img = preprocess_image(img, config.IMG_SIZE, config.IMG_SIZE, \r\n",
        "                         is_training=True, \r\n",
        "                         color_distort=True, \r\n",
        "                         test_crop=False)\r\n",
        "  return img, lb"
      ],
      "execution_count": null,
      "outputs": []
    },
    {
      "cell_type": "code",
      "metadata": {
        "colab": {
          "base_uri": "https://localhost:8080/",
          "height": 1000,
          "referenced_widgets": [
            "2adca11f8c654f7392937b0673bc8169",
            "1ac47cec54354860b211dff54c665a98",
            "1d9d539780ea4bf391a3691d853b2d8f",
            "179648424ee947b4a6ce0e4c980591cf",
            "2f33f6adf3fe402ea227a0feab6ade44",
            "466904255d504e2c8a27692f0ccb8f9f",
            "77a0000e9616483cb58ad1bf19243860",
            "d2c11e16ee8c495a9f4cde5d38d63e35",
            "52892a63d03e4da9bd151573161ee319",
            "d7a3868c6d2147899b63aef5266493e1",
            "8fca25e4b21744578471c9e7bee0d006",
            "d32c13d9ec19423ba6a5665606aecc56",
            "dda5f55f6e5c4b73b450a95e8bc51641",
            "0c0693f093214cd2a80c4128747a738c",
            "ccdb3ca55623469da6b15d51633b85a5",
            "e95cc3ad18d04ab681cc5fbeb32cfe3f"
          ]
        },
        "id": "BWGcRlk6lita",
        "outputId": "d1b4f1f0-393f-4b77-cea7-eea2c10e1f53"
      },
      "source": [
        "run = wandb.init(project='OCT-keras-SimCLR',\r\n",
        "                 config={  # and include hyperparameters and metadata\r\n",
        "                     \"learning_rate\": 1e-3,\r\n",
        "                     \"epochs\": 30,\r\n",
        "                     \"batch_size\": 512,\r\n",
        "                     \"num_classes\": 4,\r\n",
        "                     \"use_blur\": True,\r\n",
        "                     # ProjectionLayer Parameters\r\n",
        "                     \"proj_head_mode\": 'nonlinear',\r\n",
        "                     \"proj_out_dim\" : 128,\r\n",
        "                     \"num_proj_layers\": 3,\r\n",
        "                     \"ft_proj_selector\": 0,\r\n",
        "                     # Resnet_parameter\r\n",
        "                     \"resnet_depth\": 18,\r\n",
        "                     \"resnet_width_multiplier\": 1,\r\n",
        "                     \"resnet_se_ratio\": 0.0,\r\n",
        "                     \"resnet_sk_ratio\": 0.0,\r\n",
        "                     # contrastive loss parameter\r\n",
        "                     \"hidden_norm\": True,\r\n",
        "                     \"temperature\" :1.0,\r\n",
        "                     # Image Size\r\n",
        "                     'IMG_SIZE': 128,\r\n",
        "                 })\r\n",
        "\r\n",
        "\r\n",
        "config = run.config\r\n",
        "\r\n",
        "# Initialize the model\r\n",
        "model = simclr_model.Pretrained_SimCLR_Model(num_classes=NUM_CLASSES,\r\n",
        "                                             use_blur = config.use_blur,\r\n",
        "                                             proj_head_mode = config.proj_head_mode,\r\n",
        "                                             proj_out_dim = config.proj_out_dim,\r\n",
        "                                             num_proj_layers = config.num_proj_layers,\r\n",
        "                                             ft_proj_selector = config.ft_proj_selector,\r\n",
        "                                             resnet_depth = config.resnet_depth,\r\n",
        "                                             resnet_width_multiplier = config.resnet_width_multiplier,\r\n",
        "                                             resnet_se_ratio = config.resnet_se_ratio,\r\n",
        "                                             resnet_sk_ratio = config.resnet_sk_ratio,\r\n",
        "                                             hidden_norm = config.hidden_norm,\r\n",
        "                                             temperature = config.temperature)\r\n",
        "\r\n",
        "# Build the Model\r\n",
        "input_shape_base   = (None, config.IMG_SIZE, config.IMG_SIZE, 3)\r\n",
        "input_shape_simclr = (None, config.IMG_SIZE, config.IMG_SIZE, 6)\r\n",
        "model.base_model.build(input_shape_base)\r\n",
        "model.build(input_shape_simclr)\r\n",
        "model.summary()\r\n",
        "\r\n",
        "# Define Optimizer\r\n",
        "optimizer = tfa.optimizers.LAMB(config.learning_rate)\r\n",
        "model.compile(optimizer= optimizer)\r\n",
        "\r\n",
        "model.fit(ds_train.map(train_data_aug).batch(config.batch_size ),\r\n",
        "          epochs= config.epochs,\r\n",
        "          callbacks = [WandbCallback()])\r\n",
        "model.save_weights( os.path.join(wandb.run.dir, 'model.h5') )\r\n",
        "run.finish()"
      ],
      "execution_count": null,
      "outputs": [
        {
          "output_type": "display_data",
          "data": {
            "text/html": [
              "Finishing last run (ID:oh118lrc) before initializing another..."
            ],
            "text/plain": [
              "<IPython.core.display.HTML object>"
            ]
          },
          "metadata": {
            "tags": []
          }
        },
        {
          "output_type": "display_data",
          "data": {
            "text/html": [
              "<br/>Waiting for W&B process to finish, PID 506<br/>Program ended successfully."
            ],
            "text/plain": [
              "<IPython.core.display.HTML object>"
            ]
          },
          "metadata": {
            "tags": []
          }
        },
        {
          "output_type": "display_data",
          "data": {
            "application/vnd.jupyter.widget-view+json": {
              "model_id": "2adca11f8c654f7392937b0673bc8169",
              "version_major": 2,
              "version_minor": 0
            },
            "text/plain": [
              "VBox(children=(Label(value=' 0.00MB of 0.00MB uploaded (0.00MB deduped)\\r'), FloatProgress(value=1.0, max=1.0)…"
            ]
          },
          "metadata": {
            "tags": []
          }
        },
        {
          "output_type": "display_data",
          "data": {
            "text/html": [
              "Find user logs for this run at: <code>/content/retinal_oct/retinal_oct/core/models/simclr/wandb/run-20210112_141218-oh118lrc/logs/debug.log</code>"
            ],
            "text/plain": [
              "<IPython.core.display.HTML object>"
            ]
          },
          "metadata": {
            "tags": []
          }
        },
        {
          "output_type": "display_data",
          "data": {
            "text/html": [
              "Find internal logs for this run at: <code>/content/retinal_oct/retinal_oct/core/models/simclr/wandb/run-20210112_141218-oh118lrc/logs/debug-internal.log</code>"
            ],
            "text/plain": [
              "<IPython.core.display.HTML object>"
            ]
          },
          "metadata": {
            "tags": []
          }
        },
        {
          "output_type": "display_data",
          "data": {
            "text/html": [
              "Synced 5 W&B file(s), 0 media file(s), 0 artifact file(s) and 0 other file(s)"
            ],
            "text/plain": [
              "<IPython.core.display.HTML object>"
            ]
          },
          "metadata": {
            "tags": []
          }
        },
        {
          "output_type": "display_data",
          "data": {
            "text/html": [
              "\n",
              "                    <br/>Synced <strong style=\"color:#cdcd00\">sleek-sun-10</strong>: <a href=\"https://wandb.ai/hisunnytang/OCT-keras-SimCLR/runs/oh118lrc\" target=\"_blank\">https://wandb.ai/hisunnytang/OCT-keras-SimCLR/runs/oh118lrc</a><br/>\n",
              "                "
            ],
            "text/plain": [
              "<IPython.core.display.HTML object>"
            ]
          },
          "metadata": {
            "tags": []
          }
        },
        {
          "output_type": "display_data",
          "data": {
            "text/html": [
              "...Successfully finished last run (ID:oh118lrc). Initializing new run:<br/><br/>"
            ],
            "text/plain": [
              "<IPython.core.display.HTML object>"
            ]
          },
          "metadata": {
            "tags": []
          }
        },
        {
          "output_type": "display_data",
          "data": {
            "text/html": [
              "\n",
              "                Tracking run with wandb version 0.10.13<br/>\n",
              "                Syncing run <strong style=\"color:#cdcd00\">lively-river-11</strong> to <a href=\"https://wandb.ai\" target=\"_blank\">Weights & Biases</a> <a href=\"https://docs.wandb.com/integrations/jupyter.html\" target=\"_blank\">(Documentation)</a>.<br/>\n",
              "                Project page: <a href=\"https://wandb.ai/hisunnytang/OCT-keras-SimCLR\" target=\"_blank\">https://wandb.ai/hisunnytang/OCT-keras-SimCLR</a><br/>\n",
              "                Run page: <a href=\"https://wandb.ai/hisunnytang/OCT-keras-SimCLR/runs/3shm3vy2\" target=\"_blank\">https://wandb.ai/hisunnytang/OCT-keras-SimCLR/runs/3shm3vy2</a><br/>\n",
              "                Run data is saved locally in <code>/content/retinal_oct/retinal_oct/core/models/simclr/wandb/run-20210112_141307-3shm3vy2</code><br/><br/>\n",
              "            "
            ],
            "text/plain": [
              "<IPython.core.display.HTML object>"
            ]
          },
          "metadata": {
            "tags": []
          }
        },
        {
          "output_type": "stream",
          "text": [
            "Model: \"pretrained__sim_clr__model_2\"\n",
            "_________________________________________________________________\n",
            "Layer (type)                 Output Shape              Param #   \n",
            "=================================================================\n",
            "resnet_2 (Resnet)            multiple                  11190464  \n",
            "_________________________________________________________________\n",
            "head_supervised (SupervisedH multiple                  2052      \n",
            "_________________________________________________________________\n",
            "projection_head_2 (Projectio multiple                  594304    \n",
            "=================================================================\n",
            "Total params: 11,786,830\n",
            "Trainable params: 11,774,788\n",
            "Non-trainable params: 12,042\n",
            "_________________________________________________________________\n",
            "Epoch 1/30\n",
            "164/164 [==============================] - 520s 3s/step - contrast_loss: 12.3483 - contrast_acc: 0.2155 - contrast_entropy: 6.1235 - supervised_loss: 1.3290 - supervised_acc: 0.4277\n",
            "Epoch 2/30\n",
            "164/164 [==============================] - 498s 3s/step - contrast_loss: 12.1404 - contrast_acc: 0.2507 - contrast_entropy: 6.1328 - supervised_loss: 1.2447 - supervised_acc: 0.4460\n",
            "Epoch 3/30\n",
            "164/164 [==============================] - 496s 3s/step - contrast_loss: 12.0996 - contrast_acc: 0.2880 - contrast_entropy: 6.1416 - supervised_loss: 1.2269 - supervised_acc: 0.4448\n",
            "Epoch 4/30\n",
            "164/164 [==============================] - 495s 3s/step - contrast_loss: 12.0643 - contrast_acc: 0.3304 - contrast_entropy: 6.1483 - supervised_loss: 1.2234 - supervised_acc: 0.4459\n",
            "Epoch 5/30\n",
            "164/164 [==============================] - 488s 3s/step - contrast_loss: 12.0298 - contrast_acc: 0.3924 - contrast_entropy: 6.1531 - supervised_loss: 1.2238 - supervised_acc: 0.4448\n",
            "Epoch 6/30\n",
            "164/164 [==============================] - 486s 3s/step - contrast_loss: 12.0085 - contrast_acc: 0.4356 - contrast_entropy: 6.1576 - supervised_loss: 1.2215 - supervised_acc: 0.4461\n",
            "Epoch 7/30\n",
            "164/164 [==============================] - 489s 3s/step - contrast_loss: 11.9935 - contrast_acc: 0.4730 - contrast_entropy: 6.1605 - supervised_loss: 1.2221 - supervised_acc: 0.4455\n",
            "Epoch 8/30\n",
            "164/164 [==============================] - 496s 3s/step - contrast_loss: 11.9830 - contrast_acc: 0.5013 - contrast_entropy: 6.1640 - supervised_loss: 1.2200 - supervised_acc: 0.4461\n",
            "Epoch 9/30\n",
            "164/164 [==============================] - 513s 3s/step - contrast_loss: 11.9711 - contrast_acc: 0.5421 - contrast_entropy: 6.1681 - supervised_loss: 1.2202 - supervised_acc: 0.4465\n",
            "Epoch 10/30\n",
            "164/164 [==============================] - 513s 3s/step - contrast_loss: 11.9623 - contrast_acc: 0.5748 - contrast_entropy: 6.1706 - supervised_loss: 1.2197 - supervised_acc: 0.4467\n",
            "Epoch 11/30\n",
            "164/164 [==============================] - 514s 3s/step - contrast_loss: 11.9578 - contrast_acc: 0.5967 - contrast_entropy: 6.1716 - supervised_loss: 1.2177 - supervised_acc: 0.4471\n",
            "Epoch 12/30\n",
            "164/164 [==============================] - 510s 3s/step - contrast_loss: 11.9529 - contrast_acc: 0.6327 - contrast_entropy: 6.1733 - supervised_loss: 1.2167 - supervised_acc: 0.4478\n",
            "Epoch 13/30\n",
            "164/164 [==============================] - 509s 3s/step - contrast_loss: 11.9449 - contrast_acc: 0.6833 - contrast_entropy: 6.1766 - supervised_loss: 1.2143 - supervised_acc: 0.4469\n",
            "Epoch 14/30\n",
            "164/164 [==============================] - 507s 3s/step - contrast_loss: 11.9410 - contrast_acc: 0.7068 - contrast_entropy: 6.1775 - supervised_loss: 1.2107 - supervised_acc: 0.4495\n",
            "Epoch 15/30\n",
            "164/164 [==============================] - 508s 3s/step - contrast_loss: 11.9371 - contrast_acc: 0.7362 - contrast_entropy: 6.1786 - supervised_loss: 1.2055 - supervised_acc: 0.4554\n",
            "Epoch 16/30\n",
            "164/164 [==============================] - 507s 3s/step - contrast_loss: 11.9321 - contrast_acc: 0.7703 - contrast_entropy: 6.1807 - supervised_loss: 1.1974 - supervised_acc: 0.4733\n",
            "Epoch 17/30\n",
            "164/164 [==============================] - 504s 3s/step - contrast_loss: 11.9289 - contrast_acc: 0.7852 - contrast_entropy: 6.1822 - supervised_loss: 1.1864 - supervised_acc: 0.4981\n",
            "Epoch 18/30\n",
            "164/164 [==============================] - 498s 3s/step - contrast_loss: 11.9248 - contrast_acc: 0.8024 - contrast_entropy: 6.1840 - supervised_loss: 1.1738 - supervised_acc: 0.5237\n",
            "Epoch 19/30\n",
            "164/164 [==============================] - 495s 3s/step - contrast_loss: 11.9215 - contrast_acc: 0.8230 - contrast_entropy: 6.1853 - supervised_loss: 1.1584 - supervised_acc: 0.5420\n",
            "Epoch 20/30\n",
            "164/164 [==============================] - 495s 3s/step - contrast_loss: 11.9191 - contrast_acc: 0.8345 - contrast_entropy: 6.1859 - supervised_loss: 1.1391 - supervised_acc: 0.5578\n",
            "Epoch 21/30\n",
            "164/164 [==============================] - 486s 3s/step - contrast_loss: 11.9165 - contrast_acc: 0.8499 - contrast_entropy: 6.1863 - supervised_loss: 1.1203 - supervised_acc: 0.5690\n",
            "Epoch 22/30\n",
            "164/164 [==============================] - 480s 3s/step - contrast_loss: 11.9142 - contrast_acc: 0.8573 - contrast_entropy: 6.1872 - supervised_loss: 1.1032 - supervised_acc: 0.5759\n",
            "Epoch 23/30\n",
            "164/164 [==============================] - 477s 3s/step - contrast_loss: 11.9128 - contrast_acc: 0.8617 - contrast_entropy: 6.1883 - supervised_loss: 1.0838 - supervised_acc: 0.5832\n",
            "Epoch 24/30\n",
            "164/164 [==============================] - 474s 3s/step - contrast_loss: 11.9091 - contrast_acc: 0.8803 - contrast_entropy: 6.1898 - supervised_loss: 1.0650 - supervised_acc: 0.5900\n",
            "Epoch 25/30\n",
            "164/164 [==============================] - 475s 3s/step - contrast_loss: 11.9061 - contrast_acc: 0.8901 - contrast_entropy: 6.1912 - supervised_loss: 1.0489 - supervised_acc: 0.5963\n",
            "Epoch 26/30\n",
            "164/164 [==============================] - 475s 3s/step - contrast_loss: 11.9041 - contrast_acc: 0.9018 - contrast_entropy: 6.1920 - supervised_loss: 1.0328 - supervised_acc: 0.6016\n",
            "Epoch 27/30\n",
            "164/164 [==============================] - 473s 3s/step - contrast_loss: 11.9021 - contrast_acc: 0.9144 - contrast_entropy: 6.1927 - supervised_loss: 1.0120 - supervised_acc: 0.6114\n",
            "Epoch 28/30\n",
            "164/164 [==============================] - 475s 3s/step - contrast_loss: 11.8982 - contrast_acc: 0.9305 - contrast_entropy: 6.1938 - supervised_loss: 0.9915 - supervised_acc: 0.6199\n",
            "Epoch 29/30\n",
            "164/164 [==============================] - 492s 3s/step - contrast_loss: 11.8962 - contrast_acc: 0.9375 - contrast_entropy: 6.1946 - supervised_loss: 0.9728 - supervised_acc: 0.6278\n",
            "Epoch 30/30\n",
            "164/164 [==============================] - 513s 3s/step - contrast_loss: 11.8936 - contrast_acc: 0.9447 - contrast_entropy: 6.1955 - supervised_loss: 0.9505 - supervised_acc: 0.6366\n"
          ],
          "name": "stdout"
        },
        {
          "output_type": "display_data",
          "data": {
            "text/html": [
              "<br/>Waiting for W&B process to finish, PID 550<br/>Program ended successfully."
            ],
            "text/plain": [
              "<IPython.core.display.HTML object>"
            ]
          },
          "metadata": {
            "tags": []
          }
        },
        {
          "output_type": "display_data",
          "data": {
            "application/vnd.jupyter.widget-view+json": {
              "model_id": "52892a63d03e4da9bd151573161ee319",
              "version_major": 2,
              "version_minor": 0
            },
            "text/plain": [
              "VBox(children=(Label(value=' 0.00MB of 0.00MB uploaded (0.00MB deduped)\\r'), FloatProgress(value=1.0, max=1.0)…"
            ]
          },
          "metadata": {
            "tags": []
          }
        },
        {
          "output_type": "display_data",
          "data": {
            "text/html": [
              "Find user logs for this run at: <code>/content/retinal_oct/retinal_oct/core/models/simclr/wandb/run-20210112_141307-3shm3vy2/logs/debug.log</code>"
            ],
            "text/plain": [
              "<IPython.core.display.HTML object>"
            ]
          },
          "metadata": {
            "tags": []
          }
        },
        {
          "output_type": "display_data",
          "data": {
            "text/html": [
              "Find internal logs for this run at: <code>/content/retinal_oct/retinal_oct/core/models/simclr/wandb/run-20210112_141307-3shm3vy2/logs/debug-internal.log</code>"
            ],
            "text/plain": [
              "<IPython.core.display.HTML object>"
            ]
          },
          "metadata": {
            "tags": []
          }
        },
        {
          "output_type": "display_data",
          "data": {
            "text/html": [
              "<h3>Run summary:</h3><br/><style>\n",
              "    table.wandb td:nth-child(1) { padding: 0 10px; text-align: right }\n",
              "    </style><table class=\"wandb\">\n",
              "<tr><td>epoch</td><td>29</td></tr><tr><td>contrast_loss</td><td>11.89363</td></tr><tr><td>contrast_acc</td><td>0.94472</td></tr><tr><td>contrast_entropy</td><td>6.1955</td></tr><tr><td>supervised_loss</td><td>0.95048</td></tr><tr><td>supervised_acc</td><td>0.63657</td></tr><tr><td>_step</td><td>29</td></tr><tr><td>_runtime</td><td>14881</td></tr><tr><td>_timestamp</td><td>1610475671</td></tr></table>"
            ],
            "text/plain": [
              "<IPython.core.display.HTML object>"
            ]
          },
          "metadata": {
            "tags": []
          }
        },
        {
          "output_type": "display_data",
          "data": {
            "text/html": [
              "<h3>Run history:</h3><br/><style>\n",
              "    table.wandb td:nth-child(1) { padding: 0 10px; text-align: right }\n",
              "    </style><table class=\"wandb\">\n",
              "<tr><td>epoch</td><td>▁▁▁▂▂▂▂▃▃▃▃▄▄▄▄▅▅▅▅▆▆▆▆▇▇▇▇███</td></tr><tr><td>contrast_loss</td><td>█▅▄▄▃▃▃▂▂▂▂▂▂▂▂▂▂▁▁▁▁▁▁▁▁▁▁▁▁▁</td></tr><tr><td>contrast_acc</td><td>▁▁▂▂▃▃▃▄▄▄▅▅▅▆▆▆▆▇▇▇▇▇▇▇▇█████</td></tr><tr><td>contrast_entropy</td><td>▁▂▃▃▄▄▅▅▅▆▆▆▆▆▆▇▇▇▇▇▇▇▇▇██████</td></tr><tr><td>supervised_loss</td><td>█▆▆▆▆▆▆▆▆▆▆▆▆▆▆▆▅▅▅▄▄▄▃▃▃▃▂▂▁▁</td></tr><tr><td>supervised_acc</td><td>▁▂▂▂▂▂▂▂▂▂▂▂▂▂▂▃▃▄▅▅▆▆▆▆▇▇▇▇██</td></tr><tr><td>_step</td><td>▁▁▁▂▂▂▂▃▃▃▃▄▄▄▄▅▅▅▅▆▆▆▆▇▇▇▇███</td></tr><tr><td>_runtime</td><td>▁▁▁▂▂▂▂▃▃▃▃▄▄▄▄▅▅▅▅▆▆▆▆▇▇▇▇███</td></tr><tr><td>_timestamp</td><td>▁▁▁▂▂▂▂▃▃▃▃▄▄▄▄▅▅▅▅▆▆▆▆▇▇▇▇███</td></tr></table><br/>"
            ],
            "text/plain": [
              "<IPython.core.display.HTML object>"
            ]
          },
          "metadata": {
            "tags": []
          }
        },
        {
          "output_type": "display_data",
          "data": {
            "text/html": [
              "Synced 5 W&B file(s), 1 media file(s), 0 artifact file(s) and 1 other file(s)"
            ],
            "text/plain": [
              "<IPython.core.display.HTML object>"
            ]
          },
          "metadata": {
            "tags": []
          }
        },
        {
          "output_type": "display_data",
          "data": {
            "text/html": [
              "\n",
              "                    <br/>Synced <strong style=\"color:#cdcd00\">lively-river-11</strong>: <a href=\"https://wandb.ai/hisunnytang/OCT-keras-SimCLR/runs/3shm3vy2\" target=\"_blank\">https://wandb.ai/hisunnytang/OCT-keras-SimCLR/runs/3shm3vy2</a><br/>\n",
              "                "
            ],
            "text/plain": [
              "<IPython.core.display.HTML object>"
            ]
          },
          "metadata": {
            "tags": []
          }
        }
      ]
    },
    {
      "cell_type": "code",
      "metadata": {
        "colab": {
          "base_uri": "https://localhost:8080/",
          "height": 1000,
          "referenced_widgets": [
            "573c3e89efbe4deba33b0c9be75e994f",
            "a65bb747b3a64a69b921597373cd0b6e",
            "640c4fc23c2f42e5b2c163493673ba27",
            "c31fefd6f3924dda80cae95cc2d99360",
            "80086eebbf4c431e85e07a490ed252c9",
            "71f347524597447599b9e19278e97f7a",
            "49036d3485bb40bd909f59af4e6136f2",
            "708e219320f4464391387c525d4ba763"
          ]
        },
        "id": "0MJ_DQjFms4f",
        "outputId": "1b747032-8212-47c1-e7f0-5f1c136c9235"
      },
      "source": [
        "run = wandb.init(project='OCT-keras-SimCLR',\r\n",
        "                 config={  # and include hyperparameters and metadata\r\n",
        "                     \"learning_rate\": 1e-2,\r\n",
        "                     \"epochs\": 30,\r\n",
        "                     \"batch_size\": 512,\r\n",
        "                     \"num_classes\": 4,\r\n",
        "                     \"use_blur\": True,\r\n",
        "                     # ProjectionLayer Parameters\r\n",
        "                     \"proj_head_mode\": 'nonlinear',\r\n",
        "                     \"proj_out_dim\" : 128,\r\n",
        "                     \"num_proj_layers\": 3,\r\n",
        "                     \"ft_proj_selector\": 0,\r\n",
        "                     # Resnet_parameter\r\n",
        "                     \"resnet_depth\": 18,\r\n",
        "                     \"resnet_width_multiplier\": 1,\r\n",
        "                     \"resnet_se_ratio\": 0.0,\r\n",
        "                     \"resnet_sk_ratio\": 0.0,\r\n",
        "                     # contrastive loss parameter\r\n",
        "                     \"hidden_norm\": True,\r\n",
        "                     \"temperature\" :1.0,\r\n",
        "                     # Image Size\r\n",
        "                     'IMG_SIZE': 128,\r\n",
        "                 })\r\n",
        "\r\n",
        "\r\n",
        "config = run.config\r\n",
        "\r\n",
        "# Initialize the model\r\n",
        "model = simclr_model.Pretrained_SimCLR_Model(num_classes=NUM_CLASSES,\r\n",
        "                                             use_blur = config.use_blur,\r\n",
        "                                             proj_head_mode = config.proj_head_mode,\r\n",
        "                                             proj_out_dim = config.proj_out_dim,\r\n",
        "                                             num_proj_layers = config.num_proj_layers,\r\n",
        "                                             ft_proj_selector = config.ft_proj_selector,\r\n",
        "                                             resnet_depth = config.resnet_depth,\r\n",
        "                                             resnet_width_multiplier = config.resnet_width_multiplier,\r\n",
        "                                             resnet_se_ratio = config.resnet_se_ratio,\r\n",
        "                                             resnet_sk_ratio = config.resnet_sk_ratio,\r\n",
        "                                             hidden_norm = config.hidden_norm,\r\n",
        "                                             temperature = config.temperature)\r\n",
        "\r\n",
        "# Build the Model\r\n",
        "input_shape_base   = (None, config.IMG_SIZE, config.IMG_SIZE, 3)\r\n",
        "input_shape_simclr = (None, config.IMG_SIZE, config.IMG_SIZE, 6)\r\n",
        "model.base_model.build(input_shape_base)\r\n",
        "model.build(input_shape_simclr)\r\n",
        "model.summary()\r\n",
        "\r\n",
        "# Define Optimizer\r\n",
        "optimizer = tfa.optimizers.LAMB(config.learning_rate)\r\n",
        "model.compile(optimizer= optimizer)\r\n",
        "\r\n",
        "model.fit(ds_train.map(train_data_aug).batch(config.batch_size ),\r\n",
        "          epochs= config.epochs,\r\n",
        "          callbacks = [WandbCallback()])\r\n",
        "model.save_weights( os.path.join(wandb.run.dir, 'model.h5') )\r\n",
        "run.finish()"
      ],
      "execution_count": null,
      "outputs": [
        {
          "output_type": "display_data",
          "data": {
            "text/html": [
              "\n",
              "                Tracking run with wandb version 0.10.13<br/>\n",
              "                Syncing run <strong style=\"color:#cdcd00\">dulcet-river-12</strong> to <a href=\"https://wandb.ai\" target=\"_blank\">Weights & Biases</a> <a href=\"https://docs.wandb.com/integrations/jupyter.html\" target=\"_blank\">(Documentation)</a>.<br/>\n",
              "                Project page: <a href=\"https://wandb.ai/hisunnytang/OCT-keras-SimCLR\" target=\"_blank\">https://wandb.ai/hisunnytang/OCT-keras-SimCLR</a><br/>\n",
              "                Run page: <a href=\"https://wandb.ai/hisunnytang/OCT-keras-SimCLR/runs/3osrehud\" target=\"_blank\">https://wandb.ai/hisunnytang/OCT-keras-SimCLR/runs/3osrehud</a><br/>\n",
              "                Run data is saved locally in <code>/content/retinal_oct/retinal_oct/core/models/simclr/wandb/run-20210112_190958-3osrehud</code><br/><br/>\n",
              "            "
            ],
            "text/plain": [
              "<IPython.core.display.HTML object>"
            ]
          },
          "metadata": {
            "tags": []
          }
        },
        {
          "output_type": "stream",
          "text": [
            "Model: \"pretrained__sim_clr__model_3\"\n",
            "_________________________________________________________________\n",
            "Layer (type)                 Output Shape              Param #   \n",
            "=================================================================\n",
            "resnet_3 (Resnet)            multiple                  11190464  \n",
            "_________________________________________________________________\n",
            "head_supervised (SupervisedH multiple                  2052      \n",
            "_________________________________________________________________\n",
            "projection_head_3 (Projectio multiple                  594304    \n",
            "=================================================================\n",
            "Total params: 11,786,830\n",
            "Trainable params: 11,774,788\n",
            "Non-trainable params: 12,042\n",
            "_________________________________________________________________\n",
            "Epoch 1/30\n",
            "164/164 [==============================] - 526s 3s/step - contrast_loss: 12.0841 - contrast_acc: 0.4060 - contrast_entropy: 6.1426 - supervised_loss: 1.2338 - supervised_acc: 0.4447\n",
            "Epoch 2/30\n",
            "164/164 [==============================] - 492s 3s/step - contrast_loss: 11.9636 - contrast_acc: 0.6000 - contrast_entropy: 6.1701 - supervised_loss: 1.2216 - supervised_acc: 0.4479\n",
            "Epoch 3/30\n",
            "164/164 [==============================] - 488s 3s/step - contrast_loss: 11.9431 - contrast_acc: 0.7038 - contrast_entropy: 6.1783 - supervised_loss: 1.2065 - supervised_acc: 0.4576\n",
            "Epoch 4/30\n",
            "164/164 [==============================] - 484s 3s/step - contrast_loss: 11.9298 - contrast_acc: 0.7858 - contrast_entropy: 6.1842 - supervised_loss: 1.1432 - supervised_acc: 0.5228\n",
            "Epoch 5/30\n",
            "164/164 [==============================] - 481s 3s/step - contrast_loss: 11.9180 - contrast_acc: 0.8465 - contrast_entropy: 6.1887 - supervised_loss: 1.0419 - supervised_acc: 0.5925\n",
            "Epoch 6/30\n",
            "164/164 [==============================] - 484s 3s/step - contrast_loss: 11.9080 - contrast_acc: 0.8981 - contrast_entropy: 6.1931 - supervised_loss: 0.9782 - supervised_acc: 0.6230\n",
            "Epoch 7/30\n",
            "164/164 [==============================] - 493s 3s/step - contrast_loss: 11.9017 - contrast_acc: 0.9217 - contrast_entropy: 6.1952 - supervised_loss: 0.9291 - supervised_acc: 0.6461\n",
            "Epoch 8/30\n",
            "164/164 [==============================] - 523s 3s/step - contrast_loss: 11.8972 - contrast_acc: 0.9360 - contrast_entropy: 6.1963 - supervised_loss: 0.8742 - supervised_acc: 0.6708\n",
            "Epoch 9/30\n",
            "164/164 [==============================] - 514s 3s/step - contrast_loss: 11.8922 - contrast_acc: 0.9417 - contrast_entropy: 6.1983 - supervised_loss: 0.8381 - supervised_acc: 0.6838\n",
            "Epoch 10/30\n",
            "164/164 [==============================] - 523s 3s/step - contrast_loss: 11.8896 - contrast_acc: 0.9503 - contrast_entropy: 6.1996 - supervised_loss: 0.8234 - supervised_acc: 0.6899\n",
            "Epoch 11/30\n",
            "164/164 [==============================] - 516s 3s/step - contrast_loss: 11.8875 - contrast_acc: 0.9537 - contrast_entropy: 6.2005 - supervised_loss: 0.8004 - supervised_acc: 0.6989\n",
            "Epoch 12/30\n",
            "164/164 [==============================] - 521s 3s/step - contrast_loss: 11.8849 - contrast_acc: 0.9594 - contrast_entropy: 6.2017 - supervised_loss: 0.7898 - supervised_acc: 0.7029\n",
            "Epoch 13/30\n",
            "164/164 [==============================] - 517s 3s/step - contrast_loss: 11.8841 - contrast_acc: 0.9608 - contrast_entropy: 6.2023 - supervised_loss: 0.7851 - supervised_acc: 0.7064\n",
            "Epoch 14/30\n",
            "164/164 [==============================] - 509s 3s/step - contrast_loss: 11.8835 - contrast_acc: 0.9616 - contrast_entropy: 6.2026 - supervised_loss: 0.7825 - supervised_acc: 0.7075\n",
            "Epoch 15/30\n",
            "164/164 [==============================] - 512s 3s/step - contrast_loss: 11.8822 - contrast_acc: 0.9637 - contrast_entropy: 6.2031 - supervised_loss: 0.7866 - supervised_acc: 0.7085\n",
            "Epoch 16/30\n",
            "164/164 [==============================] - 496s 3s/step - contrast_loss: 11.8821 - contrast_acc: 0.9647 - contrast_entropy: 6.2035 - supervised_loss: 0.8005 - supervised_acc: 0.7060\n",
            "Epoch 17/30\n",
            "164/164 [==============================] - 489s 3s/step - contrast_loss: 11.8833 - contrast_acc: 0.9620 - contrast_entropy: 6.2034 - supervised_loss: 0.7962 - supervised_acc: 0.7095\n",
            "Epoch 18/30\n",
            "164/164 [==============================] - 487s 3s/step - contrast_loss: 11.8822 - contrast_acc: 0.9641 - contrast_entropy: 6.2038 - supervised_loss: 0.7871 - supervised_acc: 0.7138\n",
            "Epoch 19/30\n",
            "164/164 [==============================] - 503s 3s/step - contrast_loss: 11.8811 - contrast_acc: 0.9672 - contrast_entropy: 6.2040 - supervised_loss: 0.7840 - supervised_acc: 0.7172\n",
            "Epoch 20/30\n",
            "164/164 [==============================] - 515s 3s/step - contrast_loss: 11.8812 - contrast_acc: 0.9656 - contrast_entropy: 6.2042 - supervised_loss: 0.7919 - supervised_acc: 0.7170\n",
            "Epoch 21/30\n",
            "164/164 [==============================] - 508s 3s/step - contrast_loss: 11.8801 - contrast_acc: 0.9681 - contrast_entropy: 6.2044 - supervised_loss: 0.8148 - supervised_acc: 0.7133\n",
            "Epoch 22/30\n",
            "164/164 [==============================] - 490s 3s/step - contrast_loss: 11.8796 - contrast_acc: 0.9686 - contrast_entropy: 6.2046 - supervised_loss: 0.8321 - supervised_acc: 0.7137\n",
            "Epoch 23/30\n",
            "164/164 [==============================] - 487s 3s/step - contrast_loss: 11.8798 - contrast_acc: 0.9685 - contrast_entropy: 6.2047 - supervised_loss: 0.8303 - supervised_acc: 0.7208\n",
            "Epoch 24/30\n",
            "164/164 [==============================] - 487s 3s/step - contrast_loss: 11.8787 - contrast_acc: 0.9717 - contrast_entropy: 6.2050 - supervised_loss: 0.8563 - supervised_acc: 0.7179\n",
            "Epoch 25/30\n",
            "164/164 [==============================] - 489s 3s/step - contrast_loss: 11.8804 - contrast_acc: 0.9712 - contrast_entropy: 6.2048 - supervised_loss: 0.8724 - supervised_acc: 0.7197\n",
            "Epoch 26/30\n",
            "164/164 [==============================] - 487s 3s/step - contrast_loss: 11.8779 - contrast_acc: 0.9740 - contrast_entropy: 6.2054 - supervised_loss: 0.9636 - supervised_acc: 0.7175\n",
            "Epoch 27/30\n",
            "164/164 [==============================] - 486s 3s/step - contrast_loss: 11.8782 - contrast_acc: 0.9743 - contrast_entropy: 6.2055 - supervised_loss: 0.9392 - supervised_acc: 0.7227\n",
            "Epoch 28/30\n",
            "164/164 [==============================] - 485s 3s/step - contrast_loss: 11.8783 - contrast_acc: 0.9747 - contrast_entropy: 6.2054 - supervised_loss: 0.9475 - supervised_acc: 0.7266\n",
            "Epoch 29/30\n",
            "164/164 [==============================] - 485s 3s/step - contrast_loss: 11.8790 - contrast_acc: 0.9737 - contrast_entropy: 6.2053 - supervised_loss: 1.0490 - supervised_acc: 0.7213\n",
            "Epoch 30/30\n",
            "164/164 [==============================] - 482s 3s/step - contrast_loss: 11.8792 - contrast_acc: 0.9724 - contrast_entropy: 6.2051 - supervised_loss: 1.0461 - supervised_acc: 0.7196\n"
          ],
          "name": "stdout"
        },
        {
          "output_type": "display_data",
          "data": {
            "text/html": [
              "<br/>Waiting for W&B process to finish, PID 3172<br/>Program ended successfully."
            ],
            "text/plain": [
              "<IPython.core.display.HTML object>"
            ]
          },
          "metadata": {
            "tags": []
          }
        },
        {
          "output_type": "display_data",
          "data": {
            "application/vnd.jupyter.widget-view+json": {
              "model_id": "573c3e89efbe4deba33b0c9be75e994f",
              "version_major": 2,
              "version_minor": 0
            },
            "text/plain": [
              "VBox(children=(Label(value=' 0.00MB of 0.00MB uploaded (0.00MB deduped)\\r'), FloatProgress(value=1.0, max=1.0)…"
            ]
          },
          "metadata": {
            "tags": []
          }
        },
        {
          "output_type": "display_data",
          "data": {
            "text/html": [
              "Find user logs for this run at: <code>/content/retinal_oct/retinal_oct/core/models/simclr/wandb/run-20210112_190958-3osrehud/logs/debug.log</code>"
            ],
            "text/plain": [
              "<IPython.core.display.HTML object>"
            ]
          },
          "metadata": {
            "tags": []
          }
        },
        {
          "output_type": "display_data",
          "data": {
            "text/html": [
              "Find internal logs for this run at: <code>/content/retinal_oct/retinal_oct/core/models/simclr/wandb/run-20210112_190958-3osrehud/logs/debug-internal.log</code>"
            ],
            "text/plain": [
              "<IPython.core.display.HTML object>"
            ]
          },
          "metadata": {
            "tags": []
          }
        },
        {
          "output_type": "display_data",
          "data": {
            "text/html": [
              "<h3>Run summary:</h3><br/><style>\n",
              "    table.wandb td:nth-child(1) { padding: 0 10px; text-align: right }\n",
              "    </style><table class=\"wandb\">\n",
              "<tr><td>epoch</td><td>29</td></tr><tr><td>contrast_loss</td><td>11.87924</td></tr><tr><td>contrast_acc</td><td>0.97243</td></tr><tr><td>contrast_entropy</td><td>6.20512</td></tr><tr><td>supervised_loss</td><td>1.0461</td></tr><tr><td>supervised_acc</td><td>0.71961</td></tr><tr><td>_step</td><td>29</td></tr><tr><td>_runtime</td><td>14985</td></tr><tr><td>_timestamp</td><td>1610493583</td></tr></table>"
            ],
            "text/plain": [
              "<IPython.core.display.HTML object>"
            ]
          },
          "metadata": {
            "tags": []
          }
        },
        {
          "output_type": "display_data",
          "data": {
            "text/html": [
              "<h3>Run history:</h3><br/><style>\n",
              "    table.wandb td:nth-child(1) { padding: 0 10px; text-align: right }\n",
              "    </style><table class=\"wandb\">\n",
              "<tr><td>epoch</td><td>▁▁▁▂▂▂▂▃▃▃▃▄▄▄▄▅▅▅▅▆▆▆▆▇▇▇▇███</td></tr><tr><td>contrast_loss</td><td>█▄▃▃▂▂▂▂▁▁▁▁▁▁▁▁▁▁▁▁▁▁▁▁▁▁▁▁▁▁</td></tr><tr><td>contrast_acc</td><td>▁▃▅▆▆▇▇███████████████████████</td></tr><tr><td>contrast_entropy</td><td>▁▄▅▆▆▇▇▇▇▇▇███████████████████</td></tr><tr><td>supervised_loss</td><td>███▇▅▄▃▂▂▂▁▁▁▁▁▁▁▁▁▁▂▂▂▂▂▄▃▄▅▅</td></tr><tr><td>supervised_acc</td><td>▁▁▁▃▅▅▆▇▇▇▇▇▇██▇██████████████</td></tr><tr><td>_step</td><td>▁▁▁▂▂▂▂▃▃▃▃▄▄▄▄▅▅▅▅▆▆▆▆▇▇▇▇███</td></tr><tr><td>_runtime</td><td>▁▁▁▂▂▂▂▃▃▃▃▄▄▄▄▅▅▅▅▆▆▆▆▇▇▇▇███</td></tr><tr><td>_timestamp</td><td>▁▁▁▂▂▂▂▃▃▃▃▄▄▄▄▅▅▅▅▆▆▆▆▇▇▇▇███</td></tr></table><br/>"
            ],
            "text/plain": [
              "<IPython.core.display.HTML object>"
            ]
          },
          "metadata": {
            "tags": []
          }
        },
        {
          "output_type": "display_data",
          "data": {
            "text/html": [
              "Synced 5 W&B file(s), 1 media file(s), 0 artifact file(s) and 1 other file(s)"
            ],
            "text/plain": [
              "<IPython.core.display.HTML object>"
            ]
          },
          "metadata": {
            "tags": []
          }
        },
        {
          "output_type": "display_data",
          "data": {
            "text/html": [
              "\n",
              "                    <br/>Synced <strong style=\"color:#cdcd00\">dulcet-river-12</strong>: <a href=\"https://wandb.ai/hisunnytang/OCT-keras-SimCLR/runs/3osrehud\" target=\"_blank\">https://wandb.ai/hisunnytang/OCT-keras-SimCLR/runs/3osrehud</a><br/>\n",
              "                "
            ],
            "text/plain": [
              "<IPython.core.display.HTML object>"
            ]
          },
          "metadata": {
            "tags": []
          }
        }
      ]
    },
    {
      "cell_type": "code",
      "metadata": {
        "id": "72DCe_tuEa0e"
      },
      "source": [
        "import tensorflow as tf\r\n",
        "import tensorflow_addons as tfa"
      ],
      "execution_count": null,
      "outputs": []
    },
    {
      "cell_type": "code",
      "metadata": {
        "id": "M3a-LtGkE1k2"
      },
      "source": [
        "optimizer = tfa.optimizers.LAMB(learning_rate=WarmUpAndCosineDecay)"
      ],
      "execution_count": null,
      "outputs": []
    },
    {
      "cell_type": "code",
      "metadata": {
        "id": "SrCRKT4IATeQ",
        "colab": {
          "base_uri": "https://localhost:8080/"
        },
        "outputId": "fc8d6120-f25c-4b41-df98-e03bf6d2313a"
      },
      "source": [
        "%%writefile lr_schedule.py\r\n",
        "import tensorflow as tf\r\n",
        "\r\n",
        "class WarmUpAndCosineDecay(tf.keras.optimizers.schedules.LearningRateSchedule):\r\n",
        "  \"\"\"Applies a warmup schedule on a given learning rate decay schedule.\"\"\"\r\n",
        "\r\n",
        "  def __init__(self, base_learning_rate, num_examples, \r\n",
        "               name=None, \r\n",
        "               train_epochs = 1000,\r\n",
        "               train_batch_size = 256, \r\n",
        "               learning_rate_scaling='linear',\r\n",
        "               warmup_epochs = 10,\r\n",
        "               ):\r\n",
        "    super(WarmUpAndCosineDecay, self).__init__()\r\n",
        "    self.base_learning_rate = base_learning_rate\r\n",
        "    self.num_examples = num_examples\r\n",
        "    self._name = name\r\n",
        "    self.learning_rate_scaling = learning_rate_scaling\r\n",
        "    self.train_batch_size = train_batch_size\r\n",
        "    self.warmup_epochs = warmup_epochs\r\n",
        "    self.train_epochs  = train_epochs\r\n",
        "\r\n",
        "  def __call__(self, step):\r\n",
        "    with tf.name_scope(self._name or 'WarmUpAndCosineDecay'):\r\n",
        "      warmup_steps = int(\r\n",
        "          round(self.warmup_epochs * self.num_examples //\r\n",
        "                self.train_batch_size))\r\n",
        "      if self.learning_rate_scaling == 'linear':\r\n",
        "        scaled_lr = self.base_learning_rate * self.train_batch_size / 256.\r\n",
        "      elif self.learning_rate_scaling == 'sqrt':\r\n",
        "        scaled_lr = self.base_learning_rate * math.sqrt(self.train_batch_size)\r\n",
        "      else:\r\n",
        "        raise ValueError('Unknown learning rate scaling {}'.format(\r\n",
        "            self.learning_rate_scaling))\r\n",
        "      learning_rate = (\r\n",
        "          step / float(warmup_steps) * scaled_lr if warmup_steps else scaled_lr)\r\n",
        "\r\n",
        "      # Cosine decay learning rate schedule\r\n",
        "      total_steps = self.num_examples * self.train_epochs // self.train_batch_size + 1\r\n",
        "      # TODO(srbs): Cache this object.\r\n",
        "      cosine_decay = tf.keras.experimental.CosineDecay(\r\n",
        "          scaled_lr, total_steps - warmup_steps)\r\n",
        "      learning_rate = tf.where(step < warmup_steps, learning_rate,\r\n",
        "                               cosine_decay(step - warmup_steps))\r\n",
        "\r\n",
        "      return learning_rate\r\n",
        "\r\n",
        "  def get_config(self):\r\n",
        "    return {\r\n",
        "        'base_learning_rate': self.base_learning_rate,\r\n",
        "        'num_examples': self.num_examples,\r\n",
        "    }"
      ],
      "execution_count": null,
      "outputs": [
        {
          "output_type": "stream",
          "text": [
            "Writing lr_schedule.py\n"
          ],
          "name": "stdout"
        }
      ]
    },
    {
      "cell_type": "code",
      "metadata": {
        "id": "5HTmCzqPEpCZ"
      },
      "source": [
        "o = WarmUpAndCosineDecay(0.01, 8000, warmup_epochs=10)"
      ],
      "execution_count": null,
      "outputs": []
    },
    {
      "cell_type": "code",
      "metadata": {
        "colab": {
          "base_uri": "https://localhost:8080/"
        },
        "id": "UZ__uHtPHBp0",
        "outputId": "4c2d4b89-dc76-4b2f-de51-5f55d74be6c9"
      },
      "source": [
        "8000//256"
      ],
      "execution_count": null,
      "outputs": [
        {
          "output_type": "execute_result",
          "data": {
            "text/plain": [
              "31"
            ]
          },
          "metadata": {
            "tags": []
          },
          "execution_count": 32
        }
      ]
    },
    {
      "cell_type": "code",
      "metadata": {
        "id": "t1TjpAraGAe8"
      },
      "source": [
        "epochs = []\r\n",
        "rates = []\r\n",
        "for i in range(1000):\r\n",
        "  rates.append(o(i*31).numpy())"
      ],
      "execution_count": null,
      "outputs": []
    },
    {
      "cell_type": "code",
      "metadata": {
        "colab": {
          "base_uri": "https://localhost:8080/",
          "height": 282
        },
        "id": "Qz3idGTtGGqQ",
        "outputId": "e83977ea-ab96-4e9e-ab40-8d7a9eb72c22"
      },
      "source": [
        "import matplotlib.pyplot as plt\r\n",
        "\r\n",
        "plt.plot(rates)"
      ],
      "execution_count": null,
      "outputs": [
        {
          "output_type": "execute_result",
          "data": {
            "text/plain": [
              "[<matplotlib.lines.Line2D at 0x7f117da23470>]"
            ]
          },
          "metadata": {
            "tags": []
          },
          "execution_count": 34
        },
        {
          "output_type": "display_data",
          "data": {
            "image/png": "[encoded data removed]",
            "text/plain": [
              "<Figure size 432x288 with 1 Axes>"
            ]
          },
          "metadata": {
            "tags": [],
            "needs_background": "light"
          }
        }
      ]
    },
    {
      "cell_type": "code",
      "metadata": {
        "id": "3lqnLTsvGa20"
      },
      "source": [
        "import tensorflow as tf\r\n",
        "\r\n",
        "import time\r\n",
        "\r\n",
        "def benchmark(dataset, num_epochs=1):\r\n",
        "    start_time = time.perf_counter()\r\n",
        "    for epoch_num in range(num_epochs):\r\n",
        "        for sample in dataset:\r\n",
        "            # Performing a training step\r\n",
        "            time.sleep(0.01)\r\n",
        "    tf.print(\"Execution time:\", time.perf_counter() - start_time)\r\n",
        "\r\n",
        "def train_classification_aug(img, lb, \r\n",
        "                             img_size=128, \r\n",
        "                             brightness_delta= 0.8,\r\n",
        "                             contrast_delta  = 0.5,\r\n",
        "                             saturation_delta= 0.5,\r\n",
        "                             hue_delta       = 0.2,\r\n",
        "                             max_rot_angle   = 45.):\r\n",
        "  img = tf.cast(img, dtype=tf.float32)/255.\r\n",
        "  IMG_SIZE = img_size\r\n",
        "\r\n",
        "  angle_rad = max_rot_angle / 180. * np.pi\r\n",
        "\r\n",
        "  padding = IMG_SIZE // 4\r\n",
        "  precrop_shape = IMG_SIZE + padding\r\n",
        "\r\n",
        "  img = tf.image.resize(img, (precrop_shape, precrop_shape))\r\n",
        "  img = tf.image.random_crop(img, (256, IMG_SIZE, IMG_SIZE, 3))\r\n",
        "  img = tf.image.random_brightness(img, brightness_delta)\r\n",
        "  img = tf.image.random_contrast  (img, 1-contrast_delta,  1+contrast_delta)\r\n",
        "  img = tf.image.random_saturation(img, 1-saturation_delta,1+saturation_delta)\r\n",
        "  img = tf.image.random_hue       (img, hue_delta)\r\n",
        "\r\n",
        "  img = tf.image.random_flip_left_right(img)\r\n",
        "  img = tfa.image.rotate(img, (tf.random.uniform(shape=(1,)) - 0.5)*2 *angle_rad )\r\n",
        "\r\n",
        "  img = tf.clip_by_value(img, 0., 1.0)\r\n",
        "  return img, lb #tf.one_hot(lb, 4, )\r\n",
        "\r\n",
        "def train_data_aug(img, lb):\r\n",
        "  xs = []\r\n",
        "  for _ in range(2):\r\n",
        "    xs.append(train_classification_aug(img, lb)[0])\r\n",
        "  img = tf.concat(xs, -1)\r\n",
        "  return img, tf.one_hot(lb, NUM_CLASSES)"
      ],
      "execution_count": null,
      "outputs": []
    },
    {
      "cell_type": "code",
      "metadata": {
        "colab": {
          "base_uri": "https://localhost:8080/",
          "height": 731
        },
        "id": "TnahBoeFfmkS",
        "outputId": "71ff8a9e-f052-408c-c604-69966079f41c"
      },
      "source": [
        "benchmark(ds_test.map(train_data_aug, num_parallel_calls=tf.data.AUTOTUNE).batch(32))"
      ],
      "execution_count": null,
      "outputs": [
        {
          "output_type": "error",
          "ename": "ValueError",
          "evalue": "ignored",
          "traceback": [
            "\u001b[0;31m---------------------------------------------------------------------------\u001b[0m",
            "\u001b[0;31mValueError\u001b[0m                                Traceback (most recent call last)",
            "\u001b[0;32m<ipython-input-69-998e77187b30>\u001b[0m in \u001b[0;36m<module>\u001b[0;34m()\u001b[0m\n\u001b[0;32m----> 1\u001b[0;31m \u001b[0mbenchmark\u001b[0m\u001b[0;34m(\u001b[0m\u001b[0mds_test\u001b[0m\u001b[0;34m.\u001b[0m\u001b[0mmap\u001b[0m\u001b[0;34m(\u001b[0m\u001b[0mtrain_data_aug\u001b[0m\u001b[0;34m,\u001b[0m \u001b[0mnum_parallel_calls\u001b[0m\u001b[0;34m=\u001b[0m\u001b[0mtf\u001b[0m\u001b[0;34m.\u001b[0m\u001b[0mdata\u001b[0m\u001b[0;34m.\u001b[0m\u001b[0mAUTOTUNE\u001b[0m\u001b[0;34m)\u001b[0m\u001b[0;34m.\u001b[0m\u001b[0mbatch\u001b[0m\u001b[0;34m(\u001b[0m\u001b[0;36m32\u001b[0m\u001b[0;34m)\u001b[0m\u001b[0;34m)\u001b[0m\u001b[0;34m\u001b[0m\u001b[0;34m\u001b[0m\u001b[0m\n\u001b[0m",
            "\u001b[0;32m/usr/local/lib/python3.6/dist-packages/tensorflow/python/data/ops/dataset_ops.py\u001b[0m in \u001b[0;36mmap\u001b[0;34m(self, map_func, num_parallel_calls, deterministic)\u001b[0m\n\u001b[1;32m   1810\u001b[0m           \u001b[0mnum_parallel_calls\u001b[0m\u001b[0;34m,\u001b[0m\u001b[0;34m\u001b[0m\u001b[0;34m\u001b[0m\u001b[0m\n\u001b[1;32m   1811\u001b[0m           \u001b[0mdeterministic\u001b[0m\u001b[0;34m,\u001b[0m\u001b[0;34m\u001b[0m\u001b[0;34m\u001b[0m\u001b[0m\n\u001b[0;32m-> 1812\u001b[0;31m           preserve_cardinality=True)\n\u001b[0m\u001b[1;32m   1813\u001b[0m \u001b[0;34m\u001b[0m\u001b[0m\n\u001b[1;32m   1814\u001b[0m   \u001b[0;32mdef\u001b[0m \u001b[0mflat_map\u001b[0m\u001b[0;34m(\u001b[0m\u001b[0mself\u001b[0m\u001b[0;34m,\u001b[0m \u001b[0mmap_func\u001b[0m\u001b[0;34m)\u001b[0m\u001b[0;34m:\u001b[0m\u001b[0;34m\u001b[0m\u001b[0;34m\u001b[0m\u001b[0m\n",
            "\u001b[0;32m/usr/local/lib/python3.6/dist-packages/tensorflow/python/data/ops/dataset_ops.py\u001b[0m in \u001b[0;36m__init__\u001b[0;34m(self, input_dataset, map_func, num_parallel_calls, deterministic, use_inter_op_parallelism, preserve_cardinality, use_legacy_function)\u001b[0m\n\u001b[1;32m   4244\u001b[0m         \u001b[0mself\u001b[0m\u001b[0;34m.\u001b[0m\u001b[0m_transformation_name\u001b[0m\u001b[0;34m(\u001b[0m\u001b[0;34m)\u001b[0m\u001b[0;34m,\u001b[0m\u001b[0;34m\u001b[0m\u001b[0;34m\u001b[0m\u001b[0m\n\u001b[1;32m   4245\u001b[0m         \u001b[0mdataset\u001b[0m\u001b[0;34m=\u001b[0m\u001b[0minput_dataset\u001b[0m\u001b[0;34m,\u001b[0m\u001b[0;34m\u001b[0m\u001b[0;34m\u001b[0m\u001b[0m\n\u001b[0;32m-> 4246\u001b[0;31m         use_legacy_function=use_legacy_function)\n\u001b[0m\u001b[1;32m   4247\u001b[0m     \u001b[0;32mif\u001b[0m \u001b[0mdeterministic\u001b[0m \u001b[0;32mis\u001b[0m \u001b[0;32mNone\u001b[0m\u001b[0;34m:\u001b[0m\u001b[0;34m\u001b[0m\u001b[0;34m\u001b[0m\u001b[0m\n\u001b[1;32m   4248\u001b[0m       \u001b[0mself\u001b[0m\u001b[0;34m.\u001b[0m\u001b[0m_deterministic\u001b[0m \u001b[0;34m=\u001b[0m \u001b[0;34m\"default\"\u001b[0m\u001b[0;34m\u001b[0m\u001b[0;34m\u001b[0m\u001b[0m\n",
            "\u001b[0;32m/usr/local/lib/python3.6/dist-packages/tensorflow/python/data/ops/dataset_ops.py\u001b[0m in \u001b[0;36m__init__\u001b[0;34m(self, func, transformation_name, dataset, input_classes, input_shapes, input_types, input_structure, add_to_graph, use_legacy_function, defun_kwargs)\u001b[0m\n\u001b[1;32m   3523\u001b[0m       \u001b[0;32mwith\u001b[0m \u001b[0mtracking\u001b[0m\u001b[0;34m.\u001b[0m\u001b[0mresource_tracker_scope\u001b[0m\u001b[0;34m(\u001b[0m\u001b[0mresource_tracker\u001b[0m\u001b[0;34m)\u001b[0m\u001b[0;34m:\u001b[0m\u001b[0;34m\u001b[0m\u001b[0;34m\u001b[0m\u001b[0m\n\u001b[1;32m   3524\u001b[0m         \u001b[0;31m# TODO(b/141462134): Switch to using garbage collection.\u001b[0m\u001b[0;34m\u001b[0m\u001b[0;34m\u001b[0m\u001b[0;34m\u001b[0m\u001b[0m\n\u001b[0;32m-> 3525\u001b[0;31m         \u001b[0mself\u001b[0m\u001b[0;34m.\u001b[0m\u001b[0m_function\u001b[0m \u001b[0;34m=\u001b[0m \u001b[0mwrapper_fn\u001b[0m\u001b[0;34m.\u001b[0m\u001b[0mget_concrete_function\u001b[0m\u001b[0;34m(\u001b[0m\u001b[0;34m)\u001b[0m\u001b[0;34m\u001b[0m\u001b[0;34m\u001b[0m\u001b[0m\n\u001b[0m\u001b[1;32m   3526\u001b[0m         \u001b[0;32mif\u001b[0m \u001b[0madd_to_graph\u001b[0m\u001b[0;34m:\u001b[0m\u001b[0;34m\u001b[0m\u001b[0;34m\u001b[0m\u001b[0m\n\u001b[1;32m   3527\u001b[0m           \u001b[0mself\u001b[0m\u001b[0;34m.\u001b[0m\u001b[0m_function\u001b[0m\u001b[0;34m.\u001b[0m\u001b[0madd_to_graph\u001b[0m\u001b[0;34m(\u001b[0m\u001b[0mops\u001b[0m\u001b[0;34m.\u001b[0m\u001b[0mget_default_graph\u001b[0m\u001b[0;34m(\u001b[0m\u001b[0;34m)\u001b[0m\u001b[0;34m)\u001b[0m\u001b[0;34m\u001b[0m\u001b[0;34m\u001b[0m\u001b[0m\n",
            "\u001b[0;32m/usr/local/lib/python3.6/dist-packages/tensorflow/python/eager/function.py\u001b[0m in \u001b[0;36mget_concrete_function\u001b[0;34m(self, *args, **kwargs)\u001b[0m\n\u001b[1;32m   3050\u001b[0m     \"\"\"\n\u001b[1;32m   3051\u001b[0m     graph_function = self._get_concrete_function_garbage_collected(\n\u001b[0;32m-> 3052\u001b[0;31m         *args, **kwargs)\n\u001b[0m\u001b[1;32m   3053\u001b[0m     \u001b[0mgraph_function\u001b[0m\u001b[0;34m.\u001b[0m\u001b[0m_garbage_collector\u001b[0m\u001b[0;34m.\u001b[0m\u001b[0mrelease\u001b[0m\u001b[0;34m(\u001b[0m\u001b[0;34m)\u001b[0m  \u001b[0;31m# pylint: disable=protected-access\u001b[0m\u001b[0;34m\u001b[0m\u001b[0;34m\u001b[0m\u001b[0m\n\u001b[1;32m   3054\u001b[0m     \u001b[0;32mreturn\u001b[0m \u001b[0mgraph_function\u001b[0m\u001b[0;34m\u001b[0m\u001b[0;34m\u001b[0m\u001b[0m\n",
            "\u001b[0;32m/usr/local/lib/python3.6/dist-packages/tensorflow/python/eager/function.py\u001b[0m in \u001b[0;36m_get_concrete_function_garbage_collected\u001b[0;34m(self, *args, **kwargs)\u001b[0m\n\u001b[1;32m   3017\u001b[0m       \u001b[0margs\u001b[0m\u001b[0;34m,\u001b[0m \u001b[0mkwargs\u001b[0m \u001b[0;34m=\u001b[0m \u001b[0;32mNone\u001b[0m\u001b[0;34m,\u001b[0m \u001b[0;32mNone\u001b[0m\u001b[0;34m\u001b[0m\u001b[0;34m\u001b[0m\u001b[0m\n\u001b[1;32m   3018\u001b[0m     \u001b[0;32mwith\u001b[0m \u001b[0mself\u001b[0m\u001b[0;34m.\u001b[0m\u001b[0m_lock\u001b[0m\u001b[0;34m:\u001b[0m\u001b[0;34m\u001b[0m\u001b[0;34m\u001b[0m\u001b[0m\n\u001b[0;32m-> 3019\u001b[0;31m       \u001b[0mgraph_function\u001b[0m\u001b[0;34m,\u001b[0m \u001b[0m_\u001b[0m \u001b[0;34m=\u001b[0m \u001b[0mself\u001b[0m\u001b[0;34m.\u001b[0m\u001b[0m_maybe_define_function\u001b[0m\u001b[0;34m(\u001b[0m\u001b[0margs\u001b[0m\u001b[0;34m,\u001b[0m \u001b[0mkwargs\u001b[0m\u001b[0;34m)\u001b[0m\u001b[0;34m\u001b[0m\u001b[0;34m\u001b[0m\u001b[0m\n\u001b[0m\u001b[1;32m   3020\u001b[0m       \u001b[0mseen_names\u001b[0m \u001b[0;34m=\u001b[0m \u001b[0mset\u001b[0m\u001b[0;34m(\u001b[0m\u001b[0;34m)\u001b[0m\u001b[0;34m\u001b[0m\u001b[0;34m\u001b[0m\u001b[0m\n\u001b[1;32m   3021\u001b[0m       captured = object_identity.ObjectIdentitySet(\n",
            "\u001b[0;32m/usr/local/lib/python3.6/dist-packages/tensorflow/python/eager/function.py\u001b[0m in \u001b[0;36m_maybe_define_function\u001b[0;34m(self, args, kwargs)\u001b[0m\n\u001b[1;32m   3359\u001b[0m \u001b[0;34m\u001b[0m\u001b[0m\n\u001b[1;32m   3360\u001b[0m           \u001b[0mself\u001b[0m\u001b[0;34m.\u001b[0m\u001b[0m_function_cache\u001b[0m\u001b[0;34m.\u001b[0m\u001b[0mmissed\u001b[0m\u001b[0;34m.\u001b[0m\u001b[0madd\u001b[0m\u001b[0;34m(\u001b[0m\u001b[0mcall_context_key\u001b[0m\u001b[0;34m)\u001b[0m\u001b[0;34m\u001b[0m\u001b[0;34m\u001b[0m\u001b[0m\n\u001b[0;32m-> 3361\u001b[0;31m           \u001b[0mgraph_function\u001b[0m \u001b[0;34m=\u001b[0m \u001b[0mself\u001b[0m\u001b[0;34m.\u001b[0m\u001b[0m_create_graph_function\u001b[0m\u001b[0;34m(\u001b[0m\u001b[0margs\u001b[0m\u001b[0;34m,\u001b[0m \u001b[0mkwargs\u001b[0m\u001b[0;34m)\u001b[0m\u001b[0;34m\u001b[0m\u001b[0;34m\u001b[0m\u001b[0m\n\u001b[0m\u001b[1;32m   3362\u001b[0m           \u001b[0mself\u001b[0m\u001b[0;34m.\u001b[0m\u001b[0m_function_cache\u001b[0m\u001b[0;34m.\u001b[0m\u001b[0mprimary\u001b[0m\u001b[0;34m[\u001b[0m\u001b[0mcache_key\u001b[0m\u001b[0;34m]\u001b[0m \u001b[0;34m=\u001b[0m \u001b[0mgraph_function\u001b[0m\u001b[0;34m\u001b[0m\u001b[0;34m\u001b[0m\u001b[0m\n\u001b[1;32m   3363\u001b[0m \u001b[0;34m\u001b[0m\u001b[0m\n",
            "\u001b[0;32m/usr/local/lib/python3.6/dist-packages/tensorflow/python/eager/function.py\u001b[0m in \u001b[0;36m_create_graph_function\u001b[0;34m(self, args, kwargs, override_flat_arg_shapes)\u001b[0m\n\u001b[1;32m   3204\u001b[0m             \u001b[0marg_names\u001b[0m\u001b[0;34m=\u001b[0m\u001b[0marg_names\u001b[0m\u001b[0;34m,\u001b[0m\u001b[0;34m\u001b[0m\u001b[0;34m\u001b[0m\u001b[0m\n\u001b[1;32m   3205\u001b[0m             \u001b[0moverride_flat_arg_shapes\u001b[0m\u001b[0;34m=\u001b[0m\u001b[0moverride_flat_arg_shapes\u001b[0m\u001b[0;34m,\u001b[0m\u001b[0;34m\u001b[0m\u001b[0;34m\u001b[0m\u001b[0m\n\u001b[0;32m-> 3206\u001b[0;31m             capture_by_value=self._capture_by_value),\n\u001b[0m\u001b[1;32m   3207\u001b[0m         \u001b[0mself\u001b[0m\u001b[0;34m.\u001b[0m\u001b[0m_function_attributes\u001b[0m\u001b[0;34m,\u001b[0m\u001b[0;34m\u001b[0m\u001b[0;34m\u001b[0m\u001b[0m\n\u001b[1;32m   3208\u001b[0m         \u001b[0mfunction_spec\u001b[0m\u001b[0;34m=\u001b[0m\u001b[0mself\u001b[0m\u001b[0;34m.\u001b[0m\u001b[0mfunction_spec\u001b[0m\u001b[0;34m,\u001b[0m\u001b[0;34m\u001b[0m\u001b[0;34m\u001b[0m\u001b[0m\n",
            "\u001b[0;32m/usr/local/lib/python3.6/dist-packages/tensorflow/python/framework/func_graph.py\u001b[0m in \u001b[0;36mfunc_graph_from_py_func\u001b[0;34m(name, python_func, args, kwargs, signature, func_graph, autograph, autograph_options, add_control_dependencies, arg_names, op_return_value, collections, capture_by_value, override_flat_arg_shapes)\u001b[0m\n\u001b[1;32m    988\u001b[0m         \u001b[0m_\u001b[0m\u001b[0;34m,\u001b[0m \u001b[0moriginal_func\u001b[0m \u001b[0;34m=\u001b[0m \u001b[0mtf_decorator\u001b[0m\u001b[0;34m.\u001b[0m\u001b[0munwrap\u001b[0m\u001b[0;34m(\u001b[0m\u001b[0mpython_func\u001b[0m\u001b[0;34m)\u001b[0m\u001b[0;34m\u001b[0m\u001b[0;34m\u001b[0m\u001b[0m\n\u001b[1;32m    989\u001b[0m \u001b[0;34m\u001b[0m\u001b[0m\n\u001b[0;32m--> 990\u001b[0;31m       \u001b[0mfunc_outputs\u001b[0m \u001b[0;34m=\u001b[0m \u001b[0mpython_func\u001b[0m\u001b[0;34m(\u001b[0m\u001b[0;34m*\u001b[0m\u001b[0mfunc_args\u001b[0m\u001b[0;34m,\u001b[0m \u001b[0;34m**\u001b[0m\u001b[0mfunc_kwargs\u001b[0m\u001b[0;34m)\u001b[0m\u001b[0;34m\u001b[0m\u001b[0;34m\u001b[0m\u001b[0m\n\u001b[0m\u001b[1;32m    991\u001b[0m \u001b[0;34m\u001b[0m\u001b[0m\n\u001b[1;32m    992\u001b[0m       \u001b[0;31m# invariant: `func_outputs` contains only Tensors, CompositeTensors,\u001b[0m\u001b[0;34m\u001b[0m\u001b[0;34m\u001b[0m\u001b[0;34m\u001b[0m\u001b[0m\n",
            "\u001b[0;32m/usr/local/lib/python3.6/dist-packages/tensorflow/python/data/ops/dataset_ops.py\u001b[0m in \u001b[0;36mwrapper_fn\u001b[0;34m(*args)\u001b[0m\n\u001b[1;32m   3516\u001b[0m           attributes=defun_kwargs)\n\u001b[1;32m   3517\u001b[0m       \u001b[0;32mdef\u001b[0m \u001b[0mwrapper_fn\u001b[0m\u001b[0;34m(\u001b[0m\u001b[0;34m*\u001b[0m\u001b[0margs\u001b[0m\u001b[0;34m)\u001b[0m\u001b[0;34m:\u001b[0m  \u001b[0;31m# pylint: disable=missing-docstring\u001b[0m\u001b[0;34m\u001b[0m\u001b[0;34m\u001b[0m\u001b[0m\n\u001b[0;32m-> 3518\u001b[0;31m         \u001b[0mret\u001b[0m \u001b[0;34m=\u001b[0m \u001b[0m_wrapper_helper\u001b[0m\u001b[0;34m(\u001b[0m\u001b[0;34m*\u001b[0m\u001b[0margs\u001b[0m\u001b[0;34m)\u001b[0m\u001b[0;34m\u001b[0m\u001b[0;34m\u001b[0m\u001b[0m\n\u001b[0m\u001b[1;32m   3519\u001b[0m         \u001b[0mret\u001b[0m \u001b[0;34m=\u001b[0m \u001b[0mstructure\u001b[0m\u001b[0;34m.\u001b[0m\u001b[0mto_tensor_list\u001b[0m\u001b[0;34m(\u001b[0m\u001b[0mself\u001b[0m\u001b[0;34m.\u001b[0m\u001b[0m_output_structure\u001b[0m\u001b[0;34m,\u001b[0m \u001b[0mret\u001b[0m\u001b[0;34m)\u001b[0m\u001b[0;34m\u001b[0m\u001b[0;34m\u001b[0m\u001b[0m\n\u001b[1;32m   3520\u001b[0m         \u001b[0;32mreturn\u001b[0m \u001b[0;34m[\u001b[0m\u001b[0mops\u001b[0m\u001b[0;34m.\u001b[0m\u001b[0mconvert_to_tensor\u001b[0m\u001b[0;34m(\u001b[0m\u001b[0mt\u001b[0m\u001b[0;34m)\u001b[0m \u001b[0;32mfor\u001b[0m \u001b[0mt\u001b[0m \u001b[0;32min\u001b[0m \u001b[0mret\u001b[0m\u001b[0;34m]\u001b[0m\u001b[0;34m\u001b[0m\u001b[0;34m\u001b[0m\u001b[0m\n",
            "\u001b[0;32m/usr/local/lib/python3.6/dist-packages/tensorflow/python/data/ops/dataset_ops.py\u001b[0m in \u001b[0;36m_wrapper_helper\u001b[0;34m(*args)\u001b[0m\n\u001b[1;32m   3451\u001b[0m         \u001b[0mnested_args\u001b[0m \u001b[0;34m=\u001b[0m \u001b[0;34m(\u001b[0m\u001b[0mnested_args\u001b[0m\u001b[0;34m,\u001b[0m\u001b[0;34m)\u001b[0m\u001b[0;34m\u001b[0m\u001b[0;34m\u001b[0m\u001b[0m\n\u001b[1;32m   3452\u001b[0m \u001b[0;34m\u001b[0m\u001b[0m\n\u001b[0;32m-> 3453\u001b[0;31m       \u001b[0mret\u001b[0m \u001b[0;34m=\u001b[0m \u001b[0mautograph\u001b[0m\u001b[0;34m.\u001b[0m\u001b[0mtf_convert\u001b[0m\u001b[0;34m(\u001b[0m\u001b[0mfunc\u001b[0m\u001b[0;34m,\u001b[0m \u001b[0mag_ctx\u001b[0m\u001b[0;34m)\u001b[0m\u001b[0;34m(\u001b[0m\u001b[0;34m*\u001b[0m\u001b[0mnested_args\u001b[0m\u001b[0;34m)\u001b[0m\u001b[0;34m\u001b[0m\u001b[0;34m\u001b[0m\u001b[0m\n\u001b[0m\u001b[1;32m   3454\u001b[0m       \u001b[0;31m# If `func` returns a list of tensors, `nest.flatten()` and\u001b[0m\u001b[0;34m\u001b[0m\u001b[0;34m\u001b[0m\u001b[0;34m\u001b[0m\u001b[0m\n\u001b[1;32m   3455\u001b[0m       \u001b[0;31m# `ops.convert_to_tensor()` would conspire to attempt to stack\u001b[0m\u001b[0;34m\u001b[0m\u001b[0;34m\u001b[0m\u001b[0;34m\u001b[0m\u001b[0m\n",
            "\u001b[0;32m/usr/local/lib/python3.6/dist-packages/tensorflow/python/autograph/impl/api.py\u001b[0m in \u001b[0;36mwrapper\u001b[0;34m(*args, **kwargs)\u001b[0m\n\u001b[1;32m    668\u001b[0m       \u001b[0;32mexcept\u001b[0m \u001b[0mException\u001b[0m \u001b[0;32mas\u001b[0m \u001b[0me\u001b[0m\u001b[0;34m:\u001b[0m  \u001b[0;31m# pylint:disable=broad-except\u001b[0m\u001b[0;34m\u001b[0m\u001b[0;34m\u001b[0m\u001b[0m\n\u001b[1;32m    669\u001b[0m         \u001b[0;32mif\u001b[0m \u001b[0mhasattr\u001b[0m\u001b[0;34m(\u001b[0m\u001b[0me\u001b[0m\u001b[0;34m,\u001b[0m \u001b[0;34m'ag_error_metadata'\u001b[0m\u001b[0;34m)\u001b[0m\u001b[0;34m:\u001b[0m\u001b[0;34m\u001b[0m\u001b[0;34m\u001b[0m\u001b[0m\n\u001b[0;32m--> 670\u001b[0;31m           \u001b[0;32mraise\u001b[0m \u001b[0me\u001b[0m\u001b[0;34m.\u001b[0m\u001b[0mag_error_metadata\u001b[0m\u001b[0;34m.\u001b[0m\u001b[0mto_exception\u001b[0m\u001b[0;34m(\u001b[0m\u001b[0me\u001b[0m\u001b[0;34m)\u001b[0m\u001b[0;34m\u001b[0m\u001b[0;34m\u001b[0m\u001b[0m\n\u001b[0m\u001b[1;32m    671\u001b[0m         \u001b[0;32melse\u001b[0m\u001b[0;34m:\u001b[0m\u001b[0;34m\u001b[0m\u001b[0;34m\u001b[0m\u001b[0m\n\u001b[1;32m    672\u001b[0m           \u001b[0;32mraise\u001b[0m\u001b[0;34m\u001b[0m\u001b[0;34m\u001b[0m\u001b[0m\n",
            "\u001b[0;31mValueError\u001b[0m: in user code:\n\n    <ipython-input-68-51bc3fe26b88>:44 train_data_aug  *\n        xs.append(train_classification_aug(img, lb)[0])\n    <ipython-input-68-51bc3fe26b88>:29 train_classification_aug  *\n        img = tf.image.random_crop(img, (256, IMG_SIZE, IMG_SIZE, 3))\n    /usr/local/lib/python3.6/dist-packages/tensorflow/python/util/dispatch.py:201 wrapper  **\n        return target(*args, **kwargs)\n    /usr/local/lib/python3.6/dist-packages/tensorflow/python/ops/random_ops.py:382 random_crop\n        math_ops.reduce_all(shape >= size),\n    /usr/local/lib/python3.6/dist-packages/tensorflow/python/ops/gen_math_ops.py:4003 greater_equal\n        \"GreaterEqual\", x=x, y=y, name=name)\n    /usr/local/lib/python3.6/dist-packages/tensorflow/python/framework/op_def_library.py:750 _apply_op_helper\n        attrs=attr_protos, op_def=op_def)\n    /usr/local/lib/python3.6/dist-packages/tensorflow/python/framework/func_graph.py:592 _create_op_internal\n        compute_device)\n    /usr/local/lib/python3.6/dist-packages/tensorflow/python/framework/ops.py:3536 _create_op_internal\n        op_def=op_def)\n    /usr/local/lib/python3.6/dist-packages/tensorflow/python/framework/ops.py:2016 __init__\n        control_input_ops, op_def)\n    /usr/local/lib/python3.6/dist-packages/tensorflow/python/framework/ops.py:1856 _create_c_op\n        raise ValueError(str(e))\n\n    ValueError: Dimensions must be equal, but are 3 and 4 for '{{node random_crop/GreaterEqual}} = GreaterEqual[T=DT_INT32](random_crop/Shape, random_crop/size)' with input shapes: [3], [4].\n"
          ]
        }
      ]
    },
    {
      "cell_type": "code",
      "metadata": {
        "colab": {
          "base_uri": "https://localhost:8080/",
          "height": 1000
        },
        "id": "nabNdfbxfuP-",
        "outputId": "954a2a7e-bd71-45a9-8874-6d68f6995c2a"
      },
      "source": [
        "benchmark(ds_test.batch(256).map(train_data_aug, num_parallel_calls=tf.data.AUTOTUNE).prefetch(tf.data.AUTOTUNE))"
      ],
      "execution_count": null,
      "outputs": [
        {
          "output_type": "error",
          "ename": "InvalidArgumentError",
          "evalue": "ignored",
          "traceback": [
            "\u001b[0;31m---------------------------------------------------------------------------\u001b[0m",
            "\u001b[0;31mInvalidArgumentError\u001b[0m                      Traceback (most recent call last)",
            "\u001b[0;32m/usr/local/lib/python3.6/dist-packages/tensorflow/python/eager/context.py\u001b[0m in \u001b[0;36mexecution_mode\u001b[0;34m(mode)\u001b[0m\n\u001b[1;32m   2112\u001b[0m       \u001b[0mctx\u001b[0m\u001b[0;34m.\u001b[0m\u001b[0mexecutor\u001b[0m \u001b[0;34m=\u001b[0m \u001b[0mexecutor_new\u001b[0m\u001b[0;34m\u001b[0m\u001b[0;34m\u001b[0m\u001b[0m\n\u001b[0;32m-> 2113\u001b[0;31m       \u001b[0;32myield\u001b[0m\u001b[0;34m\u001b[0m\u001b[0;34m\u001b[0m\u001b[0m\n\u001b[0m\u001b[1;32m   2114\u001b[0m     \u001b[0;32mfinally\u001b[0m\u001b[0;34m:\u001b[0m\u001b[0;34m\u001b[0m\u001b[0;34m\u001b[0m\u001b[0m\n",
            "\u001b[0;32m/usr/local/lib/python3.6/dist-packages/tensorflow/python/data/ops/iterator_ops.py\u001b[0m in \u001b[0;36m_next_internal\u001b[0;34m(self)\u001b[0m\n\u001b[1;32m    732\u001b[0m           \u001b[0moutput_types\u001b[0m\u001b[0;34m=\u001b[0m\u001b[0mself\u001b[0m\u001b[0;34m.\u001b[0m\u001b[0m_flat_output_types\u001b[0m\u001b[0;34m,\u001b[0m\u001b[0;34m\u001b[0m\u001b[0;34m\u001b[0m\u001b[0m\n\u001b[0;32m--> 733\u001b[0;31m           output_shapes=self._flat_output_shapes)\n\u001b[0m\u001b[1;32m    734\u001b[0m \u001b[0;34m\u001b[0m\u001b[0m\n",
            "\u001b[0;32m/usr/local/lib/python3.6/dist-packages/tensorflow/python/ops/gen_dataset_ops.py\u001b[0m in \u001b[0;36miterator_get_next\u001b[0;34m(iterator, output_types, output_shapes, name)\u001b[0m\n\u001b[1;32m   2578\u001b[0m     \u001b[0;32mexcept\u001b[0m \u001b[0m_core\u001b[0m\u001b[0;34m.\u001b[0m\u001b[0m_NotOkStatusException\u001b[0m \u001b[0;32mas\u001b[0m \u001b[0me\u001b[0m\u001b[0;34m:\u001b[0m\u001b[0;34m\u001b[0m\u001b[0;34m\u001b[0m\u001b[0m\n\u001b[0;32m-> 2579\u001b[0;31m       \u001b[0m_ops\u001b[0m\u001b[0;34m.\u001b[0m\u001b[0mraise_from_not_ok_status\u001b[0m\u001b[0;34m(\u001b[0m\u001b[0me\u001b[0m\u001b[0;34m,\u001b[0m \u001b[0mname\u001b[0m\u001b[0;34m)\u001b[0m\u001b[0;34m\u001b[0m\u001b[0;34m\u001b[0m\u001b[0m\n\u001b[0m\u001b[1;32m   2580\u001b[0m     \u001b[0;32mexcept\u001b[0m \u001b[0m_core\u001b[0m\u001b[0;34m.\u001b[0m\u001b[0m_FallbackException\u001b[0m\u001b[0;34m:\u001b[0m\u001b[0;34m\u001b[0m\u001b[0;34m\u001b[0m\u001b[0m\n",
            "\u001b[0;32m/usr/local/lib/python3.6/dist-packages/tensorflow/python/framework/ops.py\u001b[0m in \u001b[0;36mraise_from_not_ok_status\u001b[0;34m(e, name)\u001b[0m\n\u001b[1;32m   6861\u001b[0m   \u001b[0;31m# pylint: disable=protected-access\u001b[0m\u001b[0;34m\u001b[0m\u001b[0;34m\u001b[0m\u001b[0;34m\u001b[0m\u001b[0m\n\u001b[0;32m-> 6862\u001b[0;31m   \u001b[0msix\u001b[0m\u001b[0;34m.\u001b[0m\u001b[0mraise_from\u001b[0m\u001b[0;34m(\u001b[0m\u001b[0mcore\u001b[0m\u001b[0;34m.\u001b[0m\u001b[0m_status_to_exception\u001b[0m\u001b[0;34m(\u001b[0m\u001b[0me\u001b[0m\u001b[0;34m.\u001b[0m\u001b[0mcode\u001b[0m\u001b[0;34m,\u001b[0m \u001b[0mmessage\u001b[0m\u001b[0;34m)\u001b[0m\u001b[0;34m,\u001b[0m \u001b[0;32mNone\u001b[0m\u001b[0;34m)\u001b[0m\u001b[0;34m\u001b[0m\u001b[0;34m\u001b[0m\u001b[0m\n\u001b[0m\u001b[1;32m   6863\u001b[0m   \u001b[0;31m# pylint: enable=protected-access\u001b[0m\u001b[0;34m\u001b[0m\u001b[0;34m\u001b[0m\u001b[0;34m\u001b[0m\u001b[0m\n",
            "\u001b[0;32m/usr/local/lib/python3.6/dist-packages/six.py\u001b[0m in \u001b[0;36mraise_from\u001b[0;34m(value, from_value)\u001b[0m\n",
            "\u001b[0;31mInvalidArgumentError\u001b[0m: Cannot batch tensors with different shapes in component 0. First element had shape [496,512,3] and element 2 had shape [496,768,3]. [Op:IteratorGetNext]",
            "\nDuring handling of the above exception, another exception occurred:\n",
            "\u001b[0;31mInvalidArgumentError\u001b[0m                      Traceback (most recent call last)",
            "\u001b[0;32m<ipython-input-70-ccb73647a1c2>\u001b[0m in \u001b[0;36m<module>\u001b[0;34m()\u001b[0m\n\u001b[0;32m----> 1\u001b[0;31m \u001b[0mbenchmark\u001b[0m\u001b[0;34m(\u001b[0m\u001b[0mds_test\u001b[0m\u001b[0;34m.\u001b[0m\u001b[0mbatch\u001b[0m\u001b[0;34m(\u001b[0m\u001b[0;36m256\u001b[0m\u001b[0;34m)\u001b[0m\u001b[0;34m.\u001b[0m\u001b[0mmap\u001b[0m\u001b[0;34m(\u001b[0m\u001b[0mtrain_data_aug\u001b[0m\u001b[0;34m,\u001b[0m \u001b[0mnum_parallel_calls\u001b[0m\u001b[0;34m=\u001b[0m\u001b[0mtf\u001b[0m\u001b[0;34m.\u001b[0m\u001b[0mdata\u001b[0m\u001b[0;34m.\u001b[0m\u001b[0mAUTOTUNE\u001b[0m\u001b[0;34m)\u001b[0m\u001b[0;34m.\u001b[0m\u001b[0mprefetch\u001b[0m\u001b[0;34m(\u001b[0m\u001b[0mtf\u001b[0m\u001b[0;34m.\u001b[0m\u001b[0mdata\u001b[0m\u001b[0;34m.\u001b[0m\u001b[0mAUTOTUNE\u001b[0m\u001b[0;34m)\u001b[0m\u001b[0;34m)\u001b[0m\u001b[0;34m\u001b[0m\u001b[0;34m\u001b[0m\u001b[0m\n\u001b[0m",
            "\u001b[0;32m<ipython-input-68-51bc3fe26b88>\u001b[0m in \u001b[0;36mbenchmark\u001b[0;34m(dataset, num_epochs)\u001b[0m\n\u001b[1;32m      6\u001b[0m     \u001b[0mstart_time\u001b[0m \u001b[0;34m=\u001b[0m \u001b[0mtime\u001b[0m\u001b[0;34m.\u001b[0m\u001b[0mperf_counter\u001b[0m\u001b[0;34m(\u001b[0m\u001b[0;34m)\u001b[0m\u001b[0;34m\u001b[0m\u001b[0;34m\u001b[0m\u001b[0m\n\u001b[1;32m      7\u001b[0m     \u001b[0;32mfor\u001b[0m \u001b[0mepoch_num\u001b[0m \u001b[0;32min\u001b[0m \u001b[0mrange\u001b[0m\u001b[0;34m(\u001b[0m\u001b[0mnum_epochs\u001b[0m\u001b[0;34m)\u001b[0m\u001b[0;34m:\u001b[0m\u001b[0;34m\u001b[0m\u001b[0;34m\u001b[0m\u001b[0m\n\u001b[0;32m----> 8\u001b[0;31m         \u001b[0;32mfor\u001b[0m \u001b[0msample\u001b[0m \u001b[0;32min\u001b[0m \u001b[0mdataset\u001b[0m\u001b[0;34m:\u001b[0m\u001b[0;34m\u001b[0m\u001b[0;34m\u001b[0m\u001b[0m\n\u001b[0m\u001b[1;32m      9\u001b[0m             \u001b[0;31m# Performing a training step\u001b[0m\u001b[0;34m\u001b[0m\u001b[0;34m\u001b[0m\u001b[0;34m\u001b[0m\u001b[0m\n\u001b[1;32m     10\u001b[0m             \u001b[0mtime\u001b[0m\u001b[0;34m.\u001b[0m\u001b[0msleep\u001b[0m\u001b[0;34m(\u001b[0m\u001b[0;36m0.01\u001b[0m\u001b[0;34m)\u001b[0m\u001b[0;34m\u001b[0m\u001b[0;34m\u001b[0m\u001b[0m\n",
            "\u001b[0;32m/usr/local/lib/python3.6/dist-packages/tensorflow/python/data/ops/iterator_ops.py\u001b[0m in \u001b[0;36m__next__\u001b[0;34m(self)\u001b[0m\n\u001b[1;32m    745\u001b[0m   \u001b[0;32mdef\u001b[0m \u001b[0m__next__\u001b[0m\u001b[0;34m(\u001b[0m\u001b[0mself\u001b[0m\u001b[0;34m)\u001b[0m\u001b[0;34m:\u001b[0m\u001b[0;34m\u001b[0m\u001b[0;34m\u001b[0m\u001b[0m\n\u001b[1;32m    746\u001b[0m     \u001b[0;32mtry\u001b[0m\u001b[0;34m:\u001b[0m\u001b[0;34m\u001b[0m\u001b[0;34m\u001b[0m\u001b[0m\n\u001b[0;32m--> 747\u001b[0;31m       \u001b[0;32mreturn\u001b[0m \u001b[0mself\u001b[0m\u001b[0;34m.\u001b[0m\u001b[0m_next_internal\u001b[0m\u001b[0;34m(\u001b[0m\u001b[0;34m)\u001b[0m\u001b[0;34m\u001b[0m\u001b[0;34m\u001b[0m\u001b[0m\n\u001b[0m\u001b[1;32m    748\u001b[0m     \u001b[0;32mexcept\u001b[0m \u001b[0merrors\u001b[0m\u001b[0;34m.\u001b[0m\u001b[0mOutOfRangeError\u001b[0m\u001b[0;34m:\u001b[0m\u001b[0;34m\u001b[0m\u001b[0;34m\u001b[0m\u001b[0m\n\u001b[1;32m    749\u001b[0m       \u001b[0;32mraise\u001b[0m \u001b[0mStopIteration\u001b[0m\u001b[0;34m\u001b[0m\u001b[0;34m\u001b[0m\u001b[0m\n",
            "\u001b[0;32m/usr/local/lib/python3.6/dist-packages/tensorflow/python/data/ops/iterator_ops.py\u001b[0m in \u001b[0;36m_next_internal\u001b[0;34m(self)\u001b[0m\n\u001b[1;32m    737\u001b[0m         \u001b[0;32mreturn\u001b[0m \u001b[0mself\u001b[0m\u001b[0;34m.\u001b[0m\u001b[0m_element_spec\u001b[0m\u001b[0;34m.\u001b[0m\u001b[0m_from_compatible_tensor_list\u001b[0m\u001b[0;34m(\u001b[0m\u001b[0mret\u001b[0m\u001b[0;34m)\u001b[0m  \u001b[0;31m# pylint: disable=protected-access\u001b[0m\u001b[0;34m\u001b[0m\u001b[0;34m\u001b[0m\u001b[0m\n\u001b[1;32m    738\u001b[0m       \u001b[0;32mexcept\u001b[0m \u001b[0mAttributeError\u001b[0m\u001b[0;34m:\u001b[0m\u001b[0;34m\u001b[0m\u001b[0;34m\u001b[0m\u001b[0m\n\u001b[0;32m--> 739\u001b[0;31m         \u001b[0;32mreturn\u001b[0m \u001b[0mstructure\u001b[0m\u001b[0;34m.\u001b[0m\u001b[0mfrom_compatible_tensor_list\u001b[0m\u001b[0;34m(\u001b[0m\u001b[0mself\u001b[0m\u001b[0;34m.\u001b[0m\u001b[0m_element_spec\u001b[0m\u001b[0;34m,\u001b[0m \u001b[0mret\u001b[0m\u001b[0;34m)\u001b[0m\u001b[0;34m\u001b[0m\u001b[0;34m\u001b[0m\u001b[0m\n\u001b[0m\u001b[1;32m    740\u001b[0m \u001b[0;34m\u001b[0m\u001b[0m\n\u001b[1;32m    741\u001b[0m   \u001b[0;34m@\u001b[0m\u001b[0mproperty\u001b[0m\u001b[0;34m\u001b[0m\u001b[0;34m\u001b[0m\u001b[0m\n",
            "\u001b[0;32m/usr/lib/python3.6/contextlib.py\u001b[0m in \u001b[0;36m__exit__\u001b[0;34m(self, type, value, traceback)\u001b[0m\n\u001b[1;32m     97\u001b[0m                 \u001b[0mvalue\u001b[0m \u001b[0;34m=\u001b[0m \u001b[0mtype\u001b[0m\u001b[0;34m(\u001b[0m\u001b[0;34m)\u001b[0m\u001b[0;34m\u001b[0m\u001b[0;34m\u001b[0m\u001b[0m\n\u001b[1;32m     98\u001b[0m             \u001b[0;32mtry\u001b[0m\u001b[0;34m:\u001b[0m\u001b[0;34m\u001b[0m\u001b[0;34m\u001b[0m\u001b[0m\n\u001b[0;32m---> 99\u001b[0;31m                 \u001b[0mself\u001b[0m\u001b[0;34m.\u001b[0m\u001b[0mgen\u001b[0m\u001b[0;34m.\u001b[0m\u001b[0mthrow\u001b[0m\u001b[0;34m(\u001b[0m\u001b[0mtype\u001b[0m\u001b[0;34m,\u001b[0m \u001b[0mvalue\u001b[0m\u001b[0;34m,\u001b[0m \u001b[0mtraceback\u001b[0m\u001b[0;34m)\u001b[0m\u001b[0;34m\u001b[0m\u001b[0;34m\u001b[0m\u001b[0m\n\u001b[0m\u001b[1;32m    100\u001b[0m             \u001b[0;32mexcept\u001b[0m \u001b[0mStopIteration\u001b[0m \u001b[0;32mas\u001b[0m \u001b[0mexc\u001b[0m\u001b[0;34m:\u001b[0m\u001b[0;34m\u001b[0m\u001b[0;34m\u001b[0m\u001b[0m\n\u001b[1;32m    101\u001b[0m                 \u001b[0;31m# Suppress StopIteration *unless* it's the same exception that\u001b[0m\u001b[0;34m\u001b[0m\u001b[0;34m\u001b[0m\u001b[0;34m\u001b[0m\u001b[0m\n",
            "\u001b[0;32m/usr/local/lib/python3.6/dist-packages/tensorflow/python/eager/context.py\u001b[0m in \u001b[0;36mexecution_mode\u001b[0;34m(mode)\u001b[0m\n\u001b[1;32m   2114\u001b[0m     \u001b[0;32mfinally\u001b[0m\u001b[0;34m:\u001b[0m\u001b[0;34m\u001b[0m\u001b[0;34m\u001b[0m\u001b[0m\n\u001b[1;32m   2115\u001b[0m       \u001b[0mctx\u001b[0m\u001b[0;34m.\u001b[0m\u001b[0mexecutor\u001b[0m \u001b[0;34m=\u001b[0m \u001b[0mexecutor_old\u001b[0m\u001b[0;34m\u001b[0m\u001b[0;34m\u001b[0m\u001b[0m\n\u001b[0;32m-> 2116\u001b[0;31m       \u001b[0mexecutor_new\u001b[0m\u001b[0;34m.\u001b[0m\u001b[0mwait\u001b[0m\u001b[0;34m(\u001b[0m\u001b[0;34m)\u001b[0m\u001b[0;34m\u001b[0m\u001b[0;34m\u001b[0m\u001b[0m\n\u001b[0m\u001b[1;32m   2117\u001b[0m \u001b[0;34m\u001b[0m\u001b[0m\n\u001b[1;32m   2118\u001b[0m \u001b[0;34m\u001b[0m\u001b[0m\n",
            "\u001b[0;32m/usr/local/lib/python3.6/dist-packages/tensorflow/python/eager/executor.py\u001b[0m in \u001b[0;36mwait\u001b[0;34m(self)\u001b[0m\n\u001b[1;32m     67\u001b[0m   \u001b[0;32mdef\u001b[0m \u001b[0mwait\u001b[0m\u001b[0;34m(\u001b[0m\u001b[0mself\u001b[0m\u001b[0;34m)\u001b[0m\u001b[0;34m:\u001b[0m\u001b[0;34m\u001b[0m\u001b[0;34m\u001b[0m\u001b[0m\n\u001b[1;32m     68\u001b[0m     \u001b[0;34m\"\"\"Waits for ops dispatched in this executor to finish.\"\"\"\u001b[0m\u001b[0;34m\u001b[0m\u001b[0;34m\u001b[0m\u001b[0m\n\u001b[0;32m---> 69\u001b[0;31m     \u001b[0mpywrap_tfe\u001b[0m\u001b[0;34m.\u001b[0m\u001b[0mTFE_ExecutorWaitForAllPendingNodes\u001b[0m\u001b[0;34m(\u001b[0m\u001b[0mself\u001b[0m\u001b[0;34m.\u001b[0m\u001b[0m_handle\u001b[0m\u001b[0;34m)\u001b[0m\u001b[0;34m\u001b[0m\u001b[0;34m\u001b[0m\u001b[0m\n\u001b[0m\u001b[1;32m     70\u001b[0m \u001b[0;34m\u001b[0m\u001b[0m\n\u001b[1;32m     71\u001b[0m   \u001b[0;32mdef\u001b[0m \u001b[0mclear_error\u001b[0m\u001b[0;34m(\u001b[0m\u001b[0mself\u001b[0m\u001b[0;34m)\u001b[0m\u001b[0;34m:\u001b[0m\u001b[0;34m\u001b[0m\u001b[0;34m\u001b[0m\u001b[0m\n",
            "\u001b[0;31mInvalidArgumentError\u001b[0m: Cannot batch tensors with different shapes in component 0. First element had shape [496,512,3] and element 2 had shape [496,768,3]."
          ]
        }
      ]
    },
    {
      "cell_type": "code",
      "metadata": {
        "id": "T31JMEf9gSH8"
      },
      "source": [
        ""
      ],
      "execution_count": null,
      "outputs": []
    }
  ]
}