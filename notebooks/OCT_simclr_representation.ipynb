{
  "nbformat": 4,
  "nbformat_minor": 0,
  "metadata": {
    "colab": {
      "name": "OCT_simclr_representation.ipynb",
      "provenance": [],
      "collapsed_sections": [],
      "authorship_tag": "ABX9TyPWGLsFyRB7aL9dMHTYlr0s",
      "include_colab_link": true
    },
    "kernelspec": {
      "name": "python3",
      "display_name": "Python 3"
    },
    "accelerator": "GPU"
  },
  "cells": [
    {
      "cell_type": "markdown",
      "metadata": {
        "id": "view-in-github",
        "colab_type": "text"
      },
      "source": [
        "<a href=\"https://colab.research.google.com/github/anoopsanka/retinal_oct/blob/main/notebooks/OCT_simclr_representation.ipynb\" target=\"_parent\"><img src=\"https://colab.research.google.com/assets/colab-badge.svg\" alt=\"Open In Colab\"/></a>"
      ]
    },
    {
      "cell_type": "code",
      "metadata": {
        "colab": {
          "base_uri": "https://localhost:8080/"
        },
        "id": "bZg5_bXjLvmN",
        "outputId": "7cc6a680-a60e-434e-89e5-ff8da84bc492"
      },
      "source": [
        "!git clone https://github.com/anoopsanka/retinal_oct"
      ],
      "execution_count": null,
      "outputs": [
        {
          "output_type": "stream",
          "text": [
            "Cloning into 'retinal_oct'...\n",
            "remote: Enumerating objects: 298, done.\u001b[K\n",
            "remote: Counting objects: 100% (298/298), done.\u001b[K\n",
            "remote: Compressing objects: 100% (210/210), done.\u001b[K\n",
            "remote: Total 401 (delta 167), reused 189 (delta 84), pack-reused 103\u001b[K\n",
            "Receiving objects: 100% (401/401), 254.03 MiB | 23.39 MiB/s, done.\n",
            "Resolving deltas: 100% (202/202), done.\n"
          ],
          "name": "stdout"
        }
      ]
    },
    {
      "cell_type": "code",
      "metadata": {
        "id": "zzzue7iKL1kY"
      },
      "source": [
        "%%capture\r\n",
        "# needed to use rotate....\r\n",
        "!pip install -U tensorflow_addons"
      ],
      "execution_count": null,
      "outputs": []
    },
    {
      "cell_type": "code",
      "metadata": {
        "colab": {
          "base_uri": "https://localhost:8080/"
        },
        "id": "-sNVDP6UL2qi",
        "outputId": "20c3f6c3-4a14-47e3-99b6-eccd1285d4b9"
      },
      "source": [
        "%cd retinal_oct"
      ],
      "execution_count": null,
      "outputs": [
        {
          "output_type": "stream",
          "text": [
            "/content/retinal_oct\n"
          ],
          "name": "stdout"
        }
      ]
    },
    {
      "cell_type": "code",
      "metadata": {
        "id": "snVsWjJ7L4bE"
      },
      "source": [
        "import tensorflow_datasets as tfds\r\n",
        "from importlib.util import find_spec\r\n",
        "if find_spec(\"core\") is None:\r\n",
        "    import sys\r\n",
        "    sys.path.append('..')\r\n",
        "    \r\n",
        "from core.datasets import RetinaDataset"
      ],
      "execution_count": null,
      "outputs": []
    },
    {
      "cell_type": "code",
      "metadata": {
        "id": "eBYsdAnzL4k4"
      },
      "source": [
        "ds_train, ds_train_info = tfds.load('RetinaDataset', split='train', shuffle_files=True, as_supervised=True, with_info=True)\r\n",
        "ds_test  = tfds.load('RetinaDataset', split='test', shuffle_files=False, as_supervised=True)"
      ],
      "execution_count": 44,
      "outputs": []
    },
    {
      "cell_type": "code",
      "metadata": {
        "colab": {
          "base_uri": "https://localhost:8080/"
        },
        "id": "AkWZY71AL5eb",
        "outputId": "ed78dfe7-2e41-44d2-b014-74aac3e78c9f"
      },
      "source": [
        "%cd core/models/simclr"
      ],
      "execution_count": null,
      "outputs": [
        {
          "output_type": "stream",
          "text": [
            "/content/retinal_oct/core/models/simclr\n"
          ],
          "name": "stdout"
        }
      ]
    },
    {
      "cell_type": "code",
      "metadata": {
        "id": "P0f6qv_bL77C"
      },
      "source": [
        "import os\r\n",
        "import random\r\n",
        "import numpy as np\r\n",
        "import tensorflow as tf\r\n",
        "\r\n",
        "# Set the random seeds\r\n",
        "os.environ['TF_CUDNN_DETERMINISTIC'] = '1' \r\n",
        "random.seed(hash(\"setting random seeds\") % 2**32 - 1)\r\n",
        "np.random.seed(hash(\"improves reproducibility\") % 2**32 - 1)\r\n",
        "tf.random.set_seed(hash(\"by removing stochasticity\") % 2**32 - 1)"
      ],
      "execution_count": null,
      "outputs": []
    },
    {
      "cell_type": "code",
      "metadata": {
        "id": "8THrLr3VL_nr"
      },
      "source": [
        "from data_augmentation import train_classification_aug\r\n",
        "from lr_schedule import WarmUpAndCosineDecay\r\n",
        "import simclr_model\r\n",
        "import tensorflow_addons as tfa"
      ],
      "execution_count": null,
      "outputs": []
    },
    {
      "cell_type": "markdown",
      "metadata": {
        "id": "5yikZL0bMCzJ"
      },
      "source": [
        "# Pull Sample Weights from Wandb\r\n",
        "https://wandb.ai/hisunnytang/OCT-keras-SimCLR\r\n",
        "\r\n",
        "\r\n",
        "97 % contrastive accuracy & ~ 90 % supervised accuracy\r\n",
        "- https://wandb.ai/hisunnytang/OCT-keras-SimCLR/runs/1ipksk06/overview?workspace=user-hisunnytang"
      ]
    },
    {
      "cell_type": "code",
      "metadata": {
        "id": "oH_0DBaONbaL"
      },
      "source": [
        "%%capture\r\n",
        "pip install wandb"
      ],
      "execution_count": null,
      "outputs": []
    },
    {
      "cell_type": "code",
      "metadata": {
        "colab": {
          "base_uri": "https://localhost:8080/",
          "height": 102
        },
        "id": "2J8hTetnMA7u",
        "outputId": "918c5ff3-946c-486b-d565-78e03bef83ea"
      },
      "source": [
        "import wandb\r\n",
        "api = wandb.Api()\r\n",
        "run = api.run(\"hisunnytang/OCT-keras-SimCLR/1ipksk06\")\r\n",
        "run.file(\"weights.108-0.97.hdf5\").download()"
      ],
      "execution_count": 10,
      "outputs": [
        {
          "output_type": "display_data",
          "data": {
            "application/javascript": [
              "\n",
              "        window._wandbApiKey = new Promise((resolve, reject) => {\n",
              "            function loadScript(url) {\n",
              "            return new Promise(function(resolve, reject) {\n",
              "                let newScript = document.createElement(\"script\");\n",
              "                newScript.onerror = reject;\n",
              "                newScript.onload = resolve;\n",
              "                document.body.appendChild(newScript);\n",
              "                newScript.src = url;\n",
              "            });\n",
              "            }\n",
              "            loadScript(\"https://cdn.jsdelivr.net/npm/postmate/build/postmate.min.js\").then(() => {\n",
              "            const iframe = document.createElement('iframe')\n",
              "            iframe.style.cssText = \"width:0;height:0;border:none\"\n",
              "            document.body.appendChild(iframe)\n",
              "            const handshake = new Postmate({\n",
              "                container: iframe,\n",
              "                url: 'https://wandb.ai/authorize'\n",
              "            });\n",
              "            const timeout = setTimeout(() => reject(\"Couldn't auto authenticate\"), 5000)\n",
              "            handshake.then(function(child) {\n",
              "                child.on('authorize', data => {\n",
              "                    clearTimeout(timeout)\n",
              "                    resolve(data)\n",
              "                });\n",
              "            });\n",
              "            })\n",
              "        });\n",
              "    "
            ],
            "text/plain": [
              "<IPython.core.display.Javascript object>"
            ]
          },
          "metadata": {
            "tags": []
          }
        },
        {
          "output_type": "stream",
          "text": [
            "\u001b[34m\u001b[1mwandb\u001b[0m: You can find your API key in your browser here: https://wandb.ai/authorize\n"
          ],
          "name": "stderr"
        },
        {
          "output_type": "stream",
          "text": [
            "wandb: Paste an API key from your profile and hit enter: ··········\n"
          ],
          "name": "stdout"
        },
        {
          "output_type": "stream",
          "text": [
            "\u001b[34m\u001b[1mwandb\u001b[0m: Appending key for api.wandb.ai to your netrc file: /root/.netrc\n"
          ],
          "name": "stderr"
        },
        {
          "output_type": "execute_result",
          "data": {
            "text/plain": [
              "<_io.TextIOWrapper name='./weights.108-0.97.hdf5' mode='r' encoding='UTF-8'>"
            ]
          },
          "metadata": {
            "tags": []
          },
          "execution_count": 10
        }
      ]
    },
    {
      "cell_type": "code",
      "metadata": {
        "id": "48xwneybM5rq"
      },
      "source": [
        "config = run.config"
      ],
      "execution_count": 11,
      "outputs": []
    },
    {
      "cell_type": "code",
      "metadata": {
        "colab": {
          "base_uri": "https://localhost:8080/"
        },
        "id": "_J6FVbiYSuw4",
        "outputId": "8a04a437-7e55-4362-fa77-370f1a85e397"
      },
      "source": [
        "config"
      ],
      "execution_count": 21,
      "outputs": [
        {
          "output_type": "execute_result",
          "data": {
            "text/plain": [
              "{'IMG_SIZE': 128,\n",
              " 'batch_size': 128,\n",
              " 'epochs': 120,\n",
              " 'ft_proj_selector': 0,\n",
              " 'hidden_norm': True,\n",
              " 'learning_rate': 0.01,\n",
              " 'learning_rate_scaling': 'linear',\n",
              " 'num_classes': 4,\n",
              " 'num_examples': 83489,\n",
              " 'num_proj_layers': 3,\n",
              " 'proj_head_mode': 'nonlinear',\n",
              " 'proj_out_dim': 128,\n",
              " 'resnet_depth': 18,\n",
              " 'resnet_se_ratio': 0,\n",
              " 'resnet_sk_ratio': 0,\n",
              " 'resnet_width_multiplier': 1,\n",
              " 'temperature': 1,\n",
              " 'use_blur': True,\n",
              " 'warmup_epochs': 10}"
            ]
          },
          "metadata": {
            "tags": []
          },
          "execution_count": 21
        }
      ]
    },
    {
      "cell_type": "code",
      "metadata": {
        "id": "56imPURkM3IE"
      },
      "source": [
        "from simclr_model import Pretrained_SimCLR_Model\r\n",
        "\r\n",
        "model_loadweights = Pretrained_SimCLR_Model()"
      ],
      "execution_count": 12,
      "outputs": []
    },
    {
      "cell_type": "code",
      "metadata": {
        "id": "9S1PGyamNlsw",
        "colab": {
          "base_uri": "https://localhost:8080/"
        },
        "outputId": "4b98247a-3911-4f74-9991-f605708643c4"
      },
      "source": [
        "input_shape_base   = (None, config[\"IMG_SIZE\"], config[\"IMG_SIZE\"], 3)\r\n",
        "input_shape_simclr = (None, config[\"IMG_SIZE\"], config[\"IMG_SIZE\"], 6)\r\n",
        "model_loadweights.base_model.build(input_shape_base)\r\n",
        "model_loadweights.build(input_shape_simclr)\r\n",
        "model_loadweights.summary()\r\n",
        "model_loadweights.load_weights('weights.108-0.97.hdf5')"
      ],
      "execution_count": 13,
      "outputs": [
        {
          "output_type": "stream",
          "text": [
            "Model: \"pretrained__sim_clr__model\"\n",
            "_________________________________________________________________\n",
            "Layer (type)                 Output Shape              Param #   \n",
            "=================================================================\n",
            "resnet (Resnet)              multiple                  11190464  \n",
            "_________________________________________________________________\n",
            "head_supervised (SupervisedH multiple                  2052      \n",
            "_________________________________________________________________\n",
            "projection_head (ProjectionH multiple                  594304    \n",
            "=================================================================\n",
            "Total params: 11,786,830\n",
            "Trainable params: 11,774,788\n",
            "Non-trainable params: 12,042\n",
            "_________________________________________________________________\n"
          ],
          "name": "stdout"
        }
      ]
    },
    {
      "cell_type": "code",
      "metadata": {
        "id": "6GiobsGpN1M3"
      },
      "source": [
        "from data_augmentation import train_classification_aug\r\n",
        "\r\n",
        "def train_data_aug(img, lb):\r\n",
        "  xs = []\r\n",
        "  for _ in range(2):\r\n",
        "    xs.append(train_classification_aug(img, lb, img_size = 128)[0])\r\n",
        "  img = tf.concat(xs, -1)\r\n",
        "  return img, tf.one_hot(lb, 4)\r\n",
        "\r\n",
        "def val_data_aug(img, lb):\r\n",
        "  xs = []\r\n",
        "  for _ in range(2):\r\n",
        "    xs.append(train_classification_aug(img, lb, img_size = 128)[0])\r\n",
        "  img = tf.concat(xs, -1)\r\n",
        "  return img, tf.one_hot(lb, 4)\r\n",
        "\r\n",
        "def resize_only(img, lb):\r\n",
        "  # img = tf.cast(img, tf.float32)/ 255.\r\n",
        "  img = train_classification_aug(img, lb, img_size = 128)[0]\r\n",
        "  # img = tf.image.resize(img, (128,128))\r\n",
        "  return img, tf.one_hot(lb, 4)"
      ],
      "execution_count": 114,
      "outputs": []
    },
    {
      "cell_type": "markdown",
      "metadata": {
        "id": "aJ0hLyVBOa1M"
      },
      "source": [
        "# When `training = False` / making prediction\r\n",
        "## Inputs\r\n",
        "- X:\r\n",
        "  - shape: `[bsz, IMG_SIZE, IMG_SIZE, 3]`\r\n",
        "\r\n",
        "## outputs\r\n",
        "- proj:\r\n",
        "  - shape: `[bsz, 128]`\r\n",
        "- logits:\r\n",
        "  - shape: `[bsz, NUM_CLASSES]`"
      ]
    },
    {
      "cell_type": "code",
      "metadata": {
        "id": "TIjLnaYbOL1a"
      },
      "source": [
        "X, y = next(iter(ds_test.map(resize_only).batch(128)))\r\n",
        "proj, logits = model_loadweights.call(X, training=False)"
      ],
      "execution_count": 15,
      "outputs": []
    },
    {
      "cell_type": "code",
      "metadata": {
        "id": "pNrEEyb9OsQ5",
        "colab": {
          "base_uri": "https://localhost:8080/"
        },
        "outputId": "a1266b56-6bba-4462-be5e-38ca644e407e"
      },
      "source": [
        "sum(logits.numpy().argmax(axis=-1) == y.numpy().argmax(axis=-1))"
      ],
      "execution_count": 16,
      "outputs": [
        {
          "output_type": "execute_result",
          "data": {
            "text/plain": [
              "107"
            ]
          },
          "metadata": {
            "tags": []
          },
          "execution_count": 16
        }
      ]
    },
    {
      "cell_type": "code",
      "metadata": {
        "id": "1fveJCoYOuin",
        "colab": {
          "base_uri": "https://localhost:8080/"
        },
        "outputId": "a78ff026-cab8-4623-a16d-6be829736e11"
      },
      "source": [
        "107/128"
      ],
      "execution_count": 17,
      "outputs": [
        {
          "output_type": "execute_result",
          "data": {
            "text/plain": [
              "0.8359375"
            ]
          },
          "metadata": {
            "tags": []
          },
          "execution_count": 17
        }
      ]
    },
    {
      "cell_type": "markdown",
      "metadata": {
        "id": "JGTNvj7EQPaB"
      },
      "source": [
        "# During Evaluation/ training\r\n",
        "- expects an input with channel dimension of 6"
      ]
    },
    {
      "cell_type": "code",
      "metadata": {
        "id": "ZqevtyfmQH_d"
      },
      "source": [
        "model_loadweights.compile()"
      ],
      "execution_count": 18,
      "outputs": []
    },
    {
      "cell_type": "code",
      "metadata": {
        "id": "z6WapM3gP6Go",
        "colab": {
          "base_uri": "https://localhost:8080/"
        },
        "outputId": "ad774f15-0075-4c2b-cdc8-44d3c5961081"
      },
      "source": [
        "model_loadweights.evaluate(ds_test.map(train_data_aug).batch(128))"
      ],
      "execution_count": 19,
      "outputs": [
        {
          "output_type": "stream",
          "text": [
            "8/8 [==============================] - 6s 579ms/step - contrast_loss: 9.5215 - contrast_acc: 0.7045 - contrast_entropy: 4.7463 - supervised_loss: 0.3536 - supervised_acc: 0.8880\n"
          ],
          "name": "stdout"
        },
        {
          "output_type": "execute_result",
          "data": {
            "text/plain": [
              "[9.521537780761719,\n",
              " 0.7045356035232544,\n",
              " 4.7462897300720215,\n",
              " 0.3536350429058075,\n",
              " 0.8880208134651184,\n",
              " 9.521537780761719,\n",
              " 0.7045356035232544,\n",
              " 4.7462897300720215,\n",
              " 0.3536350429058075,\n",
              " 0.8880208134651184]"
            ]
          },
          "metadata": {
            "tags": []
          },
          "execution_count": 19
        }
      ]
    },
    {
      "cell_type": "code",
      "metadata": {
        "id": "HLTpQ23OQFtW",
        "colab": {
          "base_uri": "https://localhost:8080/"
        },
        "outputId": "05269842-447b-423a-e405-3a947dee69b8"
      },
      "source": [
        "model_loadweights.evaluate(ds_train.map(train_data_aug).batch(128))"
      ],
      "execution_count": 20,
      "outputs": [
        {
          "output_type": "stream",
          "text": [
            "653/653 [==============================] - 448s 685ms/step - contrast_loss: 9.5670 - contrast_acc: 0.7370 - contrast_entropy: 4.8234 - supervised_loss: 0.4511 - supervised_acc: 0.8404\n"
          ],
          "name": "stdout"
        },
        {
          "output_type": "execute_result",
          "data": {
            "text/plain": [
              "[9.566962242126465,\n",
              " 0.7370143532752991,\n",
              " 4.8233962059021,\n",
              " 0.4510897994041443,\n",
              " 0.8404014110565186,\n",
              " 9.566962242126465,\n",
              " 0.7370143532752991,\n",
              " 4.8233962059021,\n",
              " 0.4510897994041443,\n",
              " 0.8404014110565186]"
            ]
          },
          "metadata": {
            "tags": []
          },
          "execution_count": 20
        }
      ]
    },
    {
      "cell_type": "markdown",
      "metadata": {
        "id": "9CalbydPSfQ3"
      },
      "source": [
        "# Visualize the Projection Head at PCA embedding"
      ]
    },
    {
      "cell_type": "code",
      "metadata": {
        "id": "7VI7yCGXURbp"
      },
      "source": [
        "import numpy as np\r\n",
        "from sklearn.decomposition import PCA"
      ],
      "execution_count": 104,
      "outputs": []
    },
    {
      "cell_type": "code",
      "metadata": {
        "id": "6kbheXcqR9Z2"
      },
      "source": [
        "proj_testset, logits_testset = model_loadweights.predict(ds_test.map(resize_only).batch(128))\r\n",
        "\r\n",
        "ytest_pred = logits_testset.argmax(axis=-1)"
      ],
      "execution_count": 126,
      "outputs": []
    },
    {
      "cell_type": "code",
      "metadata": {
        "id": "fd-ye_RTUoRU"
      },
      "source": [
        "l2 = np.square(proj_testset).mean(axis=-1, keepdims=True)**0.5\r\n",
        "proj_normed = proj_testset/ l2\r\n",
        "proj_normed_pcas = PCA(n_components=2).fit_transform(proj_normed)"
      ],
      "execution_count": 105,
      "outputs": []
    },
    {
      "cell_type": "code",
      "metadata": {
        "id": "g5tSpQ0qVMlq"
      },
      "source": [
        "test_targets = [t.numpy() for t in ds_test.map(lambda img, lb: lb).batch(128)]\r\n",
        "test_targets = np.hstack(test_targets)"
      ],
      "execution_count": 120,
      "outputs": []
    },
    {
      "cell_type": "code",
      "metadata": {
        "colab": {
          "base_uri": "https://localhost:8080/"
        },
        "id": "KTtPAawRWFEA",
        "outputId": "ed95a12c-bfeb-4b42-e174-86ed79453a20"
      },
      "source": [
        "print(f\" accuracy:  {sum(ytest_pred == test_targets)/ len(test_targets)}\")"
      ],
      "execution_count": 127,
      "outputs": [
        {
          "output_type": "stream",
          "text": [
            " accuracy:  0.8894628099173554\n"
          ],
          "name": "stdout"
        }
      ]
    },
    {
      "cell_type": "code",
      "metadata": {
        "id": "NWX58tqIZ8vy"
      },
      "source": [
        "from sklearn.metrics import classification_report, plot_confusion_matrix, confusion_matrix"
      ],
      "execution_count": 132,
      "outputs": []
    },
    {
      "cell_type": "code",
      "metadata": {
        "colab": {
          "base_uri": "https://localhost:8080/"
        },
        "id": "Tac3KoS6aH9s",
        "outputId": "660f82e0-8ca4-44f0-fefc-4d5ba066276a"
      },
      "source": [
        "print(classification_report(test_targets, ytest_pred))"
      ],
      "execution_count": 130,
      "outputs": [
        {
          "output_type": "stream",
          "text": [
            "              precision    recall  f1-score   support\n",
            "\n",
            "           0       0.86      0.95      0.90       242\n",
            "           1       0.98      0.78      0.87       242\n",
            "           2       0.94      0.85      0.89       242\n",
            "           3       0.82      0.99      0.90       242\n",
            "\n",
            "    accuracy                           0.89       968\n",
            "   macro avg       0.90      0.89      0.89       968\n",
            "weighted avg       0.90      0.89      0.89       968\n",
            "\n"
          ],
          "name": "stdout"
        }
      ]
    },
    {
      "cell_type": "code",
      "metadata": {
        "colab": {
          "base_uri": "https://localhost:8080/"
        },
        "id": "YAGg__UvaMzZ",
        "outputId": "6288e1af-09b8-423b-969b-1b5c81a1fff1"
      },
      "source": [
        "confusion_matrix(test_targets, ytest_pred)"
      ],
      "execution_count": 135,
      "outputs": [
        {
          "output_type": "execute_result",
          "data": {
            "text/plain": [
              "array([[229,   1,   5,   7],\n",
              "       [ 18, 188,   7,  29],\n",
              "       [ 19,   1, 205,  17],\n",
              "       [  1,   1,   1, 239]])"
            ]
          },
          "metadata": {
            "tags": []
          },
          "execution_count": 135
        }
      ]
    },
    {
      "cell_type": "code",
      "metadata": {
        "id": "SiI6kbhgVDgT"
      },
      "source": [
        "import matplotlib.pyplot as plt\r\n",
        "import pandas as pd\r\n",
        "import seaborn as sns"
      ],
      "execution_count": 136,
      "outputs": []
    },
    {
      "cell_type": "code",
      "metadata": {
        "colab": {
          "base_uri": "https://localhost:8080/",
          "height": 296
        },
        "id": "YqZmo6xQVGUa",
        "outputId": "f4a11562-372b-477f-865b-a114dd06f4b0"
      },
      "source": [
        "df = pd.DataFrame(proj_normed_pcas, columns=['PCA1', 'PCA2'])\r\n",
        "df['targets'] = test_targets\r\n",
        "sns.kdeplot(x ='PCA1', y='PCA2', data= df, hue='targets', palette= sns.color_palette()[0:4] )"
      ],
      "execution_count": 137,
      "outputs": [
        {
          "output_type": "execute_result",
          "data": {
            "text/plain": [
              "<matplotlib.axes._subplots.AxesSubplot at 0x7f16eb2a3240>"
            ]
          },
          "metadata": {
            "tags": []
          },
          "execution_count": 137
        },
        {
          "output_type": "display_data",
          "data": {
            "image/png": "[encoded data removed]",
            "text/plain": [
              "<Figure size 432x288 with 1 Axes>"
            ]
          },
          "metadata": {
            "tags": [],
            "needs_background": "light"
          }
        }
      ]
    },
    {
      "cell_type": "code",
      "metadata": {
        "colab": {
          "base_uri": "https://localhost:8080/",
          "height": 286
        },
        "id": "hhtVv7_6W_1P",
        "outputId": "b15f902f-79b1-4b9c-b413-1789b9b8e01f"
      },
      "source": [
        "plt.scatter(df['PCA1'], df['PCA2'], c = test_targets, cmap='tab10')\r\n",
        "plt.colorbar()"
      ],
      "execution_count": 138,
      "outputs": [
        {
          "output_type": "execute_result",
          "data": {
            "text/plain": [
              "<matplotlib.colorbar.Colorbar at 0x7f16eaa90ac8>"
            ]
          },
          "metadata": {
            "tags": []
          },
          "execution_count": 138
        },
        {
          "output_type": "display_data",
          "data": {
            "image/png": "[encoded data removed]",
            "text/plain": [
              "<Figure size 432x288 with 2 Axes>"
            ]
          },
          "metadata": {
            "tags": [],
            "needs_background": "light"
          }
        }
      ]
    }
  ]
}