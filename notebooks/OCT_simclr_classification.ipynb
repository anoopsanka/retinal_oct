{
  "nbformat": 4,
  "nbformat_minor": 0,
  "metadata": {
    "accelerator": "GPU",
    "colab": {
      "name": "OCT_simclr_classification.ipynb",
      "provenance": [],
      "collapsed_sections": [],
      "authorship_tag": "ABX9TyO5YyDyJSlMUAFMdTqIsxdo",
      "include_colab_link": true
    },
    "kernelspec": {
      "display_name": "Python 3",
      "name": "python3"
    },
    "widgets": {
      "application/vnd.jupyter.widget-state+json": {
        "f92566ebe12d45c3ae34c72ff7ff8132": {
          "model_module": "@jupyter-widgets/controls",
          "model_name": "HBoxModel",
          "state": {
            "_view_name": "HBoxView",
            "_dom_classes": [],
            "_model_name": "HBoxModel",
            "_view_module": "@jupyter-widgets/controls",
            "_model_module_version": "1.5.0",
            "_view_count": null,
            "_view_module_version": "1.5.0",
            "box_style": "",
            "layout": "IPY_MODEL_0123e9b495544c6b9530a76bd3166701",
            "_model_module": "@jupyter-widgets/controls",
            "children": [
              "IPY_MODEL_5a318ca9194a4fffa905031478c9396c",
              "IPY_MODEL_c17cea60580c438aa160793a39e5d7e8"
            ]
          }
        },
        "0123e9b495544c6b9530a76bd3166701": {
          "model_module": "@jupyter-widgets/base",
          "model_name": "LayoutModel",
          "state": {
            "_view_name": "LayoutView",
            "grid_template_rows": null,
            "right": null,
            "justify_content": null,
            "_view_module": "@jupyter-widgets/base",
            "overflow": null,
            "_model_module_version": "1.2.0",
            "_view_count": null,
            "flex_flow": null,
            "width": null,
            "min_width": null,
            "border": null,
            "align_items": null,
            "bottom": null,
            "_model_module": "@jupyter-widgets/base",
            "top": null,
            "grid_column": null,
            "overflow_y": null,
            "overflow_x": null,
            "grid_auto_flow": null,
            "grid_area": null,
            "grid_template_columns": null,
            "flex": null,
            "_model_name": "LayoutModel",
            "justify_items": null,
            "grid_row": null,
            "max_height": null,
            "align_content": null,
            "visibility": null,
            "align_self": null,
            "height": null,
            "min_height": null,
            "padding": null,
            "grid_auto_rows": null,
            "grid_gap": null,
            "max_width": null,
            "order": null,
            "_view_module_version": "1.2.0",
            "grid_template_areas": null,
            "object_position": null,
            "object_fit": null,
            "grid_auto_columns": null,
            "margin": null,
            "display": null,
            "left": null
          }
        },
        "5a318ca9194a4fffa905031478c9396c": {
          "model_module": "@jupyter-widgets/controls",
          "model_name": "FloatProgressModel",
          "state": {
            "_view_name": "ProgressView",
            "style": "IPY_MODEL_7016e0e073d247b59279fe1e91eb5d96",
            "_dom_classes": [],
            "description": "Dl Completed...: 100%",
            "_model_name": "FloatProgressModel",
            "bar_style": "success",
            "max": 1,
            "_view_module": "@jupyter-widgets/controls",
            "_model_module_version": "1.5.0",
            "value": 1,
            "_view_count": null,
            "_view_module_version": "1.5.0",
            "orientation": "horizontal",
            "min": 0,
            "description_tooltip": null,
            "_model_module": "@jupyter-widgets/controls",
            "layout": "IPY_MODEL_1aa976467cc94c13bd81dbc441dc3a92"
          }
        },
        "c17cea60580c438aa160793a39e5d7e8": {
          "model_module": "@jupyter-widgets/controls",
          "model_name": "HTMLModel",
          "state": {
            "_view_name": "HTMLView",
            "style": "IPY_MODEL_3896c6a0d6a14db4af0207f276bc948e",
            "_dom_classes": [],
            "description": "",
            "_model_name": "HTMLModel",
            "placeholder": "​",
            "_view_module": "@jupyter-widgets/controls",
            "_model_module_version": "1.5.0",
            "value": " 2/2 [01:40&lt;00:00, 50.22s/ url]",
            "_view_count": null,
            "_view_module_version": "1.5.0",
            "description_tooltip": null,
            "_model_module": "@jupyter-widgets/controls",
            "layout": "IPY_MODEL_da6dfb8ac8cb4cfa99fd3a6dc5bc880c"
          }
        },
        "7016e0e073d247b59279fe1e91eb5d96": {
          "model_module": "@jupyter-widgets/controls",
          "model_name": "ProgressStyleModel",
          "state": {
            "_view_name": "StyleView",
            "_model_name": "ProgressStyleModel",
            "description_width": "initial",
            "_view_module": "@jupyter-widgets/base",
            "_model_module_version": "1.5.0",
            "_view_count": null,
            "_view_module_version": "1.2.0",
            "bar_color": null,
            "_model_module": "@jupyter-widgets/controls"
          }
        },
        "1aa976467cc94c13bd81dbc441dc3a92": {
          "model_module": "@jupyter-widgets/base",
          "model_name": "LayoutModel",
          "state": {
            "_view_name": "LayoutView",
            "grid_template_rows": null,
            "right": null,
            "justify_content": null,
            "_view_module": "@jupyter-widgets/base",
            "overflow": null,
            "_model_module_version": "1.2.0",
            "_view_count": null,
            "flex_flow": null,
            "width": null,
            "min_width": null,
            "border": null,
            "align_items": null,
            "bottom": null,
            "_model_module": "@jupyter-widgets/base",
            "top": null,
            "grid_column": null,
            "overflow_y": null,
            "overflow_x": null,
            "grid_auto_flow": null,
            "grid_area": null,
            "grid_template_columns": null,
            "flex": null,
            "_model_name": "LayoutModel",
            "justify_items": null,
            "grid_row": null,
            "max_height": null,
            "align_content": null,
            "visibility": null,
            "align_self": null,
            "height": null,
            "min_height": null,
            "padding": null,
            "grid_auto_rows": null,
            "grid_gap": null,
            "max_width": null,
            "order": null,
            "_view_module_version": "1.2.0",
            "grid_template_areas": null,
            "object_position": null,
            "object_fit": null,
            "grid_auto_columns": null,
            "margin": null,
            "display": null,
            "left": null
          }
        },
        "3896c6a0d6a14db4af0207f276bc948e": {
          "model_module": "@jupyter-widgets/controls",
          "model_name": "DescriptionStyleModel",
          "state": {
            "_view_name": "StyleView",
            "_model_name": "DescriptionStyleModel",
            "description_width": "",
            "_view_module": "@jupyter-widgets/base",
            "_model_module_version": "1.5.0",
            "_view_count": null,
            "_view_module_version": "1.2.0",
            "_model_module": "@jupyter-widgets/controls"
          }
        },
        "da6dfb8ac8cb4cfa99fd3a6dc5bc880c": {
          "model_module": "@jupyter-widgets/base",
          "model_name": "LayoutModel",
          "state": {
            "_view_name": "LayoutView",
            "grid_template_rows": null,
            "right": null,
            "justify_content": null,
            "_view_module": "@jupyter-widgets/base",
            "overflow": null,
            "_model_module_version": "1.2.0",
            "_view_count": null,
            "flex_flow": null,
            "width": null,
            "min_width": null,
            "border": null,
            "align_items": null,
            "bottom": null,
            "_model_module": "@jupyter-widgets/base",
            "top": null,
            "grid_column": null,
            "overflow_y": null,
            "overflow_x": null,
            "grid_auto_flow": null,
            "grid_area": null,
            "grid_template_columns": null,
            "flex": null,
            "_model_name": "LayoutModel",
            "justify_items": null,
            "grid_row": null,
            "max_height": null,
            "align_content": null,
            "visibility": null,
            "align_self": null,
            "height": null,
            "min_height": null,
            "padding": null,
            "grid_auto_rows": null,
            "grid_gap": null,
            "max_width": null,
            "order": null,
            "_view_module_version": "1.2.0",
            "grid_template_areas": null,
            "object_position": null,
            "object_fit": null,
            "grid_auto_columns": null,
            "margin": null,
            "display": null,
            "left": null
          }
        },
        "afbb17ea487c4fd0b2719250c1aa77d6": {
          "model_module": "@jupyter-widgets/controls",
          "model_name": "HBoxModel",
          "state": {
            "_view_name": "HBoxView",
            "_dom_classes": [],
            "_model_name": "HBoxModel",
            "_view_module": "@jupyter-widgets/controls",
            "_model_module_version": "1.5.0",
            "_view_count": null,
            "_view_module_version": "1.5.0",
            "box_style": "",
            "layout": "IPY_MODEL_7184324290744732aad21bdd8810f62e",
            "_model_module": "@jupyter-widgets/controls",
            "children": [
              "IPY_MODEL_9a57686b4a9440d2a599a27de10fd536",
              "IPY_MODEL_4b08288e4f24467187eb817fad11dacd"
            ]
          }
        },
        "7184324290744732aad21bdd8810f62e": {
          "model_module": "@jupyter-widgets/base",
          "model_name": "LayoutModel",
          "state": {
            "_view_name": "LayoutView",
            "grid_template_rows": null,
            "right": null,
            "justify_content": null,
            "_view_module": "@jupyter-widgets/base",
            "overflow": null,
            "_model_module_version": "1.2.0",
            "_view_count": null,
            "flex_flow": null,
            "width": null,
            "min_width": null,
            "border": null,
            "align_items": null,
            "bottom": null,
            "_model_module": "@jupyter-widgets/base",
            "top": null,
            "grid_column": null,
            "overflow_y": null,
            "overflow_x": null,
            "grid_auto_flow": null,
            "grid_area": null,
            "grid_template_columns": null,
            "flex": null,
            "_model_name": "LayoutModel",
            "justify_items": null,
            "grid_row": null,
            "max_height": null,
            "align_content": null,
            "visibility": null,
            "align_self": null,
            "height": null,
            "min_height": null,
            "padding": null,
            "grid_auto_rows": null,
            "grid_gap": null,
            "max_width": null,
            "order": null,
            "_view_module_version": "1.2.0",
            "grid_template_areas": null,
            "object_position": null,
            "object_fit": null,
            "grid_auto_columns": null,
            "margin": null,
            "display": null,
            "left": null
          }
        },
        "9a57686b4a9440d2a599a27de10fd536": {
          "model_module": "@jupyter-widgets/controls",
          "model_name": "FloatProgressModel",
          "state": {
            "_view_name": "ProgressView",
            "style": "IPY_MODEL_708d7f6e60b14cba89b2da4c715ef510",
            "_dom_classes": [],
            "description": "Dl Size...: 100%",
            "_model_name": "FloatProgressModel",
            "bar_style": "success",
            "max": 1,
            "_view_module": "@jupyter-widgets/controls",
            "_model_module_version": "1.5.0",
            "value": 1,
            "_view_count": null,
            "_view_module_version": "1.5.0",
            "orientation": "horizontal",
            "min": 0,
            "description_tooltip": null,
            "_model_module": "@jupyter-widgets/controls",
            "layout": "IPY_MODEL_79158db7dd03499fbbf3f4efb1f56852"
          }
        },
        "4b08288e4f24467187eb817fad11dacd": {
          "model_module": "@jupyter-widgets/controls",
          "model_name": "HTMLModel",
          "state": {
            "_view_name": "HTMLView",
            "style": "IPY_MODEL_228ce3e4bb5444f88b0b4bfbf14488b0",
            "_dom_classes": [],
            "description": "",
            "_model_name": "HTMLModel",
            "placeholder": "​",
            "_view_module": "@jupyter-widgets/controls",
            "_model_module_version": "1.5.0",
            "value": " 5529/5529 [01:40&lt;00:00, 55.07 MiB/s]",
            "_view_count": null,
            "_view_module_version": "1.5.0",
            "description_tooltip": null,
            "_model_module": "@jupyter-widgets/controls",
            "layout": "IPY_MODEL_bf1884b4343040169f54ee9745af7cca"
          }
        },
        "708d7f6e60b14cba89b2da4c715ef510": {
          "model_module": "@jupyter-widgets/controls",
          "model_name": "ProgressStyleModel",
          "state": {
            "_view_name": "StyleView",
            "_model_name": "ProgressStyleModel",
            "description_width": "initial",
            "_view_module": "@jupyter-widgets/base",
            "_model_module_version": "1.5.0",
            "_view_count": null,
            "_view_module_version": "1.2.0",
            "bar_color": null,
            "_model_module": "@jupyter-widgets/controls"
          }
        },
        "79158db7dd03499fbbf3f4efb1f56852": {
          "model_module": "@jupyter-widgets/base",
          "model_name": "LayoutModel",
          "state": {
            "_view_name": "LayoutView",
            "grid_template_rows": null,
            "right": null,
            "justify_content": null,
            "_view_module": "@jupyter-widgets/base",
            "overflow": null,
            "_model_module_version": "1.2.0",
            "_view_count": null,
            "flex_flow": null,
            "width": null,
            "min_width": null,
            "border": null,
            "align_items": null,
            "bottom": null,
            "_model_module": "@jupyter-widgets/base",
            "top": null,
            "grid_column": null,
            "overflow_y": null,
            "overflow_x": null,
            "grid_auto_flow": null,
            "grid_area": null,
            "grid_template_columns": null,
            "flex": null,
            "_model_name": "LayoutModel",
            "justify_items": null,
            "grid_row": null,
            "max_height": null,
            "align_content": null,
            "visibility": null,
            "align_self": null,
            "height": null,
            "min_height": null,
            "padding": null,
            "grid_auto_rows": null,
            "grid_gap": null,
            "max_width": null,
            "order": null,
            "_view_module_version": "1.2.0",
            "grid_template_areas": null,
            "object_position": null,
            "object_fit": null,
            "grid_auto_columns": null,
            "margin": null,
            "display": null,
            "left": null
          }
        },
        "228ce3e4bb5444f88b0b4bfbf14488b0": {
          "model_module": "@jupyter-widgets/controls",
          "model_name": "DescriptionStyleModel",
          "state": {
            "_view_name": "StyleView",
            "_model_name": "DescriptionStyleModel",
            "description_width": "",
            "_view_module": "@jupyter-widgets/base",
            "_model_module_version": "1.5.0",
            "_view_count": null,
            "_view_module_version": "1.2.0",
            "_model_module": "@jupyter-widgets/controls"
          }
        },
        "bf1884b4343040169f54ee9745af7cca": {
          "model_module": "@jupyter-widgets/base",
          "model_name": "LayoutModel",
          "state": {
            "_view_name": "LayoutView",
            "grid_template_rows": null,
            "right": null,
            "justify_content": null,
            "_view_module": "@jupyter-widgets/base",
            "overflow": null,
            "_model_module_version": "1.2.0",
            "_view_count": null,
            "flex_flow": null,
            "width": null,
            "min_width": null,
            "border": null,
            "align_items": null,
            "bottom": null,
            "_model_module": "@jupyter-widgets/base",
            "top": null,
            "grid_column": null,
            "overflow_y": null,
            "overflow_x": null,
            "grid_auto_flow": null,
            "grid_area": null,
            "grid_template_columns": null,
            "flex": null,
            "_model_name": "LayoutModel",
            "justify_items": null,
            "grid_row": null,
            "max_height": null,
            "align_content": null,
            "visibility": null,
            "align_self": null,
            "height": null,
            "min_height": null,
            "padding": null,
            "grid_auto_rows": null,
            "grid_gap": null,
            "max_width": null,
            "order": null,
            "_view_module_version": "1.2.0",
            "grid_template_areas": null,
            "object_position": null,
            "object_fit": null,
            "grid_auto_columns": null,
            "margin": null,
            "display": null,
            "left": null
          }
        },
        "76c002b82aa24afebf6c7a91f06409f0": {
          "model_module": "@jupyter-widgets/controls",
          "model_name": "HBoxModel",
          "state": {
            "_view_name": "HBoxView",
            "_dom_classes": [],
            "_model_name": "HBoxModel",
            "_view_module": "@jupyter-widgets/controls",
            "_model_module_version": "1.5.0",
            "_view_count": null,
            "_view_module_version": "1.5.0",
            "box_style": "",
            "layout": "IPY_MODEL_904b511cad7d43d9846e4fc01407fb56",
            "_model_module": "@jupyter-widgets/controls",
            "children": [
              "IPY_MODEL_df7ab9b78e9f491c8e0d83f60806ee23",
              "IPY_MODEL_ab38e7b1b2c8406691713fa1b5784ae4"
            ]
          }
        },
        "904b511cad7d43d9846e4fc01407fb56": {
          "model_module": "@jupyter-widgets/base",
          "model_name": "LayoutModel",
          "state": {
            "_view_name": "LayoutView",
            "grid_template_rows": null,
            "right": null,
            "justify_content": null,
            "_view_module": "@jupyter-widgets/base",
            "overflow": null,
            "_model_module_version": "1.2.0",
            "_view_count": null,
            "flex_flow": null,
            "width": null,
            "min_width": null,
            "border": null,
            "align_items": null,
            "bottom": null,
            "_model_module": "@jupyter-widgets/base",
            "top": null,
            "grid_column": null,
            "overflow_y": null,
            "overflow_x": null,
            "grid_auto_flow": null,
            "grid_area": null,
            "grid_template_columns": null,
            "flex": null,
            "_model_name": "LayoutModel",
            "justify_items": null,
            "grid_row": null,
            "max_height": null,
            "align_content": null,
            "visibility": null,
            "align_self": null,
            "height": null,
            "min_height": null,
            "padding": null,
            "grid_auto_rows": null,
            "grid_gap": null,
            "max_width": null,
            "order": null,
            "_view_module_version": "1.2.0",
            "grid_template_areas": null,
            "object_position": null,
            "object_fit": null,
            "grid_auto_columns": null,
            "margin": null,
            "display": null,
            "left": null
          }
        },
        "df7ab9b78e9f491c8e0d83f60806ee23": {
          "model_module": "@jupyter-widgets/controls",
          "model_name": "FloatProgressModel",
          "state": {
            "_view_name": "ProgressView",
            "style": "IPY_MODEL_d07be8c5d12c4ed28277dc26082e728b",
            "_dom_classes": [],
            "description": "",
            "_model_name": "FloatProgressModel",
            "bar_style": "info",
            "max": 1,
            "_view_module": "@jupyter-widgets/controls",
            "_model_module_version": "1.5.0",
            "value": 1,
            "_view_count": null,
            "_view_module_version": "1.5.0",
            "orientation": "horizontal",
            "min": 0,
            "description_tooltip": null,
            "_model_module": "@jupyter-widgets/controls",
            "layout": "IPY_MODEL_a674a46ca174481f932fb8a7bacd615b"
          }
        },
        "ab38e7b1b2c8406691713fa1b5784ae4": {
          "model_module": "@jupyter-widgets/controls",
          "model_name": "HTMLModel",
          "state": {
            "_view_name": "HTMLView",
            "style": "IPY_MODEL_18016565622943fd9d970035288bb901",
            "_dom_classes": [],
            "description": "",
            "_model_name": "HTMLModel",
            "placeholder": "​",
            "_view_module": "@jupyter-widgets/controls",
            "_model_module_version": "1.5.0",
            "value": " 83489/0 [01:30&lt;00:00, 904.36 examples/s]",
            "_view_count": null,
            "_view_module_version": "1.5.0",
            "description_tooltip": null,
            "_model_module": "@jupyter-widgets/controls",
            "layout": "IPY_MODEL_9d9aaa4e530e488099b115494a35aad4"
          }
        },
        "d07be8c5d12c4ed28277dc26082e728b": {
          "model_module": "@jupyter-widgets/controls",
          "model_name": "ProgressStyleModel",
          "state": {
            "_view_name": "StyleView",
            "_model_name": "ProgressStyleModel",
            "description_width": "initial",
            "_view_module": "@jupyter-widgets/base",
            "_model_module_version": "1.5.0",
            "_view_count": null,
            "_view_module_version": "1.2.0",
            "bar_color": null,
            "_model_module": "@jupyter-widgets/controls"
          }
        },
        "a674a46ca174481f932fb8a7bacd615b": {
          "model_module": "@jupyter-widgets/base",
          "model_name": "LayoutModel",
          "state": {
            "_view_name": "LayoutView",
            "grid_template_rows": null,
            "right": null,
            "justify_content": null,
            "_view_module": "@jupyter-widgets/base",
            "overflow": null,
            "_model_module_version": "1.2.0",
            "_view_count": null,
            "flex_flow": null,
            "width": null,
            "min_width": null,
            "border": null,
            "align_items": null,
            "bottom": null,
            "_model_module": "@jupyter-widgets/base",
            "top": null,
            "grid_column": null,
            "overflow_y": null,
            "overflow_x": null,
            "grid_auto_flow": null,
            "grid_area": null,
            "grid_template_columns": null,
            "flex": null,
            "_model_name": "LayoutModel",
            "justify_items": null,
            "grid_row": null,
            "max_height": null,
            "align_content": null,
            "visibility": null,
            "align_self": null,
            "height": null,
            "min_height": null,
            "padding": null,
            "grid_auto_rows": null,
            "grid_gap": null,
            "max_width": null,
            "order": null,
            "_view_module_version": "1.2.0",
            "grid_template_areas": null,
            "object_position": null,
            "object_fit": null,
            "grid_auto_columns": null,
            "margin": null,
            "display": null,
            "left": null
          }
        },
        "18016565622943fd9d970035288bb901": {
          "model_module": "@jupyter-widgets/controls",
          "model_name": "DescriptionStyleModel",
          "state": {
            "_view_name": "StyleView",
            "_model_name": "DescriptionStyleModel",
            "description_width": "",
            "_view_module": "@jupyter-widgets/base",
            "_model_module_version": "1.5.0",
            "_view_count": null,
            "_view_module_version": "1.2.0",
            "_model_module": "@jupyter-widgets/controls"
          }
        },
        "9d9aaa4e530e488099b115494a35aad4": {
          "model_module": "@jupyter-widgets/base",
          "model_name": "LayoutModel",
          "state": {
            "_view_name": "LayoutView",
            "grid_template_rows": null,
            "right": null,
            "justify_content": null,
            "_view_module": "@jupyter-widgets/base",
            "overflow": null,
            "_model_module_version": "1.2.0",
            "_view_count": null,
            "flex_flow": null,
            "width": null,
            "min_width": null,
            "border": null,
            "align_items": null,
            "bottom": null,
            "_model_module": "@jupyter-widgets/base",
            "top": null,
            "grid_column": null,
            "overflow_y": null,
            "overflow_x": null,
            "grid_auto_flow": null,
            "grid_area": null,
            "grid_template_columns": null,
            "flex": null,
            "_model_name": "LayoutModel",
            "justify_items": null,
            "grid_row": null,
            "max_height": null,
            "align_content": null,
            "visibility": null,
            "align_self": null,
            "height": null,
            "min_height": null,
            "padding": null,
            "grid_auto_rows": null,
            "grid_gap": null,
            "max_width": null,
            "order": null,
            "_view_module_version": "1.2.0",
            "grid_template_areas": null,
            "object_position": null,
            "object_fit": null,
            "grid_auto_columns": null,
            "margin": null,
            "display": null,
            "left": null
          }
        },
        "9915c8345ad94a20b3f1a08b4b42f746": {
          "model_module": "@jupyter-widgets/controls",
          "model_name": "HBoxModel",
          "state": {
            "_view_name": "HBoxView",
            "_dom_classes": [],
            "_model_name": "HBoxModel",
            "_view_module": "@jupyter-widgets/controls",
            "_model_module_version": "1.5.0",
            "_view_count": null,
            "_view_module_version": "1.5.0",
            "box_style": "",
            "layout": "IPY_MODEL_0e45dca664ed4884aa766b9869670d56",
            "_model_module": "@jupyter-widgets/controls",
            "children": [
              "IPY_MODEL_83eba0fdb03945908ca8efdbfb109cd7",
              "IPY_MODEL_9a0ab1a143694235a0ecda537ed5e2a8"
            ]
          }
        },
        "0e45dca664ed4884aa766b9869670d56": {
          "model_module": "@jupyter-widgets/base",
          "model_name": "LayoutModel",
          "state": {
            "_view_name": "LayoutView",
            "grid_template_rows": null,
            "right": null,
            "justify_content": null,
            "_view_module": "@jupyter-widgets/base",
            "overflow": null,
            "_model_module_version": "1.2.0",
            "_view_count": null,
            "flex_flow": null,
            "width": null,
            "min_width": null,
            "border": null,
            "align_items": null,
            "bottom": null,
            "_model_module": "@jupyter-widgets/base",
            "top": null,
            "grid_column": null,
            "overflow_y": null,
            "overflow_x": null,
            "grid_auto_flow": null,
            "grid_area": null,
            "grid_template_columns": null,
            "flex": null,
            "_model_name": "LayoutModel",
            "justify_items": null,
            "grid_row": null,
            "max_height": null,
            "align_content": null,
            "visibility": null,
            "align_self": null,
            "height": null,
            "min_height": null,
            "padding": null,
            "grid_auto_rows": null,
            "grid_gap": null,
            "max_width": null,
            "order": null,
            "_view_module_version": "1.2.0",
            "grid_template_areas": null,
            "object_position": null,
            "object_fit": null,
            "grid_auto_columns": null,
            "margin": null,
            "display": null,
            "left": null
          }
        },
        "83eba0fdb03945908ca8efdbfb109cd7": {
          "model_module": "@jupyter-widgets/controls",
          "model_name": "FloatProgressModel",
          "state": {
            "_view_name": "ProgressView",
            "style": "IPY_MODEL_161f1c09e232423dae78f424867f6bc0",
            "_dom_classes": [],
            "description": "100%",
            "_model_name": "FloatProgressModel",
            "bar_style": "danger",
            "max": 83489,
            "_view_module": "@jupyter-widgets/controls",
            "_model_module_version": "1.5.0",
            "value": 83415,
            "_view_count": null,
            "_view_module_version": "1.5.0",
            "orientation": "horizontal",
            "min": 0,
            "description_tooltip": null,
            "_model_module": "@jupyter-widgets/controls",
            "layout": "IPY_MODEL_8494629a550744b4bc9a8f350638455e"
          }
        },
        "9a0ab1a143694235a0ecda537ed5e2a8": {
          "model_module": "@jupyter-widgets/controls",
          "model_name": "HTMLModel",
          "state": {
            "_view_name": "HTMLView",
            "style": "IPY_MODEL_51b7d7b146e6472585f0599ecd1c716e",
            "_dom_classes": [],
            "description": "",
            "_model_name": "HTMLModel",
            "placeholder": "​",
            "_view_module": "@jupyter-widgets/controls",
            "_model_module_version": "1.5.0",
            "value": " 83415/83489 [01:20&lt;00:00, 1033.87 examples/s]",
            "_view_count": null,
            "_view_module_version": "1.5.0",
            "description_tooltip": null,
            "_model_module": "@jupyter-widgets/controls",
            "layout": "IPY_MODEL_5484b19fe0da4457a73c0539f73a3028"
          }
        },
        "161f1c09e232423dae78f424867f6bc0": {
          "model_module": "@jupyter-widgets/controls",
          "model_name": "ProgressStyleModel",
          "state": {
            "_view_name": "StyleView",
            "_model_name": "ProgressStyleModel",
            "description_width": "initial",
            "_view_module": "@jupyter-widgets/base",
            "_model_module_version": "1.5.0",
            "_view_count": null,
            "_view_module_version": "1.2.0",
            "bar_color": null,
            "_model_module": "@jupyter-widgets/controls"
          }
        },
        "8494629a550744b4bc9a8f350638455e": {
          "model_module": "@jupyter-widgets/base",
          "model_name": "LayoutModel",
          "state": {
            "_view_name": "LayoutView",
            "grid_template_rows": null,
            "right": null,
            "justify_content": null,
            "_view_module": "@jupyter-widgets/base",
            "overflow": null,
            "_model_module_version": "1.2.0",
            "_view_count": null,
            "flex_flow": null,
            "width": null,
            "min_width": null,
            "border": null,
            "align_items": null,
            "bottom": null,
            "_model_module": "@jupyter-widgets/base",
            "top": null,
            "grid_column": null,
            "overflow_y": null,
            "overflow_x": null,
            "grid_auto_flow": null,
            "grid_area": null,
            "grid_template_columns": null,
            "flex": null,
            "_model_name": "LayoutModel",
            "justify_items": null,
            "grid_row": null,
            "max_height": null,
            "align_content": null,
            "visibility": null,
            "align_self": null,
            "height": null,
            "min_height": null,
            "padding": null,
            "grid_auto_rows": null,
            "grid_gap": null,
            "max_width": null,
            "order": null,
            "_view_module_version": "1.2.0",
            "grid_template_areas": null,
            "object_position": null,
            "object_fit": null,
            "grid_auto_columns": null,
            "margin": null,
            "display": null,
            "left": null
          }
        },
        "51b7d7b146e6472585f0599ecd1c716e": {
          "model_module": "@jupyter-widgets/controls",
          "model_name": "DescriptionStyleModel",
          "state": {
            "_view_name": "StyleView",
            "_model_name": "DescriptionStyleModel",
            "description_width": "",
            "_view_module": "@jupyter-widgets/base",
            "_model_module_version": "1.5.0",
            "_view_count": null,
            "_view_module_version": "1.2.0",
            "_model_module": "@jupyter-widgets/controls"
          }
        },
        "5484b19fe0da4457a73c0539f73a3028": {
          "model_module": "@jupyter-widgets/base",
          "model_name": "LayoutModel",
          "state": {
            "_view_name": "LayoutView",
            "grid_template_rows": null,
            "right": null,
            "justify_content": null,
            "_view_module": "@jupyter-widgets/base",
            "overflow": null,
            "_model_module_version": "1.2.0",
            "_view_count": null,
            "flex_flow": null,
            "width": null,
            "min_width": null,
            "border": null,
            "align_items": null,
            "bottom": null,
            "_model_module": "@jupyter-widgets/base",
            "top": null,
            "grid_column": null,
            "overflow_y": null,
            "overflow_x": null,
            "grid_auto_flow": null,
            "grid_area": null,
            "grid_template_columns": null,
            "flex": null,
            "_model_name": "LayoutModel",
            "justify_items": null,
            "grid_row": null,
            "max_height": null,
            "align_content": null,
            "visibility": null,
            "align_self": null,
            "height": null,
            "min_height": null,
            "padding": null,
            "grid_auto_rows": null,
            "grid_gap": null,
            "max_width": null,
            "order": null,
            "_view_module_version": "1.2.0",
            "grid_template_areas": null,
            "object_position": null,
            "object_fit": null,
            "grid_auto_columns": null,
            "margin": null,
            "display": null,
            "left": null
          }
        },
        "c4737e8b964f4081af78a3f9c64eec23": {
          "model_module": "@jupyter-widgets/controls",
          "model_name": "HBoxModel",
          "state": {
            "_view_name": "HBoxView",
            "_dom_classes": [],
            "_model_name": "HBoxModel",
            "_view_module": "@jupyter-widgets/controls",
            "_model_module_version": "1.5.0",
            "_view_count": null,
            "_view_module_version": "1.5.0",
            "box_style": "",
            "layout": "IPY_MODEL_5c36db242cc64b6f98704b5ad4045ec7",
            "_model_module": "@jupyter-widgets/controls",
            "children": [
              "IPY_MODEL_c28c496c0eba4ca1894eafde741fa3e2",
              "IPY_MODEL_3677ff01166a4bc5a07d9f4dc2f007ad"
            ]
          }
        },
        "5c36db242cc64b6f98704b5ad4045ec7": {
          "model_module": "@jupyter-widgets/base",
          "model_name": "LayoutModel",
          "state": {
            "_view_name": "LayoutView",
            "grid_template_rows": null,
            "right": null,
            "justify_content": null,
            "_view_module": "@jupyter-widgets/base",
            "overflow": null,
            "_model_module_version": "1.2.0",
            "_view_count": null,
            "flex_flow": null,
            "width": null,
            "min_width": null,
            "border": null,
            "align_items": null,
            "bottom": null,
            "_model_module": "@jupyter-widgets/base",
            "top": null,
            "grid_column": null,
            "overflow_y": null,
            "overflow_x": null,
            "grid_auto_flow": null,
            "grid_area": null,
            "grid_template_columns": null,
            "flex": null,
            "_model_name": "LayoutModel",
            "justify_items": null,
            "grid_row": null,
            "max_height": null,
            "align_content": null,
            "visibility": null,
            "align_self": null,
            "height": null,
            "min_height": null,
            "padding": null,
            "grid_auto_rows": null,
            "grid_gap": null,
            "max_width": null,
            "order": null,
            "_view_module_version": "1.2.0",
            "grid_template_areas": null,
            "object_position": null,
            "object_fit": null,
            "grid_auto_columns": null,
            "margin": null,
            "display": null,
            "left": null
          }
        },
        "c28c496c0eba4ca1894eafde741fa3e2": {
          "model_module": "@jupyter-widgets/controls",
          "model_name": "FloatProgressModel",
          "state": {
            "_view_name": "ProgressView",
            "style": "IPY_MODEL_ac4e8b3c868c43a08e7fde27c76b0087",
            "_dom_classes": [],
            "description": "",
            "_model_name": "FloatProgressModel",
            "bar_style": "info",
            "max": 1,
            "_view_module": "@jupyter-widgets/controls",
            "_model_module_version": "1.5.0",
            "value": 1,
            "_view_count": null,
            "_view_module_version": "1.5.0",
            "orientation": "horizontal",
            "min": 0,
            "description_tooltip": null,
            "_model_module": "@jupyter-widgets/controls",
            "layout": "IPY_MODEL_9524ef9a1a4d456991c7c5cf1c1d4f98"
          }
        },
        "3677ff01166a4bc5a07d9f4dc2f007ad": {
          "model_module": "@jupyter-widgets/controls",
          "model_name": "HTMLModel",
          "state": {
            "_view_name": "HTMLView",
            "style": "IPY_MODEL_c937df9cc0264145804e3e8247e52920",
            "_dom_classes": [],
            "description": "",
            "_model_name": "HTMLModel",
            "placeholder": "​",
            "_view_module": "@jupyter-widgets/controls",
            "_model_module_version": "1.5.0",
            "value": " 968/0 [00:00&lt;00:00, 77.22 examples/s]",
            "_view_count": null,
            "_view_module_version": "1.5.0",
            "description_tooltip": null,
            "_model_module": "@jupyter-widgets/controls",
            "layout": "IPY_MODEL_83a733cdd08048e1aad0692a594f433a"
          }
        },
        "ac4e8b3c868c43a08e7fde27c76b0087": {
          "model_module": "@jupyter-widgets/controls",
          "model_name": "ProgressStyleModel",
          "state": {
            "_view_name": "StyleView",
            "_model_name": "ProgressStyleModel",
            "description_width": "initial",
            "_view_module": "@jupyter-widgets/base",
            "_model_module_version": "1.5.0",
            "_view_count": null,
            "_view_module_version": "1.2.0",
            "bar_color": null,
            "_model_module": "@jupyter-widgets/controls"
          }
        },
        "9524ef9a1a4d456991c7c5cf1c1d4f98": {
          "model_module": "@jupyter-widgets/base",
          "model_name": "LayoutModel",
          "state": {
            "_view_name": "LayoutView",
            "grid_template_rows": null,
            "right": null,
            "justify_content": null,
            "_view_module": "@jupyter-widgets/base",
            "overflow": null,
            "_model_module_version": "1.2.0",
            "_view_count": null,
            "flex_flow": null,
            "width": null,
            "min_width": null,
            "border": null,
            "align_items": null,
            "bottom": null,
            "_model_module": "@jupyter-widgets/base",
            "top": null,
            "grid_column": null,
            "overflow_y": null,
            "overflow_x": null,
            "grid_auto_flow": null,
            "grid_area": null,
            "grid_template_columns": null,
            "flex": null,
            "_model_name": "LayoutModel",
            "justify_items": null,
            "grid_row": null,
            "max_height": null,
            "align_content": null,
            "visibility": null,
            "align_self": null,
            "height": null,
            "min_height": null,
            "padding": null,
            "grid_auto_rows": null,
            "grid_gap": null,
            "max_width": null,
            "order": null,
            "_view_module_version": "1.2.0",
            "grid_template_areas": null,
            "object_position": null,
            "object_fit": null,
            "grid_auto_columns": null,
            "margin": null,
            "display": null,
            "left": null
          }
        },
        "c937df9cc0264145804e3e8247e52920": {
          "model_module": "@jupyter-widgets/controls",
          "model_name": "DescriptionStyleModel",
          "state": {
            "_view_name": "StyleView",
            "_model_name": "DescriptionStyleModel",
            "description_width": "",
            "_view_module": "@jupyter-widgets/base",
            "_model_module_version": "1.5.0",
            "_view_count": null,
            "_view_module_version": "1.2.0",
            "_model_module": "@jupyter-widgets/controls"
          }
        },
        "83a733cdd08048e1aad0692a594f433a": {
          "model_module": "@jupyter-widgets/base",
          "model_name": "LayoutModel",
          "state": {
            "_view_name": "LayoutView",
            "grid_template_rows": null,
            "right": null,
            "justify_content": null,
            "_view_module": "@jupyter-widgets/base",
            "overflow": null,
            "_model_module_version": "1.2.0",
            "_view_count": null,
            "flex_flow": null,
            "width": null,
            "min_width": null,
            "border": null,
            "align_items": null,
            "bottom": null,
            "_model_module": "@jupyter-widgets/base",
            "top": null,
            "grid_column": null,
            "overflow_y": null,
            "overflow_x": null,
            "grid_auto_flow": null,
            "grid_area": null,
            "grid_template_columns": null,
            "flex": null,
            "_model_name": "LayoutModel",
            "justify_items": null,
            "grid_row": null,
            "max_height": null,
            "align_content": null,
            "visibility": null,
            "align_self": null,
            "height": null,
            "min_height": null,
            "padding": null,
            "grid_auto_rows": null,
            "grid_gap": null,
            "max_width": null,
            "order": null,
            "_view_module_version": "1.2.0",
            "grid_template_areas": null,
            "object_position": null,
            "object_fit": null,
            "grid_auto_columns": null,
            "margin": null,
            "display": null,
            "left": null
          }
        },
        "d36672db0166490e91d16de55ccf1816": {
          "model_module": "@jupyter-widgets/controls",
          "model_name": "HBoxModel",
          "state": {
            "_view_name": "HBoxView",
            "_dom_classes": [],
            "_model_name": "HBoxModel",
            "_view_module": "@jupyter-widgets/controls",
            "_model_module_version": "1.5.0",
            "_view_count": null,
            "_view_module_version": "1.5.0",
            "box_style": "",
            "layout": "IPY_MODEL_c2840682020f41b390800537aff14c97",
            "_model_module": "@jupyter-widgets/controls",
            "children": [
              "IPY_MODEL_78825154ba754e399694eb34fe03e0e4",
              "IPY_MODEL_b5570654a1ab4b01ac757463ab5b007b"
            ]
          }
        },
        "c2840682020f41b390800537aff14c97": {
          "model_module": "@jupyter-widgets/base",
          "model_name": "LayoutModel",
          "state": {
            "_view_name": "LayoutView",
            "grid_template_rows": null,
            "right": null,
            "justify_content": null,
            "_view_module": "@jupyter-widgets/base",
            "overflow": null,
            "_model_module_version": "1.2.0",
            "_view_count": null,
            "flex_flow": null,
            "width": null,
            "min_width": null,
            "border": null,
            "align_items": null,
            "bottom": null,
            "_model_module": "@jupyter-widgets/base",
            "top": null,
            "grid_column": null,
            "overflow_y": null,
            "overflow_x": null,
            "grid_auto_flow": null,
            "grid_area": null,
            "grid_template_columns": null,
            "flex": null,
            "_model_name": "LayoutModel",
            "justify_items": null,
            "grid_row": null,
            "max_height": null,
            "align_content": null,
            "visibility": null,
            "align_self": null,
            "height": null,
            "min_height": null,
            "padding": null,
            "grid_auto_rows": null,
            "grid_gap": null,
            "max_width": null,
            "order": null,
            "_view_module_version": "1.2.0",
            "grid_template_areas": null,
            "object_position": null,
            "object_fit": null,
            "grid_auto_columns": null,
            "margin": null,
            "display": null,
            "left": null
          }
        },
        "78825154ba754e399694eb34fe03e0e4": {
          "model_module": "@jupyter-widgets/controls",
          "model_name": "FloatProgressModel",
          "state": {
            "_view_name": "ProgressView",
            "style": "IPY_MODEL_45237af59a164602bcd561b318e1f0fb",
            "_dom_classes": [],
            "description": " 73%",
            "_model_name": "FloatProgressModel",
            "bar_style": "danger",
            "max": 968,
            "_view_module": "@jupyter-widgets/controls",
            "_model_module_version": "1.5.0",
            "value": 711,
            "_view_count": null,
            "_view_module_version": "1.5.0",
            "orientation": "horizontal",
            "min": 0,
            "description_tooltip": null,
            "_model_module": "@jupyter-widgets/controls",
            "layout": "IPY_MODEL_4b783bced65a41a0ae55de67f2d7af3d"
          }
        },
        "b5570654a1ab4b01ac757463ab5b007b": {
          "model_module": "@jupyter-widgets/controls",
          "model_name": "HTMLModel",
          "state": {
            "_view_name": "HTMLView",
            "style": "IPY_MODEL_eaad8f39d0954c6dad40089dc3af8e84",
            "_dom_classes": [],
            "description": "",
            "_model_name": "HTMLModel",
            "placeholder": "​",
            "_view_module": "@jupyter-widgets/controls",
            "_model_module_version": "1.5.0",
            "value": " 711/968 [00:14&lt;00:26,  9.78 examples/s]",
            "_view_count": null,
            "_view_module_version": "1.5.0",
            "description_tooltip": null,
            "_model_module": "@jupyter-widgets/controls",
            "layout": "IPY_MODEL_0a359f5672414dd38f0268cad64105e8"
          }
        },
        "45237af59a164602bcd561b318e1f0fb": {
          "model_module": "@jupyter-widgets/controls",
          "model_name": "ProgressStyleModel",
          "state": {
            "_view_name": "StyleView",
            "_model_name": "ProgressStyleModel",
            "description_width": "initial",
            "_view_module": "@jupyter-widgets/base",
            "_model_module_version": "1.5.0",
            "_view_count": null,
            "_view_module_version": "1.2.0",
            "bar_color": null,
            "_model_module": "@jupyter-widgets/controls"
          }
        },
        "4b783bced65a41a0ae55de67f2d7af3d": {
          "model_module": "@jupyter-widgets/base",
          "model_name": "LayoutModel",
          "state": {
            "_view_name": "LayoutView",
            "grid_template_rows": null,
            "right": null,
            "justify_content": null,
            "_view_module": "@jupyter-widgets/base",
            "overflow": null,
            "_model_module_version": "1.2.0",
            "_view_count": null,
            "flex_flow": null,
            "width": null,
            "min_width": null,
            "border": null,
            "align_items": null,
            "bottom": null,
            "_model_module": "@jupyter-widgets/base",
            "top": null,
            "grid_column": null,
            "overflow_y": null,
            "overflow_x": null,
            "grid_auto_flow": null,
            "grid_area": null,
            "grid_template_columns": null,
            "flex": null,
            "_model_name": "LayoutModel",
            "justify_items": null,
            "grid_row": null,
            "max_height": null,
            "align_content": null,
            "visibility": null,
            "align_self": null,
            "height": null,
            "min_height": null,
            "padding": null,
            "grid_auto_rows": null,
            "grid_gap": null,
            "max_width": null,
            "order": null,
            "_view_module_version": "1.2.0",
            "grid_template_areas": null,
            "object_position": null,
            "object_fit": null,
            "grid_auto_columns": null,
            "margin": null,
            "display": null,
            "left": null
          }
        },
        "eaad8f39d0954c6dad40089dc3af8e84": {
          "model_module": "@jupyter-widgets/controls",
          "model_name": "DescriptionStyleModel",
          "state": {
            "_view_name": "StyleView",
            "_model_name": "DescriptionStyleModel",
            "description_width": "",
            "_view_module": "@jupyter-widgets/base",
            "_model_module_version": "1.5.0",
            "_view_count": null,
            "_view_module_version": "1.2.0",
            "_model_module": "@jupyter-widgets/controls"
          }
        },
        "0a359f5672414dd38f0268cad64105e8": {
          "model_module": "@jupyter-widgets/base",
          "model_name": "LayoutModel",
          "state": {
            "_view_name": "LayoutView",
            "grid_template_rows": null,
            "right": null,
            "justify_content": null,
            "_view_module": "@jupyter-widgets/base",
            "overflow": null,
            "_model_module_version": "1.2.0",
            "_view_count": null,
            "flex_flow": null,
            "width": null,
            "min_width": null,
            "border": null,
            "align_items": null,
            "bottom": null,
            "_model_module": "@jupyter-widgets/base",
            "top": null,
            "grid_column": null,
            "overflow_y": null,
            "overflow_x": null,
            "grid_auto_flow": null,
            "grid_area": null,
            "grid_template_columns": null,
            "flex": null,
            "_model_name": "LayoutModel",
            "justify_items": null,
            "grid_row": null,
            "max_height": null,
            "align_content": null,
            "visibility": null,
            "align_self": null,
            "height": null,
            "min_height": null,
            "padding": null,
            "grid_auto_rows": null,
            "grid_gap": null,
            "max_width": null,
            "order": null,
            "_view_module_version": "1.2.0",
            "grid_template_areas": null,
            "object_position": null,
            "object_fit": null,
            "grid_auto_columns": null,
            "margin": null,
            "display": null,
            "left": null
          }
        }
      }
    }
  },
  "cells": [
    {
      "cell_type": "markdown",
      "metadata": {
        "id": "view-in-github",
        "colab_type": "text"
      },
      "source": [
        "<a href=\"https://colab.research.google.com/github/anoopsanka/retinal_oct/blob/main/notebooks/OCT_simclr_classification.ipynb\" target=\"_parent\"><img src=\"https://colab.research.google.com/assets/colab-badge.svg\" alt=\"Open In Colab\"/></a>"
      ]
    },
    {
      "cell_type": "code",
      "metadata": {
        "colab": {
          "base_uri": "https://localhost:8080/"
        },
        "id": "bZg5_bXjLvmN",
        "outputId": "274217eb-5d79-4d88-ef37-f32b75e97dee"
      },
      "source": [
        "!git clone https://github.com/anoopsanka/retinal_oct"
      ],
      "execution_count": 1,
      "outputs": [
        {
          "output_type": "stream",
          "text": [
            "Cloning into 'retinal_oct'...\n",
            "remote: Enumerating objects: 34, done.\u001b[K\n",
            "remote: Counting objects: 100% (34/34), done.\u001b[K\n",
            "remote: Compressing objects: 100% (27/27), done.\u001b[K\n",
            "remote: Total 468 (delta 14), reused 20 (delta 7), pack-reused 434\u001b[K\n",
            "Receiving objects: 100% (468/468), 254.21 MiB | 19.74 MiB/s, done.\n",
            "Resolving deltas: 100% (255/255), done.\n"
          ],
          "name": "stdout"
        }
      ]
    },
    {
      "cell_type": "code",
      "metadata": {
        "id": "zzzue7iKL1kY"
      },
      "source": [
        "%%capture\r\n",
        "# needed to use rotate....\r\n",
        "!pip install -U tensorflow_addons\r\n",
        "!pip install envyaml"
      ],
      "execution_count": 2,
      "outputs": []
    },
    {
      "cell_type": "code",
      "metadata": {
        "colab": {
          "base_uri": "https://localhost:8080/"
        },
        "id": "-sNVDP6UL2qi",
        "outputId": "12368b83-7418-4544-80b9-f2c02e45da3b"
      },
      "source": [
        "%cd retinal_oct"
      ],
      "execution_count": 3,
      "outputs": [
        {
          "output_type": "stream",
          "text": [
            "/content/retinal_oct\n"
          ],
          "name": "stdout"
        }
      ]
    },
    {
      "cell_type": "code",
      "metadata": {
        "id": "snVsWjJ7L4bE"
      },
      "source": [
        "import tensorflow_datasets as tfds\r\n",
        "from core.datasets import RetinaDataset"
      ],
      "execution_count": 4,
      "outputs": []
    },
    {
      "cell_type": "code",
      "metadata": {
        "id": "eBYsdAnzL4k4",
        "colab": {
          "base_uri": "https://localhost:8080/",
          "height": 281,
          "referenced_widgets": [
            "f92566ebe12d45c3ae34c72ff7ff8132",
            "0123e9b495544c6b9530a76bd3166701",
            "5a318ca9194a4fffa905031478c9396c",
            "c17cea60580c438aa160793a39e5d7e8",
            "7016e0e073d247b59279fe1e91eb5d96",
            "1aa976467cc94c13bd81dbc441dc3a92",
            "3896c6a0d6a14db4af0207f276bc948e",
            "da6dfb8ac8cb4cfa99fd3a6dc5bc880c",
            "afbb17ea487c4fd0b2719250c1aa77d6",
            "7184324290744732aad21bdd8810f62e",
            "9a57686b4a9440d2a599a27de10fd536",
            "4b08288e4f24467187eb817fad11dacd",
            "708d7f6e60b14cba89b2da4c715ef510",
            "79158db7dd03499fbbf3f4efb1f56852",
            "228ce3e4bb5444f88b0b4bfbf14488b0",
            "bf1884b4343040169f54ee9745af7cca",
            "76c002b82aa24afebf6c7a91f06409f0",
            "904b511cad7d43d9846e4fc01407fb56",
            "df7ab9b78e9f491c8e0d83f60806ee23",
            "ab38e7b1b2c8406691713fa1b5784ae4",
            "d07be8c5d12c4ed28277dc26082e728b",
            "a674a46ca174481f932fb8a7bacd615b",
            "18016565622943fd9d970035288bb901",
            "9d9aaa4e530e488099b115494a35aad4",
            "9915c8345ad94a20b3f1a08b4b42f746",
            "0e45dca664ed4884aa766b9869670d56",
            "83eba0fdb03945908ca8efdbfb109cd7",
            "9a0ab1a143694235a0ecda537ed5e2a8",
            "161f1c09e232423dae78f424867f6bc0",
            "8494629a550744b4bc9a8f350638455e",
            "51b7d7b146e6472585f0599ecd1c716e",
            "5484b19fe0da4457a73c0539f73a3028",
            "c4737e8b964f4081af78a3f9c64eec23",
            "5c36db242cc64b6f98704b5ad4045ec7",
            "c28c496c0eba4ca1894eafde741fa3e2",
            "3677ff01166a4bc5a07d9f4dc2f007ad",
            "ac4e8b3c868c43a08e7fde27c76b0087",
            "9524ef9a1a4d456991c7c5cf1c1d4f98",
            "c937df9cc0264145804e3e8247e52920",
            "83a733cdd08048e1aad0692a594f433a",
            "d36672db0166490e91d16de55ccf1816",
            "c2840682020f41b390800537aff14c97",
            "78825154ba754e399694eb34fe03e0e4",
            "b5570654a1ab4b01ac757463ab5b007b",
            "45237af59a164602bcd561b318e1f0fb",
            "4b783bced65a41a0ae55de67f2d7af3d",
            "eaad8f39d0954c6dad40089dc3af8e84",
            "0a359f5672414dd38f0268cad64105e8"
          ]
        },
        "outputId": "a0a71621-960b-4cd0-94d2-a15d59ac2aa0"
      },
      "source": [
        "ds_train_full, ds_train_info = tfds.load('RetinaDataset', split='train', as_supervised=True, with_info=True)\r\n",
        "ds_test  = tfds.load('RetinaDataset', split='test', shuffle_files=False, as_supervised=True)"
      ],
      "execution_count": 5,
      "outputs": [
        {
          "output_type": "stream",
          "text": [
            "\u001b[1mDownloading and preparing dataset retina_dataset/1.0.0 (download: Unknown size, generated: Unknown size, total: Unknown size) to /root/tensorflow_datasets/retina_dataset/1.0.0...\u001b[0m\n"
          ],
          "name": "stdout"
        },
        {
          "output_type": "display_data",
          "data": {
            "application/vnd.jupyter.widget-view+json": {
              "model_id": "f92566ebe12d45c3ae34c72ff7ff8132",
              "version_minor": 0,
              "version_major": 2
            },
            "text/plain": [
              "HBox(children=(FloatProgress(value=1.0, bar_style='info', description='Dl Completed...', max=1.0, style=Progre…"
            ]
          },
          "metadata": {
            "tags": []
          }
        },
        {
          "output_type": "display_data",
          "data": {
            "application/vnd.jupyter.widget-view+json": {
              "model_id": "afbb17ea487c4fd0b2719250c1aa77d6",
              "version_minor": 0,
              "version_major": 2
            },
            "text/plain": [
              "HBox(children=(FloatProgress(value=1.0, bar_style='info', description='Dl Size...', max=1.0, style=ProgressSty…"
            ]
          },
          "metadata": {
            "tags": []
          }
        },
        {
          "output_type": "stream",
          "text": [
            "\n",
            "\n",
            "\n",
            "\n"
          ],
          "name": "stdout"
        },
        {
          "output_type": "display_data",
          "data": {
            "application/vnd.jupyter.widget-view+json": {
              "model_id": "76c002b82aa24afebf6c7a91f06409f0",
              "version_minor": 0,
              "version_major": 2
            },
            "text/plain": [
              "HBox(children=(FloatProgress(value=1.0, bar_style='info', max=1.0), HTML(value='')))"
            ]
          },
          "metadata": {
            "tags": []
          }
        },
        {
          "output_type": "stream",
          "text": [
            "\rShuffling and writing examples to /root/tensorflow_datasets/retina_dataset/1.0.0.incompleteH9K530/retina_dataset-train.tfrecord\n"
          ],
          "name": "stdout"
        },
        {
          "output_type": "display_data",
          "data": {
            "application/vnd.jupyter.widget-view+json": {
              "model_id": "9915c8345ad94a20b3f1a08b4b42f746",
              "version_minor": 0,
              "version_major": 2
            },
            "text/plain": [
              "HBox(children=(FloatProgress(value=0.0, max=83489.0), HTML(value='')))"
            ]
          },
          "metadata": {
            "tags": []
          }
        },
        {
          "output_type": "display_data",
          "data": {
            "application/vnd.jupyter.widget-view+json": {
              "model_id": "c4737e8b964f4081af78a3f9c64eec23",
              "version_minor": 0,
              "version_major": 2
            },
            "text/plain": [
              "HBox(children=(FloatProgress(value=1.0, bar_style='info', max=1.0), HTML(value='')))"
            ]
          },
          "metadata": {
            "tags": []
          }
        },
        {
          "output_type": "stream",
          "text": [
            "Shuffling and writing examples to /root/tensorflow_datasets/retina_dataset/1.0.0.incompleteH9K530/retina_dataset-test.tfrecord\n"
          ],
          "name": "stdout"
        },
        {
          "output_type": "display_data",
          "data": {
            "application/vnd.jupyter.widget-view+json": {
              "model_id": "d36672db0166490e91d16de55ccf1816",
              "version_minor": 0,
              "version_major": 2
            },
            "text/plain": [
              "HBox(children=(FloatProgress(value=0.0, max=968.0), HTML(value='')))"
            ]
          },
          "metadata": {
            "tags": []
          }
        },
        {
          "output_type": "stream",
          "text": [
            "\u001b[1mDataset retina_dataset downloaded and prepared to /root/tensorflow_datasets/retina_dataset/1.0.0. Subsequent calls will reuse this data.\u001b[0m\n"
          ],
          "name": "stdout"
        }
      ]
    },
    {
      "cell_type": "code",
      "metadata": {
        "id": "P0f6qv_bL77C"
      },
      "source": [
        "import os\r\n",
        "import random\r\n",
        "import numpy as np\r\n",
        "import tensorflow as tf\r\n",
        "\r\n",
        "# Set the random seeds\r\n",
        "os.environ['TF_CUDNN_DETERMINISTIC'] = '1' \r\n",
        "random.seed(hash(\"setting random seeds\") % 2**32 - 1)\r\n",
        "np.random.seed(hash(\"improves reproducibility\") % 2**32 - 1)\r\n",
        "tf.random.set_seed(hash(\"by removing stochasticity\") % 2**32 - 1)"
      ],
      "execution_count": 7,
      "outputs": []
    },
    {
      "cell_type": "code",
      "metadata": {
        "id": "8THrLr3VL_nr"
      },
      "source": [
        "from datasets.data_augmentation import train_classification_aug\r\n",
        "from models.model_utils.lr_schedule import WarmUpAndCosineDecay\r\n",
        "from models import simclr_model\r\n",
        "import tensorflow_addons as tfa"
      ],
      "execution_count": 16,
      "outputs": []
    },
    {
      "cell_type": "markdown",
      "metadata": {
        "id": "5yikZL0bMCzJ"
      },
      "source": [
        "# Pull Sample Weights from Wandb\r\n",
        "https://wandb.ai/hisunnytang/OCT-keras-SimCLR\r\n",
        "\r\n",
        "\r\n",
        "97 % contrastive accuracy & ~ 90 % supervised accuracy\r\n",
        "- https://wandb.ai/hisunnytang/OCT-keras-SimCLR/runs/1ipksk06/overview?workspace=user-hisunnytang"
      ]
    },
    {
      "cell_type": "code",
      "metadata": {
        "id": "oH_0DBaONbaL"
      },
      "source": [
        "%%capture\r\n",
        "pip install wandb"
      ],
      "execution_count": 8,
      "outputs": []
    },
    {
      "cell_type": "code",
      "metadata": {
        "colab": {
          "base_uri": "https://localhost:8080/",
          "height": 68
        },
        "id": "2J8hTetnMA7u",
        "outputId": "94957163-7a7b-4d9b-c6eb-16c1c9cb75b4"
      },
      "source": [
        "import wandb\r\n",
        "api = wandb.Api()\r\n",
        "run = api.run(\"hisunnytang/OCT-keras-SimCLR/1ipksk06\")\r\n",
        "run.file(\"weights.108-0.97.hdf5\").download()"
      ],
      "execution_count": 9,
      "outputs": [
        {
          "output_type": "display_data",
          "data": {
            "application/javascript": [
              "\n",
              "        window._wandbApiKey = new Promise((resolve, reject) => {\n",
              "            function loadScript(url) {\n",
              "            return new Promise(function(resolve, reject) {\n",
              "                let newScript = document.createElement(\"script\");\n",
              "                newScript.onerror = reject;\n",
              "                newScript.onload = resolve;\n",
              "                document.body.appendChild(newScript);\n",
              "                newScript.src = url;\n",
              "            });\n",
              "            }\n",
              "            loadScript(\"https://cdn.jsdelivr.net/npm/postmate/build/postmate.min.js\").then(() => {\n",
              "            const iframe = document.createElement('iframe')\n",
              "            iframe.style.cssText = \"width:0;height:0;border:none\"\n",
              "            document.body.appendChild(iframe)\n",
              "            const handshake = new Postmate({\n",
              "                container: iframe,\n",
              "                url: 'https://wandb.ai/authorize'\n",
              "            });\n",
              "            const timeout = setTimeout(() => reject(\"Couldn't auto authenticate\"), 5000)\n",
              "            handshake.then(function(child) {\n",
              "                child.on('authorize', data => {\n",
              "                    clearTimeout(timeout)\n",
              "                    resolve(data)\n",
              "                });\n",
              "            });\n",
              "            })\n",
              "        });\n",
              "    "
            ],
            "text/plain": [
              "<IPython.core.display.Javascript object>"
            ]
          },
          "metadata": {
            "tags": []
          }
        },
        {
          "output_type": "stream",
          "text": [
            "\u001b[34m\u001b[1mwandb\u001b[0m: Appending key for api.wandb.ai to your netrc file: /root/.netrc\n"
          ],
          "name": "stderr"
        },
        {
          "output_type": "execute_result",
          "data": {
            "text/plain": [
              "<_io.TextIOWrapper name='./weights.108-0.97.hdf5' mode='r' encoding='UTF-8'>"
            ]
          },
          "metadata": {
            "tags": []
          },
          "execution_count": 9
        }
      ]
    },
    {
      "cell_type": "code",
      "metadata": {
        "id": "48xwneybM5rq"
      },
      "source": [
        "config = run.config"
      ],
      "execution_count": 10,
      "outputs": []
    },
    {
      "cell_type": "code",
      "metadata": {
        "colab": {
          "base_uri": "https://localhost:8080/"
        },
        "id": "_J6FVbiYSuw4",
        "outputId": "452ee0a0-3fa5-4a23-f0b7-a4013bdbce42"
      },
      "source": [
        "config"
      ],
      "execution_count": 11,
      "outputs": [
        {
          "output_type": "execute_result",
          "data": {
            "text/plain": [
              "{'IMG_SIZE': 128,\n",
              " 'batch_size': 128,\n",
              " 'epochs': 120,\n",
              " 'ft_proj_selector': 0,\n",
              " 'hidden_norm': True,\n",
              " 'learning_rate': 0.01,\n",
              " 'learning_rate_scaling': 'linear',\n",
              " 'num_classes': 4,\n",
              " 'num_examples': 83489,\n",
              " 'num_proj_layers': 3,\n",
              " 'proj_head_mode': 'nonlinear',\n",
              " 'proj_out_dim': 128,\n",
              " 'resnet_depth': 18,\n",
              " 'resnet_se_ratio': 0,\n",
              " 'resnet_sk_ratio': 0,\n",
              " 'resnet_width_multiplier': 1,\n",
              " 'temperature': 1,\n",
              " 'use_blur': True,\n",
              " 'warmup_epochs': 10}"
            ]
          },
          "metadata": {
            "tags": []
          },
          "execution_count": 11
        }
      ]
    },
    {
      "cell_type": "code",
      "metadata": {
        "id": "56imPURkM3IE"
      },
      "source": [
        "from core.models.simclr_model import Pretrained_SimCLR_Model\r\n",
        "from core.datasets.data_augmentation import train_classification_aug\r\n",
        "model_loadweights = Pretrained_SimCLR_Model()"
      ],
      "execution_count": 21,
      "outputs": []
    },
    {
      "cell_type": "code",
      "metadata": {
        "colab": {
          "base_uri": "https://localhost:8080/"
        },
        "id": "9S1PGyamNlsw",
        "outputId": "6cce090b-719d-41d8-9a85-701d50c8c746"
      },
      "source": [
        "input_shape_base   = (None, config[\"IMG_SIZE\"], config[\"IMG_SIZE\"], 3)\r\n",
        "input_shape_simclr = (None, config[\"IMG_SIZE\"], config[\"IMG_SIZE\"], 6)\r\n",
        "model_loadweights.base_model.build(input_shape_base)\r\n",
        "model_loadweights.build(input_shape_simclr)\r\n",
        "model_loadweights.summary()\r\n",
        "model_loadweights.load_weights('weights.108-0.97.hdf5')"
      ],
      "execution_count": 22,
      "outputs": [
        {
          "output_type": "stream",
          "text": [
            "Model: \"pretrained__sim_clr__model_1\"\n",
            "_________________________________________________________________\n",
            "Layer (type)                 Output Shape              Param #   \n",
            "=================================================================\n",
            "resnet_1 (Resnet)            multiple                  11190464  \n",
            "_________________________________________________________________\n",
            "head_supervised (SupervisedH multiple                  2052      \n",
            "_________________________________________________________________\n",
            "projection_head_1 (Projectio multiple                  594304    \n",
            "=================================================================\n",
            "Total params: 11,786,830\n",
            "Trainable params: 11,774,788\n",
            "Non-trainable params: 12,042\n",
            "_________________________________________________________________\n"
          ],
          "name": "stdout"
        }
      ]
    },
    {
      "cell_type": "code",
      "metadata": {
        "id": "6GiobsGpN1M3"
      },
      "source": [
        "def train_data_aug(img, lb):\r\n",
        "  xs = []\r\n",
        "  for _ in range(2):\r\n",
        "    xs.append(train_classification_aug(img, lb, img_size = 128)[0])\r\n",
        "  img = tf.concat(xs, -1)\r\n",
        "  return img, tf.one_hot(lb, 4)\r\n",
        "\r\n",
        "def val_data_aug(img, lb):\r\n",
        "  xs = []\r\n",
        "  for _ in range(2):\r\n",
        "    xs.append(train_classification_aug(img, lb, img_size = 128)[0])\r\n",
        "  img = tf.concat(xs, -1)\r\n",
        "  return img, tf.one_hot(lb, 4)"
      ],
      "execution_count": 23,
      "outputs": []
    },
    {
      "cell_type": "markdown",
      "metadata": {
        "id": "F6lFu6X3w_t3"
      },
      "source": [
        "# pull the based layers "
      ]
    },
    {
      "cell_type": "code",
      "metadata": {
        "id": "Uz7hl14JxARK"
      },
      "source": [
        "def create_classification_model(base_model,):\r\n",
        "  input_layer = tf.keras.Input((config[\"IMG_SIZE\"], config[\"IMG_SIZE\"], 3))\r\n",
        "  model_loadweights.layers[0].trainable = False\r\n",
        "  resnet_output = model_loadweights.layers[0](input_layer)\r\n",
        "  pooling_output = tf.keras.layers.GlobalAveragePooling2D()(resnet_output)\r\n",
        "  dense1 = tf.keras.layers.Dense(128, activation='relu')(pooling_output)\r\n",
        "  output = tf.keras.layers.Dense(4,  activation='softmax')(dense1)\r\n",
        "  classification_model = tf.keras.Model(input_layer, output)\r\n",
        "  classification_model.summary()\r\n",
        "  return classification_model"
      ],
      "execution_count": 16,
      "outputs": []
    },
    {
      "cell_type": "code",
      "metadata": {
        "id": "2IuR273x0I5R"
      },
      "source": [
        "def subseting_data(train_percent=10, val_percent= 10):\r\n",
        "  ds_train_partial = tfds.load('RetinaDataset', split=f'train[:{train_percent}%]', as_supervised=True)\r\n",
        "  ds_val_partial   = tfds.load('RetinaDataset', split=f'train[-{val_percent}%:]',  as_supervised=True)\r\n",
        "  return ds_train_partial, ds_val_partial"
      ],
      "execution_count": 17,
      "outputs": []
    },
    {
      "cell_type": "code",
      "metadata": {
        "id": "VUA07TWcysuh"
      },
      "source": [
        "def train_augment_one_image_only(img, lb):\r\n",
        "  img = train_classification_aug(img, lb, img_size = 128)[0]\r\n",
        "  return img, tf.one_hot(lb, 4)\r\n",
        "\r\n",
        "def validiation_one_image_only(img, lb):\r\n",
        "  img = tf.cast(img, tf.float32)/ 255.\r\n",
        "  img = tf.image.resize(img, (128,128))\r\n",
        "  return img, tf.one_hot(lb, 4)"
      ],
      "execution_count": 18,
      "outputs": []
    },
    {
      "cell_type": "code",
      "metadata": {
        "id": "-vuIezsvxA45"
      },
      "source": [
        "def train_on_percentage_data(train_percentage = 10, \r\n",
        "                             batch_size=32, \r\n",
        "                             epochs=50,\r\n",
        "                             lr = 1e-3):\r\n",
        "  classification_model = create_classification_model( model_loadweights )\r\n",
        "\r\n",
        "  ds_train, ds_val = subseting_data(train_percentage)\r\n",
        "\r\n",
        "  # define callbacks\r\n",
        "  model_name = 'train_prop' + str(train_percentage) + '_'\r\n",
        "  cb_earlystopping = tf.keras.callbacks.EarlyStopping(monitor='val_accuracy', patience=5,)\r\n",
        "  cb_checkpointing = tf.keras.callbacks.ModelCheckpoint(  model_name+ \"weights.{epoch:02d}-{val_loss:.2f}.hdf5\" )\r\n",
        "  callbacks = [cb_earlystopping, ]# cb_checkpointing]\r\n",
        "\r\n",
        "  # compile the model\r\n",
        "  optimizer = tf.keras.optimizers.Adam(learning_rate=lr)\r\n",
        "  classification_model.compile(optimizer= optimizer, \r\n",
        "                               loss = 'categorical_crossentropy', \r\n",
        "                               metrics='accuracy')\r\n",
        "\r\n",
        "  # train it \r\n",
        "  history = classification_model.fit(ds_train.map(train_augment_one_image_only).batch(batch_size), \r\n",
        "                                     validation_data = ds_val.map(train_augment_one_image_only).batch(batch_size),\r\n",
        "                                     callbacks = callbacks,\r\n",
        "                                     epochs=epochs)\r\n",
        "  return classification_model, history\r\n"
      ],
      "execution_count": 19,
      "outputs": []
    },
    {
      "cell_type": "code",
      "metadata": {
        "colab": {
          "base_uri": "https://localhost:8080/"
        },
        "id": "ho9c5HTjxAzd",
        "outputId": "100eb3d3-0cb3-4b69-f3c0-204ce3c351db"
      },
      "source": [
        "model_1percent, history_1percent = train_on_percentage_data(1, epochs=50)"
      ],
      "execution_count": null,
      "outputs": [
        {
          "output_type": "stream",
          "text": [
            "Model: \"model_1\"\n",
            "_________________________________________________________________\n",
            "Layer (type)                 Output Shape              Param #   \n",
            "=================================================================\n",
            "input_2 (InputLayer)         [(None, 128, 128, 3)]     0         \n",
            "_________________________________________________________________\n",
            "resnet_1 (Resnet)            (None, 4, 4, 512)         11190464  \n",
            "_________________________________________________________________\n",
            "global_average_pooling2d_1 ( (None, 512)               0         \n",
            "_________________________________________________________________\n",
            "dense_10 (Dense)             (None, 128)               65664     \n",
            "_________________________________________________________________\n",
            "dense_11 (Dense)             (None, 4)                 516       \n",
            "=================================================================\n",
            "Total params: 11,256,644\n",
            "Trainable params: 66,180\n",
            "Non-trainable params: 11,190,464\n",
            "_________________________________________________________________\n",
            "Epoch 1/50\n",
            "27/27 [==============================] - 47s 2s/step - loss: 1.0593 - accuracy: 0.5802 - val_loss: 0.5801 - val_accuracy: 0.7989\n",
            "Epoch 2/50\n",
            "27/27 [==============================] - 40s 2s/step - loss: 0.5335 - accuracy: 0.8041 - val_loss: 0.5063 - val_accuracy: 0.8142\n",
            "Epoch 3/50\n",
            "27/27 [==============================] - 40s 2s/step - loss: 0.4678 - accuracy: 0.8180 - val_loss: 0.4895 - val_accuracy: 0.8218\n",
            "Epoch 4/50\n",
            "26/27 [===========================>..] - ETA: 0s - loss: 0.4315 - accuracy: 0.8334"
          ],
          "name": "stdout"
        }
      ]
    },
    {
      "cell_type": "markdown",
      "metadata": {
        "id": "15OEVgkgh17q"
      },
      "source": [
        "# Extract the representation layer"
      ]
    },
    {
      "cell_type": "code",
      "metadata": {
        "id": "NKt59rMCBwl3"
      },
      "source": [
        "input  = tf.keras.Input(shape=(128,128,3)) \r\n",
        "output = model_loadweights.layers[0](input)\r\n",
        "output = model_loadweights.layers[1](output)\r\n",
        "model_representation = tf.keras.Model(input, output)"
      ],
      "execution_count": 102,
      "outputs": []
    },
    {
      "cell_type": "code",
      "metadata": {
        "colab": {
          "base_uri": "https://localhost:8080/"
        },
        "id": "6Rt-f_9rCOY9",
        "outputId": "2ff966e2-66b1-444f-9a06-b995589c13b3"
      },
      "source": [
        "model_representation.summary()"
      ],
      "execution_count": 103,
      "outputs": [
        {
          "output_type": "stream",
          "text": [
            "Model: \"model_11\"\n",
            "_________________________________________________________________\n",
            "Layer (type)                 Output Shape              Param #   \n",
            "=================================================================\n",
            "input_9 (InputLayer)         [(None, 128, 128, 3)]     0         \n",
            "_________________________________________________________________\n",
            "resnet (Resnet)              (None, 4, 4, 512)         11190464  \n",
            "=================================================================\n",
            "Total params: 11,190,464\n",
            "Trainable params: 0\n",
            "Non-trainable params: 11,190,464\n",
            "_________________________________________________________________\n"
          ],
          "name": "stdout"
        }
      ]
    },
    {
      "cell_type": "code",
      "metadata": {
        "id": "WdUrqoCdD3bd"
      },
      "source": [
        "model_representation.compile()"
      ],
      "execution_count": 104,
      "outputs": []
    },
    {
      "cell_type": "code",
      "metadata": {
        "id": "Yqf0x8P1D9hy"
      },
      "source": [
        "model_representation(tf.zeros((32,128,128,3)))"
      ],
      "execution_count": null,
      "outputs": []
    },
    {
      "cell_type": "code",
      "metadata": {
        "id": "DcT4xS3bBnOm"
      },
      "source": [
        "def get_one_image_only(img, lb):\r\n",
        "  img = tf.cast(img, tf.float32)/ 255.\r\n",
        "  img = tf.image.resize(img, (128,128))\r\n",
        "  return img\r\n",
        "\r\n",
        "testset_repr = []\r\n",
        "for d in ds_test.map(get_one_image_only).batch(32):\r\n",
        "  testset_repr.append(model_representation(d).numpy())"
      ],
      "execution_count": 114,
      "outputs": []
    },
    {
      "cell_type": "code",
      "metadata": {
        "id": "CYcrTHPICpWG"
      },
      "source": [
        "testset_repr = np.vstack(testset_repr)"
      ],
      "execution_count": 116,
      "outputs": []
    },
    {
      "cell_type": "code",
      "metadata": {
        "colab": {
          "base_uri": "https://localhost:8080/"
        },
        "id": "jsRebZ2xGsEb",
        "outputId": "b96acc40-731b-402d-d3ca-e215ef5e5876"
      },
      "source": [
        "print(repr.shape)"
      ],
      "execution_count": 122,
      "outputs": [
        {
          "output_type": "stream",
          "text": [
            "(968, 8192)\n"
          ],
          "name": "stdout"
        }
      ]
    },
    {
      "cell_type": "code",
      "metadata": {
        "id": "EeRZXsHrGOmK"
      },
      "source": [
        "repr = testset_repr.reshape(968,-1)\r\n",
        "\r\n",
        "output = PCA(n_components=3).fit_transform(repr)"
      ],
      "execution_count": 128,
      "outputs": []
    },
    {
      "cell_type": "code",
      "metadata": {
        "id": "XeffBGfLHWnp"
      },
      "source": [
        "model = PCA(n_components=3).fit(repr)"
      ],
      "execution_count": 129,
      "outputs": []
    },
    {
      "cell_type": "code",
      "metadata": {
        "colab": {
          "base_uri": "https://localhost:8080/"
        },
        "id": "swGuykkYHZJv",
        "outputId": "cdf61fad-f7df-468a-fc5b-4f3c903965c6"
      },
      "source": [
        "model.explained_variance_ratio_"
      ],
      "execution_count": 130,
      "outputs": [
        {
          "output_type": "execute_result",
          "data": {
            "text/plain": [
              "array([0.11995694, 0.09090752, 0.06875641], dtype=float32)"
            ]
          },
          "metadata": {
            "tags": []
          },
          "execution_count": 130
        }
      ]
    },
    {
      "cell_type": "code",
      "metadata": {
        "colab": {
          "base_uri": "https://localhost:8080/",
          "height": 282
        },
        "id": "8fWr23zeGbfx",
        "outputId": "869767cb-531f-4af3-9eee-93558bca483a"
      },
      "source": [
        "plt.scatter(output[:,0], output[:,1], c = y_true)"
      ],
      "execution_count": 121,
      "outputs": [
        {
          "output_type": "execute_result",
          "data": {
            "text/plain": [
              "<matplotlib.collections.PathCollection at 0x7f4973ac54e0>"
            ]
          },
          "metadata": {
            "tags": []
          },
          "execution_count": 121
        },
        {
          "output_type": "display_data",
          "data": {
            "image/png": "[encoded data removed]",
            "text/plain": [
              "<Figure size 432x288 with 1 Axes>"
            ]
          },
          "metadata": {
            "tags": [],
            "needs_background": "light"
          }
        }
      ]
    },
    {
      "cell_type": "code",
      "metadata": {
        "colab": {
          "base_uri": "https://localhost:8080/",
          "height": 296
        },
        "id": "pjSu-wFtHDBY",
        "outputId": "f6f70b92-0c8e-4f1f-8602-c4ff1eb63f4d"
      },
      "source": [
        "import pandas as pd\r\n",
        "import seaborn as sns\r\n",
        "df = pd.DataFrame(output, columns=['PCA1', 'PCA2'])\r\n",
        "df['targets'] = y_true\r\n",
        "sns.kdeplot(x ='PCA1', y='PCA2', data= df, hue='targets', palette= sns.color_palette()[0:4] )"
      ],
      "execution_count": 124,
      "outputs": [
        {
          "output_type": "execute_result",
          "data": {
            "text/plain": [
              "<matplotlib.axes._subplots.AxesSubplot at 0x7f49c208e160>"
            ]
          },
          "metadata": {
            "tags": []
          },
          "execution_count": 124
        },
        {
          "output_type": "display_data",
          "data": {
            "image/png": "[encoded data removed]",
            "text/plain": [
              "<Figure size 432x288 with 1 Axes>"
            ]
          },
          "metadata": {
            "tags": [],
            "needs_background": "light"
          }
        }
      ]
    },
    {
      "cell_type": "code",
      "metadata": {
        "colab": {
          "base_uri": "https://localhost:8080/",
          "height": 282
        },
        "id": "8-eteyDuILPB",
        "outputId": "439acf10-41e0-4859-e051-7ccd27fab80b"
      },
      "source": [
        "import matplotlib.pyplot as plt\r\n",
        "\r\n",
        "plt.plot(history_1percent.history['accuracy'])\r\n",
        "plt.plot(history_1percent.history['val_accuracy'])"
      ],
      "execution_count": 30,
      "outputs": [
        {
          "output_type": "execute_result",
          "data": {
            "text/plain": [
              "[<matplotlib.lines.Line2D at 0x7f4b0cb4b940>]"
            ]
          },
          "metadata": {
            "tags": []
          },
          "execution_count": 30
        },
        {
          "output_type": "display_data",
          "data": {
            "image/png": "[encoded data removed]",
            "text/plain": [
              "<Figure size 432x288 with 1 Axes>"
            ]
          },
          "metadata": {
            "tags": [],
            "needs_background": "light"
          }
        }
      ]
    },
    {
      "cell_type": "code",
      "metadata": {
        "colab": {
          "base_uri": "https://localhost:8080/"
        },
        "id": "0rYJ33Fk9Cpc",
        "outputId": "f85465db-6e16-4eba-efa1-b27a641b113c"
      },
      "source": [
        "model_1percent.evaluate(ds_test.map(train_augment_one_image_only).batch(32))"
      ],
      "execution_count": 108,
      "outputs": [
        {
          "output_type": "stream",
          "text": [
            "31/31 [==============================] - 4s 137ms/step - loss: 0.4408 - accuracy: 0.8543\n"
          ],
          "name": "stdout"
        },
        {
          "output_type": "execute_result",
          "data": {
            "text/plain": [
              "[0.44077786803245544, 0.8543388247489929]"
            ]
          },
          "metadata": {
            "tags": []
          },
          "execution_count": 108
        }
      ]
    },
    {
      "cell_type": "code",
      "metadata": {
        "id": "YW-i-RVvAh10"
      },
      "source": [
        "y_true = np.hstack([l for l in ds_test.map(lambda img, lb: lb)])\r\n",
        "y_pred = model_1percent.predict(ds_test.map(train_augment_one_image_only).batch(32))"
      ],
      "execution_count": 38,
      "outputs": []
    },
    {
      "cell_type": "code",
      "metadata": {
        "id": "8oIPZxYlAqAt"
      },
      "source": [
        "model_loadweights.compile()\r\n",
        "y_pred = []\r\n",
        "for X, lb in ds_test.map(train_augment_one_image_only).batch(32):\r\n",
        "  rep, logits = model_loadweights(X, training=False)\r\n",
        "  y_pred.append(logits.numpy())"
      ],
      "execution_count": 141,
      "outputs": []
    },
    {
      "cell_type": "code",
      "metadata": {
        "id": "9-YZG68KJfuK"
      },
      "source": [
        "def get_dense_output(model):\r\n",
        "  input = tf.keras.Input((128,128,3))\r\n",
        "  output = input\r\n",
        "  for l in model.layers[:-1]:\r\n",
        "    output = l(output)\r\n",
        "  return tf.keras.Model(input,output)"
      ],
      "execution_count": 156,
      "outputs": []
    },
    {
      "cell_type": "code",
      "metadata": {
        "colab": {
          "base_uri": "https://localhost:8080/"
        },
        "id": "VUzsk_EyR8o6",
        "outputId": "2de4cacf-1351-4e44-e1e5-51bc03f36ead"
      },
      "source": [
        "model_1percent_dense.summary()"
      ],
      "execution_count": 167,
      "outputs": [
        {
          "output_type": "stream",
          "text": [
            "Model: \"model_13\"\n",
            "_________________________________________________________________\n",
            "Layer (type)                 Output Shape              Param #   \n",
            "=================================================================\n",
            "input_11 (InputLayer)        [(None, 128, 128, 3)]     0         \n",
            "_________________________________________________________________\n",
            "input_1 (InputLayer)         multiple                  0         \n",
            "_________________________________________________________________\n",
            "resnet (Resnet)              (None, 4, 4, 512)         11190464  \n",
            "_________________________________________________________________\n",
            "global_average_pooling2d (Gl (None, 512)               0         \n",
            "_________________________________________________________________\n",
            "dense_4 (Dense)              (None, 128)               65664     \n",
            "=================================================================\n",
            "Total params: 11,256,128\n",
            "Trainable params: 65,664\n",
            "Non-trainable params: 11,190,464\n",
            "_________________________________________________________________\n"
          ],
          "name": "stdout"
        }
      ]
    },
    {
      "cell_type": "code",
      "metadata": {
        "colab": {
          "base_uri": "https://localhost:8080/",
          "height": 296
        },
        "id": "ovmg1_f5P-tP",
        "outputId": "e72739dc-0f34-4f10-e3ec-1c3b728be04c"
      },
      "source": [
        "model_1percent_dense = get_dense_output(model_1percent)\r\n",
        "\r\n",
        "rep_1percent = []\r\n",
        "for img, lb in ds_test.map(train_augment_one_image_only).batch(32):\r\n",
        "  rep1 = model_1percent_dense(img)\r\n",
        "  rep_1percent.append(rep1.numpy())\r\n",
        "\r\n",
        "pca_1percent = PCA(n_components=2).fit_transform( np.vstack(rep_1percent))\r\n",
        "\r\n",
        "import pandas as pd\r\n",
        "import seaborn as sns\r\n",
        "df = pd.DataFrame(pca_1percent, columns=['PCA1', 'PCA2'])\r\n",
        "df['targets'] = y_true\r\n",
        "sns.kdeplot(x ='PCA1', y='PCA2', data= df, hue='targets', palette= sns.color_palette()[0:4] )"
      ],
      "execution_count": 165,
      "outputs": [
        {
          "output_type": "execute_result",
          "data": {
            "text/plain": [
              "<matplotlib.axes._subplots.AxesSubplot at 0x7f4af71e9a90>"
            ]
          },
          "metadata": {
            "tags": []
          },
          "execution_count": 165
        },
        {
          "output_type": "display_data",
          "data": {
            "image/png": "[encoded data removed]",
            "text/plain": [
              "<Figure size 432x288 with 1 Axes>"
            ]
          },
          "metadata": {
            "tags": [],
            "needs_background": "light"
          }
        }
      ]
    },
    {
      "cell_type": "code",
      "metadata": {
        "id": "mFx_hXPAQLXx"
      },
      "source": [
        "model_1percent_dense = get_dense_output(model_\r\n",
        "\r\n",
        "rep_1percent = []\r\n",
        "for img, lb in ds_test.map(train_augment_one_image_only).batch(32):\r\n",
        "  rep1 = model_1percent_dense(img)\r\n",
        "  rep_1percent.append(rep1.numpy())\r\n",
        "\r\n",
        "pca_1percent = PCA(n_components=2).fit_transform( np.vstack(rep_1percent))\r\n",
        "\r\n",
        "import pandas as pd\r\n",
        "import seaborn as sns\r\n",
        "df = pd.DataFrame(pca_1percent, columns=['PCA1', 'PCA2'])\r\n",
        "df['targets'] = y_true\r\n",
        "sns.kdeplot(x ='PCA1', y='PCA2', data= df, hue='targets', palette= sns.color_palette()[0:4] )"
      ],
      "execution_count": 160,
      "outputs": []
    },
    {
      "cell_type": "code",
      "metadata": {
        "colab": {
          "base_uri": "https://localhost:8080/"
        },
        "id": "Q98RkecQJMpU",
        "outputId": "f99e0374-4fb7-4f55-bba4-4df9bf98032b"
      },
      "source": [
        "y_pred_raw = np.vstack(y_pred).argmax(axis=-1)\r\n",
        "\r\n",
        "sum(y_true == y_pred_raw) / len(y_true)"
      ],
      "execution_count": 148,
      "outputs": [
        {
          "output_type": "execute_result",
          "data": {
            "text/plain": [
              "0.890495867768595"
            ]
          },
          "metadata": {
            "tags": []
          },
          "execution_count": 148
        }
      ]
    },
    {
      "cell_type": "code",
      "metadata": {
        "id": "tyyV5g8qAEy5"
      },
      "source": [
        "from sklearn.metrics import precision_recall_fscore_support, accuracy_score\r\n",
        "precision, recall, fbeta_score, support = precision_recall_fscore_support( y_true, y_pred_raw )"
      ],
      "execution_count": 150,
      "outputs": []
    },
    {
      "cell_type": "code",
      "metadata": {
        "colab": {
          "base_uri": "https://localhost:8080/"
        },
        "id": "GGODA6iAA_Je",
        "outputId": "740b2d23-1fa7-4e58-8a5e-478d66ff4600"
      },
      "source": [
        "precision."
      ],
      "execution_count": 151,
      "outputs": [
        {
          "output_type": "execute_result",
          "data": {
            "text/plain": [
              "0.8998009790027487"
            ]
          },
          "metadata": {
            "tags": []
          },
          "execution_count": 151
        }
      ]
    },
    {
      "cell_type": "code",
      "metadata": {
        "colab": {
          "base_uri": "https://localhost:8080/"
        },
        "id": "HF6ucdASBAbi",
        "outputId": "078ba058-7109-4790-a93f-dc54e82a38f8"
      },
      "source": [
        "recall.mean()"
      ],
      "execution_count": 152,
      "outputs": [
        {
          "output_type": "execute_result",
          "data": {
            "text/plain": [
              "0.890495867768595"
            ]
          },
          "metadata": {
            "tags": []
          },
          "execution_count": 152
        }
      ]
    },
    {
      "cell_type": "code",
      "metadata": {
        "colab": {
          "base_uri": "https://localhost:8080/"
        },
        "id": "FqZmJxndBBtu",
        "outputId": "9a602369-bb24-451a-b737-0351bba3518c"
      },
      "source": [
        "fbeta_score.mean()"
      ],
      "execution_count": 153,
      "outputs": [
        {
          "output_type": "execute_result",
          "data": {
            "text/plain": [
              "0.8903004730966522"
            ]
          },
          "metadata": {
            "tags": []
          },
          "execution_count": 153
        }
      ]
    }
  ]
}