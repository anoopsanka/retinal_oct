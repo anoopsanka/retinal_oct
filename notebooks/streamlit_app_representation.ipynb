{
  "nbformat": 4,
  "nbformat_minor": 0,
  "metadata": {
    "colab": {
      "name": "TFAug-Create-streamlit-app.ipynb",
      "provenance": [],
      "collapsed_sections": [],
      "include_colab_link": true
    },
    "kernelspec": {
      "name": "python3",
      "display_name": "Python 3"
    }
  },
  "cells": [
    {
      "cell_type": "markdown",
      "metadata": {
        "id": "view-in-github",
        "colab_type": "text"
      },
      "source": [
        "<a href=\"https://colab.research.google.com/github/anoopsanka/retinal_oct/blob/main/notebooks/streamlit_app_representation.ipynb\" target=\"_parent\"><img src=\"https://colab.research.google.com/assets/colab-badge.svg\" alt=\"Open In Colab\"/></a>"
      ]
    },
    {
      "cell_type": "markdown",
      "metadata": {
        "id": "vWmc_s2ezvU0"
      },
      "source": [
        "# [Run streamlit app from a Google Colab Notebook](https://discuss.streamlit.io/t/free-streamlit-dev-environment-through-colaboratory/2778/12)\n",
        "\n",
        "> andfanilo\n",
        ">Just discovered that npm is available on Colab :exploding_head: so you can use any node package in Colab, which means localtunnel 3 to expose your Streamlit app to the world (until the notebook or the localtunnel server get shut down at least XD)\n",
        "\n",
        ">so you can run the following 4 Colab cells, and get the exposed URL at the end. :\n",
        "```python\n",
        "!pip install streamlit\n",
        "!npm install localtunnel\n",
        "!streamlit run app.py &>/dev/null&\n",
        "!npx localtunnel --port 8501\n",
        "```"
      ]
    },
    {
      "cell_type": "code",
      "metadata": {
        "id": "RvlYkCQ9vFiy"
      },
      "source": [
        "%%capture\r\n",
        "!pip install streamlit\r\n",
        "!npm install localtunnel"
      ],
      "execution_count": null,
      "outputs": []
    },
    {
      "cell_type": "code",
      "metadata": {
        "id": "7m63uHSIvkN-"
      },
      "source": [
        "%%capture\r\n",
        "# needed to upgrade in order to use rotate....\r\n",
        "!pip install -U tensorflow_addons"
      ],
      "execution_count": null,
      "outputs": []
    },
    {
      "cell_type": "code",
      "metadata": {
        "id": "1JX7SyjOve6k"
      },
      "source": [
        "%%capture\r\n",
        "!git clone https://github.com/anoopsanka/retinal_oct"
      ],
      "execution_count": null,
      "outputs": []
    },
    {
      "cell_type": "code",
      "metadata": {
        "colab": {
          "base_uri": "https://localhost:8080/"
        },
        "id": "pKY2mEKHv53n",
        "outputId": "ff6c7335-20f6-4c75-fe7c-18450d5f8435"
      },
      "source": [
        "%cd retinal_oct"
      ],
      "execution_count": null,
      "outputs": [
        {
          "output_type": "stream",
          "text": [
            "/content/retinal_oct\n"
          ],
          "name": "stdout"
        }
      ]
    },
    {
      "cell_type": "markdown",
      "metadata": {
        "id": "uzvl_5Cv8HeX"
      },
      "source": [
        "Reset the execution environment after streamlit installation"
      ]
    },
    {
      "cell_type": "code",
      "metadata": {
        "colab": {
          "base_uri": "https://localhost:8080/"
        },
        "id": "o47JAGm_w1Fo",
        "outputId": "aa93f336-6f67-4281-9935-fe30a7ba4d04"
      },
      "source": [
        "%%writefile img_aug.py\r\n",
        "\r\n",
        "import streamlit as st\r\n",
        "import pandas as pd\r\n",
        "import tensorflow as tf\r\n",
        "import numpy as np\r\n",
        "import functools\r\n",
        "import tensorflow_datasets as tfds\r\n",
        "import tensorflow_addons as tfa\r\n",
        "\r\n",
        "import os\r\n",
        "import wandb\r\n",
        "import numpy as np\r\n",
        "from core.models.simclr_model import Pretrained_SimCLR_Model\r\n",
        "from sklearn.decomposition import PCA\r\n",
        "import plotly.express as px\r\n",
        "\r\n",
        "# from importlib.util import find_spec\r\n",
        "# if find_spec(\"retinal_oct/core\") is None:\r\n",
        "#     import sys\r\n",
        "#     sys.path.append('..')\r\n",
        "    \r\n",
        "# from core.datasets import RetinaDataset\r\n",
        "\r\n",
        "\r\n",
        "\r\n",
        "\r\n",
        "def train_classification_aug(img, lb, \r\n",
        "                            img_size=128, \r\n",
        "                            brightness_delta= 0.8,\r\n",
        "                            contrast_delta  = 0.5,\r\n",
        "                            saturation_delta= 0.5,\r\n",
        "                            hue_delta       = 0.2,\r\n",
        "                            max_rot_angle   = 45.):\r\n",
        "  img = tf.cast(img, dtype=tf.float32)/255.\r\n",
        "  IMG_SIZE = img_size\r\n",
        "\r\n",
        "  angle_rad = max_rot_angle / 180. * np.pi\r\n",
        "\r\n",
        "  padding = IMG_SIZE // 4\r\n",
        "  precrop_shape = IMG_SIZE + padding\r\n",
        "\r\n",
        "  img = tf.image.resize(img, (precrop_shape, precrop_shape))\r\n",
        "  img = tf.image.random_crop(img, (IMG_SIZE, IMG_SIZE, 3))\r\n",
        "  img = tf.image.random_brightness(img, brightness_delta)\r\n",
        "  img = tf.image.random_contrast  (img, 1-contrast_delta,  1+contrast_delta)\r\n",
        "  img = tf.image.random_saturation(img, 1-saturation_delta,1+saturation_delta)\r\n",
        "  img = tf.image.random_hue       (img, hue_delta)\r\n",
        "\r\n",
        "  img = tf.image.random_flip_left_right(img)\r\n",
        "  img = tfa.image.rotate(img, (tf.random.uniform(shape=(1,)) - 0.5)*2 *angle_rad )\r\n",
        "\r\n",
        "  img = tf.clip_by_value(img, 0., 1.0)\r\n",
        "  return img, lb #tf.one_hot(lb, 4, )\r\n",
        "\r\n",
        "##################################################################################\r\n",
        "\r\n",
        "st.write(\"# Understand what happens during a augmentation!!\")\r\n",
        "st.sidebar.header('User Input Parameters')\r\n",
        "(x_train, y_train), (x_test, y_test) = tf.keras.datasets.cifar10.load_data()\r\n",
        "\r\n",
        "# ds_train, ds_train_info = tfds.load('RetinaDataset', split='train', shuffle_files=True, as_supervised=True, with_info=True)\r\n",
        "ds_test  = tfds.load('RetinaDataset', split='test', shuffle_files=True, as_supervised=True)\r\n",
        "\r\n",
        " \r\n",
        "def user_input_augmentation():\r\n",
        "  # rotation = st.sidebar.slider('Rotation', 0., 180., 10.)\r\n",
        "  hue      = st.sidebar.slider('Hue', -1., 1., 0.1)\r\n",
        "  brightness= st.sidebar.slider('Brightness', -1., 1., 0.1)\r\n",
        "  contrast  = st.sidebar.slider('Contrast', -1., 1., 0.1)\r\n",
        "  saturation  = st.sidebar.slider('Saturation', -1., 1., 0.1)\r\n",
        "  rotation  = st.sidebar.slider('Rotation', -90., 90., 5.)\r\n",
        "\r\n",
        "  data = {\r\n",
        "    'hue': hue,\r\n",
        "    'brightness': brightness,\r\n",
        "    'contrast': contrast,\r\n",
        "    'saturation': saturation,\r\n",
        "    'rotation': rotation\r\n",
        "  }\r\n",
        "  features = pd.DataFrame(data, index=[0])\r\n",
        "  return features\r\n",
        "df = user_input_augmentation()\r\n",
        "st.subheader('User Input parameters')\r\n",
        "st.write(df)\r\n",
        "\r\n",
        "\r\n",
        "def image_aug(img, features):\r\n",
        "  # img = tf.image.rotation(img, features['rotation'])\r\n",
        "  IMG_SIZE = 128\r\n",
        "  img = img[tf.newaxis,...]\r\n",
        "\r\n",
        "  padding = IMG_SIZE // 4\r\n",
        "  precrop_shape = IMG_SIZE + padding\r\n",
        "\r\n",
        "  angle_rad =  np.pi/ 180.\r\n",
        "\r\n",
        "  img = tf.image.resize(img, (precrop_shape, precrop_shape))\r\n",
        "  img = tf.image.random_crop(img, (1, IMG_SIZE, IMG_SIZE, 3))\r\n",
        "\r\n",
        "  img = tf.image.adjust_brightness(img, features['brightness'].values[0])\r\n",
        "  img = tf.image.adjust_contrast(img, features['contrast'].values[0])\r\n",
        "  img = tf.image.adjust_hue(img, features['hue'].values[0])\r\n",
        "  img = tf.image.adjust_saturation(img, features['saturation'].values[0])\r\n",
        "  img = tfa.image.rotate(img, features['rotation'].values[0]*angle_rad )\r\n",
        "  img = tf.clip_by_value(img, 0, 255)\r\n",
        "  return img[0].numpy()/255.\r\n",
        "\r\n",
        "nrows = 4\r\n",
        "ncols = 4\r\n",
        "\r\n",
        "x_train = ds_test.take(nrows*ncols)\r\n",
        "\r\n",
        "img_list = []\r\n",
        "for img, lb in x_train:\r\n",
        "\r\n",
        "  img_list.append(image_aug(img, df))\r\n",
        "\r\n",
        "  if len(img_list) == 4:\r\n",
        "    st.image(img_list)\r\n",
        "    img_list = []\r\n",
        "\r\n",
        "# pulled the weights\r\n",
        "\r\n",
        "\r\n",
        "api = wandb.Api()\r\n",
        "run = api.run(\"hisunnytang/OCT-keras-SimCLR/1ipksk06\")\r\n",
        "weight_file = \"weights.108-0.97.hdf5\"\r\n",
        "if not os.path.exists(weight_file):\r\n",
        "  run.file().download()\r\n",
        "\r\n",
        "# initialize the model\r\n",
        "config = run.config\r\n",
        "\r\n",
        "model_loadweights = Pretrained_SimCLR_Model()\r\n",
        "\r\n",
        "input_shape_base   = (None, config[\"IMG_SIZE\"], config[\"IMG_SIZE\"], 3)\r\n",
        "input_shape_simclr = (None, config[\"IMG_SIZE\"], config[\"IMG_SIZE\"], 6)\r\n",
        "model_loadweights.base_model.build(input_shape_base)\r\n",
        "model_loadweights.build(input_shape_simclr)\r\n",
        "model_loadweights.summary()\r\n",
        "model_loadweights.load_weights('weights.108-0.97.hdf5')\r\n",
        "\r\n",
        "\r\n",
        "\r\n",
        "# get the PCAs\r\n",
        "\r\n",
        "img_list = []\r\n",
        "for img, lb in ds_test.take(968):\r\n",
        "  img_list.append(image_aug(img, df))\r\n",
        "\r\n",
        "img_list = np.array(img_list)\r\n",
        "\r\n",
        "proj, logits = model_loadweights(img_list, training=False)\r\n",
        "proj_normed = proj.numpy() / np.square(proj.numpy()).mean(axis=-1, keepdims=True)**0.5\r\n",
        "\r\n",
        "\r\n",
        "model_pcas = PCA(n_components=3)\r\n",
        "pcas = model_pcas.fit_transform(proj_normed)\r\n",
        "\r\n",
        "# retrieve the training labels\r\n",
        "labels_train = [i.numpy() for i in ds_test.take(968).map(lambda img, lb: lb).batch(128)]\r\n",
        "labels_train_ = np.hstack(labels_train)\r\n",
        "\r\n",
        "# binding this to a dataframe\r\n",
        "df_pcas = pd.DataFrame( pcas, columns = ['pca1', 'pca2', 'pca3'] )\r\n",
        "df_pcas['label'] = labels_train_.astype(object)\r\n",
        "\r\n",
        "\r\n",
        "# import streamline as st\r\n",
        "# election = px.data.election()\r\n",
        "st.header('PCA in 3D')\r\n",
        "fig = px.scatter_3d(df_pcas, \r\n",
        "                    x=\"pca1\", \r\n",
        "                    y=\"pca2\", \r\n",
        "                    z=\"pca3\", \r\n",
        "                    color=\"label\", \r\n",
        "                    opacity=0.5,)\r\n",
        "st.write(fig)\r\n",
        "\r\n"
      ],
      "execution_count": null,
      "outputs": [
        {
          "output_type": "stream",
          "text": [
            "Writing img_aug.py\n"
          ],
          "name": "stdout"
        }
      ]
    },
    {
      "cell_type": "code",
      "metadata": {
        "colab": {
          "base_uri": "https://localhost:8080/",
          "height": 35
        },
        "id": "BaldGBPnvg4O",
        "outputId": "e74df13a-8443-492b-844a-aff163dccc98"
      },
      "source": [
        "pwd"
      ],
      "execution_count": null,
      "outputs": [
        {
          "output_type": "execute_result",
          "data": {
            "application/vnd.google.colaboratory.intrinsic+json": {
              "type": "string"
            },
            "text/plain": [
              "'/content/retinal_oct'"
            ]
          },
          "metadata": {
            "tags": []
          },
          "execution_count": 6
        }
      ]
    },
    {
      "cell_type": "code",
      "metadata": {
        "colab": {
          "base_uri": "https://localhost:8080/"
        },
        "id": "crutm2ao_qGV",
        "outputId": "1d4e9a2d-8599-46a9-a3e9-e2fbcde2ac38"
      },
      "source": [
        "!streamlit run img_aug.py &>/dev/null&\r\n",
        "!npx localtunnel --port 8501"
      ],
      "execution_count": null,
      "outputs": [
        {
          "output_type": "stream",
          "text": [
            "\u001b[K\u001b[?25hnpx: installed 22 in 2.87s\n",
            "your url is: https://ancient-quail-27.loca.lt\n",
            "^C\n"
          ],
          "name": "stdout"
        }
      ]
    },
    {
      "cell_type": "code",
      "metadata": {
        "colab": {
          "base_uri": "https://localhost:8080/"
        },
        "id": "8a7ev5aPQWTa",
        "outputId": "15670295-4b12-4595-e482-dce02743f19c"
      },
      "source": [
        "!pip install wandb"
      ],
      "execution_count": null,
      "outputs": [
        {
          "output_type": "stream",
          "text": [
            "Collecting wandb\n",
            "\u001b[?25l  Downloading https://files.pythonhosted.org/packages/b3/fe/9698a355bd53757f00d535df18deb951c089188a9a9baaadc73ddfcbe043/wandb-0.10.15-py2.py3-none-any.whl (1.9MB)\n",
            "\u001b[K     |████████████████████████████████| 1.9MB 4.2MB/s \n",
            "\u001b[?25hCollecting docker-pycreds>=0.4.0\n",
            "  Downloading https://files.pythonhosted.org/packages/f5/e8/f6bd1eee09314e7e6dee49cbe2c5e22314ccdb38db16c9fc72d2fa80d054/docker_pycreds-0.4.0-py2.py3-none-any.whl\n",
            "Collecting configparser>=3.8.1\n",
            "  Downloading https://files.pythonhosted.org/packages/08/b2/ef713e0e67f6e7ec7d59aea3ee78d05b39c15930057e724cc6d362a8c3bb/configparser-5.0.1-py3-none-any.whl\n",
            "Requirement already satisfied: psutil>=5.0.0 in /usr/local/lib/python3.6/dist-packages (from wandb) (5.4.8)\n",
            "Requirement already satisfied: promise<3,>=2.0 in /usr/local/lib/python3.6/dist-packages (from wandb) (2.3)\n",
            "Collecting sentry-sdk>=0.4.0\n",
            "\u001b[?25l  Downloading https://files.pythonhosted.org/packages/b1/5c/018bf9a5c24343a664deaea70e61f33f53bb1bd3caf193110f827bfd07e2/sentry_sdk-0.19.5-py2.py3-none-any.whl (128kB)\n",
            "\u001b[K     |████████████████████████████████| 133kB 36.7MB/s \n",
            "\u001b[?25hRequirement already satisfied: six>=1.13.0 in /usr/local/lib/python3.6/dist-packages (from wandb) (1.15.0)\n",
            "Collecting subprocess32>=3.5.3\n",
            "\u001b[?25l  Downloading https://files.pythonhosted.org/packages/32/c8/564be4d12629b912ea431f1a50eb8b3b9d00f1a0b1ceff17f266be190007/subprocess32-3.5.4.tar.gz (97kB)\n",
            "\u001b[K     |████████████████████████████████| 102kB 9.0MB/s \n",
            "\u001b[?25hCollecting watchdog<0.10.5,>=0.8.3\n",
            "\u001b[?25l  Downloading https://files.pythonhosted.org/packages/6f/10/500580a0987363a0d9e1f3dd5cb1bba94a47e19266c6ce9dfb6cdd455758/watchdog-0.10.4.tar.gz (98kB)\n",
            "\u001b[K     |████████████████████████████████| 102kB 9.5MB/s \n",
            "\u001b[?25hCollecting shortuuid>=0.5.0\n",
            "  Downloading https://files.pythonhosted.org/packages/25/a6/2ecc1daa6a304e7f1b216f0896b26156b78e7c38e1211e9b798b4716c53d/shortuuid-1.0.1-py3-none-any.whl\n",
            "Requirement already satisfied: PyYAML in /usr/local/lib/python3.6/dist-packages (from wandb) (3.13)\n",
            "Requirement already satisfied: GitPython>=1.0.0 in /usr/local/lib/python3.6/dist-packages (from wandb) (3.1.12)\n",
            "Requirement already satisfied: Click>=7.0 in /usr/local/lib/python3.6/dist-packages (from wandb) (7.1.2)\n",
            "Requirement already satisfied: protobuf>=3.12.0 in /usr/local/lib/python3.6/dist-packages (from wandb) (3.12.4)\n",
            "Requirement already satisfied: python-dateutil>=2.6.1 in /usr/local/lib/python3.6/dist-packages (from wandb) (2.8.1)\n",
            "Requirement already satisfied: requests<3,>=2.0.0 in /usr/local/lib/python3.6/dist-packages (from wandb) (2.23.0)\n",
            "Requirement already satisfied: urllib3>=1.10.0 in /usr/local/lib/python3.6/dist-packages (from sentry-sdk>=0.4.0->wandb) (1.24.3)\n",
            "Requirement already satisfied: certifi in /usr/local/lib/python3.6/dist-packages (from sentry-sdk>=0.4.0->wandb) (2020.12.5)\n",
            "Collecting pathtools>=0.1.1\n",
            "  Downloading https://files.pythonhosted.org/packages/e7/7f/470d6fcdf23f9f3518f6b0b76be9df16dcc8630ad409947f8be2eb0ed13a/pathtools-0.1.2.tar.gz\n",
            "Requirement already satisfied: gitdb<5,>=4.0.1 in /usr/local/lib/python3.6/dist-packages (from GitPython>=1.0.0->wandb) (4.0.5)\n",
            "Requirement already satisfied: setuptools in /usr/local/lib/python3.6/dist-packages (from protobuf>=3.12.0->wandb) (51.3.3)\n",
            "Requirement already satisfied: idna<3,>=2.5 in /usr/local/lib/python3.6/dist-packages (from requests<3,>=2.0.0->wandb) (2.10)\n",
            "Requirement already satisfied: chardet<4,>=3.0.2 in /usr/local/lib/python3.6/dist-packages (from requests<3,>=2.0.0->wandb) (3.0.4)\n",
            "Requirement already satisfied: smmap<4,>=3.0.1 in /usr/local/lib/python3.6/dist-packages (from gitdb<5,>=4.0.1->GitPython>=1.0.0->wandb) (3.0.5)\n",
            "Building wheels for collected packages: subprocess32, watchdog, pathtools\n",
            "  Building wheel for subprocess32 (setup.py) ... \u001b[?25l\u001b[?25hdone\n",
            "  Created wheel for subprocess32: filename=subprocess32-3.5.4-cp36-none-any.whl size=6490 sha256=f4be73d57cdc739ebd00b0fb8b59701d1b285df7443a9edd7ab631fc8710556b\n",
            "  Stored in directory: /root/.cache/pip/wheels/68/39/1a/5e402bdfdf004af1786c8b853fd92f8c4a04f22aad179654d1\n",
            "  Building wheel for watchdog (setup.py) ... \u001b[?25l\u001b[?25hdone\n",
            "  Created wheel for watchdog: filename=watchdog-0.10.4-cp36-none-any.whl size=74842 sha256=0384c2d91d1237d2cd342f1f7566a170856a275fdaeede10a8e35f522e9fb221\n",
            "  Stored in directory: /root/.cache/pip/wheels/9e/11/04/5160b8815b0cc7cf574bdc6d053e510169ec264c8791b4ec3a\n",
            "  Building wheel for pathtools (setup.py) ... \u001b[?25l\u001b[?25hdone\n",
            "  Created wheel for pathtools: filename=pathtools-0.1.2-cp36-none-any.whl size=8785 sha256=ab9c9966f131750bb9360b4e5d8f73dcc3abc380d2dd4ddccba3ddfbc3c0dac4\n",
            "  Stored in directory: /root/.cache/pip/wheels/0b/04/79/c3b0c3a0266a3cb4376da31e5bfe8bba0c489246968a68e843\n",
            "Successfully built subprocess32 watchdog pathtools\n",
            "Installing collected packages: docker-pycreds, configparser, sentry-sdk, subprocess32, pathtools, watchdog, shortuuid, wandb\n",
            "  Found existing installation: watchdog 1.0.2\n",
            "    Uninstalling watchdog-1.0.2:\n",
            "      Successfully uninstalled watchdog-1.0.2\n",
            "Successfully installed configparser-5.0.1 docker-pycreds-0.4.0 pathtools-0.1.2 sentry-sdk-0.19.5 shortuuid-1.0.1 subprocess32-3.5.4 wandb-0.10.15 watchdog-0.10.4\n"
          ],
          "name": "stdout"
        }
      ]
    },
    {
      "cell_type": "code",
      "metadata": {
        "colab": {
          "base_uri": "https://localhost:8080/",
          "height": 51
        },
        "id": "HiOi2q9NSZ3O",
        "outputId": "59cb3cde-887a-4dc2-d5c1-c369c21d3c76"
      },
      "source": [
        "import wandb\r\n",
        "api = wandb.Api()"
      ],
      "execution_count": null,
      "outputs": [
        {
          "output_type": "display_data",
          "data": {
            "application/javascript": [
              "\n",
              "        window._wandbApiKey = new Promise((resolve, reject) => {\n",
              "            function loadScript(url) {\n",
              "            return new Promise(function(resolve, reject) {\n",
              "                let newScript = document.createElement(\"script\");\n",
              "                newScript.onerror = reject;\n",
              "                newScript.onload = resolve;\n",
              "                document.body.appendChild(newScript);\n",
              "                newScript.src = url;\n",
              "            });\n",
              "            }\n",
              "            loadScript(\"https://cdn.jsdelivr.net/npm/postmate/build/postmate.min.js\").then(() => {\n",
              "            const iframe = document.createElement('iframe')\n",
              "            iframe.style.cssText = \"width:0;height:0;border:none\"\n",
              "            document.body.appendChild(iframe)\n",
              "            const handshake = new Postmate({\n",
              "                container: iframe,\n",
              "                url: 'https://wandb.ai/authorize'\n",
              "            });\n",
              "            const timeout = setTimeout(() => reject(\"Couldn't auto authenticate\"), 5000)\n",
              "            handshake.then(function(child) {\n",
              "                child.on('authorize', data => {\n",
              "                    clearTimeout(timeout)\n",
              "                    resolve(data)\n",
              "                });\n",
              "            });\n",
              "            })\n",
              "        });\n",
              "    "
            ],
            "text/plain": [
              "<IPython.core.display.Javascript object>"
            ]
          },
          "metadata": {
            "tags": []
          }
        },
        {
          "output_type": "stream",
          "text": [
            "\u001b[34m\u001b[1mwandb\u001b[0m: Appending key for api.wandb.ai to your netrc file: /root/.netrc\n"
          ],
          "name": "stderr"
        }
      ]
    },
    {
      "cell_type": "code",
      "metadata": {
        "colab": {
          "base_uri": "https://localhost:8080/"
        },
        "id": "k2GagR2vS0dS",
        "outputId": "3733a4e7-6c08-415e-e6a7-3e2e2bddadab"
      },
      "source": [
        "api"
      ],
      "execution_count": null,
      "outputs": [
        {
          "output_type": "execute_result",
          "data": {
            "text/plain": [
              "<wandb.apis.public.Api at 0x7feb67b19438>"
            ]
          },
          "metadata": {
            "tags": []
          },
          "execution_count": 11
        }
      ]
    },
    {
      "cell_type": "code",
      "metadata": {
        "id": "csWpdcLuS2uC"
      },
      "source": [
        ""
      ],
      "execution_count": null,
      "outputs": []
    }
  ]
}