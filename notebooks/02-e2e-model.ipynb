{
 "cells": [
  {
   "cell_type": "code",
   "execution_count": 1,
   "metadata": {},
   "outputs": [],
   "source": [
    "%load_ext autoreload\n",
    "%autoreload 2\n",
    "%matplotlib inline\n",
    "import matplotlib.pyplot as plt\n",
    "import numpy as np\n",
    "\n",
    "from importlib.util import find_spec\n",
    "if find_spec(\"core\") is None:\n",
    "    import sys\n",
    "    sys.path.append('..')\n",
    "\n",
    "import tensorflow as tf\n",
    "import tensorflow_datasets as tfds\n",
    "\n",
    "tfds.disable_progress_bar()"
   ]
  },
  {
   "cell_type": "code",
   "execution_count": 2,
   "metadata": {},
   "outputs": [],
   "source": [
    "ds_train, ds_train_info = tfds.load('RetinaDataset', split='train[:80%]', shuffle_files=True, as_supervised=True,with_info=True)\n",
    "ds_val, ds_val_info = tfds.load('RetinaDataset', split='train[-20%:]', shuffle_files=True, as_supervised=True,with_info=True)\n",
    "ds_test, ds_test_info = tfds.load('RetinaDataset', split='test', shuffle_files=True, as_supervised=True,with_info=True)"
   ]
  },
  {
   "cell_type": "code",
   "execution_count": 3,
   "metadata": {},
   "outputs": [
    {
     "data": {
      "text/plain": [
       "(66791, 16698, 968)"
      ]
     },
     "execution_count": 3,
     "metadata": {},
     "output_type": "execute_result"
    }
   ],
   "source": [
    "len(ds_train), len(ds_val), len(ds_test)"
   ]
  },
  {
   "cell_type": "code",
   "execution_count": 4,
   "metadata": {},
   "outputs": [],
   "source": [
    "def preprocess_img(image, label):\n",
    "    image = tf.image.convert_image_dtype(image, tf.float32) / 255.\n",
    "    image = tf.image.resize(image, [224, 224])\n",
    "    return image, label"
   ]
  },
  {
   "cell_type": "code",
   "execution_count": 5,
   "metadata": {},
   "outputs": [],
   "source": [
    "ds_train = ds_train.map(preprocess_img, num_parallel_calls=tf.data.experimental.AUTOTUNE)\n",
    "#ds_train = ds_train.cache()\n",
    "#ds_train = ds_train.shuffle(len(ds_train))\n",
    "ds_train = ds_train.batch(32)\n",
    "#ds_train = ds_train.prefetch(tf.data.experimental.AUTOTUNE)"
   ]
  },
  {
   "cell_type": "code",
   "execution_count": 6,
   "metadata": {},
   "outputs": [],
   "source": [
    "ds_val = ds_val.map(preprocess_img, num_parallel_calls=tf.data.experimental.AUTOTUNE)\n",
    "#ds_val = ds_val.cache()\n",
    "#ds_train = ds_train.shuffle(len(ds_val))\n",
    "ds_val = ds_val.batch(32)\n",
    "#ds_val = ds_val.prefetch(tf.data.experimental.AUTOTUNE)"
   ]
  },
  {
   "cell_type": "code",
   "execution_count": 7,
   "metadata": {},
   "outputs": [],
   "source": [
    "ds_test = ds_test.map(preprocess_img,\n",
    "                     num_parallel_calls=tf.data.experimental.AUTOTUNE)\n",
    "ds_test = ds_test.batch(32)\n",
    "#ds_test = ds_test.cache()\n",
    "#ds_test = ds_test.prefetch(tf.data.experimental.AUTOTUNE)"
   ]
  },
  {
   "cell_type": "code",
   "execution_count": 8,
   "metadata": {},
   "outputs": [
    {
     "name": "stdout",
     "output_type": "stream",
     "text": [
      "(32, 224, 224, 3) (32,)\n"
     ]
    }
   ],
   "source": [
    "ds = ds_train.take(1)\n",
    "\n",
    "for image, label in tfds.as_numpy(ds):\n",
    "  print(image.shape, label.shape)"
   ]
  },
  {
   "cell_type": "code",
   "execution_count": 11,
   "metadata": {},
   "outputs": [
    {
     "name": "stdout",
     "output_type": "stream",
     "text": [
      "Epoch 1/10\n",
      "2088/2088 [==============================] - 357s 171ms/step - loss: 0.3153 - accuracy: 0.8985 - val_loss: 44.7645 - val_accuracy: 0.3154\n",
      "Epoch 2/10\n",
      "2088/2088 [==============================] - 358s 171ms/step - loss: 0.1921 - accuracy: 0.9403 - val_loss: 0.9899 - val_accuracy: 0.6618\n",
      "Epoch 3/10\n",
      "2088/2088 [==============================] - 357s 171ms/step - loss: 0.1606 - accuracy: 0.9509 - val_loss: 11.8991 - val_accuracy: 0.4447\n",
      "Epoch 4/10\n",
      "2088/2088 [==============================] - 357s 171ms/step - loss: 0.1402 - accuracy: 0.9567 - val_loss: 1.7100 - val_accuracy: 0.3894\n",
      "Epoch 5/10\n",
      "2088/2088 [==============================] - 358s 171ms/step - loss: 0.1228 - accuracy: 0.9625 - val_loss: 10.6156 - val_accuracy: 0.3157\n",
      "Epoch 6/10\n",
      "2088/2088 [==============================] - 357s 171ms/step - loss: 0.1095 - accuracy: 0.9668 - val_loss: 2.2073 - val_accuracy: 0.3433\n",
      "Epoch 7/10\n",
      "2088/2088 [==============================] - 358s 171ms/step - loss: 0.0965 - accuracy: 0.9715 - val_loss: 5.5630 - val_accuracy: 0.1379\n",
      "Epoch 8/10\n",
      "2088/2088 [==============================] - 358s 171ms/step - loss: 0.0884 - accuracy: 0.9734 - val_loss: 0.9972 - val_accuracy: 0.7267\n",
      "Epoch 9/10\n",
      "2088/2088 [==============================] - 358s 171ms/step - loss: 0.0768 - accuracy: 0.9772 - val_loss: 4.1017 - val_accuracy: 0.3212\n",
      "Epoch 10/10\n",
      "2088/2088 [==============================] - 357s 171ms/step - loss: 0.0692 - accuracy: 0.9797 - val_loss: 2.2298 - val_accuracy: 0.4629\n"
     ]
    },
    {
     "data": {
      "text/plain": [
       "<tensorflow.python.keras.callbacks.History at 0x7fa2b0b94f90>"
      ]
     },
     "execution_count": 11,
     "metadata": {},
     "output_type": "execute_result"
    }
   ],
   "source": [
    "from core.networks import resnet\n",
    "model = resnet(input_shape = (224, 224, 3), output_shape = (4,))\n",
    "model.compile(\n",
    "    optimizer=tf.keras.optimizers.RMSprop(),\n",
    "    loss=\"sparse_categorical_crossentropy\",\n",
    "    metrics=['accuracy'],\n",
    ")\n",
    "\n",
    "model.fit(\n",
    "    ds_train,\n",
    "    epochs=10,\n",
    "    validation_data=ds_val,\n",
    "    verbose=1\n",
    ")"
   ]
  },
  {
   "cell_type": "code",
   "execution_count": 12,
   "metadata": {},
   "outputs": [
    {
     "name": "stdout",
     "output_type": "stream",
     "text": [
      "31/31 [==============================] - 1s 47ms/step - loss: 2.6986 - accuracy: 0.2965\n"
     ]
    },
    {
     "data": {
      "text/plain": [
       "[2.698641300201416, 0.29648759961128235]"
      ]
     },
     "execution_count": 12,
     "metadata": {},
     "output_type": "execute_result"
    }
   ],
   "source": [
    "model.evaluate(ds_test)"
   ]
  },
  {
   "cell_type": "code",
   "execution_count": null,
   "metadata": {},
   "outputs": [],
   "source": []
  }
 ],
 "metadata": {
  "kernelspec": {
   "display_name": "Python 3",
   "language": "python",
   "name": "python3"
  },
  "language_info": {
   "codemirror_mode": {
    "name": "ipython",
    "version": 3
   },
   "file_extension": ".py",
   "mimetype": "text/x-python",
   "name": "python",
   "nbconvert_exporter": "python",
   "pygments_lexer": "ipython3",
   "version": "3.7.9"
  }
 },
 "nbformat": 4,
 "nbformat_minor": 4
}
