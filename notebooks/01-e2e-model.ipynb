{
 "cells": [
  {
   "cell_type": "code",
   "execution_count": 1,
   "metadata": {},
   "outputs": [],
   "source": [
    "%load_ext autoreload\n",
    "%autoreload 2\n",
    "%matplotlib inline\n",
    "import matplotlib.pyplot as plt\n",
    "import numpy as np\n",
    "\n",
    "from importlib.util import find_spec\n",
    "if find_spec(\"core\") is None:\n",
    "    import sys\n",
    "    sys.path.append('..')\n",
    "\n",
    "from core.datasets import RetinaDataset\n",
    "from core.models import RetinaModel"
   ]
  },
  {
   "cell_type": "code",
   "execution_count": 2,
   "metadata": {},
   "outputs": [
    {
     "name": "stdout",
     "output_type": "stream",
     "text": [
      "Retina Dataset\n",
      "Num classes: 4\n",
      "Input Shape: (224, 224, 3)\n",
      "\n"
     ]
    }
   ],
   "source": [
    "retina_dataset = RetinaDataset()\n",
    "print (retina_dataset)"
   ]
  },
  {
   "cell_type": "code",
   "execution_count": 3,
   "metadata": {},
   "outputs": [
    {
     "name": "stdout",
     "output_type": "stream",
     "text": [
      "Found 83484 images belonging to 4 classes.\n",
      "Found 32 images belonging to 4 classes.\n",
      "Found 968 images belonging to 4 classes.\n",
      "<class 'core.datasets.retina_dataset.RetinaDataset'>\n"
     ]
    }
   ],
   "source": [
    "retina_dataset.load_or_generate_data()\n",
    "model = RetinaModel()"
   ]
  },
  {
   "cell_type": "code",
   "execution_count": 4,
   "metadata": {},
   "outputs": [
    {
     "name": "stdout",
     "output_type": "stream",
     "text": [
      "2608/2608 [==============================] - 440s 169ms/step - loss: 0.3881 - accuracy: 0.8695 - val_loss: 0.2248 - val_accuracy: 0.9062\n"
     ]
    }
   ],
   "source": [
    "model.fit(retina_dataset, epochs=1)"
   ]
  },
  {
   "cell_type": "code",
   "execution_count": 5,
   "metadata": {},
   "outputs": [
    {
     "name": "stdout",
     "output_type": "stream",
     "text": [
      "1/1 - 0s - loss: 0.2248 - accuracy: 0.9062\n"
     ]
    }
   ],
   "source": [
    "model.evaluate(retina_dataset.validation)"
   ]
  },
  {
   "cell_type": "code",
   "execution_count": 6,
   "metadata": {},
   "outputs": [
    {
     "name": "stdout",
     "output_type": "stream",
     "text": [
      "31/31 - 2s - loss: 0.3402 - accuracy: 0.8709\n"
     ]
    }
   ],
   "source": [
    "model.evaluate(retina_dataset.test)"
   ]
  },
  {
   "cell_type": "code",
   "execution_count": 7,
   "metadata": {},
   "outputs": [
    {
     "name": "stdout",
     "output_type": "stream",
     "text": [
      "2609/2609 - 221s - loss: 0.4915 - accuracy: 0.8301\n"
     ]
    }
   ],
   "source": [
    "model.evaluate(retina_dataset.train)"
   ]
  }
 ],
 "metadata": {
  "kernelspec": {
   "display_name": "Python 3",
   "language": "python",
   "name": "python3"
  },
  "language_info": {
   "codemirror_mode": {
    "name": "ipython",
    "version": 3
   },
   "file_extension": ".py",
   "mimetype": "text/x-python",
   "name": "python",
   "nbconvert_exporter": "python",
   "pygments_lexer": "ipython3",
   "version": "3.8.2"
  }
 },
 "nbformat": 4,
 "nbformat_minor": 4
}
